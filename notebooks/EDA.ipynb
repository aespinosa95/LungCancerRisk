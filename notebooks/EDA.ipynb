{
 "cells": [
  {
   "cell_type": "markdown",
   "id": "5fff9a5f",
   "metadata": {},
   "source": [
    "<div style=\"text-align: center; background: linear-gradient(135deg, #1e3c72 0%, #2a5298 25%, #667eea 75%, #764ba2 100%); padding: 40px; border-radius: 20px; color: white; margin-bottom: 40px; box-shadow: 0 15px 35px rgba(0,0,0,0.2); position: relative; overflow: hidden;\">\n",
    "    <div style=\"position: absolute; top: -50px; left: -50px; width: 200px; height: 200px; background: rgba(255,255,255,0.1); border-radius: 50%; animation: float 6s ease-in-out infinite;\"></div>\n",
    "    <div style=\"position: absolute; bottom: -30px; right: -30px; width: 150px; height: 150px; background: rgba(255,255,255,0.08); border-radius: 50%; animation: float 4s ease-in-out infinite reverse;\"></div>\n",
    "    <div style=\"position: relative; z-index: 2;\">\n",
    "        <div style=\"display: inline-block; background: rgba(255,255,255,0.15); padding: 20px; border-radius: 15px; margin-bottom: 20px; backdrop-filter: blur(10px);\">\n",
    "            <h1 style=\"font-size: 4em; margin: 0; text-shadow: 3px 3px 6px rgba(0,0,0,0.4); font-weight: 700; letter-spacing: -2px;\">🫁 Lung Cancer Risk Analysis</h1>\n",
    "        </div>\n",
    "        <h2 style=\"font-size: 1.8em; margin: 15px 0; font-weight: 300; opacity: 0.95; letter-spacing: 1px;\">Exploration and Risk Factor Analysis</h2>\n",
    "        <div style=\"width: 80px; height: 3px; background: linear-gradient(90deg, #ffd700, #ff6b6b); margin: 20px auto; border-radius: 2px;\"></div>\n",
    "        <p style=\"font-size: 1.3em; margin: 20px 0; font-style: italic; max-width: 600px; margin: 20px auto; line-height: 1.6;\">Understanding risk factors and their impact on lung cancer development through data analysis.</p>\n",
    "    </div>\n",
    "</div>\n",
    "\n",
    "---\n",
    "\n",
    "## 📊 Dataset Overview\n",
    "\n",
    "<div style=\"background: linear-gradient(135deg, #f8f9ff 0%, #e8f4fd 100%); padding: 35px; border-radius: 20px; margin: 30px 0; box-shadow: 0 10px 30px rgba(0,0,0,0.1); border: 1px solid #e2e8f0;\">\n",
    "    <div style=\"display: grid; grid-template-columns: repeat(auto-fit, minmax(300px, 1fr)); gap: 25px;\">\n",
    "        <div style=\"background: linear-gradient(135deg, #667eea 0%, #764ba2 100%); padding: 30px; border-radius: 15px; color: white; text-align: center; transform: translateY(0); transition: transform 0.3s ease; box-shadow: 0 8px 25px rgba(102, 126, 234, 0.3);\">\n",
    "            <div style=\"font-size: 3em; margin-bottom: 15px;\">📈</div>\n",
    "            <h3 style=\"margin: 0 0 10px 0; font-size: 1.4em; font-weight: 600;\">Total de Registros</h3>\n",
    "            <p style=\"font-size: 3.5em; font-weight: 800; margin: 15px 0; text-shadow: 2px 2px 4px rgba(0,0,0,0.3);\">309</p>\n",
    "            <p style=\"opacity: 0.9; margin: 0; font-size: 1.1em;\">Casos Documentados</p>\n",
    "        </div>\n",
    "        <div style=\"background: linear-gradient(135deg, #11998e 0%, #38ef7d 100%); padding: 30px; border-radius: 15px; color: white; text-align: center; transform: translateY(0); transition: transform 0.3s ease; box-shadow: 0 8px 25px rgba(17, 153, 142, 0.3);\">\n",
    "            <div style=\"font-size: 3em; margin-bottom: 15px;\">🔬</div>\n",
    "            <h3 style=\"margin: 0 0 10px 0; font-size: 1.4em; font-weight: 600;\">Variables</h3>\n",
    "            <p style=\"font-size: 3.5em; font-weight: 800; margin: 15px 0; text-shadow: 2px 2px 4px rgba(0,0,0,0.3);\">16</p>\n",
    "            <p style=\"opacity: 0.9; margin: 0; font-size: 1.1em;\">Factores de Riesgo</p>\n",
    "        </div>\n",
    "        <div style=\"background: linear-gradient(135deg, #fc466b 0%, #3f5efb 100%); padding: 30px; border-radius: 15px; color: white; text-align: center; transform: translateY(0); transition: transform 0.3s ease; box-shadow: 0 8px 25px rgba(252, 70, 107, 0.3);\">\n",
    "            <div style=\"font-size: 3em; margin-bottom: 15px;\">🎯</div>\n",
    "            <h3 style=\"margin: 0 0 10px 0; font-size: 1.4em; font-weight: 600;\">Completitud</h3>\n",
    "            <p style=\"font-size: 3.5em; font-weight: 800; margin: 15px 0; text-shadow: 2px 2px 4px rgba(0,0,0,0.3);\">100%</p>\n",
    "            <p style=\"opacity: 0.9; margin: 0; font-size: 1.1em;\">Sin Valores Faltantes</p>\n",
    "        </div>\n",
    "    </div>\n",
    "</div>\n",
    "\n",
    "---\n",
    "\n",
    "## 🎯 Analysis Focus\n",
    "\n",
    "<div style=\"background: linear-gradient(135deg, #ff9a9e 0%, #fecfef 50%, #fecfef 100%); padding: 40px; border-radius: 20px; margin: 30px 0; box-shadow: 0 15px 35px rgba(255, 154, 158, 0.2); border: 3px solid rgba(255,255,255,0.3);\">\n",
    "    <div style=\"text-align: center;\">\n",
    "        <div style=\"display: inline-block; background: rgba(255,255,255,0.9); padding: 20px 40px; border-radius: 50px; margin-bottom: 25px;\">\n",
    "            <h3 style=\"margin: 0; color: #2d3748; font-size: 1.5em; font-weight: 700;\">🎯 Analysis Objectives</h3>\n",
    "        </div>\n",
    "        <p style=\"font-size: 1.4em; color: #2d3748; margin: 0; line-height: 1.8; font-weight: 500; max-width: 800px; margin: 0 auto;\">\n",
    "            This dataset captures the <strong style=\"color: #e53e3e;\">multifaceted relationship</strong> between various risk factors and lung cancer development, enabling analysis of <strong style=\"color: #3182ce;\">lifestyle habits</strong>, <strong style=\"color: #38a169;\">symptoms</strong>, and <strong style=\"color: #d69e2e;\">risk factors</strong> influencing its progression.\n",
    "        </p>\n",
    "    </div>\n",
    "</div>\n",
    "\n",
    "---\n",
    "\n",
    "## 📋 Data Dictionary\n",
    "\n",
    "<div style=\"background: linear-gradient(135deg, #667eea 0%, #764ba2 100%); padding: 3px; border-radius: 25px; margin: 30px 0; box-shadow: 0 20px 40px rgba(102, 126, 234, 0.3);\">\n",
    "    <div style=\"background: white; border-radius: 22px; overflow: hidden;\">\n",
    "        \n",
    "<div style=\"background: linear-gradient(135deg, #28a745 0%, #20c997 100%); padding: 30px; margin: 0; border-radius: 20px 20px 0 0;\">\n",
    "    <h3 style=\"color: white; margin: 0; font-size: 2em; font-weight: 700; text-align: center; text-shadow: 2px 2px 4px rgba(0,0,0,0.3);\">🔑 Demographic Variables</h3>\n",
    "</div>\n",
    "<div style=\"padding: 30px; background: linear-gradient(135deg, #f8f9fa 0%, #e9ecef 100%);\">\n",
    "    <div style=\"display: grid; gap: 20px;\">\n",
    "        <div style=\"background: white; padding: 25px; border-radius: 15px; box-shadow: 0 8px 20px rgba(0,0,0,0.1); border-left: 5px solid #28a745;\">\n",
    "            <div style=\"display: flex; align-items: center; margin-bottom: 15px;\">\n",
    "                <span style=\"font-size: 2em; margin-right: 15px;\">👤</span>\n",
    "                <div>\n",
    "                    <h4 style=\"margin: 0; color: #2d3748; font-size: 1.3em; font-weight: 700;\">GENDER</h4>\n",
    "                    <p style=\"margin: 5px 0 0 0; color: #718096; font-size: 0.95em;\">Patient gender</p>\n",
    "                </div>\n",
    "            </div>\n",
    "            <p style=\"margin: 0; color: #4a5568; line-height: 1.6;\">Values: 'Male' = 0, 'Female' = 1</p>\n",
    "        </div>\n",
    "        <div style=\"background: white; padding: 25px; border-radius: 15px; box-shadow: 0 8px 20px rgba(0,0,0,0.1); border-left: 5px solid #28a745;\">\n",
    "            <div style=\"display: flex; align-items: center; margin-bottom: 15px;\">\n",
    "                <span style=\"font-size: 2em; margin-right: 15px;\">📅</span>\n",
    "                <div>\n",
    "                    <h4 style=\"margin: 0; color: #2d3748; font-size: 1.3em; font-weight: 700;\">AGE</h4>\n",
    "                    <p style=\"margin: 5px 0 0 0; color: #718096; font-size: 0.95em;\">Patient Age</p>\n",
    "                </div>\n",
    "            </div>\n",
    "            <p style=\"margin: 0; color: #4a5568; line-height: 1.6;\">Integer value representing the age of the patient</p>\n",
    "        </div>\n",
    "    </div>\n",
    "</div>\n",
    "\n",
    "<div style=\"background: linear-gradient(135deg, #2196f3 0%, #21cbf3 100%); padding: 30px; margin: 20px 0 0 0;\">\n",
    "    <h3 style=\"color: white; margin: 0; font-size: 2em; font-weight: 700; text-align: center; text-shadow: 2px 2px 4px rgba(0,0,0,0.3);\">🌟 Factores de Risk Factors and Habits</h3>\n",
    "</div>\n",
    "<div style=\"padding: 30px; background: linear-gradient(135deg, #e3f2fd 0%, #bbdefb 100%);\">\n",
    "    <div style=\"display: grid; gap: 20px;\">\n",
    "        <div style=\"background: white; padding: 25px; border-radius: 15px; box-shadow: 0 8px 20px rgba(0,0,0,0.1); border-left: 5px solid #2196f3;\">\n",
    "            <div style=\"display: flex; align-items: center; margin-bottom: 15px;\">\n",
    "                <span style=\"font-size: 2em; margin-right: 15px;\">🚬</span>\n",
    "                <div>\n",
    "                    <h4 style=\"margin: 0; color: #2d3748; font-size: 1.3em; font-weight: 700;\">SMOKING</h4>\n",
    "                    <p style=\"margin: 5px 0 0 0; color: #718096; font-size: 0.95em;\">Smoking Habit</p>\n",
    "                </div>\n",
    "            </div>\n",
    "            <p style=\"margin: 0; color: #4a5568; line-height: 1.6;\">Encoded as 0 = NO, 1 = YES</p>\n",
    "        </div>\n",
    "        <div style=\"background: white; padding: 25px; border-radius: 15px; box-shadow: 0 8px 20px rgba(0,0,0,0.1); border-left: 5px solid #2196f3;\">\n",
    "            <div style=\"display: flex; align-items: center; margin-bottom: 15px;\">\n",
    "                <span style=\"font-size: 2em; margin-right: 15px;\">🍺</span>\n",
    "                <div>\n",
    "                    <h4 style=\"margin: 0; color: #2d3748; font-size: 1.3em; font-weight: 700;\">ALCOHOL_CONSUMING</h4>\n",
    "                    <p style=\"margin: 5px 0 0 0; color: #718096; font-size: 0.95em;\">Alcohol Consumption</p>\n",
    "                </div>\n",
    "            </div>\n",
    "            <p style=\"margin: 0; color: #4a5568; line-height: 1.6;\">Encoded as 0 = NO, 1 = YES</p>\n",
    "        </div>\n",
    "    </div>\n",
    "</div>\n",
    "\n",
    "<div style=\"background: linear-gradient(135deg, #f44336 0%, #e91e63 100%); padding: 30px; margin: 20px 0 0 0;\">\n",
    "    <h3 style=\"color: white; margin: 0; font-size: 2em; font-weight: 700; text-align: center; text-shadow: 2px 2px 4px rgba(0,0,0,0.3);\">🏥 Symptoms and Conditions</h3>\n",
    "</div>\n",
    "<div style=\"padding: 30px; background: linear-gradient(135deg, #ffebee 0%, #f8bbd0 100%);\">\n",
    "    <div style=\"display: grid; gap: 20px;\">\n",
    "        <div style=\"background: white; padding: 25px; border-radius: 15px; box-shadow: 0 8px 20px rgba(0,0,0,0.1); border-left: 5px solid #f44336;\">\n",
    "            <div style=\"display: flex; align-items: center; margin-bottom: 15px;\">\n",
    "                <span style=\"font-size: 2em; margin-right: 15px;\">🤒</span>\n",
    "                <div>\n",
    "                    <h4 style=\"margin: 0; color: #2d3748; font-size: 1.3em; font-weight: 700;\">Physical Symptoms</h4>\n",
    "                    <p style=\"margin: 5px 0 0 0; color: #718096; font-size: 0.95em;\">Encoded as 0 = NO, 1 = YES</p>\n",
    "                </div>\n",
    "            </div>\n",
    "            <ul style=\"margin: 0; color: #4a5568; line-height: 1.6;\">\n",
    "                <li>YELLOW_FINGERS</li>\n",
    "                <li>ANXIETY</li>\n",
    "                <li>CHRONIC_DISEASE</li>\n",
    "                <li>FATIGUE</li>\n",
    "                <li>ALLERGY</li>\n",
    "                <li>WHEEZING</li>\n",
    "            </ul>\n",
    "        </div>\n",
    "        <div style=\"background: white; padding: 25px; border-radius: 15px; box-shadow: 0 8px 20px rgba(0,0,0,0.1); border-left: 5px solid #f44336;\">\n",
    "            <div style=\"display: flex; align-items: center; margin-bottom: 15px;\">\n",
    "                <span style=\"font-size: 2em; margin-right: 15px;\">🫁</span>\n",
    "                <div>\n",
    "                    <h4 style=\"margin: 0; color: #2d3748; font-size: 1.3em; font-weight: 700;\">Respiratory Symptoms</h4>\n",
    "                    <p style=\"margin: 5px 0 0 0; color: #718096; font-size: 0.95em;\">Encoded as 0 = NO, 1 = YES</p>\n",
    "                </div>\n",
    "            </div>\n",
    "            <ul style=\"margin: 0; color: #4a5568; line-height: 1.6;\">\n",
    "                <li>COUGHING</li>\n",
    "                <li>SHORTNESS_OF_BREATH</li>\n",
    "                <li>SWALLOWING_DIFFICULTY</li>\n",
    "                <li>CHEST_PAIN</li>\n",
    "            </ul>\n",
    "        </div>\n",
    "    </div>\n",
    "</div>\n",
    "\n",
    "<div style=\"background: linear-gradient(135deg, #4caf50 0%, #8bc34a 100%); padding: 30px; margin: 20px 0 0 0;\">\n",
    "    <h3 style=\"color: white; margin: 0; font-size: 2em; font-weight: 700; text-align: center; text-shadow: 2px 2px 4px rgba(0,0,0,0.3);\">🎯 Target Variable</h3>\n",
    "</div>\n",
    "<div style=\"padding: 30px; background: linear-gradient(135deg, #e8f5e9 0%, #c8e6c9 100%);\">\n",
    "    <div style=\"display: grid; gap: 20px;\">\n",
    "        <div style=\"background: white; padding: 25px; border-radius: 15px; box-shadow: 0 8px 20px rgba(0,0,0,0.1); border-left: 5px solid #4caf50;\">\n",
    "            <div style=\"display: flex; align-items: center; margin-bottom: 15px;\">\n",
    "                <span style=\"font-size: 2em; margin-right: 15px;\">🎯</span>\n",
    "                <div>\n",
    "                    <h4 style=\"margin: 0; color: #2d3748; font-size: 1.3em; font-weight: 700;\">LUNG_CANCER</h4>\n",
    "                    <p style=\"margin: 5px 0 0 0; color: #718096; font-size: 0.95em;\">Lung Cancer Diagnosis</p>\n",
    "                </div>\n",
    "            </div>\n",
    "            <p style=\"margin: 0; color: #4a5568; line-height: 1.6;\">Values: 'NO' = 0, 'YES' = 1 – Indicates the presence or absence of lung cancer</p>\n",
    "        </div>\n",
    "    </div>\n",
    "</div>\n",
    "\n",
    "</div>\n",
    "</div>\n",
    "\n",
    "---\n",
    "\n",
    "## 🔍 Exploratory Analysis Objectives\n",
    "\n",
    "<div style=\"display: grid; grid-template-columns: 1fr 1fr; gap: 30px; margin: 30px 0;\">\n",
    "    <div style=\"background: linear-gradient(135deg, #667eea 0%, #764ba2 100%); padding: 35px; border-radius: 20px; color: white; box-shadow: 0 15px 35px rgba(102, 126, 234, 0.3); position: relative; overflow: hidden;\">\n",
    "        <div style=\"position: absolute; top: -20px; right: -20px; width: 100px; height: 100px; background: rgba(255,255,255,0.1); border-radius: 50%;\"></div>\n",
    "        <div style=\"position: relative; z-index: 2;\">\n",
    "            <div style=\"display: flex; align-items: center; margin-bottom: 25px;\">\n",
    "                <span style=\"font-size: 2.5em; margin-right: 15px;\">📊</span>\n",
    "                <h3 style=\"margin: 0; font-size: 1.8em; font-weight: 700;\">Descriptive Analysis</h3>\n",
    "            </div>\n",
    "            <div style=\"space: 15px;\">\n",
    "                <div style=\"background: rgba(255,255,255,0.15); padding: 15px; border-radius: 10px; margin: 12px 0; backdrop-filter: blur(10px);\">\n",
    "                    <div style=\"display: flex; align-items: center;\">\n",
    "                        <span style=\"margin-right: 10px;\">✅</span>\n",
    "                        <span style=\"font-weight: 500;\">Variable distribution</span>\n",
    "                    </div>\n",
    "                </div>\n",
    "                <div style=\"background: rgba(255,255,255,0.15); padding: 15px; border-radius: 10px; margin: 12px 0; backdrop-filter: blur(10px);\">\n",
    "                    <div style=\"display: flex; align-items: center;\">\n",
    "                        <span style=\"margin-right: 10px;\">✅</span>\n",
    "                        <span style=\"font-weight: 500;\">Correlations between factors</span>\n",
    "                    </div>\n",
    "                </div>\n",
    "                <div style=\"background: rgba(255,255,255,0.15); padding: 15px; border-radius: 10px; margin: 12px 0; backdrop-filter: blur(10px);\">\n",
    "                    <div style=\"display: flex; align-items: center;\">\n",
    "                        <span style=\"margin-right: 10px;\">✅</span>\n",
    "                        <span style=\"font-weight: 500;\">Demographic analysis</span>\n",
    "                    </div>\n",
    "                </div>\n",
    "                <div style=\"background: rgba(255,255,255,0.15); padding: 15px; border-radius: 10px; margin: 12px 0; backdrop-filter: blur(10px);\">\n",
    "                    <div style=\"display: flex; align-items: center;\">\n",
    "                        <span style=\"margin-right: 10px;\">✅</span>\n",
    "                        <span style=\"font-weight: 500;\">Symptom patterns</span>\n",
    "                    </div>\n",
    "                </div>\n",
    "            </div>\n",
    "        </div>\n",
    "    </div>\n",
    "    <div style=\"background: linear-gradient(135deg, #f093fb 0%, #f5576c 100%); padding: 35px; border-radius: 20px; color: white; box-shadow: 0 15px 35px rgba(240, 147, 251, 0.3); position: relative; overflow: hidden;\">\n",
    "        <div style=\"position: absolute; top: -20px; right: -20px; width: 100px; height: 100px; background: rgba(255,255,255,0.1); border-radius: 50%;\"></div>\n",
    "        <div style=\"position: relative; z-index: 2;\">\n",
    "            <div style=\"display: flex; align-items: center; margin-bottom: 25px;\">\n",
    "                <span style=\"font-size: 2.5em; margin-right: 15px;\">🔍</span>\n",
    "                <h3 style=\"margin: 0; font-size: 1.8em; font-weight: 700;\">Pattern Identification</h3>\n",
    "            </div>\n",
    "            <div style=\"space: 15px;\">\n",
    "                <div style=\"background: rgba(255,255,255,0.15); padding: 15px; border-radius: 10px; margin: 12px 0; backdrop-filter: blur(10px);\">\n",
    "                    <div style=\"display: flex; align-items: center;\">\n",
    "                        <span style=\"margin-right: 10px;\">🎯</span>\n",
    "                        <span style=\"font-weight: 500;\">Main risk factors</span>\n",
    "                    </div>\n",
    "                </div>\n",
    "                <div style=\"background: rgba(255,255,255,0.15); padding: 15px; border-radius: 10px; margin: 12px 0; backdrop-filter: blur(10px);\">\n",
    "                    <div style=\"display: flex; align-items: center;\">\n",
    "                        <span style=\"margin-right: 10px;\">🎯</span>\n",
    "                        <span style=\"font-weight: 500;\">Symptom interactions</span>\n",
    "                    </div>\n",
    "                </div>\n",
    "                <div style=\"background: rgba(255,255,255,0.15); padding: 15px; border-radius: 10px; margin: 12px 0; backdrop-filter: blur(10px);\">\n",
    "                    <div style=\"display: flex; align-items: center;\">\n",
    "                        <span style=\"margin-right: 10px;\">🎯</span>\n",
    "                        <span style=\"font-weight: 500;\">Risk groups</span>\n",
    "                    </div>\n",
    "                </div>\n",
    "                <div style=\"background: rgba(255,255,255,0.15); padding: 15px; border-radius: 10px; margin: 12px 0; backdrop-filter: blur(10px);\">\n",
    "                    <div style=\"display: flex; align-items: center;\">\n",
    "                        <span style=\"margin-right: 10px;\">🎯</span>\n",
    "                        <span style=\"font-weight: 500;\">Predictive indicators</span>\n",
    "                    </div>\n",
    "                </div>\n",
    "            </div>\n",
    "        </div>\n",
    "    </div>\n",
    "</div>\n",
    "\n",
    "---\n",
    "\n",
    "<div style=\"background: linear-gradient(135deg, #667eea 0%, #764ba2 100%); padding: 40px; border-radius: 25px; margin: 40px 0; text-align: center; color: white; box-shadow: 0 20px 40px rgba(102, 126, 234, 0.4); position: relative; overflow: hidden;\">\n",
    "    <div style=\"position: absolute; top: 0; left: 0; right: 0; bottom: 0; background: url('data:image/svg+xml;charset=utf-8,<svg xmlns=\\\"http://www.w3.org/2000/svg\\\" viewBox=\\\"0 0 100 100\\\"><defs><pattern id=\\\"grain\\\" width=\\\"100\\\" height=\\\"100\\\" patternUnits=\\\"userSpaceOnUse\\\"><circle cx=\\\"50\\\" cy=\\\"50\\\" r=\\\"1\\\" fill=\\\"white\\\" opacity=\\\"0.1\\\"/></pattern></defs><rect width=\\\"100\\\" height=\\\"100\\\" fill=\\\"url(%23grain)\\\"/></svg></div>\n",
    "    <div style=\"position: relative; z-index: 2;\">\n",
    "        <div style=\"display: inline-block; background: rgba(255,255,255,0.15); padding: 20px; border-radius: 50%; margin-bottom: 25px; backdrop-filter: blur(10px);\">\n",
    "            <span style=\"font-size: 4em;\">🚀</span>\n",
    "        </div>\n",
    "        <h3 style=\"margin: 0 0 15px 0; font-size: 2.5em; font-weight: 700; text-shadow: 3px 3px 6px rgba(0,0,0,0.4);\">Let’s start the analysis!</h3>\n",
    "        <div style=\"width: 100px; height: 3px; background: linear-gradient(90deg, #ffd700, #ff6b6b); margin: 20px auto; border-radius: 2px;\"></div>\n",
    "        <p style=\"margin: 0; font-size: 1.4em; line-height: 1.6; max-width: 600px; margin: 20px auto 0 auto; opacity: 0.95; font-weight: 300;\">\n",
    "            Let’s explore the patterns and relationships that can help us better understand the risk factors of lung cancer…\n",
    "        </p>\n",
    "    </div>\n",
    "</div>"
   ]
  },
  {
   "cell_type": "code",
   "execution_count": 15,
   "id": "d756643a",
   "metadata": {},
   "outputs": [
    {
     "data": {
      "text/html": [
       "        <script type=\"text/javascript\">\n",
       "        window.PlotlyConfig = {MathJaxConfig: 'local'};\n",
       "        if (window.MathJax && window.MathJax.Hub && window.MathJax.Hub.Config) {window.MathJax.Hub.Config({SVG: {font: \"STIX-Web\"}});}\n",
       "        </script>\n",
       "        <script type=\"module\">import \"https://cdn.plot.ly/plotly-3.1.0.min\"</script>\n",
       "        "
      ]
     },
     "metadata": {},
     "output_type": "display_data"
    }
   ],
   "source": [
    "import pandas as pd\n",
    "import numpy as np\n",
    "import matplotlib.pyplot as plt\n",
    "import seaborn as sns\n",
    "import plotly.express as px\n",
    "import plotly.graph_objects as go\n",
    "import plotly.figure_factory as ff\n",
    "from plotly.subplots import make_subplots\n",
    "from scipy import stats\n",
    "from scipy.stats import pearsonr, spearmanr, normaltest, chi2_contingency\n",
    "from sklearn.preprocessing import StandardScaler, MinMaxScaler\n",
    "from sklearn.decomposition import PCA\n",
    "import plotly.offline as pyo\n",
    "pyo.init_notebook_mode(connected=True)\n",
    "import warnings\n",
    "warnings.filterwarnings('ignore')"
   ]
  },
  {
   "cell_type": "code",
   "execution_count": 16,
   "id": "15719554",
   "metadata": {},
   "outputs": [],
   "source": [
    "#configuring plotting\n",
    "plt.style.use('seaborn-v0_8-whitegrid')\n",
    "sns.set_style('darkgrid')\n",
    "pd.set_option('display.max_columns', None)\n",
    "\n",
    "#set figure\n",
    "plt.rcParams['figure.figsize'] = (12, 6)\n",
    "plt.rcParams['axes.titlesize'] = 16\n",
    "plt.rcParams['axes.labelsize'] = 14\n",
    "plt.rcParams['xtick.labelsize'] = 12\n",
    "plt.rcParams['ytick.labelsize'] = 12\n",
    "plt.rcParams['font.size'] = 14"
   ]
  },
  {
   "cell_type": "code",
   "execution_count": 17,
   "id": "cd594241",
   "metadata": {},
   "outputs": [],
   "source": [
    "df = pd.read_csv(r'../data/survey lung cancer_clean.csv')"
   ]
  },
  {
   "cell_type": "code",
   "execution_count": 18,
   "id": "9d4bc6f0",
   "metadata": {},
   "outputs": [
    {
     "data": {
      "text/html": [
       "<div>\n",
       "<style scoped>\n",
       "    .dataframe tbody tr th:only-of-type {\n",
       "        vertical-align: middle;\n",
       "    }\n",
       "\n",
       "    .dataframe tbody tr th {\n",
       "        vertical-align: top;\n",
       "    }\n",
       "\n",
       "    .dataframe thead th {\n",
       "        text-align: right;\n",
       "    }\n",
       "</style>\n",
       "<table border=\"1\" class=\"dataframe\">\n",
       "  <thead>\n",
       "    <tr style=\"text-align: right;\">\n",
       "      <th></th>\n",
       "      <th>gender</th>\n",
       "      <th>age</th>\n",
       "      <th>smoking</th>\n",
       "      <th>yellow_fingers</th>\n",
       "      <th>anxiety</th>\n",
       "      <th>peer_pressure</th>\n",
       "      <th>chronic_disease</th>\n",
       "      <th>fatigue</th>\n",
       "      <th>allergy</th>\n",
       "      <th>wheezing</th>\n",
       "      <th>alcohol_consuming</th>\n",
       "      <th>coughing</th>\n",
       "      <th>shortness_of_breath</th>\n",
       "      <th>swallowing_difficulty</th>\n",
       "      <th>chest_pain</th>\n",
       "      <th>lung_cancer</th>\n",
       "      <th>age_scaled</th>\n",
       "    </tr>\n",
       "  </thead>\n",
       "  <tbody>\n",
       "    <tr>\n",
       "      <th>0</th>\n",
       "      <td>1</td>\n",
       "      <td>69</td>\n",
       "      <td>0</td>\n",
       "      <td>1</td>\n",
       "      <td>1</td>\n",
       "      <td>0</td>\n",
       "      <td>0</td>\n",
       "      <td>1</td>\n",
       "      <td>0</td>\n",
       "      <td>1</td>\n",
       "      <td>1</td>\n",
       "      <td>1</td>\n",
       "      <td>1</td>\n",
       "      <td>1</td>\n",
       "      <td>1</td>\n",
       "      <td>1</td>\n",
       "      <td>0.77185</td>\n",
       "    </tr>\n",
       "  </tbody>\n",
       "</table>\n",
       "</div>"
      ],
      "text/plain": [
       "   gender  age  smoking  yellow_fingers  anxiety  peer_pressure  \\\n",
       "0       1   69        0               1        1              0   \n",
       "\n",
       "   chronic_disease  fatigue  allergy  wheezing  alcohol_consuming  coughing  \\\n",
       "0                0        1        0         1                  1         1   \n",
       "\n",
       "   shortness_of_breath  swallowing_difficulty  chest_pain  lung_cancer  \\\n",
       "0                    1                      1           1            1   \n",
       "\n",
       "   age_scaled  \n",
       "0     0.77185  "
      ]
     },
     "execution_count": 18,
     "metadata": {},
     "output_type": "execute_result"
    }
   ],
   "source": [
    "df.head(1)"
   ]
  },
  {
   "cell_type": "code",
   "execution_count": 19,
   "id": "5a9a3dea",
   "metadata": {},
   "outputs": [],
   "source": [
    "### Categorical Variables Analysis"
   ]
  },
  {
   "cell_type": "markdown",
   "id": "7e654478",
   "metadata": {},
   "source": [
    "## 📊 Binary Variable Distribution Analysis\n",
    "\n",
    "### Variable Frequency Distribution\n",
    "\n",
    "Our dataset contains **16 binary features** representing patient characteristics and symptoms. The distribution of 0 (absent) and 1 (present) is relatively balanced for most features:\n",
    "\n",
    "| Variable                  | 0 Count | 1 Count | 0 % | 1 % | Most Frequent | Entropy | Analysis |\n",
    "|---------------------------|---------|---------|-----|-----|---------------|---------|----------|\n",
    "| **gender**                | 147     | 162     | 47.6% | 52.4% | 1 | 0.998 | Balanced distribution |\n",
    "| **smoking**               | 135     | 174     | 43.7% | 56.3% | 1 | 0.988 | Slightly skewed to smokers |\n",
    "| **yellow_fingers**        | 133     | 176     | 43.0% | 57.0% | 1 | 0.986 | More patients with yellow fingers |\n",
    "| **anxiety**               | 155     | 154     | 50.2% | 49.8% | 0 | 1.000 | Perfectly balanced |\n",
    "| **peer_pressure**         | 154     | 155     | 49.8% | 50.2% | 1 | 1.000 | Perfectly balanced |\n",
    "| **chronic_disease**       | 153     | 156     | 49.5% | 50.5% | 1 | 0.999 | Balanced distribution |\n",
    "| **fatigue**               | 101     | 208     | 32.7% | 67.3% | 1 | 0.912 | Majority experience fatigue |\n",
    "| **allergy**               | 137     | 172     | 44.3% | 55.7% | 1 | 0.991 | Slightly skewed towards allergy presence |\n",
    "| **wheezing**              | 137     | 172     | 44.3% | 55.7% | 1 | 0.991 | Similar to allergy |\n",
    "| **alcohol_consuming**     | 137     | 172     | 44.3% | 55.7% | 1 | 0.991 | Slightly skewed towards consumers |\n",
    "| **coughing**              | 130     | 179     | 42.1% | 57.9% | 1 | 0.982 | More patients cough |\n",
    "| **shortness_of_breath**   | 111     | 198     | 35.9% | 64.1% | 1 | 0.942 | Majority experience symptom |\n",
    "| **swallowing_difficulty** | 164     | 145     | 53.1% | 46.9% | 0 | 0.997 | Slightly skewed towards no difficulty |\n",
    "| **chest_pain**            | 137     | 172     | 44.3% | 55.7% | 1 | 0.991 | Slightly skewed towards presence |\n",
    "| **lung_cancer**           | 39      | 270     | 12.6% | 87.4% | 1 | 0.547 | Highly imbalanced, target variable |\n",
    "\n",
    "### Key Insights\n",
    "\n",
    "**Balanced Variables:** Most symptom variables (e.g., anxiety, peer_pressure, chronic_disease) are almost evenly distributed between 0 and 1. Entropy values close to 1 confirm high diversity.  \n",
    "\n",
    "**Skewed Variables:** Some features show a skew towards presence: fatigue (67.3%), shortness_of_breath (64.1%), coughing (57.9%).  \n",
    "\n",
    "**Target Variable:** Lung cancer occurrence is highly imbalanced (87.4% positive). Entropy 0.547 indicates a dominant class; special care needed in modeling (e.g., balancing techniques).  \n",
    "\n",
    "**Data Quality:** All binary variables are clean with only 0 and 1 values, making them suitable for direct use in machine learning models without preprocessing for outliers.\n"
   ]
  },
  {
   "cell_type": "code",
   "execution_count": 20,
   "id": "e28cffd1",
   "metadata": {},
   "outputs": [
    {
     "name": "stdout",
     "output_type": "stream",
     "text": [
      "\n",
      "Value Counts and Percentages for gender:\n",
      "         Count  Percentage\n",
      "gender                   \n",
      "1         162   52.427184\n",
      "0         147   47.572816\n",
      "  Unique values: 2\n",
      "  Most frequent value: 1 (162 occurrences)\n",
      "Entropy of gender: 0.9983\n",
      "\n",
      "Value Counts and Percentages for smoking:\n",
      "          Count  Percentage\n",
      "smoking                   \n",
      "1          174    56.31068\n",
      "0          135    43.68932\n",
      "  Unique values: 2\n",
      "  Most frequent value: 1 (174 occurrences)\n",
      "Entropy of smoking: 0.9885\n",
      "\n",
      "Value Counts and Percentages for yellow_fingers:\n",
      "                 Count  Percentage\n",
      "yellow_fingers                   \n",
      "1                 176   56.957929\n",
      "0                 133   43.042071\n",
      "  Unique values: 2\n",
      "  Most frequent value: 1 (176 occurrences)\n",
      "Entropy of yellow_fingers: 0.9860\n",
      "\n",
      "Value Counts and Percentages for anxiety:\n",
      "          Count  Percentage\n",
      "anxiety                   \n",
      "0          155   50.161812\n",
      "1          154   49.838188\n",
      "  Unique values: 2\n",
      "  Most frequent value: 0 (155 occurrences)\n",
      "Entropy of anxiety: 1.0000\n",
      "\n",
      "Value Counts and Percentages for peer_pressure:\n",
      "                Count  Percentage\n",
      "peer_pressure                   \n",
      "1                155   50.161812\n",
      "0                154   49.838188\n",
      "  Unique values: 2\n",
      "  Most frequent value: 1 (155 occurrences)\n",
      "Entropy of peer_pressure: 1.0000\n",
      "\n",
      "Value Counts and Percentages for chronic_disease:\n",
      "                  Count  Percentage\n",
      "chronic_disease                   \n",
      "1                  156   50.485437\n",
      "0                  153   49.514563\n",
      "  Unique values: 2\n",
      "  Most frequent value: 1 (156 occurrences)\n",
      "Entropy of chronic_disease: 0.9999\n",
      "\n",
      "Value Counts and Percentages for fatigue:\n",
      "          Count  Percentage\n",
      "fatigue                   \n",
      "1          208   67.313916\n",
      "0          101   32.686084\n",
      "  Unique values: 2\n",
      "  Most frequent value: 1 (208 occurrences)\n",
      "Entropy of fatigue: 0.9117\n",
      "\n",
      "Value Counts and Percentages for allergy:\n",
      "          Count  Percentage\n",
      "allergy                   \n",
      "1          172    55.66343\n",
      "0          137    44.33657\n",
      "  Unique values: 2\n",
      "  Most frequent value: 1 (172 occurrences)\n",
      "Entropy of allergy: 0.9907\n",
      "\n",
      "Value Counts and Percentages for wheezing:\n",
      "           Count  Percentage\n",
      "wheezing                   \n",
      "1           172    55.66343\n",
      "0           137    44.33657\n",
      "  Unique values: 2\n",
      "  Most frequent value: 1 (172 occurrences)\n",
      "Entropy of wheezing: 0.9907\n",
      "\n",
      "Value Counts and Percentages for alcohol_consuming:\n",
      "                    Count  Percentage\n",
      "alcohol_consuming                   \n",
      "1                    172    55.66343\n",
      "0                    137    44.33657\n",
      "  Unique values: 2\n",
      "  Most frequent value: 1 (172 occurrences)\n",
      "Entropy of alcohol_consuming: 0.9907\n",
      "\n",
      "Value Counts and Percentages for coughing:\n",
      "           Count  Percentage\n",
      "coughing                   \n",
      "1           179   57.928803\n",
      "0           130   42.071197\n",
      "  Unique values: 2\n",
      "  Most frequent value: 1 (179 occurrences)\n",
      "Entropy of coughing: 0.9818\n",
      "\n",
      "Value Counts and Percentages for shortness_of_breath:\n",
      "                      Count  Percentage\n",
      "shortness_of_breath                   \n",
      "1                      198    64.07767\n",
      "0                      111    35.92233\n",
      "  Unique values: 2\n",
      "  Most frequent value: 1 (198 occurrences)\n",
      "Entropy of shortness_of_breath: 0.9420\n",
      "\n",
      "Value Counts and Percentages for swallowing_difficulty:\n",
      "                        Count  Percentage\n",
      "swallowing_difficulty                   \n",
      "0                        164   53.074434\n",
      "1                        145   46.925566\n",
      "  Unique values: 2\n",
      "  Most frequent value: 0 (164 occurrences)\n",
      "Entropy of swallowing_difficulty: 0.9973\n",
      "\n",
      "Value Counts and Percentages for chest_pain:\n",
      "             Count  Percentage\n",
      "chest_pain                   \n",
      "1             172    55.66343\n",
      "0             137    44.33657\n",
      "  Unique values: 2\n",
      "  Most frequent value: 1 (172 occurrences)\n",
      "Entropy of chest_pain: 0.9907\n",
      "\n",
      "Value Counts and Percentages for lung_cancer:\n",
      "              Count  Percentage\n",
      "lung_cancer                   \n",
      "1              270   87.378641\n",
      "0               39   12.621359\n",
      "  Unique values: 2\n",
      "  Most frequent value: 1 (270 occurrences)\n",
      "Entropy of lung_cancer: 0.5470\n"
     ]
    }
   ],
   "source": [
    "binary_cols = ['gender', 'smoking', 'yellow_fingers', 'anxiety', 'peer_pressure',\n",
    "               'chronic_disease', 'fatigue', 'allergy', 'wheezing', 'alcohol_consuming',\n",
    "               'coughing', 'shortness_of_breath', 'swallowing_difficulty', 'chest_pain', 'lung_cancer']\n",
    "\n",
    "for col in binary_cols:\n",
    "    value_counts = df[col].value_counts()\n",
    "    percentages = df[col].value_counts(normalize=True) * 100\n",
    "\n",
    "    analysis_df = pd.DataFrame({'Count': value_counts, 'Percentage': percentages})\n",
    "    print(f'\\nValue Counts and Percentages for {col}:\\n', analysis_df)\n",
    "    print(f\"  Unique values: {df[col].nunique()}\")\n",
    "    print(f\"  Most frequent value: {df[col].mode()[0]} ({df[col].value_counts().max()} occurrences)\")\n",
    "\n",
    "    probs = df[col].value_counts(normalize=True).values\n",
    "    entropy = -np.sum(probs * np.log2(probs + 1e-9))\n",
    "    print(f'Entropy of {col}: {entropy:.4f}')\n"
   ]
  },
  {
   "cell_type": "code",
   "execution_count": 21,
   "id": "c01de0b4",
   "metadata": {},
   "outputs": [
    {
     "data": {
      "image/png": "[encoded data removed]",
      "text/plain": [
       "<Figure size 2500x400 with 15 Axes>"
      ]
     },
     "metadata": {},
     "output_type": "display_data"
    },
    {
     "name": "stdout",
     "output_type": "stream",
     "text": [
      "\n",
      "============================================================\n",
      "BINARY VARIABLES SUMMARY STATISTICS\n",
      "============================================================\n",
      "\n",
      "GENDER:\n",
      "-------\n",
      "    0: 147 occurrences (47.6%)\n",
      "    1: 162 occurrences (52.4%)\n",
      "  Entropy (diversity measure): 0.998\n",
      "  Most frequent value: 1 (162 occurrences)\n",
      "\n",
      "SMOKING:\n",
      "--------\n",
      "    0: 135 occurrences (43.7%)\n",
      "    1: 174 occurrences (56.3%)\n",
      "  Entropy (diversity measure): 0.988\n",
      "  Most frequent value: 1 (174 occurrences)\n",
      "\n",
      "YELLOW_FINGERS:\n",
      "---------------\n",
      "    0: 133 occurrences (43.0%)\n",
      "    1: 176 occurrences (57.0%)\n",
      "  Entropy (diversity measure): 0.986\n",
      "  Most frequent value: 1 (176 occurrences)\n",
      "\n",
      "ANXIETY:\n",
      "--------\n",
      "    0: 155 occurrences (50.2%)\n",
      "    1: 154 occurrences (49.8%)\n",
      "  Entropy (diversity measure): 1.000\n",
      "  Most frequent value: 0 (155 occurrences)\n",
      "\n",
      "PEER_PRESSURE:\n",
      "--------------\n",
      "    0: 154 occurrences (49.8%)\n",
      "    1: 155 occurrences (50.2%)\n",
      "  Entropy (diversity measure): 1.000\n",
      "  Most frequent value: 1 (155 occurrences)\n",
      "\n",
      "CHRONIC_DISEASE:\n",
      "----------------\n",
      "    0: 153 occurrences (49.5%)\n",
      "    1: 156 occurrences (50.5%)\n",
      "  Entropy (diversity measure): 1.000\n",
      "  Most frequent value: 1 (156 occurrences)\n",
      "\n",
      "FATIGUE:\n",
      "--------\n",
      "    0: 101 occurrences (32.7%)\n",
      "    1: 208 occurrences (67.3%)\n",
      "  Entropy (diversity measure): 0.912\n",
      "  Most frequent value: 1 (208 occurrences)\n",
      "\n",
      "ALLERGY:\n",
      "--------\n",
      "    0: 137 occurrences (44.3%)\n",
      "    1: 172 occurrences (55.7%)\n",
      "  Entropy (diversity measure): 0.991\n",
      "  Most frequent value: 1 (172 occurrences)\n",
      "\n",
      "WHEEZING:\n",
      "---------\n",
      "    0: 137 occurrences (44.3%)\n",
      "    1: 172 occurrences (55.7%)\n",
      "  Entropy (diversity measure): 0.991\n",
      "  Most frequent value: 1 (172 occurrences)\n",
      "\n",
      "ALCOHOL_CONSUMING:\n",
      "------------------\n",
      "    0: 137 occurrences (44.3%)\n",
      "    1: 172 occurrences (55.7%)\n",
      "  Entropy (diversity measure): 0.991\n",
      "  Most frequent value: 1 (172 occurrences)\n",
      "\n",
      "COUGHING:\n",
      "---------\n",
      "    0: 130 occurrences (42.1%)\n",
      "    1: 179 occurrences (57.9%)\n",
      "  Entropy (diversity measure): 0.982\n",
      "  Most frequent value: 1 (179 occurrences)\n",
      "\n",
      "SHORTNESS_OF_BREATH:\n",
      "--------------------\n",
      "    0: 111 occurrences (35.9%)\n",
      "    1: 198 occurrences (64.1%)\n",
      "  Entropy (diversity measure): 0.942\n",
      "  Most frequent value: 1 (198 occurrences)\n",
      "\n",
      "SWALLOWING_DIFFICULTY:\n",
      "----------------------\n",
      "    0: 164 occurrences (53.1%)\n",
      "    1: 145 occurrences (46.9%)\n",
      "  Entropy (diversity measure): 0.997\n",
      "  Most frequent value: 0 (164 occurrences)\n",
      "\n",
      "CHEST_PAIN:\n",
      "-----------\n",
      "    0: 137 occurrences (44.3%)\n",
      "    1: 172 occurrences (55.7%)\n",
      "  Entropy (diversity measure): 0.991\n",
      "  Most frequent value: 1 (172 occurrences)\n",
      "\n",
      "LUNG_CANCER:\n",
      "------------\n",
      "    0: 39 occurrences (12.6%)\n",
      "    1: 270 occurrences (87.4%)\n",
      "  Entropy (diversity measure): 0.547\n",
      "  Most frequent value: 1 (270 occurrences)\n"
     ]
    }
   ],
   "source": [
    "# Binary variables list\n",
    "binary_cols = ['gender', 'smoking', 'yellow_fingers', 'anxiety', 'peer_pressure',\n",
    "               'chronic_disease', 'fatigue', 'allergy', 'wheezing', 'alcohol_consuming',\n",
    "               'coughing', 'shortness_of_breath', 'swallowing_difficulty', 'chest_pain', 'lung_cancer']\n",
    "\n",
    "# Viasualization of distribution\n",
    "fig, axes = plt.subplots(1, len(binary_cols), figsize=(25, 4))\n",
    "\n",
    "if len(binary_cols) == 1:\n",
    "    axes = [axes]\n",
    "else:\n",
    "    axes = axes.ravel()\n",
    "\n",
    "for i, col in enumerate(binary_cols):\n",
    "    counts = df[col].value_counts()\n",
    "    axes[i].bar([0,1], [counts.get(0,0), counts.get(1,0)], color=['skyblue', 'salmon'])\n",
    "    axes[i].set_xticks([0,1])\n",
    "    axes[i].set_xticklabels(['0 (No)', '1 (Yes)'])\n",
    "    axes[i].set_title(col)\n",
    "    axes[i].set_ylabel('Count')\n",
    "\n",
    "plt.tight_layout()\n",
    "plt.show()\n",
    "\n",
    "# Stadistics summary of binary variables\n",
    "print(\"\\n\" + \"=\"*60)\n",
    "print(\"BINARY VARIABLES SUMMARY STATISTICS\")\n",
    "print(\"=\"*60)\n",
    "\n",
    "for col in binary_cols:\n",
    "    counts = df[col].value_counts()\n",
    "    percentages = df[col].value_counts(normalize=True) * 100\n",
    "    probs = counts.values / counts.sum()\n",
    "    entropy = -np.sum(probs * np.log2(probs + 1e-9))\n",
    "    \n",
    "    print(f\"\\n{col.upper()}:\")\n",
    "    print(\"-\" * (len(col) + 1))\n",
    "    for val in [0,1]:\n",
    "        print(f\"    {val}: {counts.get(val,0)} occurrences ({percentages.get(val,0):.1f}%)\")\n",
    "    print(f\"  Entropy (diversity measure): {entropy:.3f}\")\n",
    "    print(f\"  Most frequent value: {counts.idxmax()} ({counts.max()} occurrences)\")\n"
   ]
  },
  {
   "cell_type": "code",
   "execution_count": 22,
   "id": "9bb17b4e",
   "metadata": {},
   "outputs": [
    {
     "data": {
      "text/html": [
       "<div>\n",
       "<style scoped>\n",
       "    .dataframe tbody tr th:only-of-type {\n",
       "        vertical-align: middle;\n",
       "    }\n",
       "\n",
       "    .dataframe tbody tr th {\n",
       "        vertical-align: top;\n",
       "    }\n",
       "\n",
       "    .dataframe thead th {\n",
       "        text-align: right;\n",
       "    }\n",
       "</style>\n",
       "<table border=\"1\" class=\"dataframe\">\n",
       "  <thead>\n",
       "    <tr style=\"text-align: right;\">\n",
       "      <th></th>\n",
       "      <th>Variable</th>\n",
       "      <th>0_count</th>\n",
       "      <th>1_count</th>\n",
       "      <th>0_percent</th>\n",
       "      <th>1_percent</th>\n",
       "      <th>Entropy</th>\n",
       "    </tr>\n",
       "  </thead>\n",
       "  <tbody>\n",
       "    <tr>\n",
       "      <th>3</th>\n",
       "      <td>anxiety</td>\n",
       "      <td>155</td>\n",
       "      <td>154</td>\n",
       "      <td>50.161812</td>\n",
       "      <td>49.838188</td>\n",
       "      <td>0.999992</td>\n",
       "    </tr>\n",
       "    <tr>\n",
       "      <th>4</th>\n",
       "      <td>peer_pressure</td>\n",
       "      <td>154</td>\n",
       "      <td>155</td>\n",
       "      <td>49.838188</td>\n",
       "      <td>50.161812</td>\n",
       "      <td>0.999992</td>\n",
       "    </tr>\n",
       "    <tr>\n",
       "      <th>5</th>\n",
       "      <td>chronic_disease</td>\n",
       "      <td>153</td>\n",
       "      <td>156</td>\n",
       "      <td>49.514563</td>\n",
       "      <td>50.485437</td>\n",
       "      <td>0.999932</td>\n",
       "    </tr>\n",
       "    <tr>\n",
       "      <th>0</th>\n",
       "      <td>gender</td>\n",
       "      <td>147</td>\n",
       "      <td>162</td>\n",
       "      <td>47.572816</td>\n",
       "      <td>52.427184</td>\n",
       "      <td>0.998299</td>\n",
       "    </tr>\n",
       "    <tr>\n",
       "      <th>12</th>\n",
       "      <td>swallowing_difficulty</td>\n",
       "      <td>164</td>\n",
       "      <td>145</td>\n",
       "      <td>53.074434</td>\n",
       "      <td>46.925566</td>\n",
       "      <td>0.997271</td>\n",
       "    </tr>\n",
       "    <tr>\n",
       "      <th>7</th>\n",
       "      <td>allergy</td>\n",
       "      <td>137</td>\n",
       "      <td>172</td>\n",
       "      <td>44.336570</td>\n",
       "      <td>55.663430</td>\n",
       "      <td>0.990725</td>\n",
       "    </tr>\n",
       "    <tr>\n",
       "      <th>9</th>\n",
       "      <td>alcohol_consuming</td>\n",
       "      <td>137</td>\n",
       "      <td>172</td>\n",
       "      <td>44.336570</td>\n",
       "      <td>55.663430</td>\n",
       "      <td>0.990725</td>\n",
       "    </tr>\n",
       "    <tr>\n",
       "      <th>13</th>\n",
       "      <td>chest_pain</td>\n",
       "      <td>137</td>\n",
       "      <td>172</td>\n",
       "      <td>44.336570</td>\n",
       "      <td>55.663430</td>\n",
       "      <td>0.990725</td>\n",
       "    </tr>\n",
       "    <tr>\n",
       "      <th>8</th>\n",
       "      <td>wheezing</td>\n",
       "      <td>137</td>\n",
       "      <td>172</td>\n",
       "      <td>44.336570</td>\n",
       "      <td>55.663430</td>\n",
       "      <td>0.990725</td>\n",
       "    </tr>\n",
       "    <tr>\n",
       "      <th>1</th>\n",
       "      <td>smoking</td>\n",
       "      <td>135</td>\n",
       "      <td>174</td>\n",
       "      <td>43.689320</td>\n",
       "      <td>56.310680</td>\n",
       "      <td>0.988478</td>\n",
       "    </tr>\n",
       "    <tr>\n",
       "      <th>2</th>\n",
       "      <td>yellow_fingers</td>\n",
       "      <td>133</td>\n",
       "      <td>176</td>\n",
       "      <td>43.042071</td>\n",
       "      <td>56.957929</td>\n",
       "      <td>0.985986</td>\n",
       "    </tr>\n",
       "    <tr>\n",
       "      <th>10</th>\n",
       "      <td>coughing</td>\n",
       "      <td>130</td>\n",
       "      <td>179</td>\n",
       "      <td>42.071197</td>\n",
       "      <td>57.928803</td>\n",
       "      <td>0.981784</td>\n",
       "    </tr>\n",
       "    <tr>\n",
       "      <th>11</th>\n",
       "      <td>shortness_of_breath</td>\n",
       "      <td>111</td>\n",
       "      <td>198</td>\n",
       "      <td>35.922330</td>\n",
       "      <td>64.077670</td>\n",
       "      <td>0.942037</td>\n",
       "    </tr>\n",
       "    <tr>\n",
       "      <th>6</th>\n",
       "      <td>fatigue</td>\n",
       "      <td>101</td>\n",
       "      <td>208</td>\n",
       "      <td>32.686084</td>\n",
       "      <td>67.313916</td>\n",
       "      <td>0.911687</td>\n",
       "    </tr>\n",
       "    <tr>\n",
       "      <th>14</th>\n",
       "      <td>lung_cancer</td>\n",
       "      <td>39</td>\n",
       "      <td>270</td>\n",
       "      <td>12.621359</td>\n",
       "      <td>87.378641</td>\n",
       "      <td>0.546962</td>\n",
       "    </tr>\n",
       "  </tbody>\n",
       "</table>\n",
       "</div>"
      ],
      "text/plain": [
       "                 Variable  0_count  1_count  0_percent  1_percent   Entropy\n",
       "3                 anxiety      155      154  50.161812  49.838188  0.999992\n",
       "4           peer_pressure      154      155  49.838188  50.161812  0.999992\n",
       "5         chronic_disease      153      156  49.514563  50.485437  0.999932\n",
       "0                  gender      147      162  47.572816  52.427184  0.998299\n",
       "12  swallowing_difficulty      164      145  53.074434  46.925566  0.997271\n",
       "7                 allergy      137      172  44.336570  55.663430  0.990725\n",
       "9       alcohol_consuming      137      172  44.336570  55.663430  0.990725\n",
       "13             chest_pain      137      172  44.336570  55.663430  0.990725\n",
       "8                wheezing      137      172  44.336570  55.663430  0.990725\n",
       "1                 smoking      135      174  43.689320  56.310680  0.988478\n",
       "2          yellow_fingers      133      176  43.042071  56.957929  0.985986\n",
       "10               coughing      130      179  42.071197  57.928803  0.981784\n",
       "11    shortness_of_breath      111      198  35.922330  64.077670  0.942037\n",
       "6                 fatigue      101      208  32.686084  67.313916  0.911687\n",
       "14            lung_cancer       39      270  12.621359  87.378641  0.546962"
      ]
     },
     "metadata": {},
     "output_type": "display_data"
    },
    {
     "data": {
      "application/vnd.plotly.v1+json": {
       "config": {
        "plotlyServerURL": "https://plot.ly"
       },
       "data": [
        {
         "coloraxis": "coloraxis",
         "hovertemplate": "x: %{x}<br>y: %{y}<br>color: %{z}<extra></extra>",
         "name": "0",
         "texttemplate": "%{z}",
         "type": "heatmap",
         "x": [
          "gender",
          "smoking",
          "yellow_fingers",
          "anxiety",
          "peer_pressure",
          "chronic_disease",
          "fatigue",
          "allergy",
          "wheezing",
          "alcohol_consuming",
          "coughing",
          "shortness_of_breath",
          "swallowing_difficulty",
          "chest_pain",
          "lung_cancer"
         ],
         "xaxis": "x",
         "y": [
          "gender",
          "smoking",
          "yellow_fingers",
          "anxiety",
          "peer_pressure",
          "chronic_disease",
          "fatigue",
          "allergy",
          "wheezing",
          "alcohol_consuming",
          "coughing",
          "shortness_of_breath",
          "swallowing_difficulty",
          "chest_pain",
          "lung_cancer"
         ],
         "yaxis": "y",
         "z": {
          "bdata": "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",
          "dtype": "f8",
          "shape": "15, 15"
         }
        }
       ],
       "layout": {
        "coloraxis": {
         "colorscale": [
          [
           0,
           "#440154"
          ],
          [
           0.1111111111111111,
           "#482878"
          ],
          [
           0.2222222222222222,
           "#3e4989"
          ],
          [
           0.3333333333333333,
           "#31688e"
          ],
          [
           0.4444444444444444,
           "#26828e"
          ],
          [
           0.5555555555555556,
           "#1f9e89"
          ],
          [
           0.6666666666666666,
           "#35b779"
          ],
          [
           0.7777777777777778,
           "#6ece58"
          ],
          [
           0.8888888888888888,
           "#b5de2b"
          ],
          [
           1,
           "#fde725"
          ]
         ]
        },
        "template": {
         "data": {
          "bar": [
           {
            "error_x": {
             "color": "#2a3f5f"
            },
            "error_y": {
             "color": "#2a3f5f"
            },
            "marker": {
             "line": {
              "color": "#E5ECF6",
              "width": 0.5
             },
             "pattern": {
              "fillmode": "overlay",
              "size": 10,
              "solidity": 0.2
             }
            },
            "type": "bar"
           }
          ],
          "barpolar": [
           {
            "marker": {
             "line": {
              "color": "#E5ECF6",
              "width": 0.5
             },
             "pattern": {
              "fillmode": "overlay",
              "size": 10,
              "solidity": 0.2
             }
            },
            "type": "barpolar"
           }
          ],
          "carpet": [
           {
            "aaxis": {
             "endlinecolor": "#2a3f5f",
             "gridcolor": "white",
             "linecolor": "white",
             "minorgridcolor": "white",
             "startlinecolor": "#2a3f5f"
            },
            "baxis": {
             "endlinecolor": "#2a3f5f",
             "gridcolor": "white",
             "linecolor": "white",
             "minorgridcolor": "white",
             "startlinecolor": "#2a3f5f"
            },
            "type": "carpet"
           }
          ],
          "choropleth": [
           {
            "colorbar": {
             "outlinewidth": 0,
             "ticks": ""
            },
            "type": "choropleth"
           }
          ],
          "contour": [
           {
            "colorbar": {
             "outlinewidth": 0,
             "ticks": ""
            },
            "colorscale": [
             [
              0,
              "#0d0887"
             ],
             [
              0.1111111111111111,
              "#46039f"
             ],
             [
              0.2222222222222222,
              "#7201a8"
             ],
             [
              0.3333333333333333,
              "#9c179e"
             ],
             [
              0.4444444444444444,
              "#bd3786"
             ],
             [
              0.5555555555555556,
              "#d8576b"
             ],
             [
              0.6666666666666666,
              "#ed7953"
             ],
             [
              0.7777777777777778,
              "#fb9f3a"
             ],
             [
              0.8888888888888888,
              "#fdca26"
             ],
             [
              1,
              "#f0f921"
             ]
            ],
            "type": "contour"
           }
          ],
          "contourcarpet": [
           {
            "colorbar": {
             "outlinewidth": 0,
             "ticks": ""
            },
            "type": "contourcarpet"
           }
          ],
          "heatmap": [
           {
            "colorbar": {
             "outlinewidth": 0,
             "ticks": ""
            },
            "colorscale": [
             [
              0,
              "#0d0887"
             ],
             [
              0.1111111111111111,
              "#46039f"
             ],
             [
              0.2222222222222222,
              "#7201a8"
             ],
             [
              0.3333333333333333,
              "#9c179e"
             ],
             [
              0.4444444444444444,
              "#bd3786"
             ],
             [
              0.5555555555555556,
              "#d8576b"
             ],
             [
              0.6666666666666666,
              "#ed7953"
             ],
             [
              0.7777777777777778,
              "#fb9f3a"
             ],
             [
              0.8888888888888888,
              "#fdca26"
             ],
             [
              1,
              "#f0f921"
             ]
            ],
            "type": "heatmap"
           }
          ],
          "histogram": [
           {
            "marker": {
             "pattern": {
              "fillmode": "overlay",
              "size": 10,
              "solidity": 0.2
             }
            },
            "type": "histogram"
           }
          ],
          "histogram2d": [
           {
            "colorbar": {
             "outlinewidth": 0,
             "ticks": ""
            },
            "colorscale": [
             [
              0,
              "#0d0887"
             ],
             [
              0.1111111111111111,
              "#46039f"
             ],
             [
              0.2222222222222222,
              "#7201a8"
             ],
             [
              0.3333333333333333,
              "#9c179e"
             ],
             [
              0.4444444444444444,
              "#bd3786"
             ],
             [
              0.5555555555555556,
              "#d8576b"
             ],
             [
              0.6666666666666666,
              "#ed7953"
             ],
             [
              0.7777777777777778,
              "#fb9f3a"
             ],
             [
              0.8888888888888888,
              "#fdca26"
             ],
             [
              1,
              "#f0f921"
             ]
            ],
            "type": "histogram2d"
           }
          ],
          "histogram2dcontour": [
           {
            "colorbar": {
             "outlinewidth": 0,
             "ticks": ""
            },
            "colorscale": [
             [
              0,
              "#0d0887"
             ],
             [
              0.1111111111111111,
              "#46039f"
             ],
             [
              0.2222222222222222,
              "#7201a8"
             ],
             [
              0.3333333333333333,
              "#9c179e"
             ],
             [
              0.4444444444444444,
              "#bd3786"
             ],
             [
              0.5555555555555556,
              "#d8576b"
             ],
             [
              0.6666666666666666,
              "#ed7953"
             ],
             [
              0.7777777777777778,
              "#fb9f3a"
             ],
             [
              0.8888888888888888,
              "#fdca26"
             ],
             [
              1,
              "#f0f921"
             ]
            ],
            "type": "histogram2dcontour"
           }
          ],
          "mesh3d": [
           {
            "colorbar": {
             "outlinewidth": 0,
             "ticks": ""
            },
            "type": "mesh3d"
           }
          ],
          "parcoords": [
           {
            "line": {
             "colorbar": {
              "outlinewidth": 0,
              "ticks": ""
             }
            },
            "type": "parcoords"
           }
          ],
          "pie": [
           {
            "automargin": true,
            "type": "pie"
           }
          ],
          "scatter": [
           {
            "fillpattern": {
             "fillmode": "overlay",
             "size": 10,
             "solidity": 0.2
            },
            "type": "scatter"
           }
          ],
          "scatter3d": [
           {
            "line": {
             "colorbar": {
              "outlinewidth": 0,
              "ticks": ""
             }
            },
            "marker": {
             "colorbar": {
              "outlinewidth": 0,
              "ticks": ""
             }
            },
            "type": "scatter3d"
           }
          ],
          "scattercarpet": [
           {
            "marker": {
             "colorbar": {
              "outlinewidth": 0,
              "ticks": ""
             }
            },
            "type": "scattercarpet"
           }
          ],
          "scattergeo": [
           {
            "marker": {
             "colorbar": {
              "outlinewidth": 0,
              "ticks": ""
             }
            },
            "type": "scattergeo"
           }
          ],
          "scattergl": [
           {
            "marker": {
             "colorbar": {
              "outlinewidth": 0,
              "ticks": ""
             }
            },
            "type": "scattergl"
           }
          ],
          "scattermap": [
           {
            "marker": {
             "colorbar": {
              "outlinewidth": 0,
              "ticks": ""
             }
            },
            "type": "scattermap"
           }
          ],
          "scattermapbox": [
           {
            "marker": {
             "colorbar": {
              "outlinewidth": 0,
              "ticks": ""
             }
            },
            "type": "scattermapbox"
           }
          ],
          "scatterpolar": [
           {
            "marker": {
             "colorbar": {
              "outlinewidth": 0,
              "ticks": ""
             }
            },
            "type": "scatterpolar"
           }
          ],
          "scatterpolargl": [
           {
            "marker": {
             "colorbar": {
              "outlinewidth": 0,
              "ticks": ""
             }
            },
            "type": "scatterpolargl"
           }
          ],
          "scatterternary": [
           {
            "marker": {
             "colorbar": {
              "outlinewidth": 0,
              "ticks": ""
             }
            },
            "type": "scatterternary"
           }
          ],
          "surface": [
           {
            "colorbar": {
             "outlinewidth": 0,
             "ticks": ""
            },
            "colorscale": [
             [
              0,
              "#0d0887"
             ],
             [
              0.1111111111111111,
              "#46039f"
             ],
             [
              0.2222222222222222,
              "#7201a8"
             ],
             [
              0.3333333333333333,
              "#9c179e"
             ],
             [
              0.4444444444444444,
              "#bd3786"
             ],
             [
              0.5555555555555556,
              "#d8576b"
             ],
             [
              0.6666666666666666,
              "#ed7953"
             ],
             [
              0.7777777777777778,
              "#fb9f3a"
             ],
             [
              0.8888888888888888,
              "#fdca26"
             ],
             [
              1,
              "#f0f921"
             ]
            ],
            "type": "surface"
           }
          ],
          "table": [
           {
            "cells": {
             "fill": {
              "color": "#EBF0F8"
             },
             "line": {
              "color": "white"
             }
            },
            "header": {
             "fill": {
              "color": "#C8D4E3"
             },
             "line": {
              "color": "white"
             }
            },
            "type": "table"
           }
          ]
         },
         "layout": {
          "annotationdefaults": {
           "arrowcolor": "#2a3f5f",
           "arrowhead": 0,
           "arrowwidth": 1
          },
          "autotypenumbers": "strict",
          "coloraxis": {
           "colorbar": {
            "outlinewidth": 0,
            "ticks": ""
           }
          },
          "colorscale": {
           "diverging": [
            [
             0,
             "#8e0152"
            ],
            [
             0.1,
             "#c51b7d"
            ],
            [
             0.2,
             "#de77ae"
            ],
            [
             0.3,
             "#f1b6da"
            ],
            [
             0.4,
             "#fde0ef"
            ],
            [
             0.5,
             "#f7f7f7"
            ],
            [
             0.6,
             "#e6f5d0"
            ],
            [
             0.7,
             "#b8e186"
            ],
            [
             0.8,
             "#7fbc41"
            ],
            [
             0.9,
             "#4d9221"
            ],
            [
             1,
             "#276419"
            ]
           ],
           "sequential": [
            [
             0,
             "#0d0887"
            ],
            [
             0.1111111111111111,
             "#46039f"
            ],
            [
             0.2222222222222222,
             "#7201a8"
            ],
            [
             0.3333333333333333,
             "#9c179e"
            ],
            [
             0.4444444444444444,
             "#bd3786"
            ],
            [
             0.5555555555555556,
             "#d8576b"
            ],
            [
             0.6666666666666666,
             "#ed7953"
            ],
            [
             0.7777777777777778,
             "#fb9f3a"
            ],
            [
             0.8888888888888888,
             "#fdca26"
            ],
            [
             1,
             "#f0f921"
            ]
           ],
           "sequentialminus": [
            [
             0,
             "#0d0887"
            ],
            [
             0.1111111111111111,
             "#46039f"
            ],
            [
             0.2222222222222222,
             "#7201a8"
            ],
            [
             0.3333333333333333,
             "#9c179e"
            ],
            [
             0.4444444444444444,
             "#bd3786"
            ],
            [
             0.5555555555555556,
             "#d8576b"
            ],
            [
             0.6666666666666666,
             "#ed7953"
            ],
            [
             0.7777777777777778,
             "#fb9f3a"
            ],
            [
             0.8888888888888888,
             "#fdca26"
            ],
            [
             1,
             "#f0f921"
            ]
           ]
          },
          "colorway": [
           "#636efa",
           "#EF553B",
           "#00cc96",
           "#ab63fa",
           "#FFA15A",
           "#19d3f3",
           "#FF6692",
           "#B6E880",
           "#FF97FF",
           "#FECB52"
          ],
          "font": {
           "color": "#2a3f5f"
          },
          "geo": {
           "bgcolor": "white",
           "lakecolor": "white",
           "landcolor": "#E5ECF6",
           "showlakes": true,
           "showland": true,
           "subunitcolor": "white"
          },
          "hoverlabel": {
           "align": "left"
          },
          "hovermode": "closest",
          "mapbox": {
           "style": "light"
          },
          "paper_bgcolor": "white",
          "plot_bgcolor": "#E5ECF6",
          "polar": {
           "angularaxis": {
            "gridcolor": "white",
            "linecolor": "white",
            "ticks": ""
           },
           "bgcolor": "#E5ECF6",
           "radialaxis": {
            "gridcolor": "white",
            "linecolor": "white",
            "ticks": ""
           }
          },
          "scene": {
           "xaxis": {
            "backgroundcolor": "#E5ECF6",
            "gridcolor": "white",
            "gridwidth": 2,
            "linecolor": "white",
            "showbackground": true,
            "ticks": "",
            "zerolinecolor": "white"
           },
           "yaxis": {
            "backgroundcolor": "#E5ECF6",
            "gridcolor": "white",
            "gridwidth": 2,
            "linecolor": "white",
            "showbackground": true,
            "ticks": "",
            "zerolinecolor": "white"
           },
           "zaxis": {
            "backgroundcolor": "#E5ECF6",
            "gridcolor": "white",
            "gridwidth": 2,
            "linecolor": "white",
            "showbackground": true,
            "ticks": "",
            "zerolinecolor": "white"
           }
          },
          "shapedefaults": {
           "line": {
            "color": "#2a3f5f"
           }
          },
          "ternary": {
           "aaxis": {
            "gridcolor": "white",
            "linecolor": "white",
            "ticks": ""
           },
           "baxis": {
            "gridcolor": "white",
            "linecolor": "white",
            "ticks": ""
           },
           "bgcolor": "#E5ECF6",
           "caxis": {
            "gridcolor": "white",
            "linecolor": "white",
            "ticks": ""
           }
          },
          "title": {
           "x": 0.05
          },
          "xaxis": {
           "automargin": true,
           "gridcolor": "white",
           "linecolor": "white",
           "ticks": "",
           "title": {
            "standoff": 15
           },
           "zerolinecolor": "white",
           "zerolinewidth": 2
          },
          "yaxis": {
           "automargin": true,
           "gridcolor": "white",
           "linecolor": "white",
           "ticks": "",
           "title": {
            "standoff": 15
           },
           "zerolinecolor": "white",
           "zerolinewidth": 2
          }
         }
        },
        "title": {
         "text": "Correlation Heatmap of Binary Variables"
        },
        "xaxis": {
         "anchor": "y",
         "constrain": "domain",
         "domain": [
          0,
          1
         ],
         "scaleanchor": "y"
        },
        "yaxis": {
         "anchor": "x",
         "autorange": "reversed",
         "constrain": "domain",
         "domain": [
          0,
          1
         ]
        }
       }
      },
      "text/html": [
       "<div>            <script src=\"https://cdnjs.cloudflare.com/ajax/libs/mathjax/2.7.5/MathJax.js?config=TeX-AMS-MML_SVG\"></script><script type=\"text/javascript\">if (window.MathJax && window.MathJax.Hub && window.MathJax.Hub.Config) {window.MathJax.Hub.Config({SVG: {font: \"STIX-Web\"}});}</script>                <script type=\"text/javascript\">window.PlotlyConfig = {MathJaxConfig: 'local'};</script>\n",
       "        <script charset=\"utf-8\" src=\"https://cdn.plot.ly/plotly-3.1.0.min.js\" integrity=\"sha256-Ei4740bWZhaUTQuD6q9yQlgVCMPBz6CZWhevDYPv93A=\" crossorigin=\"anonymous\"></script>                <div id=\"78eb3219-580f-4c7f-a4e9-a14803ca8118\" class=\"plotly-graph-div\" style=\"height:525px; width:100%;\"></div>            <script type=\"text/javascript\">                window.PLOTLYENV=window.PLOTLYENV || {};                                if (document.getElementById(\"78eb3219-580f-4c7f-a4e9-a14803ca8118\")) {                    Plotly.newPlot(                        \"78eb3219-580f-4c7f-a4e9-a14803ca8118\",                        [{\"coloraxis\":\"coloraxis\",\"name\":\"0\",\"texttemplate\":\"%{z}\",\"x\":[\"gender\",\"smoking\",\"yellow_fingers\",\"anxiety\",\"peer_pressure\",\"chronic_disease\",\"fatigue\",\"allergy\",\"wheezing\",\"alcohol_consuming\",\"coughing\",\"shortness_of_breath\",\"swallowing_difficulty\",\"chest_pain\",\"lung_cancer\"],\"y\":[\"gender\",\"smoking\",\"yellow_fingers\",\"anxiety\",\"peer_pressure\",\"chronic_disease\",\"fatigue\",\"allergy\",\"wheezing\",\"alcohol_consuming\",\"coughing\",\"shortness_of_breath\",\"swallowing_difficulty\",\"chest_pain\",\"lung_cancer\"],\"z\":{\"dtype\":\"f8\",\"bdata\":\"AAAAAAAA8D8xPDYy4ZKiP5bCSHFBQsu\\u002fTh1Lc+J4w7+nES+I2KLRvwWXCYiEMMq\\u002fcf3UuTdktb+0XGnLfr7DP79BtwYQE8I\\u002fdOS0O7kS3T9o0ZoiDxDBP9W6q5b8nbC\\u002f9yK4NF4CtL8bhkWLtTrXP7hGw9CRN7E\\u002fMTw2MuGSoj8AAAAAAADwP0rrzpOr3o2\\u002fQX785aCDxD\\u002f+nKPFzuylv2LF1itnHcK\\u002fVVxOhAdJnr+hRGJJcFZfPx6eIFwHkcC\\u002f276gqznrqb+hx0sDgpLAv7nJ1aT2Xa8\\u002fJ5sqSnh0nz9P1M6UBMC+P\\u002f68Gnifya0\\u002flsJIcUFCy79K686Tq96NvwAAAAAAAPA\\u002f3WVUCEYb4j8TPTFRZa3UPzxd\\u002fkj3DaU\\u002fdkyPQAs5vr9uSJIqaHjCv4R3WQeUGbS\\u002f+D7fDGJ\\u002f0r\\u002fFldj46uKJvzRdtSQqH7u\\u002fhMdrk0kj1j8P6N2MEta6v3iaKnkdNsc\\u002fTh1Lc+J4w79BfvzloIPEP91lVAhGG+I\\u002fAAAAAAAA8D+Y0jsFdMHLP41rLKj30YO\\u002f7C45LQYiyL9ISh7nRzfFv57rFJQkjci\\u002fSEoe50c3xb+26qyu5+HMv\\u002fQWOqkaccK\\u002f2IIO9l9S3z9AD2IaHRe9vzIys62gjcI\\u002fpxEviNii0b\\u002f+nKPFzuylvxM9MVFlrdQ\\u002fmNI7BXTByz8AAAAAAADwP+pyDOXu1qg\\u002fC2\\u002ftwYYBtD+5ZBEI0fC0v2PDGlv0mrG\\u002fXJbsiv55xL9tQfxj7cm2vznJrJy0Lsy\\u002f\\u002fLYrdTd21z8SBgi1rUa4v0NcTMeM28c\\u002fBZcJiIQwyr9ixdYrZx3Cvzxd\\u002fkj3DaU\\u002fjWssqPfRg7\\u002fqcgzl7taoPwAAAAAAAPA\\u002fPDHa5ppLvL8DUWzsHTy7PzfJRSlQlam\\u002fFP6aIeidYT8j2pZ+y2\\u002fGvwBvHZIFGJu\\u002fHWy8DcM+sz\\u002f06m1+hOmiv4ok6NhbY7w\\u002fcf3UuTdktb9VXE6EB0mev3ZMj0ALOb6\\u002f7C45LQYiyL8Lb+3BhgG0Pzwx2uaaS7y\\u002fAAAAAAAA8D+3+j64dwlpP1tost\\u002f8KsI\\u002ffTVEIgd\\u002fyL\\u002fSCECNLczCP443uVGLRdw\\u002f\\u002fCNF40P\\u002fwL8PVT8T+i6Gv6zhH2NAScM\\u002ftFxpy36+wz+hRGJJcFZfP25IkipoeMK\\u002fSEoe50c3xb+5ZBEI0fC0vwNRbOwdPLs\\u002ft\\u002fo+uHcJaT8AAAAAAADwP2uTQGZFQcY\\u002fPiq8sqUJ1j9H+RX0U0LIP3u1G2gdx56\\u002fuURv2vZ9r79X8RrcvaXOP87N4sIc+tQ\\u002fv0G3BhATwj8eniBcB5HAv4R3WQeUGbS\\u002fnusUlCSNyL9jwxpb9JqxvzfJRSlQlam\\u002fW2iy3\\u002fwqwj9rk0BmRUHGPwAAAAAAAPA\\u002fESU5n5AA0T\\u002fdq73U9vPXP32UyRoBX6M\\u002fBCzm4MersT+dOukD4uXCP6yNVKMP6c8\\u002fdOS0O7kS3T\\u002fbvqCrOeupv\\u002fg+3wxif9K\\u002fSEoe50c3xb9cluyK\\u002fnnEvxT+miHonWE\\u002ffTVEIgd\\u002fyL8+KryypQnWPxElOZ+QANE\\u002fAAAAAAAA8D+epHhcuvLJP3yNkysZ98a\\u002fUEv3op0Ig78PVCbazDLVP0qKRkpSd9I\\u002faNGaIg8QwT+hx0sDgpLAv8WV2Pjq4om\\u002ftuqsrufhzL9tQfxj7cm2vyPaln7Lb8a\\u002f0ghAjS3Mwj9H+RX0U0LIP92rvdT289c\\u002fnqR4XLryyT8AAAAAAADwP96Yqx6twNE\\u002fOmeSuskrxL+NPQFiQX61P8+t\\u002f\\u002fck0c8\\u002f1bqrlvydsL+5ydWk9l2vPzRdtSQqH7u\\u002f9BY6qRpxwr85yayctC7MvwBvHZIFGJu\\u002fjje5UYtF3D97tRtoHceev32UyRoBX6M\\u002ffI2TKxn3xr\\u002femKsercDRPwAAAAAAAPA\\u002fydy7EiKcxL\\u002fKL3B8ldaYP0dINywcGa8\\u002f9yK4NF4CtL8nmypKeHSfP4THa5NJI9Y\\u002f2IIO9l9S3z\\u002f8tit1N3bXPx1svA3DPrM\\u002f\\u002fCNF40P\\u002fwL+5RG\\u002fa9n2vvwQs5uDHq7E\\u002fUEv3op0Ig786Z5K6ySvEv8ncuxIinMS\\u002fAAAAAAAA8D8HLObgx6uxP8RxRpBpn9A\\u002fG4ZFi7U61z9P1M6UBMC+Pw\\u002fo3YwS1rq\\u002fQA9iGh0Xvb8SBgi1rUa4v\\u002fTqbX6E6aK\\u002fD1U\\u002fE\\u002fouhr9X8RrcvaXOP5066QPi5cI\\u002fD1Qm2swy1T+NPQFiQX61P8ovcHyV1pg\\u002fByzm4MersT8AAAAAAADwPz3DfzmwYMg\\u002fuEbD0JE3sT\\u002f+vBp4n8mtP3iaKnkdNsc\\u002fMjKzraCNwj9DXEzHjNvHP4ok6NhbY7w\\u002frOEfY0BJwz\\u002fOzeLCHPrUP6yNVKMP6c8\\u002fSopGSlJ30j\\u002fPrf\\u002f3JNHPP0dINywcGa8\\u002fxHFGkGmf0D89w385sGDIPwAAAAAAAPA\\u002f\",\"shape\":\"15, 15\"},\"type\":\"heatmap\",\"xaxis\":\"x\",\"yaxis\":\"y\",\"hovertemplate\":\"x: %{x}\\u003cbr\\u003ey: %{y}\\u003cbr\\u003ecolor: %{z}\\u003cextra\\u003e\\u003c\\u002fextra\\u003e\"}],                        {\"template\":{\"data\":{\"histogram2dcontour\":[{\"type\":\"histogram2dcontour\",\"colorbar\":{\"outlinewidth\":0,\"ticks\":\"\"},\"colorscale\":[[0.0,\"#0d0887\"],[0.1111111111111111,\"#46039f\"],[0.2222222222222222,\"#7201a8\"],[0.3333333333333333,\"#9c179e\"],[0.4444444444444444,\"#bd3786\"],[0.5555555555555556,\"#d8576b\"],[0.6666666666666666,\"#ed7953\"],[0.7777777777777778,\"#fb9f3a\"],[0.8888888888888888,\"#fdca26\"],[1.0,\"#f0f921\"]]}],\"choropleth\":[{\"type\":\"choropleth\",\"colorbar\":{\"outlinewidth\":0,\"ticks\":\"\"}}],\"histogram2d\":[{\"type\":\"histogram2d\",\"colorbar\":{\"outlinewidth\":0,\"ticks\":\"\"},\"colorscale\":[[0.0,\"#0d0887\"],[0.1111111111111111,\"#46039f\"],[0.2222222222222222,\"#7201a8\"],[0.3333333333333333,\"#9c179e\"],[0.4444444444444444,\"#bd3786\"],[0.5555555555555556,\"#d8576b\"],[0.6666666666666666,\"#ed7953\"],[0.7777777777777778,\"#fb9f3a\"],[0.8888888888888888,\"#fdca26\"],[1.0,\"#f0f921\"]]}],\"heatmap\":[{\"type\":\"heatmap\",\"colorbar\":{\"outlinewidth\":0,\"ticks\":\"\"},\"colorscale\":[[0.0,\"#0d0887\"],[0.1111111111111111,\"#46039f\"],[0.2222222222222222,\"#7201a8\"],[0.3333333333333333,\"#9c179e\"],[0.4444444444444444,\"#bd3786\"],[0.5555555555555556,\"#d8576b\"],[0.6666666666666666,\"#ed7953\"],[0.7777777777777778,\"#fb9f3a\"],[0.8888888888888888,\"#fdca26\"],[1.0,\"#f0f921\"]]}],\"contourcarpet\":[{\"type\":\"contourcarpet\",\"colorbar\":{\"outlinewidth\":0,\"ticks\":\"\"}}],\"contour\":[{\"type\":\"contour\",\"colorbar\":{\"outlinewidth\":0,\"ticks\":\"\"},\"colorscale\":[[0.0,\"#0d0887\"],[0.1111111111111111,\"#46039f\"],[0.2222222222222222,\"#7201a8\"],[0.3333333333333333,\"#9c179e\"],[0.4444444444444444,\"#bd3786\"],[0.5555555555555556,\"#d8576b\"],[0.6666666666666666,\"#ed7953\"],[0.7777777777777778,\"#fb9f3a\"],[0.8888888888888888,\"#fdca26\"],[1.0,\"#f0f921\"]]}],\"surface\":[{\"type\":\"surface\",\"colorbar\":{\"outlinewidth\":0,\"ticks\":\"\"},\"colorscale\":[[0.0,\"#0d0887\"],[0.1111111111111111,\"#46039f\"],[0.2222222222222222,\"#7201a8\"],[0.3333333333333333,\"#9c179e\"],[0.4444444444444444,\"#bd3786\"],[0.5555555555555556,\"#d8576b\"],[0.6666666666666666,\"#ed7953\"],[0.7777777777777778,\"#fb9f3a\"],[0.8888888888888888,\"#fdca26\"],[1.0,\"#f0f921\"]]}],\"mesh3d\":[{\"type\":\"mesh3d\",\"colorbar\":{\"outlinewidth\":0,\"ticks\":\"\"}}],\"scatter\":[{\"fillpattern\":{\"fillmode\":\"overlay\",\"size\":10,\"solidity\":0.2},\"type\":\"scatter\"}],\"parcoords\":[{\"type\":\"parcoords\",\"line\":{\"colorbar\":{\"outlinewidth\":0,\"ticks\":\"\"}}}],\"scatterpolargl\":[{\"type\":\"scatterpolargl\",\"marker\":{\"colorbar\":{\"outlinewidth\":0,\"ticks\":\"\"}}}],\"bar\":[{\"error_x\":{\"color\":\"#2a3f5f\"},\"error_y\":{\"color\":\"#2a3f5f\"},\"marker\":{\"line\":{\"color\":\"#E5ECF6\",\"width\":0.5},\"pattern\":{\"fillmode\":\"overlay\",\"size\":10,\"solidity\":0.2}},\"type\":\"bar\"}],\"scattergeo\":[{\"type\":\"scattergeo\",\"marker\":{\"colorbar\":{\"outlinewidth\":0,\"ticks\":\"\"}}}],\"scatterpolar\":[{\"type\":\"scatterpolar\",\"marker\":{\"colorbar\":{\"outlinewidth\":0,\"ticks\":\"\"}}}],\"histogram\":[{\"marker\":{\"pattern\":{\"fillmode\":\"overlay\",\"size\":10,\"solidity\":0.2}},\"type\":\"histogram\"}],\"scattergl\":[{\"type\":\"scattergl\",\"marker\":{\"colorbar\":{\"outlinewidth\":0,\"ticks\":\"\"}}}],\"scatter3d\":[{\"type\":\"scatter3d\",\"line\":{\"colorbar\":{\"outlinewidth\":0,\"ticks\":\"\"}},\"marker\":{\"colorbar\":{\"outlinewidth\":0,\"ticks\":\"\"}}}],\"scattermap\":[{\"type\":\"scattermap\",\"marker\":{\"colorbar\":{\"outlinewidth\":0,\"ticks\":\"\"}}}],\"scattermapbox\":[{\"type\":\"scattermapbox\",\"marker\":{\"colorbar\":{\"outlinewidth\":0,\"ticks\":\"\"}}}],\"scatterternary\":[{\"type\":\"scatterternary\",\"marker\":{\"colorbar\":{\"outlinewidth\":0,\"ticks\":\"\"}}}],\"scattercarpet\":[{\"type\":\"scattercarpet\",\"marker\":{\"colorbar\":{\"outlinewidth\":0,\"ticks\":\"\"}}}],\"carpet\":[{\"aaxis\":{\"endlinecolor\":\"#2a3f5f\",\"gridcolor\":\"white\",\"linecolor\":\"white\",\"minorgridcolor\":\"white\",\"startlinecolor\":\"#2a3f5f\"},\"baxis\":{\"endlinecolor\":\"#2a3f5f\",\"gridcolor\":\"white\",\"linecolor\":\"white\",\"minorgridcolor\":\"white\",\"startlinecolor\":\"#2a3f5f\"},\"type\":\"carpet\"}],\"table\":[{\"cells\":{\"fill\":{\"color\":\"#EBF0F8\"},\"line\":{\"color\":\"white\"}},\"header\":{\"fill\":{\"color\":\"#C8D4E3\"},\"line\":{\"color\":\"white\"}},\"type\":\"table\"}],\"barpolar\":[{\"marker\":{\"line\":{\"color\":\"#E5ECF6\",\"width\":0.5},\"pattern\":{\"fillmode\":\"overlay\",\"size\":10,\"solidity\":0.2}},\"type\":\"barpolar\"}],\"pie\":[{\"automargin\":true,\"type\":\"pie\"}]},\"layout\":{\"autotypenumbers\":\"strict\",\"colorway\":[\"#636efa\",\"#EF553B\",\"#00cc96\",\"#ab63fa\",\"#FFA15A\",\"#19d3f3\",\"#FF6692\",\"#B6E880\",\"#FF97FF\",\"#FECB52\"],\"font\":{\"color\":\"#2a3f5f\"},\"hovermode\":\"closest\",\"hoverlabel\":{\"align\":\"left\"},\"paper_bgcolor\":\"white\",\"plot_bgcolor\":\"#E5ECF6\",\"polar\":{\"bgcolor\":\"#E5ECF6\",\"angularaxis\":{\"gridcolor\":\"white\",\"linecolor\":\"white\",\"ticks\":\"\"},\"radialaxis\":{\"gridcolor\":\"white\",\"linecolor\":\"white\",\"ticks\":\"\"}},\"ternary\":{\"bgcolor\":\"#E5ECF6\",\"aaxis\":{\"gridcolor\":\"white\",\"linecolor\":\"white\",\"ticks\":\"\"},\"baxis\":{\"gridcolor\":\"white\",\"linecolor\":\"white\",\"ticks\":\"\"},\"caxis\":{\"gridcolor\":\"white\",\"linecolor\":\"white\",\"ticks\":\"\"}},\"coloraxis\":{\"colorbar\":{\"outlinewidth\":0,\"ticks\":\"\"}},\"colorscale\":{\"sequential\":[[0.0,\"#0d0887\"],[0.1111111111111111,\"#46039f\"],[0.2222222222222222,\"#7201a8\"],[0.3333333333333333,\"#9c179e\"],[0.4444444444444444,\"#bd3786\"],[0.5555555555555556,\"#d8576b\"],[0.6666666666666666,\"#ed7953\"],[0.7777777777777778,\"#fb9f3a\"],[0.8888888888888888,\"#fdca26\"],[1.0,\"#f0f921\"]],\"sequentialminus\":[[0.0,\"#0d0887\"],[0.1111111111111111,\"#46039f\"],[0.2222222222222222,\"#7201a8\"],[0.3333333333333333,\"#9c179e\"],[0.4444444444444444,\"#bd3786\"],[0.5555555555555556,\"#d8576b\"],[0.6666666666666666,\"#ed7953\"],[0.7777777777777778,\"#fb9f3a\"],[0.8888888888888888,\"#fdca26\"],[1.0,\"#f0f921\"]],\"diverging\":[[0,\"#8e0152\"],[0.1,\"#c51b7d\"],[0.2,\"#de77ae\"],[0.3,\"#f1b6da\"],[0.4,\"#fde0ef\"],[0.5,\"#f7f7f7\"],[0.6,\"#e6f5d0\"],[0.7,\"#b8e186\"],[0.8,\"#7fbc41\"],[0.9,\"#4d9221\"],[1,\"#276419\"]]},\"xaxis\":{\"gridcolor\":\"white\",\"linecolor\":\"white\",\"ticks\":\"\",\"title\":{\"standoff\":15},\"zerolinecolor\":\"white\",\"automargin\":true,\"zerolinewidth\":2},\"yaxis\":{\"gridcolor\":\"white\",\"linecolor\":\"white\",\"ticks\":\"\",\"title\":{\"standoff\":15},\"zerolinecolor\":\"white\",\"automargin\":true,\"zerolinewidth\":2},\"scene\":{\"xaxis\":{\"backgroundcolor\":\"#E5ECF6\",\"gridcolor\":\"white\",\"linecolor\":\"white\",\"showbackground\":true,\"ticks\":\"\",\"zerolinecolor\":\"white\",\"gridwidth\":2},\"yaxis\":{\"backgroundcolor\":\"#E5ECF6\",\"gridcolor\":\"white\",\"linecolor\":\"white\",\"showbackground\":true,\"ticks\":\"\",\"zerolinecolor\":\"white\",\"gridwidth\":2},\"zaxis\":{\"backgroundcolor\":\"#E5ECF6\",\"gridcolor\":\"white\",\"linecolor\":\"white\",\"showbackground\":true,\"ticks\":\"\",\"zerolinecolor\":\"white\",\"gridwidth\":2}},\"shapedefaults\":{\"line\":{\"color\":\"#2a3f5f\"}},\"annotationdefaults\":{\"arrowcolor\":\"#2a3f5f\",\"arrowhead\":0,\"arrowwidth\":1},\"geo\":{\"bgcolor\":\"white\",\"landcolor\":\"#E5ECF6\",\"subunitcolor\":\"white\",\"showland\":true,\"showlakes\":true,\"lakecolor\":\"white\"},\"title\":{\"x\":0.05},\"mapbox\":{\"style\":\"light\"}}},\"xaxis\":{\"anchor\":\"y\",\"domain\":[0.0,1.0],\"scaleanchor\":\"y\",\"constrain\":\"domain\"},\"yaxis\":{\"anchor\":\"x\",\"domain\":[0.0,1.0],\"autorange\":\"reversed\",\"constrain\":\"domain\"},\"coloraxis\":{\"colorscale\":[[0.0,\"#440154\"],[0.1111111111111111,\"#482878\"],[0.2222222222222222,\"#3e4989\"],[0.3333333333333333,\"#31688e\"],[0.4444444444444444,\"#26828e\"],[0.5555555555555556,\"#1f9e89\"],[0.6666666666666666,\"#35b779\"],[0.7777777777777778,\"#6ece58\"],[0.8888888888888888,\"#b5de2b\"],[1.0,\"#fde725\"]]},\"title\":{\"text\":\"Correlation Heatmap of Binary Variables\"}},                        {\"responsive\": true}                    ).then(function(){\n",
       "                            \n",
       "var gd = document.getElementById('78eb3219-580f-4c7f-a4e9-a14803ca8118');\n",
       "var x = new MutationObserver(function (mutations, observer) {{\n",
       "        var display = window.getComputedStyle(gd).display;\n",
       "        if (!display || display === 'none') {{\n",
       "            console.log([gd, 'removed!']);\n",
       "            Plotly.purge(gd);\n",
       "            observer.disconnect();\n",
       "        }}\n",
       "}});\n",
       "\n",
       "// Listen for the removal of the full notebook cells\n",
       "var notebookContainer = gd.closest('#notebook-container');\n",
       "if (notebookContainer) {{\n",
       "    x.observe(notebookContainer, {childList: true});\n",
       "}}\n",
       "\n",
       "// Listen for the clearing of the current output cell\n",
       "var outputEl = gd.closest('.output');\n",
       "if (outputEl) {{\n",
       "    x.observe(outputEl, {childList: true});\n",
       "}}\n",
       "\n",
       "                        })                };            </script>        </div>"
      ]
     },
     "metadata": {},
     "output_type": "display_data"
    },
    {
     "data": {
      "application/vnd.plotly.v1+json": {
       "config": {
        "plotlyServerURL": "https://plot.ly"
       },
       "data": [
        {
         "alignmentgroup": "True",
         "hovertemplate": "Lung Cancer=%{x}<br>Age=%{y}<extra></extra>",
         "legendgroup": "1",
         "marker": {
          "color": "#636efa"
         },
         "name": "1",
         "notched": false,
         "offsetgroup": "1",
         "orientation": "v",
         "showlegend": true,
         "type": "box",
         "x": {
          "bdata": "AQEBAQEBAQEBAQEBAQEBAQEBAQEBAQEBAQEBAQEBAQEBAQEBAQEBAQEBAQEBAQEBAQEBAQEBAQEBAQEBAQEBAQEBAQEBAQEBAQEBAQEBAQEBAQEBAQEBAQEBAQEBAQEBAQEBAQEBAQEBAQEBAQEBAQEBAQEBAQEBAQEBAQEBAQEBAQEBAQEBAQEBAQEBAQEBAQEBAQEBAQEBAQEBAQEBAQEBAQEBAQEBAQEBAQEBAQEBAQEBAQEBAQEBAQEBAQEBAQEBAQEBAQEBAQEBAQEBAQEBAQEBAQEBAQEBAQEBAQEBAQEBAQEBAQEBAQEBAQEBAQEBAQEBAQEBAQEBAQEBAQEBAQEBAQEBAQEBAQEB",
          "dtype": "i1"
         },
         "x0": " ",
         "xaxis": "x",
         "y": {
          "bdata": "RUpLNDM1PUg6MEs5RCxAPEhBPTU+Qzs8ODxEP000Rkg+QEY4PzYxOTQ/SS9FRkZESkc4QkxOREJDPD06TDhDSTY+UTg8Qj4+Nz5HNDswPD07QDg6UUA+SDw9PDE1Oj1EPEhIOTM2OE1AOUJGNTM6OjM9PUxHRThDNj8vPkE/QEEzOEY6Qz5KSzg3PklESz89Piw4NjhFSDtGQD1IP0pHSE1IN0FDRTczQD9FQDtJNz88SkFPPkdDNzZNOkA9QzhGRjlNPz47Rkc4OU5APjFNQD82JktGO009QEdDQEVAO0NKTTxARjo7J0dGPDw3Nz87OEA+TTs8OjozPT1MR0U4QzY/Lz5BP0BBMzhGOkM+",
          "dtype": "i1"
         },
         "y0": " ",
         "yaxis": "y"
        },
        {
         "alignmentgroup": "True",
         "hovertemplate": "Lung Cancer=%{x}<br>Age=%{y}<extra></extra>",
         "legendgroup": "0",
         "marker": {
          "color": "#EF553B"
         },
         "name": "0",
         "notched": false,
         "offsetgroup": "0",
         "orientation": "v",
         "showlegend": true,
         "type": "box",
         "x": {
          "bdata": "AAAAAAAAAAAAAAAAAAAAAAAAAAAAAAAAAAAAAAAAAAAAAAAAAAAA",
          "dtype": "i1"
         },
         "x0": " ",
         "xaxis": "x",
         "y": {
          "bdata": "Oz8/RDxFPRVFNzk4Ozg8PDo/RUAvOUQ5Rz8+PTtEQzdGQFc7Ny4/",
          "dtype": "i1"
         },
         "y0": " ",
         "yaxis": "y"
        }
       ],
       "layout": {
        "boxmode": "overlay",
        "legend": {
         "title": {
          "text": "Lung Cancer"
         },
         "tracegroupgap": 0
        },
        "template": {
         "data": {
          "bar": [
           {
            "error_x": {
             "color": "#2a3f5f"
            },
            "error_y": {
             "color": "#2a3f5f"
            },
            "marker": {
             "line": {
              "color": "#E5ECF6",
              "width": 0.5
             },
             "pattern": {
              "fillmode": "overlay",
              "size": 10,
              "solidity": 0.2
             }
            },
            "type": "bar"
           }
          ],
          "barpolar": [
           {
            "marker": {
             "line": {
              "color": "#E5ECF6",
              "width": 0.5
             },
             "pattern": {
              "fillmode": "overlay",
              "size": 10,
              "solidity": 0.2
             }
            },
            "type": "barpolar"
           }
          ],
          "carpet": [
           {
            "aaxis": {
             "endlinecolor": "#2a3f5f",
             "gridcolor": "white",
             "linecolor": "white",
             "minorgridcolor": "white",
             "startlinecolor": "#2a3f5f"
            },
            "baxis": {
             "endlinecolor": "#2a3f5f",
             "gridcolor": "white",
             "linecolor": "white",
             "minorgridcolor": "white",
             "startlinecolor": "#2a3f5f"
            },
            "type": "carpet"
           }
          ],
          "choropleth": [
           {
            "colorbar": {
             "outlinewidth": 0,
             "ticks": ""
            },
            "type": "choropleth"
           }
          ],
          "contour": [
           {
            "colorbar": {
             "outlinewidth": 0,
             "ticks": ""
            },
            "colorscale": [
             [
              0,
              "#0d0887"
             ],
             [
              0.1111111111111111,
              "#46039f"
             ],
             [
              0.2222222222222222,
              "#7201a8"
             ],
             [
              0.3333333333333333,
              "#9c179e"
             ],
             [
              0.4444444444444444,
              "#bd3786"
             ],
             [
              0.5555555555555556,
              "#d8576b"
             ],
             [
              0.6666666666666666,
              "#ed7953"
             ],
             [
              0.7777777777777778,
              "#fb9f3a"
             ],
             [
              0.8888888888888888,
              "#fdca26"
             ],
             [
              1,
              "#f0f921"
             ]
            ],
            "type": "contour"
           }
          ],
          "contourcarpet": [
           {
            "colorbar": {
             "outlinewidth": 0,
             "ticks": ""
            },
            "type": "contourcarpet"
           }
          ],
          "heatmap": [
           {
            "colorbar": {
             "outlinewidth": 0,
             "ticks": ""
            },
            "colorscale": [
             [
              0,
              "#0d0887"
             ],
             [
              0.1111111111111111,
              "#46039f"
             ],
             [
              0.2222222222222222,
              "#7201a8"
             ],
             [
              0.3333333333333333,
              "#9c179e"
             ],
             [
              0.4444444444444444,
              "#bd3786"
             ],
             [
              0.5555555555555556,
              "#d8576b"
             ],
             [
              0.6666666666666666,
              "#ed7953"
             ],
             [
              0.7777777777777778,
              "#fb9f3a"
             ],
             [
              0.8888888888888888,
              "#fdca26"
             ],
             [
              1,
              "#f0f921"
             ]
            ],
            "type": "heatmap"
           }
          ],
          "histogram": [
           {
            "marker": {
             "pattern": {
              "fillmode": "overlay",
              "size": 10,
              "solidity": 0.2
             }
            },
            "type": "histogram"
           }
          ],
          "histogram2d": [
           {
            "colorbar": {
             "outlinewidth": 0,
             "ticks": ""
            },
            "colorscale": [
             [
              0,
              "#0d0887"
             ],
             [
              0.1111111111111111,
              "#46039f"
             ],
             [
              0.2222222222222222,
              "#7201a8"
             ],
             [
              0.3333333333333333,
              "#9c179e"
             ],
             [
              0.4444444444444444,
              "#bd3786"
             ],
             [
              0.5555555555555556,
              "#d8576b"
             ],
             [
              0.6666666666666666,
              "#ed7953"
             ],
             [
              0.7777777777777778,
              "#fb9f3a"
             ],
             [
              0.8888888888888888,
              "#fdca26"
             ],
             [
              1,
              "#f0f921"
             ]
            ],
            "type": "histogram2d"
           }
          ],
          "histogram2dcontour": [
           {
            "colorbar": {
             "outlinewidth": 0,
             "ticks": ""
            },
            "colorscale": [
             [
              0,
              "#0d0887"
             ],
             [
              0.1111111111111111,
              "#46039f"
             ],
             [
              0.2222222222222222,
              "#7201a8"
             ],
             [
              0.3333333333333333,
              "#9c179e"
             ],
             [
              0.4444444444444444,
              "#bd3786"
             ],
             [
              0.5555555555555556,
              "#d8576b"
             ],
             [
              0.6666666666666666,
              "#ed7953"
             ],
             [
              0.7777777777777778,
              "#fb9f3a"
             ],
             [
              0.8888888888888888,
              "#fdca26"
             ],
             [
              1,
              "#f0f921"
             ]
            ],
            "type": "histogram2dcontour"
           }
          ],
          "mesh3d": [
           {
            "colorbar": {
             "outlinewidth": 0,
             "ticks": ""
            },
            "type": "mesh3d"
           }
          ],
          "parcoords": [
           {
            "line": {
             "colorbar": {
              "outlinewidth": 0,
              "ticks": ""
             }
            },
            "type": "parcoords"
           }
          ],
          "pie": [
           {
            "automargin": true,
            "type": "pie"
           }
          ],
          "scatter": [
           {
            "fillpattern": {
             "fillmode": "overlay",
             "size": 10,
             "solidity": 0.2
            },
            "type": "scatter"
           }
          ],
          "scatter3d": [
           {
            "line": {
             "colorbar": {
              "outlinewidth": 0,
              "ticks": ""
             }
            },
            "marker": {
             "colorbar": {
              "outlinewidth": 0,
              "ticks": ""
             }
            },
            "type": "scatter3d"
           }
          ],
          "scattercarpet": [
           {
            "marker": {
             "colorbar": {
              "outlinewidth": 0,
              "ticks": ""
             }
            },
            "type": "scattercarpet"
           }
          ],
          "scattergeo": [
           {
            "marker": {
             "colorbar": {
              "outlinewidth": 0,
              "ticks": ""
             }
            },
            "type": "scattergeo"
           }
          ],
          "scattergl": [
           {
            "marker": {
             "colorbar": {
              "outlinewidth": 0,
              "ticks": ""
             }
            },
            "type": "scattergl"
           }
          ],
          "scattermap": [
           {
            "marker": {
             "colorbar": {
              "outlinewidth": 0,
              "ticks": ""
             }
            },
            "type": "scattermap"
           }
          ],
          "scattermapbox": [
           {
            "marker": {
             "colorbar": {
              "outlinewidth": 0,
              "ticks": ""
             }
            },
            "type": "scattermapbox"
           }
          ],
          "scatterpolar": [
           {
            "marker": {
             "colorbar": {
              "outlinewidth": 0,
              "ticks": ""
             }
            },
            "type": "scatterpolar"
           }
          ],
          "scatterpolargl": [
           {
            "marker": {
             "colorbar": {
              "outlinewidth": 0,
              "ticks": ""
             }
            },
            "type": "scatterpolargl"
           }
          ],
          "scatterternary": [
           {
            "marker": {
             "colorbar": {
              "outlinewidth": 0,
              "ticks": ""
             }
            },
            "type": "scatterternary"
           }
          ],
          "surface": [
           {
            "colorbar": {
             "outlinewidth": 0,
             "ticks": ""
            },
            "colorscale": [
             [
              0,
              "#0d0887"
             ],
             [
              0.1111111111111111,
              "#46039f"
             ],
             [
              0.2222222222222222,
              "#7201a8"
             ],
             [
              0.3333333333333333,
              "#9c179e"
             ],
             [
              0.4444444444444444,
              "#bd3786"
             ],
             [
              0.5555555555555556,
              "#d8576b"
             ],
             [
              0.6666666666666666,
              "#ed7953"
             ],
             [
              0.7777777777777778,
              "#fb9f3a"
             ],
             [
              0.8888888888888888,
              "#fdca26"
             ],
             [
              1,
              "#f0f921"
             ]
            ],
            "type": "surface"
           }
          ],
          "table": [
           {
            "cells": {
             "fill": {
              "color": "#EBF0F8"
             },
             "line": {
              "color": "white"
             }
            },
            "header": {
             "fill": {
              "color": "#C8D4E3"
             },
             "line": {
              "color": "white"
             }
            },
            "type": "table"
           }
          ]
         },
         "layout": {
          "annotationdefaults": {
           "arrowcolor": "#2a3f5f",
           "arrowhead": 0,
           "arrowwidth": 1
          },
          "autotypenumbers": "strict",
          "coloraxis": {
           "colorbar": {
            "outlinewidth": 0,
            "ticks": ""
           }
          },
          "colorscale": {
           "diverging": [
            [
             0,
             "#8e0152"
            ],
            [
             0.1,
             "#c51b7d"
            ],
            [
             0.2,
             "#de77ae"
            ],
            [
             0.3,
             "#f1b6da"
            ],
            [
             0.4,
             "#fde0ef"
            ],
            [
             0.5,
             "#f7f7f7"
            ],
            [
             0.6,
             "#e6f5d0"
            ],
            [
             0.7,
             "#b8e186"
            ],
            [
             0.8,
             "#7fbc41"
            ],
            [
             0.9,
             "#4d9221"
            ],
            [
             1,
             "#276419"
            ]
           ],
           "sequential": [
            [
             0,
             "#0d0887"
            ],
            [
             0.1111111111111111,
             "#46039f"
            ],
            [
             0.2222222222222222,
             "#7201a8"
            ],
            [
             0.3333333333333333,
             "#9c179e"
            ],
            [
             0.4444444444444444,
             "#bd3786"
            ],
            [
             0.5555555555555556,
             "#d8576b"
            ],
            [
             0.6666666666666666,
             "#ed7953"
            ],
            [
             0.7777777777777778,
             "#fb9f3a"
            ],
            [
             0.8888888888888888,
             "#fdca26"
            ],
            [
             1,
             "#f0f921"
            ]
           ],
           "sequentialminus": [
            [
             0,
             "#0d0887"
            ],
            [
             0.1111111111111111,
             "#46039f"
            ],
            [
             0.2222222222222222,
             "#7201a8"
            ],
            [
             0.3333333333333333,
             "#9c179e"
            ],
            [
             0.4444444444444444,
             "#bd3786"
            ],
            [
             0.5555555555555556,
             "#d8576b"
            ],
            [
             0.6666666666666666,
             "#ed7953"
            ],
            [
             0.7777777777777778,
             "#fb9f3a"
            ],
            [
             0.8888888888888888,
             "#fdca26"
            ],
            [
             1,
             "#f0f921"
            ]
           ]
          },
          "colorway": [
           "#636efa",
           "#EF553B",
           "#00cc96",
           "#ab63fa",
           "#FFA15A",
           "#19d3f3",
           "#FF6692",
           "#B6E880",
           "#FF97FF",
           "#FECB52"
          ],
          "font": {
           "color": "#2a3f5f"
          },
          "geo": {
           "bgcolor": "white",
           "lakecolor": "white",
           "landcolor": "#E5ECF6",
           "showlakes": true,
           "showland": true,
           "subunitcolor": "white"
          },
          "hoverlabel": {
           "align": "left"
          },
          "hovermode": "closest",
          "mapbox": {
           "style": "light"
          },
          "paper_bgcolor": "white",
          "plot_bgcolor": "#E5ECF6",
          "polar": {
           "angularaxis": {
            "gridcolor": "white",
            "linecolor": "white",
            "ticks": ""
           },
           "bgcolor": "#E5ECF6",
           "radialaxis": {
            "gridcolor": "white",
            "linecolor": "white",
            "ticks": ""
           }
          },
          "scene": {
           "xaxis": {
            "backgroundcolor": "#E5ECF6",
            "gridcolor": "white",
            "gridwidth": 2,
            "linecolor": "white",
            "showbackground": true,
            "ticks": "",
            "zerolinecolor": "white"
           },
           "yaxis": {
            "backgroundcolor": "#E5ECF6",
            "gridcolor": "white",
            "gridwidth": 2,
            "linecolor": "white",
            "showbackground": true,
            "ticks": "",
            "zerolinecolor": "white"
           },
           "zaxis": {
            "backgroundcolor": "#E5ECF6",
            "gridcolor": "white",
            "gridwidth": 2,
            "linecolor": "white",
            "showbackground": true,
            "ticks": "",
            "zerolinecolor": "white"
           }
          },
          "shapedefaults": {
           "line": {
            "color": "#2a3f5f"
           }
          },
          "ternary": {
           "aaxis": {
            "gridcolor": "white",
            "linecolor": "white",
            "ticks": ""
           },
           "baxis": {
            "gridcolor": "white",
            "linecolor": "white",
            "ticks": ""
           },
           "bgcolor": "#E5ECF6",
           "caxis": {
            "gridcolor": "white",
            "linecolor": "white",
            "ticks": ""
           }
          },
          "title": {
           "x": 0.05
          },
          "xaxis": {
           "automargin": true,
           "gridcolor": "white",
           "linecolor": "white",
           "ticks": "",
           "title": {
            "standoff": 15
           },
           "zerolinecolor": "white",
           "zerolinewidth": 2
          },
          "yaxis": {
           "automargin": true,
           "gridcolor": "white",
           "linecolor": "white",
           "ticks": "",
           "title": {
            "standoff": 15
           },
           "zerolinecolor": "white",
           "zerolinewidth": 2
          }
         }
        },
        "title": {
         "text": "Age Distribution by Lung Cancer Diagnosis"
        },
        "xaxis": {
         "anchor": "y",
         "categoryarray": [
          1,
          0
         ],
         "categoryorder": "array",
         "domain": [
          0,
          1
         ],
         "title": {
          "text": "Lung Cancer"
         }
        },
        "yaxis": {
         "anchor": "x",
         "domain": [
          0,
          1
         ],
         "title": {
          "text": "Age"
         }
        }
       }
      },
      "text/html": [
       "<div>            <script src=\"https://cdnjs.cloudflare.com/ajax/libs/mathjax/2.7.5/MathJax.js?config=TeX-AMS-MML_SVG\"></script><script type=\"text/javascript\">if (window.MathJax && window.MathJax.Hub && window.MathJax.Hub.Config) {window.MathJax.Hub.Config({SVG: {font: \"STIX-Web\"}});}</script>                <script type=\"text/javascript\">window.PlotlyConfig = {MathJaxConfig: 'local'};</script>\n",
       "        <script charset=\"utf-8\" src=\"https://cdn.plot.ly/plotly-3.1.0.min.js\" integrity=\"sha256-Ei4740bWZhaUTQuD6q9yQlgVCMPBz6CZWhevDYPv93A=\" crossorigin=\"anonymous\"></script>                <div id=\"76e96f38-a7d1-43fe-bc1a-32ad066f6689\" class=\"plotly-graph-div\" style=\"height:525px; width:100%;\"></div>            <script type=\"text/javascript\">                window.PLOTLYENV=window.PLOTLYENV || {};                                if (document.getElementById(\"76e96f38-a7d1-43fe-bc1a-32ad066f6689\")) {                    Plotly.newPlot(                        \"76e96f38-a7d1-43fe-bc1a-32ad066f6689\",                        [{\"alignmentgroup\":\"True\",\"hovertemplate\":\"Lung Cancer=%{x}\\u003cbr\\u003eAge=%{y}\\u003cextra\\u003e\\u003c\\u002fextra\\u003e\",\"legendgroup\":\"1\",\"marker\":{\"color\":\"#636efa\"},\"name\":\"1\",\"notched\":false,\"offsetgroup\":\"1\",\"orientation\":\"v\",\"showlegend\":true,\"x\":{\"dtype\":\"i1\",\"bdata\":\"AQEBAQEBAQEBAQEBAQEBAQEBAQEBAQEBAQEBAQEBAQEBAQEBAQEBAQEBAQEBAQEBAQEBAQEBAQEBAQEBAQEBAQEBAQEBAQEBAQEBAQEBAQEBAQEBAQEBAQEBAQEBAQEBAQEBAQEBAQEBAQEBAQEBAQEBAQEBAQEBAQEBAQEBAQEBAQEBAQEBAQEBAQEBAQEBAQEBAQEBAQEBAQEBAQEBAQEBAQEBAQEBAQEBAQEBAQEBAQEBAQEBAQEBAQEBAQEBAQEBAQEBAQEBAQEBAQEBAQEBAQEBAQEBAQEBAQEBAQEBAQEBAQEBAQEBAQEBAQEBAQEBAQEBAQEBAQEBAQEBAQEBAQEBAQEBAQEBAQEB\"},\"x0\":\" \",\"xaxis\":\"x\",\"y\":{\"dtype\":\"i1\",\"bdata\":\"RUpLNDM1PUg6MEs5RCxAPEhBPTU+Qzs8ODxEP000Rkg+QEY4PzYxOTQ\\u002fSS9FRkZESkc4QkxOREJDPD06TDhDSTY+UTg8Qj4+Nz5HNDswPD07QDg6UUA+SDw9PDE1Oj1EPEhIOTM2OE1AOUJGNTM6OjM9PUxHRThDNj8vPkE\\u002fQEEzOEY6Qz5KSzg3PklESz89Piw4NjhFSDtGQD1IP0pHSE1IN0FDRTczQD9FQDtJNz88SkFPPkdDNzZNOkA9QzhGRjlNPz47Rkc4OU5APjFNQD82JktGO009QEdDQEVAO0NKTTxARjo7J0dGPDw3Nz87OEA+TTs8OjozPT1MR0U4QzY\\u002fLz5BP0BBMzhGOkM+\"},\"y0\":\" \",\"yaxis\":\"y\",\"type\":\"box\"},{\"alignmentgroup\":\"True\",\"hovertemplate\":\"Lung Cancer=%{x}\\u003cbr\\u003eAge=%{y}\\u003cextra\\u003e\\u003c\\u002fextra\\u003e\",\"legendgroup\":\"0\",\"marker\":{\"color\":\"#EF553B\"},\"name\":\"0\",\"notched\":false,\"offsetgroup\":\"0\",\"orientation\":\"v\",\"showlegend\":true,\"x\":{\"dtype\":\"i1\",\"bdata\":\"AAAAAAAAAAAAAAAAAAAAAAAAAAAAAAAAAAAAAAAAAAAAAAAAAAAA\"},\"x0\":\" \",\"xaxis\":\"x\",\"y\":{\"dtype\":\"i1\",\"bdata\":\"Oz8\\u002fRDxFPRVFNzk4Ozg8PDo\\u002fRUAvOUQ5Rz8+PTtEQzdGQFc7Ny4\\u002f\"},\"y0\":\" \",\"yaxis\":\"y\",\"type\":\"box\"}],                        {\"template\":{\"data\":{\"histogram2dcontour\":[{\"type\":\"histogram2dcontour\",\"colorbar\":{\"outlinewidth\":0,\"ticks\":\"\"},\"colorscale\":[[0.0,\"#0d0887\"],[0.1111111111111111,\"#46039f\"],[0.2222222222222222,\"#7201a8\"],[0.3333333333333333,\"#9c179e\"],[0.4444444444444444,\"#bd3786\"],[0.5555555555555556,\"#d8576b\"],[0.6666666666666666,\"#ed7953\"],[0.7777777777777778,\"#fb9f3a\"],[0.8888888888888888,\"#fdca26\"],[1.0,\"#f0f921\"]]}],\"choropleth\":[{\"type\":\"choropleth\",\"colorbar\":{\"outlinewidth\":0,\"ticks\":\"\"}}],\"histogram2d\":[{\"type\":\"histogram2d\",\"colorbar\":{\"outlinewidth\":0,\"ticks\":\"\"},\"colorscale\":[[0.0,\"#0d0887\"],[0.1111111111111111,\"#46039f\"],[0.2222222222222222,\"#7201a8\"],[0.3333333333333333,\"#9c179e\"],[0.4444444444444444,\"#bd3786\"],[0.5555555555555556,\"#d8576b\"],[0.6666666666666666,\"#ed7953\"],[0.7777777777777778,\"#fb9f3a\"],[0.8888888888888888,\"#fdca26\"],[1.0,\"#f0f921\"]]}],\"heatmap\":[{\"type\":\"heatmap\",\"colorbar\":{\"outlinewidth\":0,\"ticks\":\"\"},\"colorscale\":[[0.0,\"#0d0887\"],[0.1111111111111111,\"#46039f\"],[0.2222222222222222,\"#7201a8\"],[0.3333333333333333,\"#9c179e\"],[0.4444444444444444,\"#bd3786\"],[0.5555555555555556,\"#d8576b\"],[0.6666666666666666,\"#ed7953\"],[0.7777777777777778,\"#fb9f3a\"],[0.8888888888888888,\"#fdca26\"],[1.0,\"#f0f921\"]]}],\"contourcarpet\":[{\"type\":\"contourcarpet\",\"colorbar\":{\"outlinewidth\":0,\"ticks\":\"\"}}],\"contour\":[{\"type\":\"contour\",\"colorbar\":{\"outlinewidth\":0,\"ticks\":\"\"},\"colorscale\":[[0.0,\"#0d0887\"],[0.1111111111111111,\"#46039f\"],[0.2222222222222222,\"#7201a8\"],[0.3333333333333333,\"#9c179e\"],[0.4444444444444444,\"#bd3786\"],[0.5555555555555556,\"#d8576b\"],[0.6666666666666666,\"#ed7953\"],[0.7777777777777778,\"#fb9f3a\"],[0.8888888888888888,\"#fdca26\"],[1.0,\"#f0f921\"]]}],\"surface\":[{\"type\":\"surface\",\"colorbar\":{\"outlinewidth\":0,\"ticks\":\"\"},\"colorscale\":[[0.0,\"#0d0887\"],[0.1111111111111111,\"#46039f\"],[0.2222222222222222,\"#7201a8\"],[0.3333333333333333,\"#9c179e\"],[0.4444444444444444,\"#bd3786\"],[0.5555555555555556,\"#d8576b\"],[0.6666666666666666,\"#ed7953\"],[0.7777777777777778,\"#fb9f3a\"],[0.8888888888888888,\"#fdca26\"],[1.0,\"#f0f921\"]]}],\"mesh3d\":[{\"type\":\"mesh3d\",\"colorbar\":{\"outlinewidth\":0,\"ticks\":\"\"}}],\"scatter\":[{\"fillpattern\":{\"fillmode\":\"overlay\",\"size\":10,\"solidity\":0.2},\"type\":\"scatter\"}],\"parcoords\":[{\"type\":\"parcoords\",\"line\":{\"colorbar\":{\"outlinewidth\":0,\"ticks\":\"\"}}}],\"scatterpolargl\":[{\"type\":\"scatterpolargl\",\"marker\":{\"colorbar\":{\"outlinewidth\":0,\"ticks\":\"\"}}}],\"bar\":[{\"error_x\":{\"color\":\"#2a3f5f\"},\"error_y\":{\"color\":\"#2a3f5f\"},\"marker\":{\"line\":{\"color\":\"#E5ECF6\",\"width\":0.5},\"pattern\":{\"fillmode\":\"overlay\",\"size\":10,\"solidity\":0.2}},\"type\":\"bar\"}],\"scattergeo\":[{\"type\":\"scattergeo\",\"marker\":{\"colorbar\":{\"outlinewidth\":0,\"ticks\":\"\"}}}],\"scatterpolar\":[{\"type\":\"scatterpolar\",\"marker\":{\"colorbar\":{\"outlinewidth\":0,\"ticks\":\"\"}}}],\"histogram\":[{\"marker\":{\"pattern\":{\"fillmode\":\"overlay\",\"size\":10,\"solidity\":0.2}},\"type\":\"histogram\"}],\"scattergl\":[{\"type\":\"scattergl\",\"marker\":{\"colorbar\":{\"outlinewidth\":0,\"ticks\":\"\"}}}],\"scatter3d\":[{\"type\":\"scatter3d\",\"line\":{\"colorbar\":{\"outlinewidth\":0,\"ticks\":\"\"}},\"marker\":{\"colorbar\":{\"outlinewidth\":0,\"ticks\":\"\"}}}],\"scattermap\":[{\"type\":\"scattermap\",\"marker\":{\"colorbar\":{\"outlinewidth\":0,\"ticks\":\"\"}}}],\"scattermapbox\":[{\"type\":\"scattermapbox\",\"marker\":{\"colorbar\":{\"outlinewidth\":0,\"ticks\":\"\"}}}],\"scatterternary\":[{\"type\":\"scatterternary\",\"marker\":{\"colorbar\":{\"outlinewidth\":0,\"ticks\":\"\"}}}],\"scattercarpet\":[{\"type\":\"scattercarpet\",\"marker\":{\"colorbar\":{\"outlinewidth\":0,\"ticks\":\"\"}}}],\"carpet\":[{\"aaxis\":{\"endlinecolor\":\"#2a3f5f\",\"gridcolor\":\"white\",\"linecolor\":\"white\",\"minorgridcolor\":\"white\",\"startlinecolor\":\"#2a3f5f\"},\"baxis\":{\"endlinecolor\":\"#2a3f5f\",\"gridcolor\":\"white\",\"linecolor\":\"white\",\"minorgridcolor\":\"white\",\"startlinecolor\":\"#2a3f5f\"},\"type\":\"carpet\"}],\"table\":[{\"cells\":{\"fill\":{\"color\":\"#EBF0F8\"},\"line\":{\"color\":\"white\"}},\"header\":{\"fill\":{\"color\":\"#C8D4E3\"},\"line\":{\"color\":\"white\"}},\"type\":\"table\"}],\"barpolar\":[{\"marker\":{\"line\":{\"color\":\"#E5ECF6\",\"width\":0.5},\"pattern\":{\"fillmode\":\"overlay\",\"size\":10,\"solidity\":0.2}},\"type\":\"barpolar\"}],\"pie\":[{\"automargin\":true,\"type\":\"pie\"}]},\"layout\":{\"autotypenumbers\":\"strict\",\"colorway\":[\"#636efa\",\"#EF553B\",\"#00cc96\",\"#ab63fa\",\"#FFA15A\",\"#19d3f3\",\"#FF6692\",\"#B6E880\",\"#FF97FF\",\"#FECB52\"],\"font\":{\"color\":\"#2a3f5f\"},\"hovermode\":\"closest\",\"hoverlabel\":{\"align\":\"left\"},\"paper_bgcolor\":\"white\",\"plot_bgcolor\":\"#E5ECF6\",\"polar\":{\"bgcolor\":\"#E5ECF6\",\"angularaxis\":{\"gridcolor\":\"white\",\"linecolor\":\"white\",\"ticks\":\"\"},\"radialaxis\":{\"gridcolor\":\"white\",\"linecolor\":\"white\",\"ticks\":\"\"}},\"ternary\":{\"bgcolor\":\"#E5ECF6\",\"aaxis\":{\"gridcolor\":\"white\",\"linecolor\":\"white\",\"ticks\":\"\"},\"baxis\":{\"gridcolor\":\"white\",\"linecolor\":\"white\",\"ticks\":\"\"},\"caxis\":{\"gridcolor\":\"white\",\"linecolor\":\"white\",\"ticks\":\"\"}},\"coloraxis\":{\"colorbar\":{\"outlinewidth\":0,\"ticks\":\"\"}},\"colorscale\":{\"sequential\":[[0.0,\"#0d0887\"],[0.1111111111111111,\"#46039f\"],[0.2222222222222222,\"#7201a8\"],[0.3333333333333333,\"#9c179e\"],[0.4444444444444444,\"#bd3786\"],[0.5555555555555556,\"#d8576b\"],[0.6666666666666666,\"#ed7953\"],[0.7777777777777778,\"#fb9f3a\"],[0.8888888888888888,\"#fdca26\"],[1.0,\"#f0f921\"]],\"sequentialminus\":[[0.0,\"#0d0887\"],[0.1111111111111111,\"#46039f\"],[0.2222222222222222,\"#7201a8\"],[0.3333333333333333,\"#9c179e\"],[0.4444444444444444,\"#bd3786\"],[0.5555555555555556,\"#d8576b\"],[0.6666666666666666,\"#ed7953\"],[0.7777777777777778,\"#fb9f3a\"],[0.8888888888888888,\"#fdca26\"],[1.0,\"#f0f921\"]],\"diverging\":[[0,\"#8e0152\"],[0.1,\"#c51b7d\"],[0.2,\"#de77ae\"],[0.3,\"#f1b6da\"],[0.4,\"#fde0ef\"],[0.5,\"#f7f7f7\"],[0.6,\"#e6f5d0\"],[0.7,\"#b8e186\"],[0.8,\"#7fbc41\"],[0.9,\"#4d9221\"],[1,\"#276419\"]]},\"xaxis\":{\"gridcolor\":\"white\",\"linecolor\":\"white\",\"ticks\":\"\",\"title\":{\"standoff\":15},\"zerolinecolor\":\"white\",\"automargin\":true,\"zerolinewidth\":2},\"yaxis\":{\"gridcolor\":\"white\",\"linecolor\":\"white\",\"ticks\":\"\",\"title\":{\"standoff\":15},\"zerolinecolor\":\"white\",\"automargin\":true,\"zerolinewidth\":2},\"scene\":{\"xaxis\":{\"backgroundcolor\":\"#E5ECF6\",\"gridcolor\":\"white\",\"linecolor\":\"white\",\"showbackground\":true,\"ticks\":\"\",\"zerolinecolor\":\"white\",\"gridwidth\":2},\"yaxis\":{\"backgroundcolor\":\"#E5ECF6\",\"gridcolor\":\"white\",\"linecolor\":\"white\",\"showbackground\":true,\"ticks\":\"\",\"zerolinecolor\":\"white\",\"gridwidth\":2},\"zaxis\":{\"backgroundcolor\":\"#E5ECF6\",\"gridcolor\":\"white\",\"linecolor\":\"white\",\"showbackground\":true,\"ticks\":\"\",\"zerolinecolor\":\"white\",\"gridwidth\":2}},\"shapedefaults\":{\"line\":{\"color\":\"#2a3f5f\"}},\"annotationdefaults\":{\"arrowcolor\":\"#2a3f5f\",\"arrowhead\":0,\"arrowwidth\":1},\"geo\":{\"bgcolor\":\"white\",\"landcolor\":\"#E5ECF6\",\"subunitcolor\":\"white\",\"showland\":true,\"showlakes\":true,\"lakecolor\":\"white\"},\"title\":{\"x\":0.05},\"mapbox\":{\"style\":\"light\"}}},\"xaxis\":{\"anchor\":\"y\",\"domain\":[0.0,1.0],\"title\":{\"text\":\"Lung Cancer\"},\"categoryorder\":\"array\",\"categoryarray\":[1,0]},\"yaxis\":{\"anchor\":\"x\",\"domain\":[0.0,1.0],\"title\":{\"text\":\"Age\"}},\"legend\":{\"title\":{\"text\":\"Lung Cancer\"},\"tracegroupgap\":0},\"title\":{\"text\":\"Age Distribution by Lung Cancer Diagnosis\"},\"boxmode\":\"overlay\"},                        {\"responsive\": true}                    ).then(function(){\n",
       "                            \n",
       "var gd = document.getElementById('76e96f38-a7d1-43fe-bc1a-32ad066f6689');\n",
       "var x = new MutationObserver(function (mutations, observer) {{\n",
       "        var display = window.getComputedStyle(gd).display;\n",
       "        if (!display || display === 'none') {{\n",
       "            console.log([gd, 'removed!']);\n",
       "            Plotly.purge(gd);\n",
       "            observer.disconnect();\n",
       "        }}\n",
       "}});\n",
       "\n",
       "// Listen for the removal of the full notebook cells\n",
       "var notebookContainer = gd.closest('#notebook-container');\n",
       "if (notebookContainer) {{\n",
       "    x.observe(notebookContainer, {childList: true});\n",
       "}}\n",
       "\n",
       "// Listen for the clearing of the current output cell\n",
       "var outputEl = gd.closest('.output');\n",
       "if (outputEl) {{\n",
       "    x.observe(outputEl, {childList: true});\n",
       "}}\n",
       "\n",
       "                        })                };            </script>        </div>"
      ]
     },
     "metadata": {},
     "output_type": "display_data"
    }
   ],
   "source": [
    "# Conteo y porcentaje + entropía\n",
    "eda_summary = []\n",
    "\n",
    "for col in binary_cols:\n",
    "    counts = df[col].value_counts()\n",
    "    percentages = df[col].value_counts(normalize=True) * 100\n",
    "    probs = df[col].value_counts(normalize=True).values\n",
    "    entropy = -np.sum(probs * np.log2(probs + 1e-9))\n",
    "    \n",
    "    eda_summary.append({\n",
    "        'Variable': col,\n",
    "        '0_count': counts.get(0, 0),\n",
    "        '1_count': counts.get(1, 0),\n",
    "        '0_percent': percentages.get(0, 0),\n",
    "        '1_percent': percentages.get(1, 0),\n",
    "        'Entropy': entropy\n",
    "    })\n",
    "\n",
    "eda_df = pd.DataFrame(eda_summary).sort_values('Entropy', ascending=False)\n",
    "display(eda_df)\n",
    "\n",
    "# Heatmap de correlación entre variables binarias\n",
    "corr = df[binary_cols].corr()\n",
    "fig_corr = px.imshow(corr,\n",
    "                     text_auto=True,\n",
    "                     color_continuous_scale='Viridis',\n",
    "                     title='Correlation Heatmap of Binary Variables')\n",
    "fig_corr.show()\n",
    "\n",
    "# Comparación de edad vs. variable objetivo\n",
    "fig_age = px.box(df, x='lung_cancer', y='age',\n",
    "                 color='lung_cancer',\n",
    "                 labels={'lung_cancer': 'Lung Cancer', 'age': 'Age'},\n",
    "                 title='Age Distribution by Lung Cancer Diagnosis')\n",
    "fig_age.show()\n"
   ]
  },
  {
   "cell_type": "markdown",
   "id": "cc5463c2",
   "metadata": {},
   "source": [
    "### outliers"
   ]
  },
  {
   "cell_type": "markdown",
   "id": "d261218d",
   "metadata": {},
   "source": [
    "# 📊 Distribution Analysis & Statistical Insights\n",
    "\n",
    "## 🎯 Understanding Data Distributions Through Box Plots\n",
    "Statistical exploration of variable distributions, outliers, and patterns across patient features.\n",
    "\n",
    "## 🔍 Key Distribution Patterns Revealed\n",
    "\n",
    "### ⚡ Age Distribution\n",
    "- **Range:** 21-82 years\n",
    "- **Median:** ~61 years\n",
    "- **Pattern:** Slightly right-skewed\n",
    "- Majority of patients between 50-70 years\n",
    "- Very few younger patients (21-38) are outliers\n",
    "- Most patients cluster around the median age\n",
    "\n",
    "### 👥 Binary Symptom Variables\n",
    "- **Values:** 0 or 1 (absent/present)\n",
    "- **Pattern:** Mostly balanced, some symptoms more prevalent\n",
    "- No extreme outliers since binary values are constrained\n",
    "- Useful for correlation and pattern detection\n",
    "\n",
    "## 🎯 Critical Statistical Insights\n",
    "\n",
    "### 🔥 Outlier Significance\n",
    "\n",
    "#### 🌡️ Age Outliers\n",
    "- **Lower-bound outliers:** Younger patients (21-38)\n",
    "- **Upper-bound:** None beyond 87\n",
    "- Rare age outliers have minimal impact on overall dataset patterns\n",
    "\n",
    "#### 📈 Distribution Shapes\n",
    "- **Age:** Slightly right-skewed\n",
    "- **Symptoms:** Binary, evenly distributed\n",
    "- **Target (lung_cancer):** 0/1, no continuous outliers\n",
    "\n",
    "#### 🎯 Risk Implications\n",
    "- Age may influence lung cancer risk but extreme ages are rare\n",
    "- Binary symptom variables show no anomalous data\n",
    "- Tail observations can be noted but are not critical for modeling\n",
    "\n",
    "## 🚀 Strategic Implications\n",
    "\n",
    "### 🎯 Data-Driven Modeling\n",
    "\n",
    "#### 🎯 Feature Selection\n",
    "- Include age and binary symptoms\n",
    "- Rare outliers in age can be left as is or capped\n",
    "\n",
    "#### 📋 Data Preprocessing\n",
    "- Binary variables do not require outlier handling\n",
    "- Age may be normalized or scaled if needed for algorithms sensitive to magnitude\n",
    "\n",
    "#### 💡 Summary Insight\n",
    "- Most features are well-behaved\n",
    "- Only age shows minor outliers (0.65%)\n",
    "- Dataset is generally clean and ready for predictive modeling"
   ]
  },
  {
   "cell_type": "code",
   "execution_count": 23,
   "id": "c524dcf1",
   "metadata": {},
   "outputs": [
    {
     "data": {
      "application/vnd.plotly.v1+json": {
       "config": {
        "plotlyServerURL": "https://plot.ly"
       },
       "data": [
        {
         "boxpoints": "outliers",
         "line": {
          "color": "darkblue"
         },
         "marker": {
          "color": "lightblue",
          "outliercolor": "red",
          "size": 4
         },
         "name": "age",
         "showlegend": false,
         "type": "box",
         "xaxis": "x",
         "y": {
          "bdata": "RUo7Pz9LNDNENT1IPDpFMEs5RD0sQBU8SEE9RTU3OT44Qzs7PDg4PEQ/TTRGSD5ARjw4PzYxOTQ/SS9FRjxGREpHOEJMTkRCQzw9Okw4Q0k6Nj5RODxCPj43Pkc0OzA8PTtAODpRQD5IPD08MTU6PUQ8SEg5MzY4TUA5QkY1Mzo6PzM9PUxHRThDNj8vPkE/QEEzOEY6Qz5KRUBLLzk4RDc+SURLPz0+LDg2OThFSDtGQD1IP0pHR0hNSDdBQ0U3M0A/RUA7STc/PEpBTz5HP0M3Nk06QD0+QzhGRjk9TT8+O0ZHODlOQD4xTUA/NiZLRjtNPUA7R0NAREVAO0NKTTxARjo7J0NHRjw3PDc3Rj9AOzhAPldNOzs3Ljw6Oj8zPT1MR0U4QzY/Lz5BP0BBMzhGOkM+",
          "dtype": "i1"
         },
         "yaxis": "y"
        }
       ],
       "layout": {
        "annotations": [
         {
          "font": {
           "size": 16
          },
          "showarrow": false,
          "text": "age",
          "x": 0.5,
          "xanchor": "center",
          "xref": "paper",
          "y": 1,
          "yanchor": "bottom",
          "yref": "paper"
         }
        ],
        "height": 500,
        "showlegend": false,
        "template": {
         "data": {
          "bar": [
           {
            "error_x": {
             "color": "#2a3f5f"
            },
            "error_y": {
             "color": "#2a3f5f"
            },
            "marker": {
             "line": {
              "color": "#E5ECF6",
              "width": 0.5
             },
             "pattern": {
              "fillmode": "overlay",
              "size": 10,
              "solidity": 0.2
             }
            },
            "type": "bar"
           }
          ],
          "barpolar": [
           {
            "marker": {
             "line": {
              "color": "#E5ECF6",
              "width": 0.5
             },
             "pattern": {
              "fillmode": "overlay",
              "size": 10,
              "solidity": 0.2
             }
            },
            "type": "barpolar"
           }
          ],
          "carpet": [
           {
            "aaxis": {
             "endlinecolor": "#2a3f5f",
             "gridcolor": "white",
             "linecolor": "white",
             "minorgridcolor": "white",
             "startlinecolor": "#2a3f5f"
            },
            "baxis": {
             "endlinecolor": "#2a3f5f",
             "gridcolor": "white",
             "linecolor": "white",
             "minorgridcolor": "white",
             "startlinecolor": "#2a3f5f"
            },
            "type": "carpet"
           }
          ],
          "choropleth": [
           {
            "colorbar": {
             "outlinewidth": 0,
             "ticks": ""
            },
            "type": "choropleth"
           }
          ],
          "contour": [
           {
            "colorbar": {
             "outlinewidth": 0,
             "ticks": ""
            },
            "colorscale": [
             [
              0,
              "#0d0887"
             ],
             [
              0.1111111111111111,
              "#46039f"
             ],
             [
              0.2222222222222222,
              "#7201a8"
             ],
             [
              0.3333333333333333,
              "#9c179e"
             ],
             [
              0.4444444444444444,
              "#bd3786"
             ],
             [
              0.5555555555555556,
              "#d8576b"
             ],
             [
              0.6666666666666666,
              "#ed7953"
             ],
             [
              0.7777777777777778,
              "#fb9f3a"
             ],
             [
              0.8888888888888888,
              "#fdca26"
             ],
             [
              1,
              "#f0f921"
             ]
            ],
            "type": "contour"
           }
          ],
          "contourcarpet": [
           {
            "colorbar": {
             "outlinewidth": 0,
             "ticks": ""
            },
            "type": "contourcarpet"
           }
          ],
          "heatmap": [
           {
            "colorbar": {
             "outlinewidth": 0,
             "ticks": ""
            },
            "colorscale": [
             [
              0,
              "#0d0887"
             ],
             [
              0.1111111111111111,
              "#46039f"
             ],
             [
              0.2222222222222222,
              "#7201a8"
             ],
             [
              0.3333333333333333,
              "#9c179e"
             ],
             [
              0.4444444444444444,
              "#bd3786"
             ],
             [
              0.5555555555555556,
              "#d8576b"
             ],
             [
              0.6666666666666666,
              "#ed7953"
             ],
             [
              0.7777777777777778,
              "#fb9f3a"
             ],
             [
              0.8888888888888888,
              "#fdca26"
             ],
             [
              1,
              "#f0f921"
             ]
            ],
            "type": "heatmap"
           }
          ],
          "histogram": [
           {
            "marker": {
             "pattern": {
              "fillmode": "overlay",
              "size": 10,
              "solidity": 0.2
             }
            },
            "type": "histogram"
           }
          ],
          "histogram2d": [
           {
            "colorbar": {
             "outlinewidth": 0,
             "ticks": ""
            },
            "colorscale": [
             [
              0,
              "#0d0887"
             ],
             [
              0.1111111111111111,
              "#46039f"
             ],
             [
              0.2222222222222222,
              "#7201a8"
             ],
             [
              0.3333333333333333,
              "#9c179e"
             ],
             [
              0.4444444444444444,
              "#bd3786"
             ],
             [
              0.5555555555555556,
              "#d8576b"
             ],
             [
              0.6666666666666666,
              "#ed7953"
             ],
             [
              0.7777777777777778,
              "#fb9f3a"
             ],
             [
              0.8888888888888888,
              "#fdca26"
             ],
             [
              1,
              "#f0f921"
             ]
            ],
            "type": "histogram2d"
           }
          ],
          "histogram2dcontour": [
           {
            "colorbar": {
             "outlinewidth": 0,
             "ticks": ""
            },
            "colorscale": [
             [
              0,
              "#0d0887"
             ],
             [
              0.1111111111111111,
              "#46039f"
             ],
             [
              0.2222222222222222,
              "#7201a8"
             ],
             [
              0.3333333333333333,
              "#9c179e"
             ],
             [
              0.4444444444444444,
              "#bd3786"
             ],
             [
              0.5555555555555556,
              "#d8576b"
             ],
             [
              0.6666666666666666,
              "#ed7953"
             ],
             [
              0.7777777777777778,
              "#fb9f3a"
             ],
             [
              0.8888888888888888,
              "#fdca26"
             ],
             [
              1,
              "#f0f921"
             ]
            ],
            "type": "histogram2dcontour"
           }
          ],
          "mesh3d": [
           {
            "colorbar": {
             "outlinewidth": 0,
             "ticks": ""
            },
            "type": "mesh3d"
           }
          ],
          "parcoords": [
           {
            "line": {
             "colorbar": {
              "outlinewidth": 0,
              "ticks": ""
             }
            },
            "type": "parcoords"
           }
          ],
          "pie": [
           {
            "automargin": true,
            "type": "pie"
           }
          ],
          "scatter": [
           {
            "fillpattern": {
             "fillmode": "overlay",
             "size": 10,
             "solidity": 0.2
            },
            "type": "scatter"
           }
          ],
          "scatter3d": [
           {
            "line": {
             "colorbar": {
              "outlinewidth": 0,
              "ticks": ""
             }
            },
            "marker": {
             "colorbar": {
              "outlinewidth": 0,
              "ticks": ""
             }
            },
            "type": "scatter3d"
           }
          ],
          "scattercarpet": [
           {
            "marker": {
             "colorbar": {
              "outlinewidth": 0,
              "ticks": ""
             }
            },
            "type": "scattercarpet"
           }
          ],
          "scattergeo": [
           {
            "marker": {
             "colorbar": {
              "outlinewidth": 0,
              "ticks": ""
             }
            },
            "type": "scattergeo"
           }
          ],
          "scattergl": [
           {
            "marker": {
             "colorbar": {
              "outlinewidth": 0,
              "ticks": ""
             }
            },
            "type": "scattergl"
           }
          ],
          "scattermap": [
           {
            "marker": {
             "colorbar": {
              "outlinewidth": 0,
              "ticks": ""
             }
            },
            "type": "scattermap"
           }
          ],
          "scattermapbox": [
           {
            "marker": {
             "colorbar": {
              "outlinewidth": 0,
              "ticks": ""
             }
            },
            "type": "scattermapbox"
           }
          ],
          "scatterpolar": [
           {
            "marker": {
             "colorbar": {
              "outlinewidth": 0,
              "ticks": ""
             }
            },
            "type": "scatterpolar"
           }
          ],
          "scatterpolargl": [
           {
            "marker": {
             "colorbar": {
              "outlinewidth": 0,
              "ticks": ""
             }
            },
            "type": "scatterpolargl"
           }
          ],
          "scatterternary": [
           {
            "marker": {
             "colorbar": {
              "outlinewidth": 0,
              "ticks": ""
             }
            },
            "type": "scatterternary"
           }
          ],
          "surface": [
           {
            "colorbar": {
             "outlinewidth": 0,
             "ticks": ""
            },
            "colorscale": [
             [
              0,
              "#0d0887"
             ],
             [
              0.1111111111111111,
              "#46039f"
             ],
             [
              0.2222222222222222,
              "#7201a8"
             ],
             [
              0.3333333333333333,
              "#9c179e"
             ],
             [
              0.4444444444444444,
              "#bd3786"
             ],
             [
              0.5555555555555556,
              "#d8576b"
             ],
             [
              0.6666666666666666,
              "#ed7953"
             ],
             [
              0.7777777777777778,
              "#fb9f3a"
             ],
             [
              0.8888888888888888,
              "#fdca26"
             ],
             [
              1,
              "#f0f921"
             ]
            ],
            "type": "surface"
           }
          ],
          "table": [
           {
            "cells": {
             "fill": {
              "color": "#EBF0F8"
             },
             "line": {
              "color": "white"
             }
            },
            "header": {
             "fill": {
              "color": "#C8D4E3"
             },
             "line": {
              "color": "white"
             }
            },
            "type": "table"
           }
          ]
         },
         "layout": {
          "annotationdefaults": {
           "arrowcolor": "#2a3f5f",
           "arrowhead": 0,
           "arrowwidth": 1
          },
          "autotypenumbers": "strict",
          "coloraxis": {
           "colorbar": {
            "outlinewidth": 0,
            "ticks": ""
           }
          },
          "colorscale": {
           "diverging": [
            [
             0,
             "#8e0152"
            ],
            [
             0.1,
             "#c51b7d"
            ],
            [
             0.2,
             "#de77ae"
            ],
            [
             0.3,
             "#f1b6da"
            ],
            [
             0.4,
             "#fde0ef"
            ],
            [
             0.5,
             "#f7f7f7"
            ],
            [
             0.6,
             "#e6f5d0"
            ],
            [
             0.7,
             "#b8e186"
            ],
            [
             0.8,
             "#7fbc41"
            ],
            [
             0.9,
             "#4d9221"
            ],
            [
             1,
             "#276419"
            ]
           ],
           "sequential": [
            [
             0,
             "#0d0887"
            ],
            [
             0.1111111111111111,
             "#46039f"
            ],
            [
             0.2222222222222222,
             "#7201a8"
            ],
            [
             0.3333333333333333,
             "#9c179e"
            ],
            [
             0.4444444444444444,
             "#bd3786"
            ],
            [
             0.5555555555555556,
             "#d8576b"
            ],
            [
             0.6666666666666666,
             "#ed7953"
            ],
            [
             0.7777777777777778,
             "#fb9f3a"
            ],
            [
             0.8888888888888888,
             "#fdca26"
            ],
            [
             1,
             "#f0f921"
            ]
           ],
           "sequentialminus": [
            [
             0,
             "#0d0887"
            ],
            [
             0.1111111111111111,
             "#46039f"
            ],
            [
             0.2222222222222222,
             "#7201a8"
            ],
            [
             0.3333333333333333,
             "#9c179e"
            ],
            [
             0.4444444444444444,
             "#bd3786"
            ],
            [
             0.5555555555555556,
             "#d8576b"
            ],
            [
             0.6666666666666666,
             "#ed7953"
            ],
            [
             0.7777777777777778,
             "#fb9f3a"
            ],
            [
             0.8888888888888888,
             "#fdca26"
            ],
            [
             1,
             "#f0f921"
            ]
           ]
          },
          "colorway": [
           "#636efa",
           "#EF553B",
           "#00cc96",
           "#ab63fa",
           "#FFA15A",
           "#19d3f3",
           "#FF6692",
           "#B6E880",
           "#FF97FF",
           "#FECB52"
          ],
          "font": {
           "color": "#2a3f5f"
          },
          "geo": {
           "bgcolor": "white",
           "lakecolor": "white",
           "landcolor": "#E5ECF6",
           "showlakes": true,
           "showland": true,
           "subunitcolor": "white"
          },
          "hoverlabel": {
           "align": "left"
          },
          "hovermode": "closest",
          "mapbox": {
           "style": "light"
          },
          "paper_bgcolor": "white",
          "plot_bgcolor": "#E5ECF6",
          "polar": {
           "angularaxis": {
            "gridcolor": "white",
            "linecolor": "white",
            "ticks": ""
           },
           "bgcolor": "#E5ECF6",
           "radialaxis": {
            "gridcolor": "white",
            "linecolor": "white",
            "ticks": ""
           }
          },
          "scene": {
           "xaxis": {
            "backgroundcolor": "#E5ECF6",
            "gridcolor": "white",
            "gridwidth": 2,
            "linecolor": "white",
            "showbackground": true,
            "ticks": "",
            "zerolinecolor": "white"
           },
           "yaxis": {
            "backgroundcolor": "#E5ECF6",
            "gridcolor": "white",
            "gridwidth": 2,
            "linecolor": "white",
            "showbackground": true,
            "ticks": "",
            "zerolinecolor": "white"
           },
           "zaxis": {
            "backgroundcolor": "#E5ECF6",
            "gridcolor": "white",
            "gridwidth": 2,
            "linecolor": "white",
            "showbackground": true,
            "ticks": "",
            "zerolinecolor": "white"
           }
          },
          "shapedefaults": {
           "line": {
            "color": "#2a3f5f"
           }
          },
          "ternary": {
           "aaxis": {
            "gridcolor": "white",
            "linecolor": "white",
            "ticks": ""
           },
           "baxis": {
            "gridcolor": "white",
            "linecolor": "white",
            "ticks": ""
           },
           "bgcolor": "#E5ECF6",
           "caxis": {
            "gridcolor": "white",
            "linecolor": "white",
            "ticks": ""
           }
          },
          "title": {
           "x": 0.05
          },
          "xaxis": {
           "automargin": true,
           "gridcolor": "white",
           "linecolor": "white",
           "ticks": "",
           "title": {
            "standoff": 15
           },
           "zerolinecolor": "white",
           "zerolinewidth": 2
          },
          "yaxis": {
           "automargin": true,
           "gridcolor": "white",
           "linecolor": "white",
           "ticks": "",
           "title": {
            "standoff": 15
           },
           "zerolinecolor": "white",
           "zerolinewidth": 2
          }
         }
        },
        "title": {
         "font": {
          "size": 16
         },
         "text": "📊 Interactive Outlier Analysis - Lung Cancer Dataset"
        },
        "xaxis": {
         "anchor": "y",
         "domain": [
          0,
          1
         ]
        },
        "yaxis": {
         "anchor": "x",
         "domain": [
          0,
          1
         ]
        }
       }
      },
      "text/html": [
       "<div>            <script src=\"https://cdnjs.cloudflare.com/ajax/libs/mathjax/2.7.5/MathJax.js?config=TeX-AMS-MML_SVG\"></script><script type=\"text/javascript\">if (window.MathJax && window.MathJax.Hub && window.MathJax.Hub.Config) {window.MathJax.Hub.Config({SVG: {font: \"STIX-Web\"}});}</script>                <script type=\"text/javascript\">window.PlotlyConfig = {MathJaxConfig: 'local'};</script>\n",
       "        <script charset=\"utf-8\" src=\"https://cdn.plot.ly/plotly-3.1.0.min.js\" integrity=\"sha256-Ei4740bWZhaUTQuD6q9yQlgVCMPBz6CZWhevDYPv93A=\" crossorigin=\"anonymous\"></script>                <div id=\"933417a3-d417-4748-8bd6-16b79d03d407\" class=\"plotly-graph-div\" style=\"height:500px; width:100%;\"></div>            <script type=\"text/javascript\">                window.PLOTLYENV=window.PLOTLYENV || {};                                if (document.getElementById(\"933417a3-d417-4748-8bd6-16b79d03d407\")) {                    Plotly.newPlot(                        \"933417a3-d417-4748-8bd6-16b79d03d407\",                        [{\"boxpoints\":\"outliers\",\"line\":{\"color\":\"darkblue\"},\"marker\":{\"color\":\"lightblue\",\"outliercolor\":\"red\",\"size\":4},\"name\":\"age\",\"showlegend\":false,\"y\":{\"dtype\":\"i1\",\"bdata\":\"RUo7Pz9LNDNENT1IPDpFMEs5RD0sQBU8SEE9RTU3OT44Qzs7PDg4PEQ\\u002fTTRGSD5ARjw4PzYxOTQ\\u002fSS9FRjxGREpHOEJMTkRCQzw9Okw4Q0k6Nj5RODxCPj43Pkc0OzA8PTtAODpRQD5IPD08MTU6PUQ8SEg5MzY4TUA5QkY1Mzo6PzM9PUxHRThDNj8vPkE\\u002fQEEzOEY6Qz5KRUBLLzk4RDc+SURLPz0+LDg2OThFSDtGQD1IP0pHR0hNSDdBQ0U3M0A\\u002fRUA7STc\\u002fPEpBTz5HP0M3Nk06QD0+QzhGRjk9TT8+O0ZHODlOQD4xTUA\\u002fNiZLRjtNPUA7R0NAREVAO0NKTTxARjo7J0NHRjw3PDc3Rj9AOzhAPldNOzs3Ljw6Oj8zPT1MR0U4QzY\\u002fLz5BP0BBMzhGOkM+\"},\"type\":\"box\",\"xaxis\":\"x\",\"yaxis\":\"y\"}],                        {\"template\":{\"data\":{\"histogram2dcontour\":[{\"type\":\"histogram2dcontour\",\"colorbar\":{\"outlinewidth\":0,\"ticks\":\"\"},\"colorscale\":[[0.0,\"#0d0887\"],[0.1111111111111111,\"#46039f\"],[0.2222222222222222,\"#7201a8\"],[0.3333333333333333,\"#9c179e\"],[0.4444444444444444,\"#bd3786\"],[0.5555555555555556,\"#d8576b\"],[0.6666666666666666,\"#ed7953\"],[0.7777777777777778,\"#fb9f3a\"],[0.8888888888888888,\"#fdca26\"],[1.0,\"#f0f921\"]]}],\"choropleth\":[{\"type\":\"choropleth\",\"colorbar\":{\"outlinewidth\":0,\"ticks\":\"\"}}],\"histogram2d\":[{\"type\":\"histogram2d\",\"colorbar\":{\"outlinewidth\":0,\"ticks\":\"\"},\"colorscale\":[[0.0,\"#0d0887\"],[0.1111111111111111,\"#46039f\"],[0.2222222222222222,\"#7201a8\"],[0.3333333333333333,\"#9c179e\"],[0.4444444444444444,\"#bd3786\"],[0.5555555555555556,\"#d8576b\"],[0.6666666666666666,\"#ed7953\"],[0.7777777777777778,\"#fb9f3a\"],[0.8888888888888888,\"#fdca26\"],[1.0,\"#f0f921\"]]}],\"heatmap\":[{\"type\":\"heatmap\",\"colorbar\":{\"outlinewidth\":0,\"ticks\":\"\"},\"colorscale\":[[0.0,\"#0d0887\"],[0.1111111111111111,\"#46039f\"],[0.2222222222222222,\"#7201a8\"],[0.3333333333333333,\"#9c179e\"],[0.4444444444444444,\"#bd3786\"],[0.5555555555555556,\"#d8576b\"],[0.6666666666666666,\"#ed7953\"],[0.7777777777777778,\"#fb9f3a\"],[0.8888888888888888,\"#fdca26\"],[1.0,\"#f0f921\"]]}],\"contourcarpet\":[{\"type\":\"contourcarpet\",\"colorbar\":{\"outlinewidth\":0,\"ticks\":\"\"}}],\"contour\":[{\"type\":\"contour\",\"colorbar\":{\"outlinewidth\":0,\"ticks\":\"\"},\"colorscale\":[[0.0,\"#0d0887\"],[0.1111111111111111,\"#46039f\"],[0.2222222222222222,\"#7201a8\"],[0.3333333333333333,\"#9c179e\"],[0.4444444444444444,\"#bd3786\"],[0.5555555555555556,\"#d8576b\"],[0.6666666666666666,\"#ed7953\"],[0.7777777777777778,\"#fb9f3a\"],[0.8888888888888888,\"#fdca26\"],[1.0,\"#f0f921\"]]}],\"surface\":[{\"type\":\"surface\",\"colorbar\":{\"outlinewidth\":0,\"ticks\":\"\"},\"colorscale\":[[0.0,\"#0d0887\"],[0.1111111111111111,\"#46039f\"],[0.2222222222222222,\"#7201a8\"],[0.3333333333333333,\"#9c179e\"],[0.4444444444444444,\"#bd3786\"],[0.5555555555555556,\"#d8576b\"],[0.6666666666666666,\"#ed7953\"],[0.7777777777777778,\"#fb9f3a\"],[0.8888888888888888,\"#fdca26\"],[1.0,\"#f0f921\"]]}],\"mesh3d\":[{\"type\":\"mesh3d\",\"colorbar\":{\"outlinewidth\":0,\"ticks\":\"\"}}],\"scatter\":[{\"fillpattern\":{\"fillmode\":\"overlay\",\"size\":10,\"solidity\":0.2},\"type\":\"scatter\"}],\"parcoords\":[{\"type\":\"parcoords\",\"line\":{\"colorbar\":{\"outlinewidth\":0,\"ticks\":\"\"}}}],\"scatterpolargl\":[{\"type\":\"scatterpolargl\",\"marker\":{\"colorbar\":{\"outlinewidth\":0,\"ticks\":\"\"}}}],\"bar\":[{\"error_x\":{\"color\":\"#2a3f5f\"},\"error_y\":{\"color\":\"#2a3f5f\"},\"marker\":{\"line\":{\"color\":\"#E5ECF6\",\"width\":0.5},\"pattern\":{\"fillmode\":\"overlay\",\"size\":10,\"solidity\":0.2}},\"type\":\"bar\"}],\"scattergeo\":[{\"type\":\"scattergeo\",\"marker\":{\"colorbar\":{\"outlinewidth\":0,\"ticks\":\"\"}}}],\"scatterpolar\":[{\"type\":\"scatterpolar\",\"marker\":{\"colorbar\":{\"outlinewidth\":0,\"ticks\":\"\"}}}],\"histogram\":[{\"marker\":{\"pattern\":{\"fillmode\":\"overlay\",\"size\":10,\"solidity\":0.2}},\"type\":\"histogram\"}],\"scattergl\":[{\"type\":\"scattergl\",\"marker\":{\"colorbar\":{\"outlinewidth\":0,\"ticks\":\"\"}}}],\"scatter3d\":[{\"type\":\"scatter3d\",\"line\":{\"colorbar\":{\"outlinewidth\":0,\"ticks\":\"\"}},\"marker\":{\"colorbar\":{\"outlinewidth\":0,\"ticks\":\"\"}}}],\"scattermap\":[{\"type\":\"scattermap\",\"marker\":{\"colorbar\":{\"outlinewidth\":0,\"ticks\":\"\"}}}],\"scattermapbox\":[{\"type\":\"scattermapbox\",\"marker\":{\"colorbar\":{\"outlinewidth\":0,\"ticks\":\"\"}}}],\"scatterternary\":[{\"type\":\"scatterternary\",\"marker\":{\"colorbar\":{\"outlinewidth\":0,\"ticks\":\"\"}}}],\"scattercarpet\":[{\"type\":\"scattercarpet\",\"marker\":{\"colorbar\":{\"outlinewidth\":0,\"ticks\":\"\"}}}],\"carpet\":[{\"aaxis\":{\"endlinecolor\":\"#2a3f5f\",\"gridcolor\":\"white\",\"linecolor\":\"white\",\"minorgridcolor\":\"white\",\"startlinecolor\":\"#2a3f5f\"},\"baxis\":{\"endlinecolor\":\"#2a3f5f\",\"gridcolor\":\"white\",\"linecolor\":\"white\",\"minorgridcolor\":\"white\",\"startlinecolor\":\"#2a3f5f\"},\"type\":\"carpet\"}],\"table\":[{\"cells\":{\"fill\":{\"color\":\"#EBF0F8\"},\"line\":{\"color\":\"white\"}},\"header\":{\"fill\":{\"color\":\"#C8D4E3\"},\"line\":{\"color\":\"white\"}},\"type\":\"table\"}],\"barpolar\":[{\"marker\":{\"line\":{\"color\":\"#E5ECF6\",\"width\":0.5},\"pattern\":{\"fillmode\":\"overlay\",\"size\":10,\"solidity\":0.2}},\"type\":\"barpolar\"}],\"pie\":[{\"automargin\":true,\"type\":\"pie\"}]},\"layout\":{\"autotypenumbers\":\"strict\",\"colorway\":[\"#636efa\",\"#EF553B\",\"#00cc96\",\"#ab63fa\",\"#FFA15A\",\"#19d3f3\",\"#FF6692\",\"#B6E880\",\"#FF97FF\",\"#FECB52\"],\"font\":{\"color\":\"#2a3f5f\"},\"hovermode\":\"closest\",\"hoverlabel\":{\"align\":\"left\"},\"paper_bgcolor\":\"white\",\"plot_bgcolor\":\"#E5ECF6\",\"polar\":{\"bgcolor\":\"#E5ECF6\",\"angularaxis\":{\"gridcolor\":\"white\",\"linecolor\":\"white\",\"ticks\":\"\"},\"radialaxis\":{\"gridcolor\":\"white\",\"linecolor\":\"white\",\"ticks\":\"\"}},\"ternary\":{\"bgcolor\":\"#E5ECF6\",\"aaxis\":{\"gridcolor\":\"white\",\"linecolor\":\"white\",\"ticks\":\"\"},\"baxis\":{\"gridcolor\":\"white\",\"linecolor\":\"white\",\"ticks\":\"\"},\"caxis\":{\"gridcolor\":\"white\",\"linecolor\":\"white\",\"ticks\":\"\"}},\"coloraxis\":{\"colorbar\":{\"outlinewidth\":0,\"ticks\":\"\"}},\"colorscale\":{\"sequential\":[[0.0,\"#0d0887\"],[0.1111111111111111,\"#46039f\"],[0.2222222222222222,\"#7201a8\"],[0.3333333333333333,\"#9c179e\"],[0.4444444444444444,\"#bd3786\"],[0.5555555555555556,\"#d8576b\"],[0.6666666666666666,\"#ed7953\"],[0.7777777777777778,\"#fb9f3a\"],[0.8888888888888888,\"#fdca26\"],[1.0,\"#f0f921\"]],\"sequentialminus\":[[0.0,\"#0d0887\"],[0.1111111111111111,\"#46039f\"],[0.2222222222222222,\"#7201a8\"],[0.3333333333333333,\"#9c179e\"],[0.4444444444444444,\"#bd3786\"],[0.5555555555555556,\"#d8576b\"],[0.6666666666666666,\"#ed7953\"],[0.7777777777777778,\"#fb9f3a\"],[0.8888888888888888,\"#fdca26\"],[1.0,\"#f0f921\"]],\"diverging\":[[0,\"#8e0152\"],[0.1,\"#c51b7d\"],[0.2,\"#de77ae\"],[0.3,\"#f1b6da\"],[0.4,\"#fde0ef\"],[0.5,\"#f7f7f7\"],[0.6,\"#e6f5d0\"],[0.7,\"#b8e186\"],[0.8,\"#7fbc41\"],[0.9,\"#4d9221\"],[1,\"#276419\"]]},\"xaxis\":{\"gridcolor\":\"white\",\"linecolor\":\"white\",\"ticks\":\"\",\"title\":{\"standoff\":15},\"zerolinecolor\":\"white\",\"automargin\":true,\"zerolinewidth\":2},\"yaxis\":{\"gridcolor\":\"white\",\"linecolor\":\"white\",\"ticks\":\"\",\"title\":{\"standoff\":15},\"zerolinecolor\":\"white\",\"automargin\":true,\"zerolinewidth\":2},\"scene\":{\"xaxis\":{\"backgroundcolor\":\"#E5ECF6\",\"gridcolor\":\"white\",\"linecolor\":\"white\",\"showbackground\":true,\"ticks\":\"\",\"zerolinecolor\":\"white\",\"gridwidth\":2},\"yaxis\":{\"backgroundcolor\":\"#E5ECF6\",\"gridcolor\":\"white\",\"linecolor\":\"white\",\"showbackground\":true,\"ticks\":\"\",\"zerolinecolor\":\"white\",\"gridwidth\":2},\"zaxis\":{\"backgroundcolor\":\"#E5ECF6\",\"gridcolor\":\"white\",\"linecolor\":\"white\",\"showbackground\":true,\"ticks\":\"\",\"zerolinecolor\":\"white\",\"gridwidth\":2}},\"shapedefaults\":{\"line\":{\"color\":\"#2a3f5f\"}},\"annotationdefaults\":{\"arrowcolor\":\"#2a3f5f\",\"arrowhead\":0,\"arrowwidth\":1},\"geo\":{\"bgcolor\":\"white\",\"landcolor\":\"#E5ECF6\",\"subunitcolor\":\"white\",\"showland\":true,\"showlakes\":true,\"lakecolor\":\"white\"},\"title\":{\"x\":0.05},\"mapbox\":{\"style\":\"light\"}}},\"xaxis\":{\"anchor\":\"y\",\"domain\":[0.0,1.0]},\"yaxis\":{\"anchor\":\"x\",\"domain\":[0.0,1.0]},\"annotations\":[{\"font\":{\"size\":16},\"showarrow\":false,\"text\":\"age\",\"x\":0.5,\"xanchor\":\"center\",\"xref\":\"paper\",\"y\":1.0,\"yanchor\":\"bottom\",\"yref\":\"paper\"}],\"title\":{\"font\":{\"size\":16},\"text\":\"\\ud83d\\udcca Interactive Outlier Analysis - Lung Cancer Dataset\"},\"height\":500,\"showlegend\":false},                        {\"responsive\": true}                    ).then(function(){\n",
       "                            \n",
       "var gd = document.getElementById('933417a3-d417-4748-8bd6-16b79d03d407');\n",
       "var x = new MutationObserver(function (mutations, observer) {{\n",
       "        var display = window.getComputedStyle(gd).display;\n",
       "        if (!display || display === 'none') {{\n",
       "            console.log([gd, 'removed!']);\n",
       "            Plotly.purge(gd);\n",
       "            observer.disconnect();\n",
       "        }}\n",
       "}});\n",
       "\n",
       "// Listen for the removal of the full notebook cells\n",
       "var notebookContainer = gd.closest('#notebook-container');\n",
       "if (notebookContainer) {{\n",
       "    x.observe(notebookContainer, {childList: true});\n",
       "}}\n",
       "\n",
       "// Listen for the clearing of the current output cell\n",
       "var outputEl = gd.closest('.output');\n",
       "if (outputEl) {{\n",
       "    x.observe(outputEl, {childList: true});\n",
       "}}\n",
       "\n",
       "                        })                };            </script>        </div>"
      ]
     },
     "metadata": {},
     "output_type": "display_data"
    },
    {
     "name": "stdout",
     "output_type": "stream",
     "text": [
      "\n",
      "==========================================================================================\n",
      "🔍 COMPREHENSIVE OUTLIER ANALYSIS REPORT\n",
      "==========================================================================================\n",
      "\n",
      "📈 AGE\n",
      "--------\n",
      "   📊 Quartiles:\n",
      "      • Q1: 57.00\n",
      "      • Q3: 69.00\n",
      "      • IQR: 12.00\n",
      "   🎯 Outlier Bounds:\n",
      "      • Lower: 39.00\n",
      "      • Upper: 87.00\n",
      "   🚨 Outlier Stats:\n",
      "      • Total Outliers: 2 (0.65%)\n",
      "      • Extreme Outliers: 0\n",
      "   📍 Outlier Range: Min=21.00, Max=38.00\n"
     ]
    },
    {
     "data": {
      "application/vnd.plotly.v1+json": {
       "config": {
        "plotlyServerURL": "https://plot.ly"
       },
       "data": [
        {
         "hovertemplate": "Outlier %=%{marker.color}<br>Variable=%{y}<br>Outlier_Count=%{text}<extra></extra>",
         "legendgroup": "",
         "marker": {
          "color": {
           "bdata": "DjBu70O25D8=",
           "dtype": "f8"
          },
          "coloraxis": "coloraxis",
          "pattern": {
           "shape": ""
          }
         },
         "name": "",
         "orientation": "h",
         "showlegend": false,
         "text": {
          "bdata": "AAAAAAAAAEA=",
          "dtype": "f8"
         },
         "textposition": "outside",
         "texttemplate": "%{text} outliers",
         "type": "bar",
         "x": {
          "bdata": "DjBu70O25D8=",
          "dtype": "f8"
         },
         "xaxis": "x",
         "y": [
          "age"
         ],
         "yaxis": "y"
        }
       ],
       "layout": {
        "barmode": "relative",
        "coloraxis": {
         "colorbar": {
          "title": {
           "text": "Outlier %"
          }
         },
         "colorscale": [
          [
           0,
           "rgb(255,245,240)"
          ],
          [
           0.125,
           "rgb(254,224,210)"
          ],
          [
           0.25,
           "rgb(252,187,161)"
          ],
          [
           0.375,
           "rgb(252,146,114)"
          ],
          [
           0.5,
           "rgb(251,106,74)"
          ],
          [
           0.625,
           "rgb(239,59,44)"
          ],
          [
           0.75,
           "rgb(203,24,29)"
          ],
          [
           0.875,
           "rgb(165,15,21)"
          ],
          [
           1,
           "rgb(103,0,13)"
          ]
         ]
        },
        "height": 400,
        "legend": {
         "tracegroupgap": 0
        },
        "template": {
         "data": {
          "bar": [
           {
            "error_x": {
             "color": "#2a3f5f"
            },
            "error_y": {
             "color": "#2a3f5f"
            },
            "marker": {
             "line": {
              "color": "#E5ECF6",
              "width": 0.5
             },
             "pattern": {
              "fillmode": "overlay",
              "size": 10,
              "solidity": 0.2
             }
            },
            "type": "bar"
           }
          ],
          "barpolar": [
           {
            "marker": {
             "line": {
              "color": "#E5ECF6",
              "width": 0.5
             },
             "pattern": {
              "fillmode": "overlay",
              "size": 10,
              "solidity": 0.2
             }
            },
            "type": "barpolar"
           }
          ],
          "carpet": [
           {
            "aaxis": {
             "endlinecolor": "#2a3f5f",
             "gridcolor": "white",
             "linecolor": "white",
             "minorgridcolor": "white",
             "startlinecolor": "#2a3f5f"
            },
            "baxis": {
             "endlinecolor": "#2a3f5f",
             "gridcolor": "white",
             "linecolor": "white",
             "minorgridcolor": "white",
             "startlinecolor": "#2a3f5f"
            },
            "type": "carpet"
           }
          ],
          "choropleth": [
           {
            "colorbar": {
             "outlinewidth": 0,
             "ticks": ""
            },
            "type": "choropleth"
           }
          ],
          "contour": [
           {
            "colorbar": {
             "outlinewidth": 0,
             "ticks": ""
            },
            "colorscale": [
             [
              0,
              "#0d0887"
             ],
             [
              0.1111111111111111,
              "#46039f"
             ],
             [
              0.2222222222222222,
              "#7201a8"
             ],
             [
              0.3333333333333333,
              "#9c179e"
             ],
             [
              0.4444444444444444,
              "#bd3786"
             ],
             [
              0.5555555555555556,
              "#d8576b"
             ],
             [
              0.6666666666666666,
              "#ed7953"
             ],
             [
              0.7777777777777778,
              "#fb9f3a"
             ],
             [
              0.8888888888888888,
              "#fdca26"
             ],
             [
              1,
              "#f0f921"
             ]
            ],
            "type": "contour"
           }
          ],
          "contourcarpet": [
           {
            "colorbar": {
             "outlinewidth": 0,
             "ticks": ""
            },
            "type": "contourcarpet"
           }
          ],
          "heatmap": [
           {
            "colorbar": {
             "outlinewidth": 0,
             "ticks": ""
            },
            "colorscale": [
             [
              0,
              "#0d0887"
             ],
             [
              0.1111111111111111,
              "#46039f"
             ],
             [
              0.2222222222222222,
              "#7201a8"
             ],
             [
              0.3333333333333333,
              "#9c179e"
             ],
             [
              0.4444444444444444,
              "#bd3786"
             ],
             [
              0.5555555555555556,
              "#d8576b"
             ],
             [
              0.6666666666666666,
              "#ed7953"
             ],
             [
              0.7777777777777778,
              "#fb9f3a"
             ],
             [
              0.8888888888888888,
              "#fdca26"
             ],
             [
              1,
              "#f0f921"
             ]
            ],
            "type": "heatmap"
           }
          ],
          "histogram": [
           {
            "marker": {
             "pattern": {
              "fillmode": "overlay",
              "size": 10,
              "solidity": 0.2
             }
            },
            "type": "histogram"
           }
          ],
          "histogram2d": [
           {
            "colorbar": {
             "outlinewidth": 0,
             "ticks": ""
            },
            "colorscale": [
             [
              0,
              "#0d0887"
             ],
             [
              0.1111111111111111,
              "#46039f"
             ],
             [
              0.2222222222222222,
              "#7201a8"
             ],
             [
              0.3333333333333333,
              "#9c179e"
             ],
             [
              0.4444444444444444,
              "#bd3786"
             ],
             [
              0.5555555555555556,
              "#d8576b"
             ],
             [
              0.6666666666666666,
              "#ed7953"
             ],
             [
              0.7777777777777778,
              "#fb9f3a"
             ],
             [
              0.8888888888888888,
              "#fdca26"
             ],
             [
              1,
              "#f0f921"
             ]
            ],
            "type": "histogram2d"
           }
          ],
          "histogram2dcontour": [
           {
            "colorbar": {
             "outlinewidth": 0,
             "ticks": ""
            },
            "colorscale": [
             [
              0,
              "#0d0887"
             ],
             [
              0.1111111111111111,
              "#46039f"
             ],
             [
              0.2222222222222222,
              "#7201a8"
             ],
             [
              0.3333333333333333,
              "#9c179e"
             ],
             [
              0.4444444444444444,
              "#bd3786"
             ],
             [
              0.5555555555555556,
              "#d8576b"
             ],
             [
              0.6666666666666666,
              "#ed7953"
             ],
             [
              0.7777777777777778,
              "#fb9f3a"
             ],
             [
              0.8888888888888888,
              "#fdca26"
             ],
             [
              1,
              "#f0f921"
             ]
            ],
            "type": "histogram2dcontour"
           }
          ],
          "mesh3d": [
           {
            "colorbar": {
             "outlinewidth": 0,
             "ticks": ""
            },
            "type": "mesh3d"
           }
          ],
          "parcoords": [
           {
            "line": {
             "colorbar": {
              "outlinewidth": 0,
              "ticks": ""
             }
            },
            "type": "parcoords"
           }
          ],
          "pie": [
           {
            "automargin": true,
            "type": "pie"
           }
          ],
          "scatter": [
           {
            "fillpattern": {
             "fillmode": "overlay",
             "size": 10,
             "solidity": 0.2
            },
            "type": "scatter"
           }
          ],
          "scatter3d": [
           {
            "line": {
             "colorbar": {
              "outlinewidth": 0,
              "ticks": ""
             }
            },
            "marker": {
             "colorbar": {
              "outlinewidth": 0,
              "ticks": ""
             }
            },
            "type": "scatter3d"
           }
          ],
          "scattercarpet": [
           {
            "marker": {
             "colorbar": {
              "outlinewidth": 0,
              "ticks": ""
             }
            },
            "type": "scattercarpet"
           }
          ],
          "scattergeo": [
           {
            "marker": {
             "colorbar": {
              "outlinewidth": 0,
              "ticks": ""
             }
            },
            "type": "scattergeo"
           }
          ],
          "scattergl": [
           {
            "marker": {
             "colorbar": {
              "outlinewidth": 0,
              "ticks": ""
             }
            },
            "type": "scattergl"
           }
          ],
          "scattermap": [
           {
            "marker": {
             "colorbar": {
              "outlinewidth": 0,
              "ticks": ""
             }
            },
            "type": "scattermap"
           }
          ],
          "scattermapbox": [
           {
            "marker": {
             "colorbar": {
              "outlinewidth": 0,
              "ticks": ""
             }
            },
            "type": "scattermapbox"
           }
          ],
          "scatterpolar": [
           {
            "marker": {
             "colorbar": {
              "outlinewidth": 0,
              "ticks": ""
             }
            },
            "type": "scatterpolar"
           }
          ],
          "scatterpolargl": [
           {
            "marker": {
             "colorbar": {
              "outlinewidth": 0,
              "ticks": ""
             }
            },
            "type": "scatterpolargl"
           }
          ],
          "scatterternary": [
           {
            "marker": {
             "colorbar": {
              "outlinewidth": 0,
              "ticks": ""
             }
            },
            "type": "scatterternary"
           }
          ],
          "surface": [
           {
            "colorbar": {
             "outlinewidth": 0,
             "ticks": ""
            },
            "colorscale": [
             [
              0,
              "#0d0887"
             ],
             [
              0.1111111111111111,
              "#46039f"
             ],
             [
              0.2222222222222222,
              "#7201a8"
             ],
             [
              0.3333333333333333,
              "#9c179e"
             ],
             [
              0.4444444444444444,
              "#bd3786"
             ],
             [
              0.5555555555555556,
              "#d8576b"
             ],
             [
              0.6666666666666666,
              "#ed7953"
             ],
             [
              0.7777777777777778,
              "#fb9f3a"
             ],
             [
              0.8888888888888888,
              "#fdca26"
             ],
             [
              1,
              "#f0f921"
             ]
            ],
            "type": "surface"
           }
          ],
          "table": [
           {
            "cells": {
             "fill": {
              "color": "#EBF0F8"
             },
             "line": {
              "color": "white"
             }
            },
            "header": {
             "fill": {
              "color": "#C8D4E3"
             },
             "line": {
              "color": "white"
             }
            },
            "type": "table"
           }
          ]
         },
         "layout": {
          "annotationdefaults": {
           "arrowcolor": "#2a3f5f",
           "arrowhead": 0,
           "arrowwidth": 1
          },
          "autotypenumbers": "strict",
          "coloraxis": {
           "colorbar": {
            "outlinewidth": 0,
            "ticks": ""
           }
          },
          "colorscale": {
           "diverging": [
            [
             0,
             "#8e0152"
            ],
            [
             0.1,
             "#c51b7d"
            ],
            [
             0.2,
             "#de77ae"
            ],
            [
             0.3,
             "#f1b6da"
            ],
            [
             0.4,
             "#fde0ef"
            ],
            [
             0.5,
             "#f7f7f7"
            ],
            [
             0.6,
             "#e6f5d0"
            ],
            [
             0.7,
             "#b8e186"
            ],
            [
             0.8,
             "#7fbc41"
            ],
            [
             0.9,
             "#4d9221"
            ],
            [
             1,
             "#276419"
            ]
           ],
           "sequential": [
            [
             0,
             "#0d0887"
            ],
            [
             0.1111111111111111,
             "#46039f"
            ],
            [
             0.2222222222222222,
             "#7201a8"
            ],
            [
             0.3333333333333333,
             "#9c179e"
            ],
            [
             0.4444444444444444,
             "#bd3786"
            ],
            [
             0.5555555555555556,
             "#d8576b"
            ],
            [
             0.6666666666666666,
             "#ed7953"
            ],
            [
             0.7777777777777778,
             "#fb9f3a"
            ],
            [
             0.8888888888888888,
             "#fdca26"
            ],
            [
             1,
             "#f0f921"
            ]
           ],
           "sequentialminus": [
            [
             0,
             "#0d0887"
            ],
            [
             0.1111111111111111,
             "#46039f"
            ],
            [
             0.2222222222222222,
             "#7201a8"
            ],
            [
             0.3333333333333333,
             "#9c179e"
            ],
            [
             0.4444444444444444,
             "#bd3786"
            ],
            [
             0.5555555555555556,
             "#d8576b"
            ],
            [
             0.6666666666666666,
             "#ed7953"
            ],
            [
             0.7777777777777778,
             "#fb9f3a"
            ],
            [
             0.8888888888888888,
             "#fdca26"
            ],
            [
             1,
             "#f0f921"
            ]
           ]
          },
          "colorway": [
           "#636efa",
           "#EF553B",
           "#00cc96",
           "#ab63fa",
           "#FFA15A",
           "#19d3f3",
           "#FF6692",
           "#B6E880",
           "#FF97FF",
           "#FECB52"
          ],
          "font": {
           "color": "#2a3f5f"
          },
          "geo": {
           "bgcolor": "white",
           "lakecolor": "white",
           "landcolor": "#E5ECF6",
           "showlakes": true,
           "showland": true,
           "subunitcolor": "white"
          },
          "hoverlabel": {
           "align": "left"
          },
          "hovermode": "closest",
          "mapbox": {
           "style": "light"
          },
          "paper_bgcolor": "white",
          "plot_bgcolor": "#E5ECF6",
          "polar": {
           "angularaxis": {
            "gridcolor": "white",
            "linecolor": "white",
            "ticks": ""
           },
           "bgcolor": "#E5ECF6",
           "radialaxis": {
            "gridcolor": "white",
            "linecolor": "white",
            "ticks": ""
           }
          },
          "scene": {
           "xaxis": {
            "backgroundcolor": "#E5ECF6",
            "gridcolor": "white",
            "gridwidth": 2,
            "linecolor": "white",
            "showbackground": true,
            "ticks": "",
            "zerolinecolor": "white"
           },
           "yaxis": {
            "backgroundcolor": "#E5ECF6",
            "gridcolor": "white",
            "gridwidth": 2,
            "linecolor": "white",
            "showbackground": true,
            "ticks": "",
            "zerolinecolor": "white"
           },
           "zaxis": {
            "backgroundcolor": "#E5ECF6",
            "gridcolor": "white",
            "gridwidth": 2,
            "linecolor": "white",
            "showbackground": true,
            "ticks": "",
            "zerolinecolor": "white"
           }
          },
          "shapedefaults": {
           "line": {
            "color": "#2a3f5f"
           }
          },
          "ternary": {
           "aaxis": {
            "gridcolor": "white",
            "linecolor": "white",
            "ticks": ""
           },
           "baxis": {
            "gridcolor": "white",
            "linecolor": "white",
            "ticks": ""
           },
           "bgcolor": "#E5ECF6",
           "caxis": {
            "gridcolor": "white",
            "linecolor": "white",
            "ticks": ""
           }
          },
          "title": {
           "x": 0.05
          },
          "xaxis": {
           "automargin": true,
           "gridcolor": "white",
           "linecolor": "white",
           "ticks": "",
           "title": {
            "standoff": 15
           },
           "zerolinecolor": "white",
           "zerolinewidth": 2
          },
          "yaxis": {
           "automargin": true,
           "gridcolor": "white",
           "linecolor": "white",
           "ticks": "",
           "title": {
            "standoff": 15
           },
           "zerolinecolor": "white",
           "zerolinewidth": 2
          }
         }
        },
        "title": {
         "text": "📊 Outlier Percentage by Variable"
        },
        "xaxis": {
         "anchor": "y",
         "domain": [
          0,
          1
         ],
         "title": {
          "text": "Outlier %"
         }
        },
        "yaxis": {
         "anchor": "x",
         "categoryorder": "total ascending",
         "domain": [
          0,
          1
         ],
         "title": {
          "text": "Variable"
         }
        }
       }
      },
      "text/html": [
       "<div>            <script src=\"https://cdnjs.cloudflare.com/ajax/libs/mathjax/2.7.5/MathJax.js?config=TeX-AMS-MML_SVG\"></script><script type=\"text/javascript\">if (window.MathJax && window.MathJax.Hub && window.MathJax.Hub.Config) {window.MathJax.Hub.Config({SVG: {font: \"STIX-Web\"}});}</script>                <script type=\"text/javascript\">window.PlotlyConfig = {MathJaxConfig: 'local'};</script>\n",
       "        <script charset=\"utf-8\" src=\"https://cdn.plot.ly/plotly-3.1.0.min.js\" integrity=\"sha256-Ei4740bWZhaUTQuD6q9yQlgVCMPBz6CZWhevDYPv93A=\" crossorigin=\"anonymous\"></script>                <div id=\"2f75caed-3216-475c-8770-6d4842bf81e7\" class=\"plotly-graph-div\" style=\"height:400px; width:100%;\"></div>            <script type=\"text/javascript\">                window.PLOTLYENV=window.PLOTLYENV || {};                                if (document.getElementById(\"2f75caed-3216-475c-8770-6d4842bf81e7\")) {                    Plotly.newPlot(                        \"2f75caed-3216-475c-8770-6d4842bf81e7\",                        [{\"hovertemplate\":\"Outlier %=%{marker.color}\\u003cbr\\u003eVariable=%{y}\\u003cbr\\u003eOutlier_Count=%{text}\\u003cextra\\u003e\\u003c\\u002fextra\\u003e\",\"legendgroup\":\"\",\"marker\":{\"color\":{\"dtype\":\"f8\",\"bdata\":\"DjBu70O25D8=\"},\"coloraxis\":\"coloraxis\",\"pattern\":{\"shape\":\"\"}},\"name\":\"\",\"orientation\":\"h\",\"showlegend\":false,\"text\":{\"dtype\":\"f8\",\"bdata\":\"AAAAAAAAAEA=\"},\"textposition\":\"outside\",\"x\":{\"dtype\":\"f8\",\"bdata\":\"DjBu70O25D8=\"},\"xaxis\":\"x\",\"y\":[\"age\"],\"yaxis\":\"y\",\"type\":\"bar\",\"texttemplate\":\"%{text} outliers\"}],                        {\"template\":{\"data\":{\"histogram2dcontour\":[{\"type\":\"histogram2dcontour\",\"colorbar\":{\"outlinewidth\":0,\"ticks\":\"\"},\"colorscale\":[[0.0,\"#0d0887\"],[0.1111111111111111,\"#46039f\"],[0.2222222222222222,\"#7201a8\"],[0.3333333333333333,\"#9c179e\"],[0.4444444444444444,\"#bd3786\"],[0.5555555555555556,\"#d8576b\"],[0.6666666666666666,\"#ed7953\"],[0.7777777777777778,\"#fb9f3a\"],[0.8888888888888888,\"#fdca26\"],[1.0,\"#f0f921\"]]}],\"choropleth\":[{\"type\":\"choropleth\",\"colorbar\":{\"outlinewidth\":0,\"ticks\":\"\"}}],\"histogram2d\":[{\"type\":\"histogram2d\",\"colorbar\":{\"outlinewidth\":0,\"ticks\":\"\"},\"colorscale\":[[0.0,\"#0d0887\"],[0.1111111111111111,\"#46039f\"],[0.2222222222222222,\"#7201a8\"],[0.3333333333333333,\"#9c179e\"],[0.4444444444444444,\"#bd3786\"],[0.5555555555555556,\"#d8576b\"],[0.6666666666666666,\"#ed7953\"],[0.7777777777777778,\"#fb9f3a\"],[0.8888888888888888,\"#fdca26\"],[1.0,\"#f0f921\"]]}],\"heatmap\":[{\"type\":\"heatmap\",\"colorbar\":{\"outlinewidth\":0,\"ticks\":\"\"},\"colorscale\":[[0.0,\"#0d0887\"],[0.1111111111111111,\"#46039f\"],[0.2222222222222222,\"#7201a8\"],[0.3333333333333333,\"#9c179e\"],[0.4444444444444444,\"#bd3786\"],[0.5555555555555556,\"#d8576b\"],[0.6666666666666666,\"#ed7953\"],[0.7777777777777778,\"#fb9f3a\"],[0.8888888888888888,\"#fdca26\"],[1.0,\"#f0f921\"]]}],\"contourcarpet\":[{\"type\":\"contourcarpet\",\"colorbar\":{\"outlinewidth\":0,\"ticks\":\"\"}}],\"contour\":[{\"type\":\"contour\",\"colorbar\":{\"outlinewidth\":0,\"ticks\":\"\"},\"colorscale\":[[0.0,\"#0d0887\"],[0.1111111111111111,\"#46039f\"],[0.2222222222222222,\"#7201a8\"],[0.3333333333333333,\"#9c179e\"],[0.4444444444444444,\"#bd3786\"],[0.5555555555555556,\"#d8576b\"],[0.6666666666666666,\"#ed7953\"],[0.7777777777777778,\"#fb9f3a\"],[0.8888888888888888,\"#fdca26\"],[1.0,\"#f0f921\"]]}],\"surface\":[{\"type\":\"surface\",\"colorbar\":{\"outlinewidth\":0,\"ticks\":\"\"},\"colorscale\":[[0.0,\"#0d0887\"],[0.1111111111111111,\"#46039f\"],[0.2222222222222222,\"#7201a8\"],[0.3333333333333333,\"#9c179e\"],[0.4444444444444444,\"#bd3786\"],[0.5555555555555556,\"#d8576b\"],[0.6666666666666666,\"#ed7953\"],[0.7777777777777778,\"#fb9f3a\"],[0.8888888888888888,\"#fdca26\"],[1.0,\"#f0f921\"]]}],\"mesh3d\":[{\"type\":\"mesh3d\",\"colorbar\":{\"outlinewidth\":0,\"ticks\":\"\"}}],\"scatter\":[{\"fillpattern\":{\"fillmode\":\"overlay\",\"size\":10,\"solidity\":0.2},\"type\":\"scatter\"}],\"parcoords\":[{\"type\":\"parcoords\",\"line\":{\"colorbar\":{\"outlinewidth\":0,\"ticks\":\"\"}}}],\"scatterpolargl\":[{\"type\":\"scatterpolargl\",\"marker\":{\"colorbar\":{\"outlinewidth\":0,\"ticks\":\"\"}}}],\"bar\":[{\"error_x\":{\"color\":\"#2a3f5f\"},\"error_y\":{\"color\":\"#2a3f5f\"},\"marker\":{\"line\":{\"color\":\"#E5ECF6\",\"width\":0.5},\"pattern\":{\"fillmode\":\"overlay\",\"size\":10,\"solidity\":0.2}},\"type\":\"bar\"}],\"scattergeo\":[{\"type\":\"scattergeo\",\"marker\":{\"colorbar\":{\"outlinewidth\":0,\"ticks\":\"\"}}}],\"scatterpolar\":[{\"type\":\"scatterpolar\",\"marker\":{\"colorbar\":{\"outlinewidth\":0,\"ticks\":\"\"}}}],\"histogram\":[{\"marker\":{\"pattern\":{\"fillmode\":\"overlay\",\"size\":10,\"solidity\":0.2}},\"type\":\"histogram\"}],\"scattergl\":[{\"type\":\"scattergl\",\"marker\":{\"colorbar\":{\"outlinewidth\":0,\"ticks\":\"\"}}}],\"scatter3d\":[{\"type\":\"scatter3d\",\"line\":{\"colorbar\":{\"outlinewidth\":0,\"ticks\":\"\"}},\"marker\":{\"colorbar\":{\"outlinewidth\":0,\"ticks\":\"\"}}}],\"scattermap\":[{\"type\":\"scattermap\",\"marker\":{\"colorbar\":{\"outlinewidth\":0,\"ticks\":\"\"}}}],\"scattermapbox\":[{\"type\":\"scattermapbox\",\"marker\":{\"colorbar\":{\"outlinewidth\":0,\"ticks\":\"\"}}}],\"scatterternary\":[{\"type\":\"scatterternary\",\"marker\":{\"colorbar\":{\"outlinewidth\":0,\"ticks\":\"\"}}}],\"scattercarpet\":[{\"type\":\"scattercarpet\",\"marker\":{\"colorbar\":{\"outlinewidth\":0,\"ticks\":\"\"}}}],\"carpet\":[{\"aaxis\":{\"endlinecolor\":\"#2a3f5f\",\"gridcolor\":\"white\",\"linecolor\":\"white\",\"minorgridcolor\":\"white\",\"startlinecolor\":\"#2a3f5f\"},\"baxis\":{\"endlinecolor\":\"#2a3f5f\",\"gridcolor\":\"white\",\"linecolor\":\"white\",\"minorgridcolor\":\"white\",\"startlinecolor\":\"#2a3f5f\"},\"type\":\"carpet\"}],\"table\":[{\"cells\":{\"fill\":{\"color\":\"#EBF0F8\"},\"line\":{\"color\":\"white\"}},\"header\":{\"fill\":{\"color\":\"#C8D4E3\"},\"line\":{\"color\":\"white\"}},\"type\":\"table\"}],\"barpolar\":[{\"marker\":{\"line\":{\"color\":\"#E5ECF6\",\"width\":0.5},\"pattern\":{\"fillmode\":\"overlay\",\"size\":10,\"solidity\":0.2}},\"type\":\"barpolar\"}],\"pie\":[{\"automargin\":true,\"type\":\"pie\"}]},\"layout\":{\"autotypenumbers\":\"strict\",\"colorway\":[\"#636efa\",\"#EF553B\",\"#00cc96\",\"#ab63fa\",\"#FFA15A\",\"#19d3f3\",\"#FF6692\",\"#B6E880\",\"#FF97FF\",\"#FECB52\"],\"font\":{\"color\":\"#2a3f5f\"},\"hovermode\":\"closest\",\"hoverlabel\":{\"align\":\"left\"},\"paper_bgcolor\":\"white\",\"plot_bgcolor\":\"#E5ECF6\",\"polar\":{\"bgcolor\":\"#E5ECF6\",\"angularaxis\":{\"gridcolor\":\"white\",\"linecolor\":\"white\",\"ticks\":\"\"},\"radialaxis\":{\"gridcolor\":\"white\",\"linecolor\":\"white\",\"ticks\":\"\"}},\"ternary\":{\"bgcolor\":\"#E5ECF6\",\"aaxis\":{\"gridcolor\":\"white\",\"linecolor\":\"white\",\"ticks\":\"\"},\"baxis\":{\"gridcolor\":\"white\",\"linecolor\":\"white\",\"ticks\":\"\"},\"caxis\":{\"gridcolor\":\"white\",\"linecolor\":\"white\",\"ticks\":\"\"}},\"coloraxis\":{\"colorbar\":{\"outlinewidth\":0,\"ticks\":\"\"}},\"colorscale\":{\"sequential\":[[0.0,\"#0d0887\"],[0.1111111111111111,\"#46039f\"],[0.2222222222222222,\"#7201a8\"],[0.3333333333333333,\"#9c179e\"],[0.4444444444444444,\"#bd3786\"],[0.5555555555555556,\"#d8576b\"],[0.6666666666666666,\"#ed7953\"],[0.7777777777777778,\"#fb9f3a\"],[0.8888888888888888,\"#fdca26\"],[1.0,\"#f0f921\"]],\"sequentialminus\":[[0.0,\"#0d0887\"],[0.1111111111111111,\"#46039f\"],[0.2222222222222222,\"#7201a8\"],[0.3333333333333333,\"#9c179e\"],[0.4444444444444444,\"#bd3786\"],[0.5555555555555556,\"#d8576b\"],[0.6666666666666666,\"#ed7953\"],[0.7777777777777778,\"#fb9f3a\"],[0.8888888888888888,\"#fdca26\"],[1.0,\"#f0f921\"]],\"diverging\":[[0,\"#8e0152\"],[0.1,\"#c51b7d\"],[0.2,\"#de77ae\"],[0.3,\"#f1b6da\"],[0.4,\"#fde0ef\"],[0.5,\"#f7f7f7\"],[0.6,\"#e6f5d0\"],[0.7,\"#b8e186\"],[0.8,\"#7fbc41\"],[0.9,\"#4d9221\"],[1,\"#276419\"]]},\"xaxis\":{\"gridcolor\":\"white\",\"linecolor\":\"white\",\"ticks\":\"\",\"title\":{\"standoff\":15},\"zerolinecolor\":\"white\",\"automargin\":true,\"zerolinewidth\":2},\"yaxis\":{\"gridcolor\":\"white\",\"linecolor\":\"white\",\"ticks\":\"\",\"title\":{\"standoff\":15},\"zerolinecolor\":\"white\",\"automargin\":true,\"zerolinewidth\":2},\"scene\":{\"xaxis\":{\"backgroundcolor\":\"#E5ECF6\",\"gridcolor\":\"white\",\"linecolor\":\"white\",\"showbackground\":true,\"ticks\":\"\",\"zerolinecolor\":\"white\",\"gridwidth\":2},\"yaxis\":{\"backgroundcolor\":\"#E5ECF6\",\"gridcolor\":\"white\",\"linecolor\":\"white\",\"showbackground\":true,\"ticks\":\"\",\"zerolinecolor\":\"white\",\"gridwidth\":2},\"zaxis\":{\"backgroundcolor\":\"#E5ECF6\",\"gridcolor\":\"white\",\"linecolor\":\"white\",\"showbackground\":true,\"ticks\":\"\",\"zerolinecolor\":\"white\",\"gridwidth\":2}},\"shapedefaults\":{\"line\":{\"color\":\"#2a3f5f\"}},\"annotationdefaults\":{\"arrowcolor\":\"#2a3f5f\",\"arrowhead\":0,\"arrowwidth\":1},\"geo\":{\"bgcolor\":\"white\",\"landcolor\":\"#E5ECF6\",\"subunitcolor\":\"white\",\"showland\":true,\"showlakes\":true,\"lakecolor\":\"white\"},\"title\":{\"x\":0.05},\"mapbox\":{\"style\":\"light\"}}},\"xaxis\":{\"anchor\":\"y\",\"domain\":[0.0,1.0],\"title\":{\"text\":\"Outlier %\"}},\"yaxis\":{\"anchor\":\"x\",\"domain\":[0.0,1.0],\"title\":{\"text\":\"Variable\"},\"categoryorder\":\"total ascending\"},\"coloraxis\":{\"colorbar\":{\"title\":{\"text\":\"Outlier %\"}},\"colorscale\":[[0.0,\"rgb(255,245,240)\"],[0.125,\"rgb(254,224,210)\"],[0.25,\"rgb(252,187,161)\"],[0.375,\"rgb(252,146,114)\"],[0.5,\"rgb(251,106,74)\"],[0.625,\"rgb(239,59,44)\"],[0.75,\"rgb(203,24,29)\"],[0.875,\"rgb(165,15,21)\"],[1.0,\"rgb(103,0,13)\"]]},\"legend\":{\"tracegroupgap\":0},\"title\":{\"text\":\"\\ud83d\\udcca Outlier Percentage by Variable\"},\"barmode\":\"relative\",\"height\":400},                        {\"responsive\": true}                    ).then(function(){\n",
       "                            \n",
       "var gd = document.getElementById('2f75caed-3216-475c-8770-6d4842bf81e7');\n",
       "var x = new MutationObserver(function (mutations, observer) {{\n",
       "        var display = window.getComputedStyle(gd).display;\n",
       "        if (!display || display === 'none') {{\n",
       "            console.log([gd, 'removed!']);\n",
       "            Plotly.purge(gd);\n",
       "            observer.disconnect();\n",
       "        }}\n",
       "}});\n",
       "\n",
       "// Listen for the removal of the full notebook cells\n",
       "var notebookContainer = gd.closest('#notebook-container');\n",
       "if (notebookContainer) {{\n",
       "    x.observe(notebookContainer, {childList: true});\n",
       "}}\n",
       "\n",
       "// Listen for the clearing of the current output cell\n",
       "var outputEl = gd.closest('.output');\n",
       "if (outputEl) {{\n",
       "    x.observe(outputEl, {childList: true});\n",
       "}}\n",
       "\n",
       "                        })                };            </script>        </div>"
      ]
     },
     "metadata": {},
     "output_type": "display_data"
    },
    {
     "name": "stdout",
     "output_type": "stream",
     "text": [
      "\n",
      "==========================================================================================\n",
      "💡 KEY INSIGHTS & INTERPRETATIONS\n",
      "==========================================================================================\n",
      "\n",
      "🔴 HIGH OUTLIER VARIABLES (>10%):\n",
      "\n",
      "🟡 MODERATE OUTLIER VARIABLES (5-10%):\n",
      "\n",
      "🟢 LOW OUTLIER VARIABLES (<5%):\n",
      "   • age: 0.6% outliers\n",
      "\n",
      "📊 STATISTICAL OBSERVATIONS:\n",
      "   • Total outliers across all variables: 2\n",
      "   • Average outlier percentage: 0.65%\n",
      "   • Variables with perfect distribution: 1 out of 1\n",
      "\n",
      "🎯 RECOMMENDATIONS:\n",
      "   • Consider log transformation for highly skewed variables\n",
      "   • Investigate extreme outliers for data quality issues\n",
      "   • Use robust statistical methods for variables with >10% outliers\n",
      "   • Binary variables show excellent data quality (0% outliers)\n"
     ]
    }
   ],
   "source": [
    "from plotly.subplots import make_subplots\n",
    "import plotly.graph_objects as go\n",
    "import plotly.express as px\n",
    "import pandas as pd\n",
    "\n",
    "# 1️⃣ Identificar variables numéricas\n",
    "numerical_cols = ['age']\n",
    "numerical_df = df[numerical_cols]\n",
    "\n",
    "# 2️⃣ Crear subplots interactivos de Boxplot\n",
    "fig = make_subplots(\n",
    "    rows=1, cols=len(numerical_cols),\n",
    "    subplot_titles=numerical_cols,\n",
    "    vertical_spacing=0.08,\n",
    "    horizontal_spacing=0.08\n",
    ")\n",
    "\n",
    "for i, column in enumerate(numerical_cols):\n",
    "    fig.add_trace(\n",
    "        go.Box(\n",
    "            y=numerical_df[column],\n",
    "            name=column,\n",
    "            boxpoints='outliers',\n",
    "            marker=dict(color='lightblue', outliercolor='red', size=4),\n",
    "            line=dict(color='darkblue'),\n",
    "            showlegend=False\n",
    "        ),\n",
    "        row=1, col=i+1\n",
    "    )\n",
    "\n",
    "fig.update_layout(\n",
    "    title_text=\"📊 Interactive Outlier Analysis - Lung Cancer Dataset\",\n",
    "    height=500,\n",
    "    showlegend=False,\n",
    "    title_font_size=16\n",
    ")\n",
    "fig.show()\n",
    "\n",
    "# Calculate comprehensive outlier statistics\n",
    "print(\"\\n\" + \"=\"*90)\n",
    "print(\"🔍 COMPREHENSIVE OUTLIER ANALYSIS REPORT\")\n",
    "print(\"=\"*90)\n",
    "\n",
    "outlier_analysis = []\n",
    "\n",
    "for col in numerical_cols:\n",
    "    Q1 = numerical_df[col].quantile(0.25)\n",
    "    Q3 = numerical_df[col].quantile(0.75)\n",
    "    IQR = Q3 - Q1\n",
    "    \n",
    "    lower_bound = Q1 - 1.5 * IQR\n",
    "    upper_bound = Q3 + 1.5 * IQR\n",
    "    \n",
    "    outliers_mask = (numerical_df[col] < lower_bound) | (numerical_df[col] > upper_bound)\n",
    "    outliers = numerical_df[col][outliers_mask]\n",
    "    outlier_count = len(outliers)\n",
    "    outlier_percentage = (outlier_count / len(numerical_df)) * 100\n",
    "    \n",
    "    extreme_outlier_mask = (numerical_df[col] < Q1 - 3*IQR) | (numerical_df[col] > Q3 + 3*IQR)\n",
    "    extreme_outlier_count = extreme_outlier_mask.sum()\n",
    "    \n",
    "    outlier_analysis.append({\n",
    "        'Variable': col,\n",
    "        'Q1': Q1,\n",
    "        'Q3': Q3,\n",
    "        'IQR': IQR,\n",
    "        'Lower_Bound': lower_bound,\n",
    "        'Upper_Bound': upper_bound,\n",
    "        'Outlier_Count': outlier_count,\n",
    "        'Outlier_Percentage': outlier_percentage,\n",
    "        'Extreme_Outliers': extreme_outlier_count,\n",
    "        'Min_Outlier': outliers.min() if outlier_count>0 else None,\n",
    "        'Max_Outlier': outliers.max() if outlier_count>0 else None\n",
    "    })\n",
    "    \n",
    "    # Detalle del análisis por variable\n",
    "    print(f\"\\n📈 {col.upper()}\")\n",
    "    print(\"-\" * (len(col)+5))\n",
    "    print(f\"   📊 Quartiles:\")\n",
    "    print(f\"      • Q1: {Q1:.2f}\")\n",
    "    print(f\"      • Q3: {Q3:.2f}\")\n",
    "    print(f\"      • IQR: {IQR:.2f}\")\n",
    "    print(f\"   🎯 Outlier Bounds:\")\n",
    "    print(f\"      • Lower: {lower_bound:.2f}\")\n",
    "    print(f\"      • Upper: {upper_bound:.2f}\")\n",
    "    print(f\"   🚨 Outlier Stats:\")\n",
    "    print(f\"      • Total Outliers: {outlier_count} ({outlier_percentage:.2f}%)\")\n",
    "    print(f\"      • Extreme Outliers: {extreme_outlier_count}\")\n",
    "    if outlier_count>0:\n",
    "        print(f\"   📍 Outlier Range: Min={outliers.min():.2f}, Max={outliers.max():.2f}\")\n",
    "\n",
    "\n",
    "# 5️⃣ Visualización interactiva de porcentajes de outliers\n",
    "fig_summary = px.bar(\n",
    "    outlier_summary_df,\n",
    "    x='Outlier_Percentage',\n",
    "    y='Variable',\n",
    "    color='Outlier_Percentage',\n",
    "    text='Outlier_Count',\n",
    "    color_continuous_scale='Reds',\n",
    "    labels={'Outlier_Percentage':'Outlier %', 'Variable':'Variable'},\n",
    "    title='📊 Outlier Percentage by Variable'\n",
    ")\n",
    "fig_summary.update_traces(texttemplate='%{text} outliers', textposition='outside')\n",
    "fig_summary.update_layout(height=400, yaxis={'categoryorder':'total ascending'})\n",
    "fig_summary.show()\n",
    "\n",
    "print(f\"\\n{'='*90}\")\n",
    "print(\"💡 KEY INSIGHTS & INTERPRETATIONS\")\n",
    "print(\"=\"*90)\n",
    "\n",
    "high_outlier_vars = outlier_summary_df[outlier_summary_df['Outlier_Percentage'] > 10]['Variable'].tolist()\n",
    "moderate_outlier_vars = outlier_summary_df[(outlier_summary_df['Outlier_Percentage'] >= 5) & \n",
    "                                         (outlier_summary_df['Outlier_Percentage'] <= 10)]['Variable'].tolist()\n",
    "low_outlier_vars = outlier_summary_df[outlier_summary_df['Outlier_Percentage'] < 5]['Variable'].tolist()\n",
    "\n",
    "print(f\"\\n🔴 HIGH OUTLIER VARIABLES (>10%):\")\n",
    "for var in high_outlier_vars:\n",
    "    pct = outlier_summary_df[outlier_summary_df['Variable'] == var]['Outlier_Percentage'].iloc[0]\n",
    "    print(f\"   • {var}: {pct:.1f}% outliers\")\n",
    "\n",
    "print(f\"\\n🟡 MODERATE OUTLIER VARIABLES (5-10%):\")\n",
    "for var in moderate_outlier_vars:\n",
    "    pct = outlier_summary_df[outlier_summary_df['Variable'] == var]['Outlier_Percentage'].iloc[0]\n",
    "    print(f\"   • {var}: {pct:.1f}% outliers\")\n",
    "\n",
    "print(f\"\\n🟢 LOW OUTLIER VARIABLES (<5%):\")\n",
    "for var in low_outlier_vars:\n",
    "    pct = outlier_summary_df[outlier_summary_df['Variable'] == var]['Outlier_Percentage'].iloc[0]\n",
    "    print(f\"   • {var}: {pct:.1f}% outliers\")\n",
    "\n",
    "print(f\"\\n📊 STATISTICAL OBSERVATIONS:\")\n",
    "total_outliers = outlier_summary_df['Outlier_Count'].sum()\n",
    "avg_outlier_pct = outlier_summary_df['Outlier_Percentage'].mean()\n",
    "print(f\"   • Total outliers across all variables: {total_outliers:,}\")\n",
    "print(f\"   • Average outlier percentage: {avg_outlier_pct:.2f}%\")\n",
    "print(f\"   • Variables with perfect distribution: {len(low_outlier_vars)} out of {len(numerical_cols)}\")\n",
    "\n",
    "print(f\"\\n🎯 RECOMMENDATIONS:\")\n",
    "print(f\"   • Consider log transformation for highly skewed variables\")\n",
    "print(f\"   • Investigate extreme outliers for data quality issues\")\n",
    "print(f\"   • Use robust statistical methods for variables with >10% outliers\")\n",
    "print(f\"   • Binary variables show excellent data quality (0% outliers)\")\n"
   ]
  },
  {
   "cell_type": "markdown",
   "id": "d04e2c81",
   "metadata": {},
   "source": [
    "### Bivariate Analysis and scatter plots"
   ]
  },
  {
   "cell_type": "code",
   "execution_count": 36,
   "id": "fd54c0a5",
   "metadata": {},
   "outputs": [
    {
     "data": {
      "application/vnd.plotly.v1+json": {
       "config": {
        "plotlyServerURL": "https://plot.ly"
       },
       "data": [
        {
         "customdata": [
          [
           0,
           1
          ],
          [
           1,
           1
          ],
          [
           0,
           1
          ],
          [
           1,
           0
          ],
          [
           0,
           0
          ],
          [
           0,
           1
          ],
          [
           1,
           1
          ],
          [
           1,
           1
          ],
          [
           1,
           1
          ],
          [
           1,
           0
          ],
          [
           1,
           1
          ],
          [
           0,
           1
          ],
          [
           1,
           1
          ],
          [
           1,
           1
          ],
          [
           1,
           0
          ],
          [
           0,
           1
          ],
          [
           1,
           0
          ],
          [
           1,
           0
          ],
          [
           1,
           1
          ],
          [
           0,
           1
          ],
          [
           1,
           1
          ],
          [
           0,
           0
          ],
          [
           1,
           1
          ],
          [
           1,
           1
          ],
          [
           1,
           0
          ],
          [
           0,
           1
          ],
          [
           1,
           1
          ],
          [
           0,
           1
          ],
          [
           1,
           0
          ],
          [
           0,
           1
          ],
          [
           1,
           0
          ],
          [
           1,
           0
          ],
          [
           1,
           0
          ],
          [
           1,
           0
          ],
          [
           0,
           0
          ],
          [
           1,
           0
          ],
          [
           0,
           0
          ],
          [
           0,
           0
          ],
          [
           1,
           0
          ],
          [
           1,
           0
          ],
          [
           1,
           1
          ],
          [
           0,
           1
          ],
          [
           0,
           1
          ],
          [
           1,
           1
          ],
          [
           1,
           0
          ],
          [
           1,
           1
          ],
          [
           1,
           0
          ],
          [
           1,
           1
          ],
          [
           0,
           1
          ],
          [
           0,
           0
          ],
          [
           0,
           1
          ],
          [
           1,
           1
          ],
          [
           1,
           1
          ],
          [
           1,
           1
          ],
          [
           0,
           1
          ],
          [
           0,
           0
          ],
          [
           0,
           1
          ],
          [
           0,
           0
          ],
          [
           0,
           1
          ],
          [
           1,
           1
          ],
          [
           0,
           1
          ],
          [
           0,
           0
          ],
          [
           0,
           1
          ],
          [
           0,
           0
          ],
          [
           0,
           1
          ],
          [
           1,
           1
          ],
          [
           0,
           1
          ],
          [
           1,
           1
          ],
          [
           1,
           1
          ],
          [
           1,
           1
          ],
          [
           1,
           0
          ],
          [
           1,
           1
          ],
          [
           0,
           1
          ],
          [
           1,
           1
          ],
          [
           1,
           1
          ],
          [
           1,
           0
          ],
          [
           0,
           1
          ],
          [
           1,
           1
          ],
          [
           1,
           0
          ],
          [
           1,
           1
          ],
          [
           0,
           1
          ],
          [
           1,
           1
          ],
          [
           1,
           0
          ],
          [
           0,
           0
          ],
          [
           0,
           1
          ],
          [
           0,
           0
          ],
          [
           0,
           0
          ],
          [
           0,
           1
          ],
          [
           1,
           0
          ],
          [
           1,
           1
          ],
          [
           0,
           0
          ],
          [
           0,
           1
          ],
          [
           1,
           1
          ],
          [
           0,
           0
          ],
          [
           1,
           1
          ],
          [
           0,
           1
          ],
          [
           1,
           0
          ],
          [
           1,
           0
          ],
          [
           0,
           1
          ],
          [
           1,
           1
          ],
          [
           1,
           0
          ],
          [
           0,
           1
          ],
          [
           1,
           1
          ],
          [
           1,
           0
          ],
          [
           1,
           1
          ],
          [
           0,
           1
          ],
          [
           1,
           1
          ],
          [
           1,
           0
          ],
          [
           0,
           0
          ],
          [
           0,
           1
          ],
          [
           0,
           1
          ],
          [
           1,
           1
          ],
          [
           0,
           1
          ],
          [
           1,
           0
          ],
          [
           0,
           1
          ],
          [
           0,
           1
          ],
          [
           1,
           1
          ],
          [
           1,
           1
          ],
          [
           1,
           1
          ],
          [
           0,
           0
          ],
          [
           1,
           1
          ],
          [
           0,
           1
          ],
          [
           1,
           1
          ],
          [
           1,
           1
          ],
          [
           1,
           0
          ],
          [
           0,
           1
          ],
          [
           1,
           1
          ],
          [
           1,
           0
          ],
          [
           1,
           1
          ],
          [
           0,
           1
          ],
          [
           1,
           1
          ],
          [
           0,
           0
          ],
          [
           1,
           1
          ],
          [
           1,
           1
          ],
          [
           1,
           0
          ],
          [
           0,
           1
          ],
          [
           1,
           1
          ],
          [
           0,
           1
          ],
          [
           1,
           0
          ],
          [
           0,
           1
          ],
          [
           1,
           1
          ],
          [
           1,
           1
          ],
          [
           1,
           1
          ],
          [
           1,
           1
          ],
          [
           0,
           0
          ],
          [
           1,
           1
          ],
          [
           0,
           1
          ],
          [
           0,
           1
          ],
          [
           1,
           1
          ],
          [
           1,
           0
          ],
          [
           1,
           1
          ],
          [
           0,
           1
          ],
          [
           0,
           1
          ],
          [
           1,
           0
          ],
          [
           1,
           0
          ],
          [
           1,
           0
          ],
          [
           1,
           0
          ],
          [
           1,
           0
          ],
          [
           0,
           1
          ],
          [
           0,
           0
          ],
          [
           0,
           1
          ],
          [
           1,
           1
          ],
          [
           1,
           1
          ],
          [
           1,
           1
          ],
          [
           0,
           1
          ],
          [
           0,
           0
          ],
          [
           0,
           1
          ],
          [
           0,
           0
          ],
          [
           0,
           1
          ],
          [
           1,
           1
          ],
          [
           0,
           1
          ],
          [
           0,
           0
          ],
          [
           0,
           1
          ],
          [
           0,
           0
          ],
          [
           0,
           1
          ],
          [
           1,
           1
          ],
          [
           0,
           1
          ],
          [
           1,
           1
          ],
          [
           1,
           1
          ],
          [
           1,
           1
          ],
          [
           1,
           0
          ],
          [
           1,
           1
          ],
          [
           0,
           1
          ],
          [
           1,
           1
          ],
          [
           1,
           1
          ],
          [
           1,
           0
          ],
          [
           0,
           1
          ],
          [
           1,
           1
          ],
          [
           1,
           0
          ],
          [
           1,
           1
          ],
          [
           0,
           1
          ],
          [
           1,
           1
          ],
          [
           1,
           0
          ],
          [
           0,
           0
          ],
          [
           0,
           1
          ],
          [
           0,
           0
          ],
          [
           0,
           0
          ],
          [
           0,
           1
          ],
          [
           1,
           0
          ],
          [
           1,
           1
          ],
          [
           0,
           0
          ],
          [
           0,
           1
          ],
          [
           1,
           1
          ],
          [
           0,
           0
          ],
          [
           1,
           1
          ],
          [
           0,
           1
          ],
          [
           1,
           0
          ],
          [
           1,
           0
          ],
          [
           0,
           1
          ],
          [
           1,
           1
          ],
          [
           1,
           0
          ],
          [
           0,
           1
          ],
          [
           1,
           1
          ],
          [
           1,
           0
          ],
          [
           1,
           1
          ],
          [
           0,
           1
          ],
          [
           1,
           1
          ],
          [
           1,
           0
          ],
          [
           0,
           0
          ],
          [
           0,
           1
          ],
          [
           0,
           1
          ],
          [
           0,
           0
          ],
          [
           0,
           1
          ],
          [
           1,
           1
          ],
          [
           1,
           1
          ],
          [
           1,
           1
          ],
          [
           0,
           1
          ],
          [
           0,
           0
          ],
          [
           0,
           1
          ],
          [
           0,
           0
          ],
          [
           0,
           1
          ],
          [
           1,
           1
          ],
          [
           0,
           1
          ],
          [
           0,
           0
          ],
          [
           0,
           1
          ],
          [
           0,
           0
          ],
          [
           0,
           1
          ],
          [
           1,
           1
          ],
          [
           0,
           1
          ],
          [
           0,
           0
          ],
          [
           1,
           0
          ],
          [
           1,
           1
          ],
          [
           1,
           0
          ],
          [
           0,
           1
          ],
          [
           1,
           1
          ],
          [
           0,
           1
          ],
          [
           1,
           0
          ],
          [
           0,
           1
          ],
          [
           1,
           1
          ],
          [
           1,
           1
          ],
          [
           1,
           1
          ],
          [
           1,
           1
          ],
          [
           0,
           0
          ],
          [
           1,
           1
          ],
          [
           0,
           1
          ],
          [
           0,
           1
          ],
          [
           1,
           1
          ],
          [
           1,
           0
          ],
          [
           1,
           1
          ],
          [
           0,
           1
          ],
          [
           0,
           1
          ],
          [
           1,
           1
          ],
          [
           0,
           0
          ],
          [
           0,
           1
          ],
          [
           1,
           1
          ],
          [
           1,
           1
          ],
          [
           1,
           1
          ],
          [
           1,
           0
          ],
          [
           1,
           1
          ],
          [
           0,
           1
          ],
          [
           1,
           1
          ],
          [
           1,
           1
          ],
          [
           1,
           0
          ],
          [
           0,
           1
          ],
          [
           1,
           0
          ],
          [
           1,
           0
          ],
          [
           1,
           1
          ],
          [
           0,
           1
          ],
          [
           1,
           1
          ],
          [
           0,
           0
          ],
          [
           1,
           1
          ],
          [
           1,
           1
          ],
          [
           0,
           0
          ],
          [
           0,
           1
          ],
          [
           1,
           0
          ],
          [
           1,
           1
          ],
          [
           0,
           1
          ],
          [
           1,
           1
          ],
          [
           0,
           0
          ],
          [
           1,
           1
          ],
          [
           1,
           1
          ],
          [
           1,
           0
          ],
          [
           0,
           1
          ],
          [
           1,
           1
          ],
          [
           0,
           1
          ],
          [
           1,
           0
          ],
          [
           0,
           1
          ],
          [
           1,
           1
          ],
          [
           1,
           1
          ],
          [
           1,
           1
          ],
          [
           1,
           1
          ],
          [
           0,
           0
          ],
          [
           1,
           1
          ],
          [
           0,
           1
          ],
          [
           0,
           1
          ],
          [
           1,
           1
          ],
          [
           1,
           0
          ],
          [
           1,
           1
          ],
          [
           0,
           1
          ]
         ],
         "hovertemplate": "<b>Age</b>: %{x}<br>Lung Cancer: %{y}<br>Smoking: %{customdata[0]}<br>Fatigue: %{customdata[1]}<br><extra></extra>",
         "marker": {
          "color": "#00CC96",
          "line": {
           "color": "DarkSlateGrey",
           "width": 0.5
          },
          "opacity": 0.7,
          "size": 8
         },
         "mode": "markers",
         "name": "age",
         "type": "scatter",
         "x": {
          "bdata": "RUo7Pz9LNDNENT1IPDpFMEs5RD0sQBU8SEE9RTU3OT44Qzs7PDg4PEQ/TTRGSD5ARjw4PzYxOTQ/SS9FRjxGREpHOEJMTkRCQzw9Okw4Q0k6Nj5RODxCPj43Pkc0OzA8PTtAODpRQD5IPD08MTU6PUQ8SEg5MzY4TUA5QkY1Mzo6PzM9PUxHRThDNj8vPkE/QEEzOEY6Qz5KRUBLLzk4RDc+SURLPz0+LDg2OThFSDtGQD1IP0pHR0hNSDdBQ0U3M0A/RUA7STc/PEpBTz5HP0M3Nk06QD0+QzhGRjk9TT8+O0ZHODlOQD4xTUA/NiZLRjtNPUA7R0NAREVAO0NKTTxARjo7J0NHRjw3PDc3Rj9AOzhAPldNOzs3Ljw6Oj8zPT1MR0U4QzY/Lz5BP0BBMzhGOkM+",
          "dtype": "i1"
         },
         "xaxis": "x",
         "y": {
          "bdata": "AQEAAAABAQEAAQEBAAEAAQEBAQABAQABAQEBAAEAAAEAAQABAQABAQEBAQEBAQEBAQABAQEBAQEBAQEBAQABAQEBAQEBAQEBAQEBAQEBAQEAAQEBAQEBAQEBAQEBAQEBAQEBAQEBAQEBAQEBAQEBAQEBAQEBAQEBAQEBAQEBAQEBAAEBAQEBAQEBAQEBAQEBAQEBAQEBAQEBAAABAAABAAEBAQEBAQEBAQEBAAEBAQEBAQEBAQEBAAEBAQEBAQEBAQEBAQEBAQEBAQEBAQEBAAEBAQEBAQEAAQEBAQEAAQEBAQEBAQEBAQEBAQEBAQEBAQEBAQEAAQEBAAEBAQEBAQEBAQEBAQABAQEAAQEBAAEAAQEBAQABAQAAAAEBAQABAQEBAQEBAQEBAQEBAQEBAQEBAQEB",
          "dtype": "i1"
         },
         "yaxis": "y"
        },
        {
         "boxpoints": "all",
         "hovertemplate": "Lung Cancer=0<br>Smoking: %{y}<br><extra></extra>",
         "jitter": 0.5,
         "marker": {
          "color": "#00CC96"
         },
         "name": "Lung Cancer=0",
         "pointpos": -1.8,
         "showlegend": true,
         "type": "box",
         "x": [
          "0",
          "0",
          "0",
          "0",
          "0",
          "0",
          "0",
          "0",
          "0",
          "0",
          "0",
          "0",
          "0",
          "0",
          "0",
          "0",
          "0",
          "0",
          "0",
          "0",
          "0",
          "0",
          "0",
          "0",
          "0",
          "0",
          "0",
          "0",
          "0",
          "0",
          "0",
          "0",
          "0",
          "0",
          "0",
          "0",
          "0",
          "0",
          "0"
         ],
         "xaxis": "x2",
         "y": {
          "bdata": "AAEAAQEBAAEAAAEBAAAAAAAAAQEBAQAAAQEAAAABAAEBAQABAQAA",
          "dtype": "i1"
         },
         "yaxis": "y2"
        },
        {
         "boxpoints": "all",
         "hovertemplate": "Lung Cancer=0<br>Yellow_fingers: %{y}<br><extra></extra>",
         "jitter": 0.5,
         "marker": {
          "color": "#00CC96"
         },
         "name": "Lung Cancer=0",
         "pointpos": -1.8,
         "showlegend": true,
         "type": "box",
         "x": [
          "0",
          "0",
          "0",
          "0",
          "0",
          "0",
          "0",
          "0",
          "0",
          "0",
          "0",
          "0",
          "0",
          "0",
          "0",
          "0",
          "0",
          "0",
          "0",
          "0",
          "0",
          "0",
          "0",
          "0",
          "0",
          "0",
          "0",
          "0",
          "0",
          "0",
          "0",
          "0",
          "0",
          "0",
          "0",
          "0",
          "0",
          "0",
          "0"
         ],
         "xaxis": "x3",
         "y": {
          "bdata": "AAEBAAAAAAAAAQEBAQAAAQAAAAEBAQABAAAAAAAAAQAAAAAAAAEA",
          "dtype": "i1"
         },
         "yaxis": "y3"
        },
        {
         "boxpoints": "all",
         "hovertemplate": "Lung Cancer=0<br>Fatigue: %{y}<br><extra></extra>",
         "jitter": 0.5,
         "marker": {
          "color": "#00CC96"
         },
         "name": "Lung Cancer=0",
         "pointpos": -1.8,
         "showlegend": true,
         "type": "box",
         "x": [
          "0",
          "0",
          "0",
          "0",
          "0",
          "0",
          "0",
          "0",
          "0",
          "0",
          "0",
          "0",
          "0",
          "0",
          "0",
          "0",
          "0",
          "0",
          "0",
          "0",
          "0",
          "0",
          "0",
          "0",
          "0",
          "0",
          "0",
          "0",
          "0",
          "0",
          "0",
          "0",
          "0",
          "0",
          "0",
          "0",
          "0",
          "0",
          "0"
         ],
         "xaxis": "x4",
         "y": {
          "bdata": "AQAAAQEAAQEBAQAAAAAAAAEBAAAAAAAAAQABAAEBAAEBAAEBAQAB",
          "dtype": "i1"
         },
         "yaxis": "y4"
        },
        {
         "boxpoints": "all",
         "hovertemplate": "Lung Cancer=0<br>Coughing: %{y}<br><extra></extra>",
         "jitter": 0.5,
         "marker": {
          "color": "#00CC96"
         },
         "name": "Lung Cancer=0",
         "pointpos": -1.8,
         "showlegend": true,
         "type": "box",
         "x": [
          "0",
          "0",
          "0",
          "0",
          "0",
          "0",
          "0",
          "0",
          "0",
          "0",
          "0",
          "0",
          "0",
          "0",
          "0",
          "0",
          "0",
          "0",
          "0",
          "0",
          "0",
          "0",
          "0",
          "0",
          "0",
          "0",
          "0",
          "0",
          "0",
          "0",
          "0",
          "0",
          "0",
          "0",
          "0",
          "0",
          "0",
          "0",
          "0"
         ],
         "xaxis": "x5",
         "y": {
          "bdata": "AQABAAABAAABAQAAAAAAAQAAAAAAAAABAAEAAAAAAQAAAQAAAAAA",
          "dtype": "i1"
         },
         "yaxis": "y5"
        },
        {
         "boxpoints": "all",
         "hovertemplate": "Lung Cancer=0<br>Shortness_of_breath: %{y}<br><extra></extra>",
         "jitter": 0.5,
         "marker": {
          "color": "#00CC96"
         },
         "name": "Lung Cancer=0",
         "pointpos": -1.8,
         "showlegend": true,
         "type": "box",
         "x": [
          "0",
          "0",
          "0",
          "0",
          "0",
          "0",
          "0",
          "0",
          "0",
          "0",
          "0",
          "0",
          "0",
          "0",
          "0",
          "0",
          "0",
          "0",
          "0",
          "0",
          "0",
          "0",
          "0",
          "0",
          "0",
          "0",
          "0",
          "0",
          "0",
          "0",
          "0",
          "0",
          "0",
          "0",
          "0",
          "0",
          "0",
          "0",
          "0"
         ],
         "xaxis": "x6",
         "y": {
          "bdata": "AQABAAEAAQEBAQEBAAEAAAEBAAAAAAAAAQEBAAEAAQABAAEBAQAB",
          "dtype": "i1"
         },
         "yaxis": "y6"
        }
       ],
       "layout": {
        "annotations": [
         {
          "font": {
           "size": 16
          },
          "showarrow": false,
          "text": "Age vs Lung Cancer",
          "x": 0.225,
          "xanchor": "center",
          "xref": "paper",
          "y": 1,
          "yanchor": "bottom",
          "yref": "paper"
         },
         {
          "font": {
           "size": 16
          },
          "showarrow": false,
          "text": "Smoking vs Lung Cancer",
          "x": 0.775,
          "xanchor": "center",
          "xref": "paper",
          "y": 1,
          "yanchor": "bottom",
          "yref": "paper"
         },
         {
          "font": {
           "size": 16
          },
          "showarrow": false,
          "text": "Yellow_fingers vs Lung Cancer",
          "x": 0.225,
          "xanchor": "center",
          "xref": "paper",
          "y": 0.6333333333333333,
          "yanchor": "bottom",
          "yref": "paper"
         },
         {
          "font": {
           "size": 16
          },
          "showarrow": false,
          "text": "Fatigue vs Lung Cancer",
          "x": 0.775,
          "xanchor": "center",
          "xref": "paper",
          "y": 0.6333333333333333,
          "yanchor": "bottom",
          "yref": "paper"
         },
         {
          "font": {
           "size": 16
          },
          "showarrow": false,
          "text": "Coughing vs Lung Cancer",
          "x": 0.225,
          "xanchor": "center",
          "xref": "paper",
          "y": 0.26666666666666666,
          "yanchor": "bottom",
          "yref": "paper"
         },
         {
          "font": {
           "size": 16
          },
          "showarrow": false,
          "text": "Shortness_of_breath vs Lung Cancer",
          "x": 0.775,
          "xanchor": "center",
          "xref": "paper",
          "y": 0.26666666666666666,
          "yanchor": "bottom",
          "yref": "paper"
         }
        ],
        "height": 1200,
        "showlegend": true,
        "template": {
         "data": {
          "bar": [
           {
            "error_x": {
             "color": "#2a3f5f"
            },
            "error_y": {
             "color": "#2a3f5f"
            },
            "marker": {
             "line": {
              "color": "#E5ECF6",
              "width": 0.5
             },
             "pattern": {
              "fillmode": "overlay",
              "size": 10,
              "solidity": 0.2
             }
            },
            "type": "bar"
           }
          ],
          "barpolar": [
           {
            "marker": {
             "line": {
              "color": "#E5ECF6",
              "width": 0.5
             },
             "pattern": {
              "fillmode": "overlay",
              "size": 10,
              "solidity": 0.2
             }
            },
            "type": "barpolar"
           }
          ],
          "carpet": [
           {
            "aaxis": {
             "endlinecolor": "#2a3f5f",
             "gridcolor": "white",
             "linecolor": "white",
             "minorgridcolor": "white",
             "startlinecolor": "#2a3f5f"
            },
            "baxis": {
             "endlinecolor": "#2a3f5f",
             "gridcolor": "white",
             "linecolor": "white",
             "minorgridcolor": "white",
             "startlinecolor": "#2a3f5f"
            },
            "type": "carpet"
           }
          ],
          "choropleth": [
           {
            "colorbar": {
             "outlinewidth": 0,
             "ticks": ""
            },
            "type": "choropleth"
           }
          ],
          "contour": [
           {
            "colorbar": {
             "outlinewidth": 0,
             "ticks": ""
            },
            "colorscale": [
             [
              0,
              "#0d0887"
             ],
             [
              0.1111111111111111,
              "#46039f"
             ],
             [
              0.2222222222222222,
              "#7201a8"
             ],
             [
              0.3333333333333333,
              "#9c179e"
             ],
             [
              0.4444444444444444,
              "#bd3786"
             ],
             [
              0.5555555555555556,
              "#d8576b"
             ],
             [
              0.6666666666666666,
              "#ed7953"
             ],
             [
              0.7777777777777778,
              "#fb9f3a"
             ],
             [
              0.8888888888888888,
              "#fdca26"
             ],
             [
              1,
              "#f0f921"
             ]
            ],
            "type": "contour"
           }
          ],
          "contourcarpet": [
           {
            "colorbar": {
             "outlinewidth": 0,
             "ticks": ""
            },
            "type": "contourcarpet"
           }
          ],
          "heatmap": [
           {
            "colorbar": {
             "outlinewidth": 0,
             "ticks": ""
            },
            "colorscale": [
             [
              0,
              "#0d0887"
             ],
             [
              0.1111111111111111,
              "#46039f"
             ],
             [
              0.2222222222222222,
              "#7201a8"
             ],
             [
              0.3333333333333333,
              "#9c179e"
             ],
             [
              0.4444444444444444,
              "#bd3786"
             ],
             [
              0.5555555555555556,
              "#d8576b"
             ],
             [
              0.6666666666666666,
              "#ed7953"
             ],
             [
              0.7777777777777778,
              "#fb9f3a"
             ],
             [
              0.8888888888888888,
              "#fdca26"
             ],
             [
              1,
              "#f0f921"
             ]
            ],
            "type": "heatmap"
           }
          ],
          "histogram": [
           {
            "marker": {
             "pattern": {
              "fillmode": "overlay",
              "size": 10,
              "solidity": 0.2
             }
            },
            "type": "histogram"
           }
          ],
          "histogram2d": [
           {
            "colorbar": {
             "outlinewidth": 0,
             "ticks": ""
            },
            "colorscale": [
             [
              0,
              "#0d0887"
             ],
             [
              0.1111111111111111,
              "#46039f"
             ],
             [
              0.2222222222222222,
              "#7201a8"
             ],
             [
              0.3333333333333333,
              "#9c179e"
             ],
             [
              0.4444444444444444,
              "#bd3786"
             ],
             [
              0.5555555555555556,
              "#d8576b"
             ],
             [
              0.6666666666666666,
              "#ed7953"
             ],
             [
              0.7777777777777778,
              "#fb9f3a"
             ],
             [
              0.8888888888888888,
              "#fdca26"
             ],
             [
              1,
              "#f0f921"
             ]
            ],
            "type": "histogram2d"
           }
          ],
          "histogram2dcontour": [
           {
            "colorbar": {
             "outlinewidth": 0,
             "ticks": ""
            },
            "colorscale": [
             [
              0,
              "#0d0887"
             ],
             [
              0.1111111111111111,
              "#46039f"
             ],
             [
              0.2222222222222222,
              "#7201a8"
             ],
             [
              0.3333333333333333,
              "#9c179e"
             ],
             [
              0.4444444444444444,
              "#bd3786"
             ],
             [
              0.5555555555555556,
              "#d8576b"
             ],
             [
              0.6666666666666666,
              "#ed7953"
             ],
             [
              0.7777777777777778,
              "#fb9f3a"
             ],
             [
              0.8888888888888888,
              "#fdca26"
             ],
             [
              1,
              "#f0f921"
             ]
            ],
            "type": "histogram2dcontour"
           }
          ],
          "mesh3d": [
           {
            "colorbar": {
             "outlinewidth": 0,
             "ticks": ""
            },
            "type": "mesh3d"
           }
          ],
          "parcoords": [
           {
            "line": {
             "colorbar": {
              "outlinewidth": 0,
              "ticks": ""
             }
            },
            "type": "parcoords"
           }
          ],
          "pie": [
           {
            "automargin": true,
            "type": "pie"
           }
          ],
          "scatter": [
           {
            "fillpattern": {
             "fillmode": "overlay",
             "size": 10,
             "solidity": 0.2
            },
            "type": "scatter"
           }
          ],
          "scatter3d": [
           {
            "line": {
             "colorbar": {
              "outlinewidth": 0,
              "ticks": ""
             }
            },
            "marker": {
             "colorbar": {
              "outlinewidth": 0,
              "ticks": ""
             }
            },
            "type": "scatter3d"
           }
          ],
          "scattercarpet": [
           {
            "marker": {
             "colorbar": {
              "outlinewidth": 0,
              "ticks": ""
             }
            },
            "type": "scattercarpet"
           }
          ],
          "scattergeo": [
           {
            "marker": {
             "colorbar": {
              "outlinewidth": 0,
              "ticks": ""
             }
            },
            "type": "scattergeo"
           }
          ],
          "scattergl": [
           {
            "marker": {
             "colorbar": {
              "outlinewidth": 0,
              "ticks": ""
             }
            },
            "type": "scattergl"
           }
          ],
          "scattermap": [
           {
            "marker": {
             "colorbar": {
              "outlinewidth": 0,
              "ticks": ""
             }
            },
            "type": "scattermap"
           }
          ],
          "scattermapbox": [
           {
            "marker": {
             "colorbar": {
              "outlinewidth": 0,
              "ticks": ""
             }
            },
            "type": "scattermapbox"
           }
          ],
          "scatterpolar": [
           {
            "marker": {
             "colorbar": {
              "outlinewidth": 0,
              "ticks": ""
             }
            },
            "type": "scatterpolar"
           }
          ],
          "scatterpolargl": [
           {
            "marker": {
             "colorbar": {
              "outlinewidth": 0,
              "ticks": ""
             }
            },
            "type": "scatterpolargl"
           }
          ],
          "scatterternary": [
           {
            "marker": {
             "colorbar": {
              "outlinewidth": 0,
              "ticks": ""
             }
            },
            "type": "scatterternary"
           }
          ],
          "surface": [
           {
            "colorbar": {
             "outlinewidth": 0,
             "ticks": ""
            },
            "colorscale": [
             [
              0,
              "#0d0887"
             ],
             [
              0.1111111111111111,
              "#46039f"
             ],
             [
              0.2222222222222222,
              "#7201a8"
             ],
             [
              0.3333333333333333,
              "#9c179e"
             ],
             [
              0.4444444444444444,
              "#bd3786"
             ],
             [
              0.5555555555555556,
              "#d8576b"
             ],
             [
              0.6666666666666666,
              "#ed7953"
             ],
             [
              0.7777777777777778,
              "#fb9f3a"
             ],
             [
              0.8888888888888888,
              "#fdca26"
             ],
             [
              1,
              "#f0f921"
             ]
            ],
            "type": "surface"
           }
          ],
          "table": [
           {
            "cells": {
             "fill": {
              "color": "#EBF0F8"
             },
             "line": {
              "color": "white"
             }
            },
            "header": {
             "fill": {
              "color": "#C8D4E3"
             },
             "line": {
              "color": "white"
             }
            },
            "type": "table"
           }
          ]
         },
         "layout": {
          "annotationdefaults": {
           "arrowcolor": "#2a3f5f",
           "arrowhead": 0,
           "arrowwidth": 1
          },
          "autotypenumbers": "strict",
          "coloraxis": {
           "colorbar": {
            "outlinewidth": 0,
            "ticks": ""
           }
          },
          "colorscale": {
           "diverging": [
            [
             0,
             "#8e0152"
            ],
            [
             0.1,
             "#c51b7d"
            ],
            [
             0.2,
             "#de77ae"
            ],
            [
             0.3,
             "#f1b6da"
            ],
            [
             0.4,
             "#fde0ef"
            ],
            [
             0.5,
             "#f7f7f7"
            ],
            [
             0.6,
             "#e6f5d0"
            ],
            [
             0.7,
             "#b8e186"
            ],
            [
             0.8,
             "#7fbc41"
            ],
            [
             0.9,
             "#4d9221"
            ],
            [
             1,
             "#276419"
            ]
           ],
           "sequential": [
            [
             0,
             "#0d0887"
            ],
            [
             0.1111111111111111,
             "#46039f"
            ],
            [
             0.2222222222222222,
             "#7201a8"
            ],
            [
             0.3333333333333333,
             "#9c179e"
            ],
            [
             0.4444444444444444,
             "#bd3786"
            ],
            [
             0.5555555555555556,
             "#d8576b"
            ],
            [
             0.6666666666666666,
             "#ed7953"
            ],
            [
             0.7777777777777778,
             "#fb9f3a"
            ],
            [
             0.8888888888888888,
             "#fdca26"
            ],
            [
             1,
             "#f0f921"
            ]
           ],
           "sequentialminus": [
            [
             0,
             "#0d0887"
            ],
            [
             0.1111111111111111,
             "#46039f"
            ],
            [
             0.2222222222222222,
             "#7201a8"
            ],
            [
             0.3333333333333333,
             "#9c179e"
            ],
            [
             0.4444444444444444,
             "#bd3786"
            ],
            [
             0.5555555555555556,
             "#d8576b"
            ],
            [
             0.6666666666666666,
             "#ed7953"
            ],
            [
             0.7777777777777778,
             "#fb9f3a"
            ],
            [
             0.8888888888888888,
             "#fdca26"
            ],
            [
             1,
             "#f0f921"
            ]
           ]
          },
          "colorway": [
           "#636efa",
           "#EF553B",
           "#00cc96",
           "#ab63fa",
           "#FFA15A",
           "#19d3f3",
           "#FF6692",
           "#B6E880",
           "#FF97FF",
           "#FECB52"
          ],
          "font": {
           "color": "#2a3f5f"
          },
          "geo": {
           "bgcolor": "white",
           "lakecolor": "white",
           "landcolor": "#E5ECF6",
           "showlakes": true,
           "showland": true,
           "subunitcolor": "white"
          },
          "hoverlabel": {
           "align": "left"
          },
          "hovermode": "closest",
          "mapbox": {
           "style": "light"
          },
          "paper_bgcolor": "white",
          "plot_bgcolor": "#E5ECF6",
          "polar": {
           "angularaxis": {
            "gridcolor": "white",
            "linecolor": "white",
            "ticks": ""
           },
           "bgcolor": "#E5ECF6",
           "radialaxis": {
            "gridcolor": "white",
            "linecolor": "white",
            "ticks": ""
           }
          },
          "scene": {
           "xaxis": {
            "backgroundcolor": "#E5ECF6",
            "gridcolor": "white",
            "gridwidth": 2,
            "linecolor": "white",
            "showbackground": true,
            "ticks": "",
            "zerolinecolor": "white"
           },
           "yaxis": {
            "backgroundcolor": "#E5ECF6",
            "gridcolor": "white",
            "gridwidth": 2,
            "linecolor": "white",
            "showbackground": true,
            "ticks": "",
            "zerolinecolor": "white"
           },
           "zaxis": {
            "backgroundcolor": "#E5ECF6",
            "gridcolor": "white",
            "gridwidth": 2,
            "linecolor": "white",
            "showbackground": true,
            "ticks": "",
            "zerolinecolor": "white"
           }
          },
          "shapedefaults": {
           "line": {
            "color": "#2a3f5f"
           }
          },
          "ternary": {
           "aaxis": {
            "gridcolor": "white",
            "linecolor": "white",
            "ticks": ""
           },
           "baxis": {
            "gridcolor": "white",
            "linecolor": "white",
            "ticks": ""
           },
           "bgcolor": "#E5ECF6",
           "caxis": {
            "gridcolor": "white",
            "linecolor": "white",
            "ticks": ""
           }
          },
          "title": {
           "x": 0.05
          },
          "xaxis": {
           "automargin": true,
           "gridcolor": "white",
           "linecolor": "white",
           "ticks": "",
           "title": {
            "standoff": 15
           },
           "zerolinecolor": "white",
           "zerolinewidth": 2
          },
          "yaxis": {
           "automargin": true,
           "gridcolor": "white",
           "linecolor": "white",
           "ticks": "",
           "title": {
            "standoff": 15
           },
           "zerolinecolor": "white",
           "zerolinewidth": 2
          }
         }
        },
        "title": {
         "font": {
          "size": 18
         },
         "text": "📊 Comprehensive Analysis of Lung Cancer Risk Factors",
         "x": 0.5
        },
        "width": 1100,
        "xaxis": {
         "anchor": "y",
         "domain": [
          0,
          0.45
         ],
         "gridcolor": "rgba(128,128,128,0.3)",
         "gridwidth": 0.5,
         "linecolor": "rgba(0,0,0,0.2)",
         "linewidth": 1,
         "mirror": true,
         "showgrid": true,
         "showline": true,
         "title": {
          "text": "Lung Cancer (0=No, 1=Yes)"
         }
        },
        "xaxis2": {
         "anchor": "y2",
         "domain": [
          0.55,
          1
         ],
         "gridcolor": "rgba(128,128,128,0.3)",
         "gridwidth": 0.5,
         "linecolor": "rgba(0,0,0,0.2)",
         "linewidth": 1,
         "mirror": true,
         "showgrid": true,
         "showline": true,
         "title": {
          "text": "Lung Cancer (0=No, 1=Yes)"
         }
        },
        "xaxis3": {
         "anchor": "y3",
         "domain": [
          0,
          0.45
         ],
         "gridcolor": "rgba(128,128,128,0.3)",
         "gridwidth": 0.5,
         "linecolor": "rgba(0,0,0,0.2)",
         "linewidth": 1,
         "mirror": true,
         "showgrid": true,
         "showline": true,
         "title": {
          "text": "Lung Cancer (0=No, 1=Yes)"
         }
        },
        "xaxis4": {
         "anchor": "y4",
         "domain": [
          0.55,
          1
         ],
         "gridcolor": "rgba(128,128,128,0.3)",
         "gridwidth": 0.5,
         "linecolor": "rgba(0,0,0,0.2)",
         "linewidth": 1,
         "mirror": true,
         "showgrid": true,
         "showline": true,
         "title": {
          "text": "Lung Cancer (0=No, 1=Yes)"
         }
        },
        "xaxis5": {
         "anchor": "y5",
         "domain": [
          0,
          0.45
         ],
         "gridcolor": "rgba(128,128,128,0.3)",
         "gridwidth": 0.5,
         "linecolor": "rgba(0,0,0,0.2)",
         "linewidth": 1,
         "mirror": true,
         "showgrid": true,
         "showline": true,
         "title": {
          "text": "Lung Cancer (0=No, 1=Yes)"
         }
        },
        "xaxis6": {
         "anchor": "y6",
         "domain": [
          0.55,
          1
         ],
         "gridcolor": "rgba(128,128,128,0.3)",
         "gridwidth": 0.5,
         "linecolor": "rgba(0,0,0,0.2)",
         "linewidth": 1,
         "mirror": true,
         "showgrid": true,
         "showline": true,
         "title": {
          "text": "Lung Cancer (0=No, 1=Yes)"
         }
        },
        "yaxis": {
         "anchor": "x",
         "domain": [
          0.7333333333333334,
          1
         ],
         "gridcolor": "rgba(128,128,128,0.3)",
         "gridwidth": 0.5,
         "linecolor": "rgba(0,0,0,0.2)",
         "linewidth": 1,
         "mirror": true,
         "showgrid": true,
         "showline": true,
         "title": {
          "text": "Variable Value"
         }
        },
        "yaxis2": {
         "anchor": "x2",
         "domain": [
          0.7333333333333334,
          1
         ],
         "gridcolor": "rgba(128,128,128,0.3)",
         "gridwidth": 0.5,
         "linecolor": "rgba(0,0,0,0.2)",
         "linewidth": 1,
         "mirror": true,
         "showgrid": true,
         "showline": true,
         "title": {
          "text": "Variable Value"
         }
        },
        "yaxis3": {
         "anchor": "x3",
         "domain": [
          0.3666666666666667,
          0.6333333333333333
         ],
         "gridcolor": "rgba(128,128,128,0.3)",
         "gridwidth": 0.5,
         "linecolor": "rgba(0,0,0,0.2)",
         "linewidth": 1,
         "mirror": true,
         "showgrid": true,
         "showline": true,
         "title": {
          "text": "Variable Value"
         }
        },
        "yaxis4": {
         "anchor": "x4",
         "domain": [
          0.3666666666666667,
          0.6333333333333333
         ],
         "gridcolor": "rgba(128,128,128,0.3)",
         "gridwidth": 0.5,
         "linecolor": "rgba(0,0,0,0.2)",
         "linewidth": 1,
         "mirror": true,
         "showgrid": true,
         "showline": true,
         "title": {
          "text": "Variable Value"
         }
        },
        "yaxis5": {
         "anchor": "x5",
         "domain": [
          0,
          0.26666666666666666
         ],
         "gridcolor": "rgba(128,128,128,0.3)",
         "gridwidth": 0.5,
         "linecolor": "rgba(0,0,0,0.2)",
         "linewidth": 1,
         "mirror": true,
         "showgrid": true,
         "showline": true,
         "title": {
          "text": "Variable Value"
         }
        },
        "yaxis6": {
         "anchor": "x6",
         "domain": [
          0,
          0.26666666666666666
         ],
         "gridcolor": "rgba(128,128,128,0.3)",
         "gridwidth": 0.5,
         "linecolor": "rgba(0,0,0,0.2)",
         "linewidth": 1,
         "mirror": true,
         "showgrid": true,
         "showline": true,
         "title": {
          "text": "Variable Value"
         }
        }
       }
      },
      "text/html": [
       "<div>            <script src=\"https://cdnjs.cloudflare.com/ajax/libs/mathjax/2.7.5/MathJax.js?config=TeX-AMS-MML_SVG\"></script><script type=\"text/javascript\">if (window.MathJax && window.MathJax.Hub && window.MathJax.Hub.Config) {window.MathJax.Hub.Config({SVG: {font: \"STIX-Web\"}});}</script>                <script type=\"text/javascript\">window.PlotlyConfig = {MathJaxConfig: 'local'};</script>\n",
       "        <script charset=\"utf-8\" src=\"https://cdn.plot.ly/plotly-3.1.0.min.js\" integrity=\"sha256-Ei4740bWZhaUTQuD6q9yQlgVCMPBz6CZWhevDYPv93A=\" crossorigin=\"anonymous\"></script>                <div id=\"dc202659-da64-4fab-9b4b-cc33ff1b0857\" class=\"plotly-graph-div\" style=\"height:1200px; width:1100px;\"></div>            <script type=\"text/javascript\">                window.PLOTLYENV=window.PLOTLYENV || {};                                if (document.getElementById(\"dc202659-da64-4fab-9b4b-cc33ff1b0857\")) {                    Plotly.newPlot(                        \"dc202659-da64-4fab-9b4b-cc33ff1b0857\",                        [{\"customdata\":[[0,1],[1,1],[0,1],[1,0],[0,0],[0,1],[1,1],[1,1],[1,1],[1,0],[1,1],[0,1],[1,1],[1,1],[1,0],[0,1],[1,0],[1,0],[1,1],[0,1],[1,1],[0,0],[1,1],[1,1],[1,0],[0,1],[1,1],[0,1],[1,0],[0,1],[1,0],[1,0],[1,0],[1,0],[0,0],[1,0],[0,0],[0,0],[1,0],[1,0],[1,1],[0,1],[0,1],[1,1],[1,0],[1,1],[1,0],[1,1],[0,1],[0,0],[0,1],[1,1],[1,1],[1,1],[0,1],[0,0],[0,1],[0,0],[0,1],[1,1],[0,1],[0,0],[0,1],[0,0],[0,1],[1,1],[0,1],[1,1],[1,1],[1,1],[1,0],[1,1],[0,1],[1,1],[1,1],[1,0],[0,1],[1,1],[1,0],[1,1],[0,1],[1,1],[1,0],[0,0],[0,1],[0,0],[0,0],[0,1],[1,0],[1,1],[0,0],[0,1],[1,1],[0,0],[1,1],[0,1],[1,0],[1,0],[0,1],[1,1],[1,0],[0,1],[1,1],[1,0],[1,1],[0,1],[1,1],[1,0],[0,0],[0,1],[0,1],[1,1],[0,1],[1,0],[0,1],[0,1],[1,1],[1,1],[1,1],[0,0],[1,1],[0,1],[1,1],[1,1],[1,0],[0,1],[1,1],[1,0],[1,1],[0,1],[1,1],[0,0],[1,1],[1,1],[1,0],[0,1],[1,1],[0,1],[1,0],[0,1],[1,1],[1,1],[1,1],[1,1],[0,0],[1,1],[0,1],[0,1],[1,1],[1,0],[1,1],[0,1],[0,1],[1,0],[1,0],[1,0],[1,0],[1,0],[0,1],[0,0],[0,1],[1,1],[1,1],[1,1],[0,1],[0,0],[0,1],[0,0],[0,1],[1,1],[0,1],[0,0],[0,1],[0,0],[0,1],[1,1],[0,1],[1,1],[1,1],[1,1],[1,0],[1,1],[0,1],[1,1],[1,1],[1,0],[0,1],[1,1],[1,0],[1,1],[0,1],[1,1],[1,0],[0,0],[0,1],[0,0],[0,0],[0,1],[1,0],[1,1],[0,0],[0,1],[1,1],[0,0],[1,1],[0,1],[1,0],[1,0],[0,1],[1,1],[1,0],[0,1],[1,1],[1,0],[1,1],[0,1],[1,1],[1,0],[0,0],[0,1],[0,1],[0,0],[0,1],[1,1],[1,1],[1,1],[0,1],[0,0],[0,1],[0,0],[0,1],[1,1],[0,1],[0,0],[0,1],[0,0],[0,1],[1,1],[0,1],[0,0],[1,0],[1,1],[1,0],[0,1],[1,1],[0,1],[1,0],[0,1],[1,1],[1,1],[1,1],[1,1],[0,0],[1,1],[0,1],[0,1],[1,1],[1,0],[1,1],[0,1],[0,1],[1,1],[0,0],[0,1],[1,1],[1,1],[1,1],[1,0],[1,1],[0,1],[1,1],[1,1],[1,0],[0,1],[1,0],[1,0],[1,1],[0,1],[1,1],[0,0],[1,1],[1,1],[0,0],[0,1],[1,0],[1,1],[0,1],[1,1],[0,0],[1,1],[1,1],[1,0],[0,1],[1,1],[0,1],[1,0],[0,1],[1,1],[1,1],[1,1],[1,1],[0,0],[1,1],[0,1],[0,1],[1,1],[1,0],[1,1],[0,1]],\"hovertemplate\":\"\\u003cb\\u003eAge\\u003c\\u002fb\\u003e: %{x}\\u003cbr\\u003eLung Cancer: %{y}\\u003cbr\\u003eSmoking: %{customdata[0]}\\u003cbr\\u003eFatigue: %{customdata[1]}\\u003cbr\\u003e\\u003cextra\\u003e\\u003c\\u002fextra\\u003e\",\"marker\":{\"color\":\"#00CC96\",\"line\":{\"color\":\"DarkSlateGrey\",\"width\":0.5},\"opacity\":0.7,\"size\":8},\"mode\":\"markers\",\"name\":\"age\",\"x\":{\"dtype\":\"i1\",\"bdata\":\"RUo7Pz9LNDNENT1IPDpFMEs5RD0sQBU8SEE9RTU3OT44Qzs7PDg4PEQ\\u002fTTRGSD5ARjw4PzYxOTQ\\u002fSS9FRjxGREpHOEJMTkRCQzw9Okw4Q0k6Nj5RODxCPj43Pkc0OzA8PTtAODpRQD5IPD08MTU6PUQ8SEg5MzY4TUA5QkY1Mzo6PzM9PUxHRThDNj8vPkE\\u002fQEEzOEY6Qz5KRUBLLzk4RDc+SURLPz0+LDg2OThFSDtGQD1IP0pHR0hNSDdBQ0U3M0A\\u002fRUA7STc\\u002fPEpBTz5HP0M3Nk06QD0+QzhGRjk9TT8+O0ZHODlOQD4xTUA\\u002fNiZLRjtNPUA7R0NAREVAO0NKTTxARjo7J0NHRjw3PDc3Rj9AOzhAPldNOzs3Ljw6Oj8zPT1MR0U4QzY\\u002fLz5BP0BBMzhGOkM+\"},\"y\":{\"dtype\":\"i1\",\"bdata\":\"AQEAAAABAQEAAQEBAAEAAQEBAQABAQABAQEBAAEAAAEAAQABAQABAQEBAQEBAQEBAQABAQEBAQEBAQEBAQABAQEBAQEBAQEBAQEBAQEBAQEAAQEBAQEBAQEBAQEBAQEBAQEBAQEBAQEBAQEBAQEBAQEBAQEBAQEBAQEBAQEBAQEBAAEBAQEBAQEBAQEBAQEBAQEBAQEBAQEBAAABAAABAAEBAQEBAQEBAQEBAAEBAQEBAQEBAQEBAAEBAQEBAQEBAQEBAQEBAQEBAQEBAQEBAAEBAQEBAQEAAQEBAQEAAQEBAQEBAQEBAQEBAQEBAQEBAQEBAQEAAQEBAAEBAQEBAQEBAQEBAQABAQEAAQEBAAEAAQEBAQABAQAAAAEBAQABAQEBAQEBAQEBAQEBAQEBAQEBAQEB\"},\"type\":\"scatter\",\"xaxis\":\"x\",\"yaxis\":\"y\"},{\"boxpoints\":\"all\",\"hovertemplate\":\"Lung Cancer=0\\u003cbr\\u003eSmoking: %{y}\\u003cbr\\u003e\\u003cextra\\u003e\\u003c\\u002fextra\\u003e\",\"jitter\":0.5,\"marker\":{\"color\":\"#00CC96\"},\"name\":\"Lung Cancer=0\",\"pointpos\":-1.8,\"showlegend\":true,\"x\":[\"0\",\"0\",\"0\",\"0\",\"0\",\"0\",\"0\",\"0\",\"0\",\"0\",\"0\",\"0\",\"0\",\"0\",\"0\",\"0\",\"0\",\"0\",\"0\",\"0\",\"0\",\"0\",\"0\",\"0\",\"0\",\"0\",\"0\",\"0\",\"0\",\"0\",\"0\",\"0\",\"0\",\"0\",\"0\",\"0\",\"0\",\"0\",\"0\"],\"y\":{\"dtype\":\"i1\",\"bdata\":\"AAEAAQEBAAEAAAEBAAAAAAAAAQEBAQAAAQEAAAABAAEBAQABAQAA\"},\"type\":\"box\",\"xaxis\":\"x2\",\"yaxis\":\"y2\"},{\"boxpoints\":\"all\",\"hovertemplate\":\"Lung Cancer=0\\u003cbr\\u003eYellow_fingers: %{y}\\u003cbr\\u003e\\u003cextra\\u003e\\u003c\\u002fextra\\u003e\",\"jitter\":0.5,\"marker\":{\"color\":\"#00CC96\"},\"name\":\"Lung Cancer=0\",\"pointpos\":-1.8,\"showlegend\":true,\"x\":[\"0\",\"0\",\"0\",\"0\",\"0\",\"0\",\"0\",\"0\",\"0\",\"0\",\"0\",\"0\",\"0\",\"0\",\"0\",\"0\",\"0\",\"0\",\"0\",\"0\",\"0\",\"0\",\"0\",\"0\",\"0\",\"0\",\"0\",\"0\",\"0\",\"0\",\"0\",\"0\",\"0\",\"0\",\"0\",\"0\",\"0\",\"0\",\"0\"],\"y\":{\"dtype\":\"i1\",\"bdata\":\"AAEBAAAAAAAAAQEBAQAAAQAAAAEBAQABAAAAAAAAAQAAAAAAAAEA\"},\"type\":\"box\",\"xaxis\":\"x3\",\"yaxis\":\"y3\"},{\"boxpoints\":\"all\",\"hovertemplate\":\"Lung Cancer=0\\u003cbr\\u003eFatigue: %{y}\\u003cbr\\u003e\\u003cextra\\u003e\\u003c\\u002fextra\\u003e\",\"jitter\":0.5,\"marker\":{\"color\":\"#00CC96\"},\"name\":\"Lung Cancer=0\",\"pointpos\":-1.8,\"showlegend\":true,\"x\":[\"0\",\"0\",\"0\",\"0\",\"0\",\"0\",\"0\",\"0\",\"0\",\"0\",\"0\",\"0\",\"0\",\"0\",\"0\",\"0\",\"0\",\"0\",\"0\",\"0\",\"0\",\"0\",\"0\",\"0\",\"0\",\"0\",\"0\",\"0\",\"0\",\"0\",\"0\",\"0\",\"0\",\"0\",\"0\",\"0\",\"0\",\"0\",\"0\"],\"y\":{\"dtype\":\"i1\",\"bdata\":\"AQAAAQEAAQEBAQAAAAAAAAEBAAAAAAAAAQABAAEBAAEBAAEBAQAB\"},\"type\":\"box\",\"xaxis\":\"x4\",\"yaxis\":\"y4\"},{\"boxpoints\":\"all\",\"hovertemplate\":\"Lung Cancer=0\\u003cbr\\u003eCoughing: %{y}\\u003cbr\\u003e\\u003cextra\\u003e\\u003c\\u002fextra\\u003e\",\"jitter\":0.5,\"marker\":{\"color\":\"#00CC96\"},\"name\":\"Lung Cancer=0\",\"pointpos\":-1.8,\"showlegend\":true,\"x\":[\"0\",\"0\",\"0\",\"0\",\"0\",\"0\",\"0\",\"0\",\"0\",\"0\",\"0\",\"0\",\"0\",\"0\",\"0\",\"0\",\"0\",\"0\",\"0\",\"0\",\"0\",\"0\",\"0\",\"0\",\"0\",\"0\",\"0\",\"0\",\"0\",\"0\",\"0\",\"0\",\"0\",\"0\",\"0\",\"0\",\"0\",\"0\",\"0\"],\"y\":{\"dtype\":\"i1\",\"bdata\":\"AQABAAABAAABAQAAAAAAAQAAAAAAAAABAAEAAAAAAQAAAQAAAAAA\"},\"type\":\"box\",\"xaxis\":\"x5\",\"yaxis\":\"y5\"},{\"boxpoints\":\"all\",\"hovertemplate\":\"Lung Cancer=0\\u003cbr\\u003eShortness_of_breath: %{y}\\u003cbr\\u003e\\u003cextra\\u003e\\u003c\\u002fextra\\u003e\",\"jitter\":0.5,\"marker\":{\"color\":\"#00CC96\"},\"name\":\"Lung Cancer=0\",\"pointpos\":-1.8,\"showlegend\":true,\"x\":[\"0\",\"0\",\"0\",\"0\",\"0\",\"0\",\"0\",\"0\",\"0\",\"0\",\"0\",\"0\",\"0\",\"0\",\"0\",\"0\",\"0\",\"0\",\"0\",\"0\",\"0\",\"0\",\"0\",\"0\",\"0\",\"0\",\"0\",\"0\",\"0\",\"0\",\"0\",\"0\",\"0\",\"0\",\"0\",\"0\",\"0\",\"0\",\"0\"],\"y\":{\"dtype\":\"i1\",\"bdata\":\"AQABAAEAAQEBAQEBAAEAAAEBAAAAAAAAAQEBAAEAAQABAAEBAQAB\"},\"type\":\"box\",\"xaxis\":\"x6\",\"yaxis\":\"y6\"}],                        {\"template\":{\"data\":{\"histogram2dcontour\":[{\"type\":\"histogram2dcontour\",\"colorbar\":{\"outlinewidth\":0,\"ticks\":\"\"},\"colorscale\":[[0.0,\"#0d0887\"],[0.1111111111111111,\"#46039f\"],[0.2222222222222222,\"#7201a8\"],[0.3333333333333333,\"#9c179e\"],[0.4444444444444444,\"#bd3786\"],[0.5555555555555556,\"#d8576b\"],[0.6666666666666666,\"#ed7953\"],[0.7777777777777778,\"#fb9f3a\"],[0.8888888888888888,\"#fdca26\"],[1.0,\"#f0f921\"]]}],\"choropleth\":[{\"type\":\"choropleth\",\"colorbar\":{\"outlinewidth\":0,\"ticks\":\"\"}}],\"histogram2d\":[{\"type\":\"histogram2d\",\"colorbar\":{\"outlinewidth\":0,\"ticks\":\"\"},\"colorscale\":[[0.0,\"#0d0887\"],[0.1111111111111111,\"#46039f\"],[0.2222222222222222,\"#7201a8\"],[0.3333333333333333,\"#9c179e\"],[0.4444444444444444,\"#bd3786\"],[0.5555555555555556,\"#d8576b\"],[0.6666666666666666,\"#ed7953\"],[0.7777777777777778,\"#fb9f3a\"],[0.8888888888888888,\"#fdca26\"],[1.0,\"#f0f921\"]]}],\"heatmap\":[{\"type\":\"heatmap\",\"colorbar\":{\"outlinewidth\":0,\"ticks\":\"\"},\"colorscale\":[[0.0,\"#0d0887\"],[0.1111111111111111,\"#46039f\"],[0.2222222222222222,\"#7201a8\"],[0.3333333333333333,\"#9c179e\"],[0.4444444444444444,\"#bd3786\"],[0.5555555555555556,\"#d8576b\"],[0.6666666666666666,\"#ed7953\"],[0.7777777777777778,\"#fb9f3a\"],[0.8888888888888888,\"#fdca26\"],[1.0,\"#f0f921\"]]}],\"contourcarpet\":[{\"type\":\"contourcarpet\",\"colorbar\":{\"outlinewidth\":0,\"ticks\":\"\"}}],\"contour\":[{\"type\":\"contour\",\"colorbar\":{\"outlinewidth\":0,\"ticks\":\"\"},\"colorscale\":[[0.0,\"#0d0887\"],[0.1111111111111111,\"#46039f\"],[0.2222222222222222,\"#7201a8\"],[0.3333333333333333,\"#9c179e\"],[0.4444444444444444,\"#bd3786\"],[0.5555555555555556,\"#d8576b\"],[0.6666666666666666,\"#ed7953\"],[0.7777777777777778,\"#fb9f3a\"],[0.8888888888888888,\"#fdca26\"],[1.0,\"#f0f921\"]]}],\"surface\":[{\"type\":\"surface\",\"colorbar\":{\"outlinewidth\":0,\"ticks\":\"\"},\"colorscale\":[[0.0,\"#0d0887\"],[0.1111111111111111,\"#46039f\"],[0.2222222222222222,\"#7201a8\"],[0.3333333333333333,\"#9c179e\"],[0.4444444444444444,\"#bd3786\"],[0.5555555555555556,\"#d8576b\"],[0.6666666666666666,\"#ed7953\"],[0.7777777777777778,\"#fb9f3a\"],[0.8888888888888888,\"#fdca26\"],[1.0,\"#f0f921\"]]}],\"mesh3d\":[{\"type\":\"mesh3d\",\"colorbar\":{\"outlinewidth\":0,\"ticks\":\"\"}}],\"scatter\":[{\"fillpattern\":{\"fillmode\":\"overlay\",\"size\":10,\"solidity\":0.2},\"type\":\"scatter\"}],\"parcoords\":[{\"type\":\"parcoords\",\"line\":{\"colorbar\":{\"outlinewidth\":0,\"ticks\":\"\"}}}],\"scatterpolargl\":[{\"type\":\"scatterpolargl\",\"marker\":{\"colorbar\":{\"outlinewidth\":0,\"ticks\":\"\"}}}],\"bar\":[{\"error_x\":{\"color\":\"#2a3f5f\"},\"error_y\":{\"color\":\"#2a3f5f\"},\"marker\":{\"line\":{\"color\":\"#E5ECF6\",\"width\":0.5},\"pattern\":{\"fillmode\":\"overlay\",\"size\":10,\"solidity\":0.2}},\"type\":\"bar\"}],\"scattergeo\":[{\"type\":\"scattergeo\",\"marker\":{\"colorbar\":{\"outlinewidth\":0,\"ticks\":\"\"}}}],\"scatterpolar\":[{\"type\":\"scatterpolar\",\"marker\":{\"colorbar\":{\"outlinewidth\":0,\"ticks\":\"\"}}}],\"histogram\":[{\"marker\":{\"pattern\":{\"fillmode\":\"overlay\",\"size\":10,\"solidity\":0.2}},\"type\":\"histogram\"}],\"scattergl\":[{\"type\":\"scattergl\",\"marker\":{\"colorbar\":{\"outlinewidth\":0,\"ticks\":\"\"}}}],\"scatter3d\":[{\"type\":\"scatter3d\",\"line\":{\"colorbar\":{\"outlinewidth\":0,\"ticks\":\"\"}},\"marker\":{\"colorbar\":{\"outlinewidth\":0,\"ticks\":\"\"}}}],\"scattermap\":[{\"type\":\"scattermap\",\"marker\":{\"colorbar\":{\"outlinewidth\":0,\"ticks\":\"\"}}}],\"scattermapbox\":[{\"type\":\"scattermapbox\",\"marker\":{\"colorbar\":{\"outlinewidth\":0,\"ticks\":\"\"}}}],\"scatterternary\":[{\"type\":\"scatterternary\",\"marker\":{\"colorbar\":{\"outlinewidth\":0,\"ticks\":\"\"}}}],\"scattercarpet\":[{\"type\":\"scattercarpet\",\"marker\":{\"colorbar\":{\"outlinewidth\":0,\"ticks\":\"\"}}}],\"carpet\":[{\"aaxis\":{\"endlinecolor\":\"#2a3f5f\",\"gridcolor\":\"white\",\"linecolor\":\"white\",\"minorgridcolor\":\"white\",\"startlinecolor\":\"#2a3f5f\"},\"baxis\":{\"endlinecolor\":\"#2a3f5f\",\"gridcolor\":\"white\",\"linecolor\":\"white\",\"minorgridcolor\":\"white\",\"startlinecolor\":\"#2a3f5f\"},\"type\":\"carpet\"}],\"table\":[{\"cells\":{\"fill\":{\"color\":\"#EBF0F8\"},\"line\":{\"color\":\"white\"}},\"header\":{\"fill\":{\"color\":\"#C8D4E3\"},\"line\":{\"color\":\"white\"}},\"type\":\"table\"}],\"barpolar\":[{\"marker\":{\"line\":{\"color\":\"#E5ECF6\",\"width\":0.5},\"pattern\":{\"fillmode\":\"overlay\",\"size\":10,\"solidity\":0.2}},\"type\":\"barpolar\"}],\"pie\":[{\"automargin\":true,\"type\":\"pie\"}]},\"layout\":{\"autotypenumbers\":\"strict\",\"colorway\":[\"#636efa\",\"#EF553B\",\"#00cc96\",\"#ab63fa\",\"#FFA15A\",\"#19d3f3\",\"#FF6692\",\"#B6E880\",\"#FF97FF\",\"#FECB52\"],\"font\":{\"color\":\"#2a3f5f\"},\"hovermode\":\"closest\",\"hoverlabel\":{\"align\":\"left\"},\"paper_bgcolor\":\"white\",\"plot_bgcolor\":\"#E5ECF6\",\"polar\":{\"bgcolor\":\"#E5ECF6\",\"angularaxis\":{\"gridcolor\":\"white\",\"linecolor\":\"white\",\"ticks\":\"\"},\"radialaxis\":{\"gridcolor\":\"white\",\"linecolor\":\"white\",\"ticks\":\"\"}},\"ternary\":{\"bgcolor\":\"#E5ECF6\",\"aaxis\":{\"gridcolor\":\"white\",\"linecolor\":\"white\",\"ticks\":\"\"},\"baxis\":{\"gridcolor\":\"white\",\"linecolor\":\"white\",\"ticks\":\"\"},\"caxis\":{\"gridcolor\":\"white\",\"linecolor\":\"white\",\"ticks\":\"\"}},\"coloraxis\":{\"colorbar\":{\"outlinewidth\":0,\"ticks\":\"\"}},\"colorscale\":{\"sequential\":[[0.0,\"#0d0887\"],[0.1111111111111111,\"#46039f\"],[0.2222222222222222,\"#7201a8\"],[0.3333333333333333,\"#9c179e\"],[0.4444444444444444,\"#bd3786\"],[0.5555555555555556,\"#d8576b\"],[0.6666666666666666,\"#ed7953\"],[0.7777777777777778,\"#fb9f3a\"],[0.8888888888888888,\"#fdca26\"],[1.0,\"#f0f921\"]],\"sequentialminus\":[[0.0,\"#0d0887\"],[0.1111111111111111,\"#46039f\"],[0.2222222222222222,\"#7201a8\"],[0.3333333333333333,\"#9c179e\"],[0.4444444444444444,\"#bd3786\"],[0.5555555555555556,\"#d8576b\"],[0.6666666666666666,\"#ed7953\"],[0.7777777777777778,\"#fb9f3a\"],[0.8888888888888888,\"#fdca26\"],[1.0,\"#f0f921\"]],\"diverging\":[[0,\"#8e0152\"],[0.1,\"#c51b7d\"],[0.2,\"#de77ae\"],[0.3,\"#f1b6da\"],[0.4,\"#fde0ef\"],[0.5,\"#f7f7f7\"],[0.6,\"#e6f5d0\"],[0.7,\"#b8e186\"],[0.8,\"#7fbc41\"],[0.9,\"#4d9221\"],[1,\"#276419\"]]},\"xaxis\":{\"gridcolor\":\"white\",\"linecolor\":\"white\",\"ticks\":\"\",\"title\":{\"standoff\":15},\"zerolinecolor\":\"white\",\"automargin\":true,\"zerolinewidth\":2},\"yaxis\":{\"gridcolor\":\"white\",\"linecolor\":\"white\",\"ticks\":\"\",\"title\":{\"standoff\":15},\"zerolinecolor\":\"white\",\"automargin\":true,\"zerolinewidth\":2},\"scene\":{\"xaxis\":{\"backgroundcolor\":\"#E5ECF6\",\"gridcolor\":\"white\",\"linecolor\":\"white\",\"showbackground\":true,\"ticks\":\"\",\"zerolinecolor\":\"white\",\"gridwidth\":2},\"yaxis\":{\"backgroundcolor\":\"#E5ECF6\",\"gridcolor\":\"white\",\"linecolor\":\"white\",\"showbackground\":true,\"ticks\":\"\",\"zerolinecolor\":\"white\",\"gridwidth\":2},\"zaxis\":{\"backgroundcolor\":\"#E5ECF6\",\"gridcolor\":\"white\",\"linecolor\":\"white\",\"showbackground\":true,\"ticks\":\"\",\"zerolinecolor\":\"white\",\"gridwidth\":2}},\"shapedefaults\":{\"line\":{\"color\":\"#2a3f5f\"}},\"annotationdefaults\":{\"arrowcolor\":\"#2a3f5f\",\"arrowhead\":0,\"arrowwidth\":1},\"geo\":{\"bgcolor\":\"white\",\"landcolor\":\"#E5ECF6\",\"subunitcolor\":\"white\",\"showland\":true,\"showlakes\":true,\"lakecolor\":\"white\"},\"title\":{\"x\":0.05},\"mapbox\":{\"style\":\"light\"}}},\"xaxis\":{\"anchor\":\"y\",\"domain\":[0.0,0.45],\"title\":{\"text\":\"Lung Cancer (0=No, 1=Yes)\"},\"showgrid\":true,\"gridwidth\":0.5,\"gridcolor\":\"rgba(128,128,128,0.3)\",\"showline\":true,\"linewidth\":1,\"linecolor\":\"rgba(0,0,0,0.2)\",\"mirror\":true},\"yaxis\":{\"anchor\":\"x\",\"domain\":[0.7333333333333334,1.0],\"title\":{\"text\":\"Variable Value\"},\"showgrid\":true,\"gridwidth\":0.5,\"gridcolor\":\"rgba(128,128,128,0.3)\",\"showline\":true,\"linewidth\":1,\"linecolor\":\"rgba(0,0,0,0.2)\",\"mirror\":true},\"xaxis2\":{\"anchor\":\"y2\",\"domain\":[0.55,1.0],\"title\":{\"text\":\"Lung Cancer (0=No, 1=Yes)\"},\"showgrid\":true,\"gridwidth\":0.5,\"gridcolor\":\"rgba(128,128,128,0.3)\",\"showline\":true,\"linewidth\":1,\"linecolor\":\"rgba(0,0,0,0.2)\",\"mirror\":true},\"yaxis2\":{\"anchor\":\"x2\",\"domain\":[0.7333333333333334,1.0],\"title\":{\"text\":\"Variable Value\"},\"showgrid\":true,\"gridwidth\":0.5,\"gridcolor\":\"rgba(128,128,128,0.3)\",\"showline\":true,\"linewidth\":1,\"linecolor\":\"rgba(0,0,0,0.2)\",\"mirror\":true},\"xaxis3\":{\"anchor\":\"y3\",\"domain\":[0.0,0.45],\"title\":{\"text\":\"Lung Cancer (0=No, 1=Yes)\"},\"showgrid\":true,\"gridwidth\":0.5,\"gridcolor\":\"rgba(128,128,128,0.3)\",\"showline\":true,\"linewidth\":1,\"linecolor\":\"rgba(0,0,0,0.2)\",\"mirror\":true},\"yaxis3\":{\"anchor\":\"x3\",\"domain\":[0.3666666666666667,0.6333333333333333],\"title\":{\"text\":\"Variable Value\"},\"showgrid\":true,\"gridwidth\":0.5,\"gridcolor\":\"rgba(128,128,128,0.3)\",\"showline\":true,\"linewidth\":1,\"linecolor\":\"rgba(0,0,0,0.2)\",\"mirror\":true},\"xaxis4\":{\"anchor\":\"y4\",\"domain\":[0.55,1.0],\"title\":{\"text\":\"Lung Cancer (0=No, 1=Yes)\"},\"showgrid\":true,\"gridwidth\":0.5,\"gridcolor\":\"rgba(128,128,128,0.3)\",\"showline\":true,\"linewidth\":1,\"linecolor\":\"rgba(0,0,0,0.2)\",\"mirror\":true},\"yaxis4\":{\"anchor\":\"x4\",\"domain\":[0.3666666666666667,0.6333333333333333],\"title\":{\"text\":\"Variable Value\"},\"showgrid\":true,\"gridwidth\":0.5,\"gridcolor\":\"rgba(128,128,128,0.3)\",\"showline\":true,\"linewidth\":1,\"linecolor\":\"rgba(0,0,0,0.2)\",\"mirror\":true},\"xaxis5\":{\"anchor\":\"y5\",\"domain\":[0.0,0.45],\"title\":{\"text\":\"Lung Cancer (0=No, 1=Yes)\"},\"showgrid\":true,\"gridwidth\":0.5,\"gridcolor\":\"rgba(128,128,128,0.3)\",\"showline\":true,\"linewidth\":1,\"linecolor\":\"rgba(0,0,0,0.2)\",\"mirror\":true},\"yaxis5\":{\"anchor\":\"x5\",\"domain\":[0.0,0.26666666666666666],\"title\":{\"text\":\"Variable Value\"},\"showgrid\":true,\"gridwidth\":0.5,\"gridcolor\":\"rgba(128,128,128,0.3)\",\"showline\":true,\"linewidth\":1,\"linecolor\":\"rgba(0,0,0,0.2)\",\"mirror\":true},\"xaxis6\":{\"anchor\":\"y6\",\"domain\":[0.55,1.0],\"title\":{\"text\":\"Lung Cancer (0=No, 1=Yes)\"},\"showgrid\":true,\"gridwidth\":0.5,\"gridcolor\":\"rgba(128,128,128,0.3)\",\"showline\":true,\"linewidth\":1,\"linecolor\":\"rgba(0,0,0,0.2)\",\"mirror\":true},\"yaxis6\":{\"anchor\":\"x6\",\"domain\":[0.0,0.26666666666666666],\"title\":{\"text\":\"Variable Value\"},\"showgrid\":true,\"gridwidth\":0.5,\"gridcolor\":\"rgba(128,128,128,0.3)\",\"showline\":true,\"linewidth\":1,\"linecolor\":\"rgba(0,0,0,0.2)\",\"mirror\":true},\"annotations\":[{\"font\":{\"size\":16},\"showarrow\":false,\"text\":\"Age vs Lung Cancer\",\"x\":0.225,\"xanchor\":\"center\",\"xref\":\"paper\",\"y\":1.0,\"yanchor\":\"bottom\",\"yref\":\"paper\"},{\"font\":{\"size\":16},\"showarrow\":false,\"text\":\"Smoking vs Lung Cancer\",\"x\":0.775,\"xanchor\":\"center\",\"xref\":\"paper\",\"y\":1.0,\"yanchor\":\"bottom\",\"yref\":\"paper\"},{\"font\":{\"size\":16},\"showarrow\":false,\"text\":\"Yellow_fingers vs Lung Cancer\",\"x\":0.225,\"xanchor\":\"center\",\"xref\":\"paper\",\"y\":0.6333333333333333,\"yanchor\":\"bottom\",\"yref\":\"paper\"},{\"font\":{\"size\":16},\"showarrow\":false,\"text\":\"Fatigue vs Lung Cancer\",\"x\":0.775,\"xanchor\":\"center\",\"xref\":\"paper\",\"y\":0.6333333333333333,\"yanchor\":\"bottom\",\"yref\":\"paper\"},{\"font\":{\"size\":16},\"showarrow\":false,\"text\":\"Coughing vs Lung Cancer\",\"x\":0.225,\"xanchor\":\"center\",\"xref\":\"paper\",\"y\":0.26666666666666666,\"yanchor\":\"bottom\",\"yref\":\"paper\"},{\"font\":{\"size\":16},\"showarrow\":false,\"text\":\"Shortness_of_breath vs Lung Cancer\",\"x\":0.775,\"xanchor\":\"center\",\"xref\":\"paper\",\"y\":0.26666666666666666,\"yanchor\":\"bottom\",\"yref\":\"paper\"}],\"title\":{\"font\":{\"size\":18},\"text\":\"\\ud83d\\udcca Comprehensive Analysis of Lung Cancer Risk Factors\",\"x\":0.5},\"height\":1200,\"width\":1100,\"showlegend\":true},                        {\"responsive\": true}                    ).then(function(){\n",
       "                            \n",
       "var gd = document.getElementById('dc202659-da64-4fab-9b4b-cc33ff1b0857');\n",
       "var x = new MutationObserver(function (mutations, observer) {{\n",
       "        var display = window.getComputedStyle(gd).display;\n",
       "        if (!display || display === 'none') {{\n",
       "            console.log([gd, 'removed!']);\n",
       "            Plotly.purge(gd);\n",
       "            observer.disconnect();\n",
       "        }}\n",
       "}});\n",
       "\n",
       "// Listen for the removal of the full notebook cells\n",
       "var notebookContainer = gd.closest('#notebook-container');\n",
       "if (notebookContainer) {{\n",
       "    x.observe(notebookContainer, {childList: true});\n",
       "}}\n",
       "\n",
       "// Listen for the clearing of the current output cell\n",
       "var outputEl = gd.closest('.output');\n",
       "if (outputEl) {{\n",
       "    x.observe(outputEl, {childList: true});\n",
       "}}\n",
       "\n",
       "                        })                };            </script>        </div>"
      ]
     },
     "metadata": {},
     "output_type": "display_data"
    }
   ],
   "source": [
    "from plotly.subplots import make_subplots\n",
    "import plotly.graph_objects as go\n",
    "import pandas as pd\n",
    "\n",
    "# Variables a analizar vs lung_cancer\n",
    "variables = ['age', 'smoking', 'yellow_fingers', 'fatigue', 'coughing', 'shortness_of_breath']\n",
    "target = 'lung_cancer'\n",
    "\n",
    "# Crear subplots (2 columnas)\n",
    "rows = (len(variables) + 1) // 2\n",
    "fig = make_subplots(\n",
    "    rows=rows, cols=2,\n",
    "    subplot_titles=[f'{var.capitalize()} vs Lung Cancer' for var in variables],\n",
    "    vertical_spacing=0.1,\n",
    "    horizontal_spacing=0.1\n",
    ")\n",
    "\n",
    "# Colores para valores binarios y continuo\n",
    "binary_colors = {0: '#636EFA', 1: '#EF553B'}\n",
    "continuous_color = '#00CC96'\n",
    "\n",
    "# Agregar traces\n",
    "for i, var in enumerate(variables):\n",
    "    row = i // 2 + 1\n",
    "    col = i % 2 + 1\n",
    "    \n",
    "    if var == 'age':  # Edad es continua\n",
    "        fig.add_trace(\n",
    "            go.Scatter(\n",
    "                x=df[var],\n",
    "                y=df[target],\n",
    "                mode='markers',\n",
    "                marker=dict(\n",
    "                    color=continuous_color,\n",
    "                    size=8,\n",
    "                    opacity=0.7,\n",
    "                    line=dict(width=0.5, color='DarkSlateGrey')\n",
    "                ),\n",
    "                name=var,\n",
    "                hovertemplate=(\n",
    "                    \"<b>\"+var.capitalize()+\"</b>: %{x}<br>\" +\n",
    "                    \"Lung Cancer: %{y}<br>\" +\n",
    "                    \"Smoking: %{customdata[0]}<br>\" +\n",
    "                    \"Fatigue: %{customdata[1]}<br>\" +\n",
    "                    \"<extra></extra>\"\n",
    "                ),\n",
    "                customdata=list(zip(df['smoking'], df['fatigue']))\n",
    "            ),\n",
    "            row=row, col=col\n",
    "        )\n",
    "    else:  # Variables binarias\n",
    "        fig.add_trace(\n",
    "            go.Box(\n",
    "                y=subset[var],\n",
    "                x=[str(lc_val)]*len(subset),\n",
    "                name=f\"Lung Cancer={lc_val}\",\n",
    "                marker_color=continuous_color,\n",
    "                boxpoints='all',\n",
    "                jitter=0.5,\n",
    "                pointpos=-1.8,\n",
    "                showlegend=True,\n",
    "                hovertemplate=(\"Lung Cancer=\" + str(lc_val) + \"<br>\" + var.capitalize() + \": %{y}<br><extra></extra>\")\n",
    "            ),\n",
    "            row=row, col=col\n",
    "        )\n",
    "\n",
    "# Layout general\n",
    "fig.update_layout(\n",
    "    title_text=\"📊 Comprehensive Analysis of Lung Cancer Risk Factors\",\n",
    "    title_font_size=18,\n",
    "    title_x=0.5,\n",
    "    height=1200,\n",
    "    width=1100,\n",
    "    showlegend=True\n",
    ")\n",
    "\n",
    "# Ejes\n",
    "fig.update_yaxes(title_text=\"Variable Value\")\n",
    "fig.update_xaxes(title_text=\"Lung Cancer (0=No, 1=Yes)\")\n",
    "\n",
    "# Grid y bordes\n",
    "fig.update_xaxes(showgrid=True, gridwidth=0.5, gridcolor='rgba(128,128,128,0.3)')\n",
    "fig.update_yaxes(showgrid=True, gridwidth=0.5, gridcolor='rgba(128,128,128,0.3)')\n",
    "fig.update_xaxes(showline=True, linewidth=1, linecolor='rgba(0,0,0,0.2)', mirror=True)\n",
    "fig.update_yaxes(showline=True, linewidth=1, linecolor='rgba(0,0,0,0.2)', mirror=True)\n",
    "\n",
    "fig.show()\n"
   ]
  },
  {
   "cell_type": "code",
   "execution_count": 27,
   "id": "29a934f4",
   "metadata": {},
   "outputs": [
    {
     "data": {
      "application/vnd.plotly.v1+json": {
       "config": {
        "plotlyServerURL": "https://plot.ly"
       },
       "data": [
        {
         "customdata": [
          [
           69,
           0,
           1
          ],
          [
           74,
           1,
           1
          ],
          [
           75,
           0,
           1
          ],
          [
           52,
           1,
           1
          ],
          [
           51,
           1,
           1
          ],
          [
           53,
           1,
           0
          ],
          [
           61,
           1,
           1
          ],
          [
           72,
           0,
           1
          ],
          [
           58,
           1,
           1
          ],
          [
           48,
           0,
           1
          ],
          [
           75,
           1,
           0
          ],
          [
           57,
           1,
           0
          ],
          [
           68,
           1,
           1
          ],
          [
           44,
           1,
           1
          ],
          [
           64,
           0,
           0
          ],
          [
           60,
           1,
           1
          ],
          [
           72,
           1,
           0
          ],
          [
           65,
           0,
           1
          ],
          [
           61,
           1,
           1
          ],
          [
           53,
           1,
           0
          ],
          [
           62,
           1,
           0
          ],
          [
           67,
           1,
           0
          ],
          [
           59,
           1,
           0
          ],
          [
           60,
           0,
           0
          ],
          [
           56,
           1,
           0
          ],
          [
           60,
           1,
           0
          ],
          [
           68,
           1,
           1
          ],
          [
           63,
           0,
           1
          ],
          [
           77,
           0,
           1
          ],
          [
           52,
           1,
           1
          ],
          [
           70,
           1,
           0
          ],
          [
           72,
           1,
           1
          ],
          [
           62,
           1,
           0
          ],
          [
           64,
           1,
           1
          ],
          [
           70,
           0,
           1
          ],
          [
           56,
           0,
           1
          ],
          [
           63,
           1,
           1
          ],
          [
           54,
           1,
           1
          ],
          [
           49,
           1,
           1
          ],
          [
           57,
           0,
           1
          ],
          [
           52,
           0,
           0
          ],
          [
           63,
           0,
           1
          ],
          [
           73,
           0,
           0
          ],
          [
           47,
           0,
           1
          ],
          [
           69,
           1,
           1
          ],
          [
           70,
           0,
           1
          ],
          [
           70,
           0,
           1
          ],
          [
           68,
           0,
           0
          ],
          [
           74,
           0,
           1
          ],
          [
           71,
           1,
           1
          ],
          [
           56,
           0,
           1
          ],
          [
           66,
           1,
           1
          ],
          [
           76,
           1,
           1
          ],
          [
           78,
           1,
           1
          ],
          [
           68,
           1,
           0
          ],
          [
           66,
           1,
           1
          ],
          [
           67,
           0,
           1
          ],
          [
           60,
           1,
           1
          ],
          [
           61,
           1,
           1
          ],
          [
           58,
           1,
           0
          ],
          [
           76,
           0,
           1
          ],
          [
           56,
           1,
           1
          ],
          [
           67,
           1,
           0
          ],
          [
           73,
           1,
           1
          ],
          [
           54,
           1,
           1
          ],
          [
           62,
           1,
           0
          ],
          [
           81,
           0,
           0
          ],
          [
           56,
           0,
           1
          ],
          [
           60,
           0,
           0
          ],
          [
           66,
           0,
           0
          ],
          [
           62,
           0,
           1
          ],
          [
           62,
           1,
           0
          ],
          [
           55,
           1,
           1
          ],
          [
           62,
           0,
           0
          ],
          [
           71,
           0,
           1
          ],
          [
           52,
           1,
           1
          ],
          [
           59,
           0,
           0
          ],
          [
           48,
           1,
           1
          ],
          [
           60,
           0,
           1
          ],
          [
           61,
           1,
           0
          ],
          [
           59,
           1,
           0
          ],
          [
           64,
           0,
           1
          ],
          [
           56,
           1,
           1
          ],
          [
           58,
           1,
           0
          ],
          [
           81,
           0,
           1
          ],
          [
           64,
           1,
           1
          ],
          [
           62,
           1,
           0
          ],
          [
           72,
           1,
           1
          ],
          [
           60,
           0,
           1
          ],
          [
           61,
           1,
           1
          ],
          [
           60,
           1,
           0
          ],
          [
           49,
           0,
           0
          ],
          [
           53,
           0,
           1
          ],
          [
           58,
           0,
           1
          ],
          [
           61,
           1,
           1
          ],
          [
           68,
           0,
           1
          ],
          [
           60,
           1,
           0
          ],
          [
           72,
           0,
           1
          ],
          [
           72,
           0,
           1
          ],
          [
           57,
           1,
           1
          ],
          [
           51,
           1,
           1
          ],
          [
           54,
           1,
           1
          ],
          [
           56,
           0,
           0
          ],
          [
           77,
           1,
           1
          ],
          [
           64,
           0,
           1
          ],
          [
           57,
           1,
           1
          ],
          [
           66,
           1,
           1
          ],
          [
           70,
           1,
           0
          ],
          [
           53,
           0,
           1
          ],
          [
           51,
           1,
           1
          ],
          [
           58,
           1,
           0
          ],
          [
           58,
           1,
           1
          ],
          [
           51,
           1,
           1
          ],
          [
           61,
           0,
           0
          ],
          [
           61,
           1,
           1
          ],
          [
           76,
           1,
           1
          ],
          [
           71,
           1,
           0
          ],
          [
           69,
           0,
           1
          ],
          [
           56,
           1,
           1
          ],
          [
           67,
           0,
           1
          ],
          [
           54,
           1,
           0
          ],
          [
           63,
           0,
           1
          ],
          [
           47,
           1,
           1
          ],
          [
           62,
           1,
           1
          ],
          [
           65,
           1,
           1
          ],
          [
           63,
           1,
           1
          ],
          [
           64,
           0,
           0
          ],
          [
           65,
           1,
           1
          ],
          [
           51,
           0,
           1
          ],
          [
           56,
           0,
           1
          ],
          [
           70,
           1,
           1
          ],
          [
           58,
           1,
           0
          ],
          [
           67,
           1,
           1
          ],
          [
           62,
           0,
           1
          ],
          [
           74,
           0,
           1
          ],
          [
           75,
           1,
           0
          ],
          [
           56,
           0,
           1
          ],
          [
           55,
           0,
           1
          ],
          [
           62,
           1,
           1
          ],
          [
           73,
           1,
           1
          ],
          [
           68,
           1,
           1
          ],
          [
           75,
           0,
           1
          ],
          [
           63,
           0,
           0
          ],
          [
           61,
           0,
           1
          ],
          [
           62,
           0,
           0
          ],
          [
           44,
           0,
           1
          ],
          [
           56,
           1,
           1
          ],
          [
           54,
           0,
           1
          ],
          [
           56,
           0,
           1
          ],
          [
           69,
           0,
           0
          ],
          [
           72,
           0,
           1
          ],
          [
           59,
           1,
           1
          ],
          [
           70,
           0,
           1
          ],
          [
           64,
           1,
           1
          ],
          [
           61,
           1,
           1
          ],
          [
           72,
           1,
           1
          ],
          [
           63,
           1,
           0
          ],
          [
           74,
           1,
           1
          ],
          [
           71,
           0,
           1
          ],
          [
           72,
           1,
           1
          ],
          [
           77,
           1,
           0
          ],
          [
           72,
           0,
           1
          ],
          [
           55,
           1,
           1
          ],
          [
           65,
           1,
           0
          ],
          [
           67,
           1,
           1
          ],
          [
           69,
           0,
           1
          ],
          [
           55,
           1,
           1
          ],
          [
           51,
           1,
           0
          ],
          [
           64,
           0,
           0
          ],
          [
           63,
           0,
           1
          ],
          [
           69,
           0,
           0
          ],
          [
           64,
           0,
           0
          ],
          [
           59,
           0,
           1
          ],
          [
           73,
           1,
           0
          ],
          [
           55,
           1,
           1
          ],
          [
           63,
           0,
           0
          ],
          [
           60,
           0,
           1
          ],
          [
           74,
           1,
           1
          ],
          [
           65,
           0,
           0
          ],
          [
           79,
           1,
           1
          ],
          [
           62,
           0,
           1
          ],
          [
           71,
           1,
           0
          ],
          [
           67,
           0,
           1
          ],
          [
           55,
           1,
           1
          ],
          [
           54,
           1,
           0
          ],
          [
           77,
           0,
           1
          ],
          [
           58,
           1,
           1
          ],
          [
           64,
           1,
           0
          ],
          [
           61,
           1,
           1
          ],
          [
           67,
           1,
           1
          ],
          [
           56,
           1,
           0
          ],
          [
           70,
           0,
           0
          ],
          [
           70,
           0,
           1
          ],
          [
           57,
           0,
           1
          ],
          [
           77,
           0,
           1
          ],
          [
           63,
           1,
           1
          ],
          [
           62,
           1,
           1
          ],
          [
           59,
           1,
           1
          ],
          [
           70,
           0,
           1
          ],
          [
           71,
           0,
           0
          ],
          [
           56,
           0,
           1
          ],
          [
           57,
           0,
           0
          ],
          [
           78,
           0,
           1
          ],
          [
           64,
           1,
           1
          ],
          [
           62,
           0,
           1
          ],
          [
           49,
           0,
           0
          ],
          [
           77,
           0,
           1
          ],
          [
           64,
           0,
           0
          ],
          [
           63,
           0,
           1
          ],
          [
           54,
           1,
           1
          ],
          [
           38,
           0,
           1
          ],
          [
           75,
           0,
           0
          ],
          [
           70,
           1,
           0
          ],
          [
           59,
           1,
           1
          ],
          [
           77,
           1,
           0
          ],
          [
           61,
           0,
           1
          ],
          [
           64,
           1,
           1
          ],
          [
           71,
           1,
           0
          ],
          [
           67,
           0,
           1
          ],
          [
           64,
           1,
           1
          ],
          [
           69,
           1,
           1
          ],
          [
           64,
           1,
           1
          ],
          [
           59,
           0,
           0
          ],
          [
           67,
           1,
           1
          ],
          [
           74,
           0,
           1
          ],
          [
           77,
           0,
           1
          ],
          [
           60,
           1,
           1
          ],
          [
           64,
           1,
           0
          ],
          [
           70,
           1,
           1
          ],
          [
           58,
           0,
           1
          ],
          [
           59,
           0,
           1
          ],
          [
           39,
           1,
           1
          ],
          [
           71,
           0,
           1
          ],
          [
           70,
           1,
           1
          ],
          [
           60,
           1,
           1
          ],
          [
           60,
           1,
           0
          ],
          [
           55,
           1,
           1
          ],
          [
           55,
           0,
           1
          ],
          [
           63,
           1,
           1
          ],
          [
           59,
           0,
           1
          ],
          [
           56,
           1,
           0
          ],
          [
           64,
           1,
           0
          ],
          [
           62,
           1,
           1
          ],
          [
           77,
           1,
           1
          ],
          [
           59,
           0,
           0
          ],
          [
           60,
           0,
           1
          ],
          [
           58,
           1,
           0
          ],
          [
           58,
           1,
           1
          ],
          [
           51,
           1,
           1
          ],
          [
           61,
           0,
           0
          ],
          [
           61,
           1,
           1
          ],
          [
           76,
           1,
           1
          ],
          [
           71,
           1,
           0
          ],
          [
           69,
           0,
           1
          ],
          [
           56,
           1,
           1
          ],
          [
           67,
           0,
           1
          ],
          [
           54,
           1,
           0
          ],
          [
           63,
           0,
           1
          ],
          [
           47,
           1,
           1
          ],
          [
           62,
           1,
           1
          ],
          [
           65,
           1,
           1
          ],
          [
           63,
           1,
           1
          ],
          [
           64,
           0,
           0
          ],
          [
           65,
           1,
           1
          ],
          [
           51,
           0,
           1
          ],
          [
           56,
           0,
           1
          ],
          [
           70,
           1,
           1
          ],
          [
           58,
           1,
           0
          ],
          [
           67,
           1,
           1
          ],
          [
           62,
           0,
           1
          ]
         ],
         "hovertemplate": "Lung Cancer=1<br>Age: %{x}<br>Smoking: %{y}<br>Age: %{customdata[0]}<br>Smoking: %{customdata[1]}<br>Fatigue: %{customdata[2]}<br><extra></extra>",
         "legendgroup": "LC=1",
         "marker": {
          "color": "#EF553B",
          "line": {
           "color": "DarkSlateGrey",
           "width": 0.5
          },
          "opacity": 0.7,
          "size": 8
         },
         "mode": "markers",
         "name": "age vs smoking | LC=1",
         "showlegend": true,
         "type": "scatter",
         "x": {
          "bdata": "RUpLNDM1PUg6MEs5RCxAPEhBPTU+Qzs8ODxEP000Rkg+QEY4PzYxOTQ/SS9FRkZESkc4QkxOREJDPD06TDhDSTY+UTg8Qj4+Nz5HNDswPD07QDg6UUA+SDw9PDE1Oj1EPEhIOTM2OE1AOUJGNTM6OjM9PUxHRThDNj8vPkE/QEEzOEY6Qz5KSzg3PklESz89Piw4NjhFSDtGQD1IP0pHSE1IN0FDRTczQD9FQDtJNz88SkFPPkdDNzZNOkA9QzhGRjlNPz47Rkc4OU5APjFNQD82JktGO009QEdDQEVAO0NKTTxARjo7J0dGPDw3Nz87OEA+TTs8OjozPT1MR0U4QzY/Lz5BP0BBMzhGOkM+",
          "dtype": "i1"
         },
         "xaxis": "x",
         "y": {
          "bdata": "AAEAAQEBAQABAAEBAQEAAQEAAQEBAQEAAQEBAAABAQEBAQAAAQEBAAAAAAABAAAAAAEAAQEBAQEAAQEBAAEBAQEBAAAAAAABAQAAAQABAAEBAAEBAAEBAQABAQAAAAEAAQAAAQEBAAEAAQEBAAEBAQEAAQEBAAEAAQABAQEBAAEAAAEBAQAAAQAAAQEBAAAAAAABAAAAAAEAAQEBAQEAAQEAAQEBAAEBAAAAAAABAQAAAQABAAEAAQEAAQEBAQEAAAAAAQEBAAAAAAABAAAAAAABAAABAQEAAQEAAQEBAAEAAAEBAQAAAQABAQEBAAEAAQEBAQAAAQEBAAEBAQABAAEAAQEBAQABAAABAQEA",
          "dtype": "i1"
         },
         "yaxis": "y"
        },
        {
         "customdata": [
          [
           59,
           0,
           1
          ],
          [
           63,
           1,
           0
          ],
          [
           63,
           0,
           0
          ],
          [
           68,
           1,
           1
          ],
          [
           60,
           1,
           1
          ],
          [
           69,
           1,
           0
          ],
          [
           61,
           0,
           1
          ],
          [
           21,
           1,
           1
          ],
          [
           69,
           0,
           1
          ],
          [
           55,
           0,
           1
          ],
          [
           57,
           1,
           0
          ],
          [
           56,
           1,
           0
          ],
          [
           59,
           0,
           0
          ],
          [
           56,
           0,
           0
          ],
          [
           60,
           0,
           0
          ],
          [
           60,
           0,
           0
          ],
          [
           58,
           0,
           1
          ],
          [
           63,
           0,
           1
          ],
          [
           69,
           1,
           0
          ],
          [
           64,
           1,
           0
          ],
          [
           47,
           1,
           0
          ],
          [
           57,
           1,
           0
          ],
          [
           68,
           0,
           0
          ],
          [
           57,
           0,
           0
          ],
          [
           71,
           1,
           1
          ],
          [
           63,
           1,
           0
          ],
          [
           62,
           0,
           1
          ],
          [
           61,
           0,
           0
          ],
          [
           59,
           0,
           1
          ],
          [
           68,
           1,
           1
          ],
          [
           67,
           0,
           0
          ],
          [
           55,
           1,
           1
          ],
          [
           70,
           1,
           1
          ],
          [
           64,
           1,
           0
          ],
          [
           87,
           0,
           1
          ],
          [
           59,
           1,
           1
          ],
          [
           55,
           1,
           1
          ],
          [
           46,
           0,
           0
          ],
          [
           63,
           0,
           1
          ]
         ],
         "hovertemplate": "Lung Cancer=0<br>Age: %{x}<br>Smoking: %{y}<br>Age: %{customdata[0]}<br>Smoking: %{customdata[1]}<br>Fatigue: %{customdata[2]}<br><extra></extra>",
         "legendgroup": "LC=0",
         "marker": {
          "color": "#636EFA",
          "line": {
           "color": "DarkSlateGrey",
           "width": 0.5
          },
          "opacity": 0.7,
          "size": 8
         },
         "mode": "markers",
         "name": "age vs smoking | LC=0",
         "showlegend": true,
         "type": "scatter",
         "x": {
          "bdata": "Oz8/RDxFPRVFNzk4Ozg8PDo/RUAvOUQ5Rz8+PTtEQzdGQFc7Ny4/",
          "dtype": "i1"
         },
         "xaxis": "x",
         "y": {
          "bdata": "AAEAAQEBAAEAAAEBAAAAAAAAAQEBAQAAAQEAAAABAAEBAQABAQAA",
          "dtype": "i1"
         },
         "yaxis": "y"
        },
        {
         "customdata": [
          [
           69,
           0,
           1
          ],
          [
           74,
           1,
           1
          ],
          [
           75,
           0,
           1
          ],
          [
           52,
           1,
           1
          ],
          [
           51,
           1,
           1
          ],
          [
           53,
           1,
           0
          ],
          [
           61,
           1,
           1
          ],
          [
           72,
           0,
           1
          ],
          [
           58,
           1,
           1
          ],
          [
           48,
           0,
           1
          ],
          [
           75,
           1,
           0
          ],
          [
           57,
           1,
           0
          ],
          [
           68,
           1,
           1
          ],
          [
           44,
           1,
           1
          ],
          [
           64,
           0,
           0
          ],
          [
           60,
           1,
           1
          ],
          [
           72,
           1,
           0
          ],
          [
           65,
           0,
           1
          ],
          [
           61,
           1,
           1
          ],
          [
           53,
           1,
           0
          ],
          [
           62,
           1,
           0
          ],
          [
           67,
           1,
           0
          ],
          [
           59,
           1,
           0
          ],
          [
           60,
           0,
           0
          ],
          [
           56,
           1,
           0
          ],
          [
           60,
           1,
           0
          ],
          [
           68,
           1,
           1
          ],
          [
           63,
           0,
           1
          ],
          [
           77,
           0,
           1
          ],
          [
           52,
           1,
           1
          ],
          [
           70,
           1,
           0
          ],
          [
           72,
           1,
           1
          ],
          [
           62,
           1,
           0
          ],
          [
           64,
           1,
           1
          ],
          [
           70,
           0,
           1
          ],
          [
           56,
           0,
           1
          ],
          [
           63,
           1,
           1
          ],
          [
           54,
           1,
           1
          ],
          [
           49,
           1,
           1
          ],
          [
           57,
           0,
           1
          ],
          [
           52,
           0,
           0
          ],
          [
           63,
           0,
           1
          ],
          [
           73,
           0,
           0
          ],
          [
           47,
           0,
           1
          ],
          [
           69,
           1,
           1
          ],
          [
           70,
           0,
           1
          ],
          [
           70,
           0,
           1
          ],
          [
           68,
           0,
           0
          ],
          [
           74,
           0,
           1
          ],
          [
           71,
           1,
           1
          ],
          [
           56,
           0,
           1
          ],
          [
           66,
           1,
           1
          ],
          [
           76,
           1,
           1
          ],
          [
           78,
           1,
           1
          ],
          [
           68,
           1,
           0
          ],
          [
           66,
           1,
           1
          ],
          [
           67,
           0,
           1
          ],
          [
           60,
           1,
           1
          ],
          [
           61,
           1,
           1
          ],
          [
           58,
           1,
           0
          ],
          [
           76,
           0,
           1
          ],
          [
           56,
           1,
           1
          ],
          [
           67,
           1,
           0
          ],
          [
           73,
           1,
           1
          ],
          [
           54,
           1,
           1
          ],
          [
           62,
           1,
           0
          ],
          [
           81,
           0,
           0
          ],
          [
           56,
           0,
           1
          ],
          [
           60,
           0,
           0
          ],
          [
           66,
           0,
           0
          ],
          [
           62,
           0,
           1
          ],
          [
           62,
           1,
           0
          ],
          [
           55,
           1,
           1
          ],
          [
           62,
           0,
           0
          ],
          [
           71,
           0,
           1
          ],
          [
           52,
           1,
           1
          ],
          [
           59,
           0,
           0
          ],
          [
           48,
           1,
           1
          ],
          [
           60,
           0,
           1
          ],
          [
           61,
           1,
           0
          ],
          [
           59,
           1,
           0
          ],
          [
           64,
           0,
           1
          ],
          [
           56,
           1,
           1
          ],
          [
           58,
           1,
           0
          ],
          [
           81,
           0,
           1
          ],
          [
           64,
           1,
           1
          ],
          [
           62,
           1,
           0
          ],
          [
           72,
           1,
           1
          ],
          [
           60,
           0,
           1
          ],
          [
           61,
           1,
           1
          ],
          [
           60,
           1,
           0
          ],
          [
           49,
           0,
           0
          ],
          [
           53,
           0,
           1
          ],
          [
           58,
           0,
           1
          ],
          [
           61,
           1,
           1
          ],
          [
           68,
           0,
           1
          ],
          [
           60,
           1,
           0
          ],
          [
           72,
           0,
           1
          ],
          [
           72,
           0,
           1
          ],
          [
           57,
           1,
           1
          ],
          [
           51,
           1,
           1
          ],
          [
           54,
           1,
           1
          ],
          [
           56,
           0,
           0
          ],
          [
           77,
           1,
           1
          ],
          [
           64,
           0,
           1
          ],
          [
           57,
           1,
           1
          ],
          [
           66,
           1,
           1
          ],
          [
           70,
           1,
           0
          ],
          [
           53,
           0,
           1
          ],
          [
           51,
           1,
           1
          ],
          [
           58,
           1,
           0
          ],
          [
           58,
           1,
           1
          ],
          [
           51,
           1,
           1
          ],
          [
           61,
           0,
           0
          ],
          [
           61,
           1,
           1
          ],
          [
           76,
           1,
           1
          ],
          [
           71,
           1,
           0
          ],
          [
           69,
           0,
           1
          ],
          [
           56,
           1,
           1
          ],
          [
           67,
           0,
           1
          ],
          [
           54,
           1,
           0
          ],
          [
           63,
           0,
           1
          ],
          [
           47,
           1,
           1
          ],
          [
           62,
           1,
           1
          ],
          [
           65,
           1,
           1
          ],
          [
           63,
           1,
           1
          ],
          [
           64,
           0,
           0
          ],
          [
           65,
           1,
           1
          ],
          [
           51,
           0,
           1
          ],
          [
           56,
           0,
           1
          ],
          [
           70,
           1,
           1
          ],
          [
           58,
           1,
           0
          ],
          [
           67,
           1,
           1
          ],
          [
           62,
           0,
           1
          ],
          [
           74,
           0,
           1
          ],
          [
           75,
           1,
           0
          ],
          [
           56,
           0,
           1
          ],
          [
           55,
           0,
           1
          ],
          [
           62,
           1,
           1
          ],
          [
           73,
           1,
           1
          ],
          [
           68,
           1,
           1
          ],
          [
           75,
           0,
           1
          ],
          [
           63,
           0,
           0
          ],
          [
           61,
           0,
           1
          ],
          [
           62,
           0,
           0
          ],
          [
           44,
           0,
           1
          ],
          [
           56,
           1,
           1
          ],
          [
           54,
           0,
           1
          ],
          [
           56,
           0,
           1
          ],
          [
           69,
           0,
           0
          ],
          [
           72,
           0,
           1
          ],
          [
           59,
           1,
           1
          ],
          [
           70,
           0,
           1
          ],
          [
           64,
           1,
           1
          ],
          [
           61,
           1,
           1
          ],
          [
           72,
           1,
           1
          ],
          [
           63,
           1,
           0
          ],
          [
           74,
           1,
           1
          ],
          [
           71,
           0,
           1
          ],
          [
           72,
           1,
           1
          ],
          [
           77,
           1,
           0
          ],
          [
           72,
           0,
           1
          ],
          [
           55,
           1,
           1
          ],
          [
           65,
           1,
           0
          ],
          [
           67,
           1,
           1
          ],
          [
           69,
           0,
           1
          ],
          [
           55,
           1,
           1
          ],
          [
           51,
           1,
           0
          ],
          [
           64,
           0,
           0
          ],
          [
           63,
           0,
           1
          ],
          [
           69,
           0,
           0
          ],
          [
           64,
           0,
           0
          ],
          [
           59,
           0,
           1
          ],
          [
           73,
           1,
           0
          ],
          [
           55,
           1,
           1
          ],
          [
           63,
           0,
           0
          ],
          [
           60,
           0,
           1
          ],
          [
           74,
           1,
           1
          ],
          [
           65,
           0,
           0
          ],
          [
           79,
           1,
           1
          ],
          [
           62,
           0,
           1
          ],
          [
           71,
           1,
           0
          ],
          [
           67,
           0,
           1
          ],
          [
           55,
           1,
           1
          ],
          [
           54,
           1,
           0
          ],
          [
           77,
           0,
           1
          ],
          [
           58,
           1,
           1
          ],
          [
           64,
           1,
           0
          ],
          [
           61,
           1,
           1
          ],
          [
           67,
           1,
           1
          ],
          [
           56,
           1,
           0
          ],
          [
           70,
           0,
           0
          ],
          [
           70,
           0,
           1
          ],
          [
           57,
           0,
           1
          ],
          [
           77,
           0,
           1
          ],
          [
           63,
           1,
           1
          ],
          [
           62,
           1,
           1
          ],
          [
           59,
           1,
           1
          ],
          [
           70,
           0,
           1
          ],
          [
           71,
           0,
           0
          ],
          [
           56,
           0,
           1
          ],
          [
           57,
           0,
           0
          ],
          [
           78,
           0,
           1
          ],
          [
           64,
           1,
           1
          ],
          [
           62,
           0,
           1
          ],
          [
           49,
           0,
           0
          ],
          [
           77,
           0,
           1
          ],
          [
           64,
           0,
           0
          ],
          [
           63,
           0,
           1
          ],
          [
           54,
           1,
           1
          ],
          [
           38,
           0,
           1
          ],
          [
           75,
           0,
           0
          ],
          [
           70,
           1,
           0
          ],
          [
           59,
           1,
           1
          ],
          [
           77,
           1,
           0
          ],
          [
           61,
           0,
           1
          ],
          [
           64,
           1,
           1
          ],
          [
           71,
           1,
           0
          ],
          [
           67,
           0,
           1
          ],
          [
           64,
           1,
           1
          ],
          [
           69,
           1,
           1
          ],
          [
           64,
           1,
           1
          ],
          [
           59,
           0,
           0
          ],
          [
           67,
           1,
           1
          ],
          [
           74,
           0,
           1
          ],
          [
           77,
           0,
           1
          ],
          [
           60,
           1,
           1
          ],
          [
           64,
           1,
           0
          ],
          [
           70,
           1,
           1
          ],
          [
           58,
           0,
           1
          ],
          [
           59,
           0,
           1
          ],
          [
           39,
           1,
           1
          ],
          [
           71,
           0,
           1
          ],
          [
           70,
           1,
           1
          ],
          [
           60,
           1,
           1
          ],
          [
           60,
           1,
           0
          ],
          [
           55,
           1,
           1
          ],
          [
           55,
           0,
           1
          ],
          [
           63,
           1,
           1
          ],
          [
           59,
           0,
           1
          ],
          [
           56,
           1,
           0
          ],
          [
           64,
           1,
           0
          ],
          [
           62,
           1,
           1
          ],
          [
           77,
           1,
           1
          ],
          [
           59,
           0,
           0
          ],
          [
           60,
           0,
           1
          ],
          [
           58,
           1,
           0
          ],
          [
           58,
           1,
           1
          ],
          [
           51,
           1,
           1
          ],
          [
           61,
           0,
           0
          ],
          [
           61,
           1,
           1
          ],
          [
           76,
           1,
           1
          ],
          [
           71,
           1,
           0
          ],
          [
           69,
           0,
           1
          ],
          [
           56,
           1,
           1
          ],
          [
           67,
           0,
           1
          ],
          [
           54,
           1,
           0
          ],
          [
           63,
           0,
           1
          ],
          [
           47,
           1,
           1
          ],
          [
           62,
           1,
           1
          ],
          [
           65,
           1,
           1
          ],
          [
           63,
           1,
           1
          ],
          [
           64,
           0,
           0
          ],
          [
           65,
           1,
           1
          ],
          [
           51,
           0,
           1
          ],
          [
           56,
           0,
           1
          ],
          [
           70,
           1,
           1
          ],
          [
           58,
           1,
           0
          ],
          [
           67,
           1,
           1
          ],
          [
           62,
           0,
           1
          ]
         ],
         "hovertemplate": "Lung Cancer=1<br>Age: %{x}<br>Alcohol_consuming: %{y}<br>Age: %{customdata[0]}<br>Smoking: %{customdata[1]}<br>Fatigue: %{customdata[2]}<br><extra></extra>",
         "legendgroup": "LC=1",
         "marker": {
          "color": "#EF553B",
          "line": {
           "color": "DarkSlateGrey",
           "width": 0.5
          },
          "opacity": 0.7,
          "size": 8
         },
         "mode": "markers",
         "name": "age vs alcohol_consuming | LC=1",
         "showlegend": false,
         "type": "scatter",
         "x": {
          "bdata": "RUpLNDM1PUg6MEs5RCxAPEhBPTU+Qzs8ODxEP000Rkg+QEY4PzYxOTQ/SS9FRkZESkc4QkxOREJDPD06TDhDSTY+UTg8Qj4+Nz5HNDswPD07QDg6UUA+SDw9PDE1Oj1EPEhIOTM2OE1AOUJGNTM6OjM9PUxHRThDNj8vPkE/QEEzOEY6Qz5KSzg3PklESz89Piw4NjhFSDtGQD1IP0pHSE1IN0FDRTczQD9FQDtJNz88SkFPPkdDNzZNOkA9QzhGRjlNPz47Rkc4OU5APjFNQD82JktGO009QEdDQEVAO0NKTTxARjo7J0dGPDw3Nz87OEA+TTs8OjozPT1MR0U4QzY/Lz5BP0BBMzhGOkM+",
          "dtype": "i1"
         },
         "xaxis": "x2",
         "y": {
          "bdata": "AQAAAQABAAEBAAEBAAAAAQEBAQEBAAAAAAEBAQEBAQEAAQEBAAEBAQEAAQABAQEBAQAAAQAAAQABAAEBAAEBAAABAQEBAQABAQEAAQEBAAEBAAEBAAEBAAAAAQEBAQEAAQEAAQAAAQABAAEBAAEBAAAAAAEBAQAAAQEAAQAAAQABAQEBAQEBAAEBAAEBAQEAAQABAQEBAQAAAQAAAQABAQEAAAAAAAAAAAEBAQABAQEAAQEBAAEAAQEAAQEAAAEBAQEBAAEBAQEAAQABAQABAQEAAAAAAQABAAEBAAAAAQABAQEBAQEBAQABAAEAAQEAAQEAAAABAQAAAAABAQEAAAEBAAEAAAEAAQEBAQEB",
          "dtype": "i1"
         },
         "yaxis": "y2"
        },
        {
         "customdata": [
          [
           59,
           0,
           1
          ],
          [
           63,
           1,
           0
          ],
          [
           63,
           0,
           0
          ],
          [
           68,
           1,
           1
          ],
          [
           60,
           1,
           1
          ],
          [
           69,
           1,
           0
          ],
          [
           61,
           0,
           1
          ],
          [
           21,
           1,
           1
          ],
          [
           69,
           0,
           1
          ],
          [
           55,
           0,
           1
          ],
          [
           57,
           1,
           0
          ],
          [
           56,
           1,
           0
          ],
          [
           59,
           0,
           0
          ],
          [
           56,
           0,
           0
          ],
          [
           60,
           0,
           0
          ],
          [
           60,
           0,
           0
          ],
          [
           58,
           0,
           1
          ],
          [
           63,
           0,
           1
          ],
          [
           69,
           1,
           0
          ],
          [
           64,
           1,
           0
          ],
          [
           47,
           1,
           0
          ],
          [
           57,
           1,
           0
          ],
          [
           68,
           0,
           0
          ],
          [
           57,
           0,
           0
          ],
          [
           71,
           1,
           1
          ],
          [
           63,
           1,
           0
          ],
          [
           62,
           0,
           1
          ],
          [
           61,
           0,
           0
          ],
          [
           59,
           0,
           1
          ],
          [
           68,
           1,
           1
          ],
          [
           67,
           0,
           0
          ],
          [
           55,
           1,
           1
          ],
          [
           70,
           1,
           1
          ],
          [
           64,
           1,
           0
          ],
          [
           87,
           0,
           1
          ],
          [
           59,
           1,
           1
          ],
          [
           55,
           1,
           1
          ],
          [
           46,
           0,
           0
          ],
          [
           63,
           0,
           1
          ]
         ],
         "hovertemplate": "Lung Cancer=0<br>Age: %{x}<br>Alcohol_consuming: %{y}<br>Age: %{customdata[0]}<br>Smoking: %{customdata[1]}<br>Fatigue: %{customdata[2]}<br><extra></extra>",
         "legendgroup": "LC=0",
         "marker": {
          "color": "#636EFA",
          "line": {
           "color": "DarkSlateGrey",
           "width": 0.5
          },
          "opacity": 0.7,
          "size": 8
         },
         "mode": "markers",
         "name": "age vs alcohol_consuming | LC=0",
         "showlegend": false,
         "type": "scatter",
         "x": {
          "bdata": "Oz8/RDxFPRVFNzk4Ozg8PDo/RUAvOUQ5Rz8+PTtEQzdGQFc7Ny4/",
          "dtype": "i1"
         },
         "xaxis": "x2",
         "y": {
          "bdata": "AAEAAAABAAAAAQAAAAABAAAAAAAAAAEAAAAAAQAAAAAAAQAAAAAA",
          "dtype": "i1"
         },
         "yaxis": "y2"
        },
        {
         "customdata": [
          [
           69,
           0,
           1
          ],
          [
           74,
           1,
           1
          ],
          [
           75,
           0,
           1
          ],
          [
           52,
           1,
           1
          ],
          [
           51,
           1,
           1
          ],
          [
           53,
           1,
           0
          ],
          [
           61,
           1,
           1
          ],
          [
           72,
           0,
           1
          ],
          [
           58,
           1,
           1
          ],
          [
           48,
           0,
           1
          ],
          [
           75,
           1,
           0
          ],
          [
           57,
           1,
           0
          ],
          [
           68,
           1,
           1
          ],
          [
           44,
           1,
           1
          ],
          [
           64,
           0,
           0
          ],
          [
           60,
           1,
           1
          ],
          [
           72,
           1,
           0
          ],
          [
           65,
           0,
           1
          ],
          [
           61,
           1,
           1
          ],
          [
           53,
           1,
           0
          ],
          [
           62,
           1,
           0
          ],
          [
           67,
           1,
           0
          ],
          [
           59,
           1,
           0
          ],
          [
           60,
           0,
           0
          ],
          [
           56,
           1,
           0
          ],
          [
           60,
           1,
           0
          ],
          [
           68,
           1,
           1
          ],
          [
           63,
           0,
           1
          ],
          [
           77,
           0,
           1
          ],
          [
           52,
           1,
           1
          ],
          [
           70,
           1,
           0
          ],
          [
           72,
           1,
           1
          ],
          [
           62,
           1,
           0
          ],
          [
           64,
           1,
           1
          ],
          [
           70,
           0,
           1
          ],
          [
           56,
           0,
           1
          ],
          [
           63,
           1,
           1
          ],
          [
           54,
           1,
           1
          ],
          [
           49,
           1,
           1
          ],
          [
           57,
           0,
           1
          ],
          [
           52,
           0,
           0
          ],
          [
           63,
           0,
           1
          ],
          [
           73,
           0,
           0
          ],
          [
           47,
           0,
           1
          ],
          [
           69,
           1,
           1
          ],
          [
           70,
           0,
           1
          ],
          [
           70,
           0,
           1
          ],
          [
           68,
           0,
           0
          ],
          [
           74,
           0,
           1
          ],
          [
           71,
           1,
           1
          ],
          [
           56,
           0,
           1
          ],
          [
           66,
           1,
           1
          ],
          [
           76,
           1,
           1
          ],
          [
           78,
           1,
           1
          ],
          [
           68,
           1,
           0
          ],
          [
           66,
           1,
           1
          ],
          [
           67,
           0,
           1
          ],
          [
           60,
           1,
           1
          ],
          [
           61,
           1,
           1
          ],
          [
           58,
           1,
           0
          ],
          [
           76,
           0,
           1
          ],
          [
           56,
           1,
           1
          ],
          [
           67,
           1,
           0
          ],
          [
           73,
           1,
           1
          ],
          [
           54,
           1,
           1
          ],
          [
           62,
           1,
           0
          ],
          [
           81,
           0,
           0
          ],
          [
           56,
           0,
           1
          ],
          [
           60,
           0,
           0
          ],
          [
           66,
           0,
           0
          ],
          [
           62,
           0,
           1
          ],
          [
           62,
           1,
           0
          ],
          [
           55,
           1,
           1
          ],
          [
           62,
           0,
           0
          ],
          [
           71,
           0,
           1
          ],
          [
           52,
           1,
           1
          ],
          [
           59,
           0,
           0
          ],
          [
           48,
           1,
           1
          ],
          [
           60,
           0,
           1
          ],
          [
           61,
           1,
           0
          ],
          [
           59,
           1,
           0
          ],
          [
           64,
           0,
           1
          ],
          [
           56,
           1,
           1
          ],
          [
           58,
           1,
           0
          ],
          [
           81,
           0,
           1
          ],
          [
           64,
           1,
           1
          ],
          [
           62,
           1,
           0
          ],
          [
           72,
           1,
           1
          ],
          [
           60,
           0,
           1
          ],
          [
           61,
           1,
           1
          ],
          [
           60,
           1,
           0
          ],
          [
           49,
           0,
           0
          ],
          [
           53,
           0,
           1
          ],
          [
           58,
           0,
           1
          ],
          [
           61,
           1,
           1
          ],
          [
           68,
           0,
           1
          ],
          [
           60,
           1,
           0
          ],
          [
           72,
           0,
           1
          ],
          [
           72,
           0,
           1
          ],
          [
           57,
           1,
           1
          ],
          [
           51,
           1,
           1
          ],
          [
           54,
           1,
           1
          ],
          [
           56,
           0,
           0
          ],
          [
           77,
           1,
           1
          ],
          [
           64,
           0,
           1
          ],
          [
           57,
           1,
           1
          ],
          [
           66,
           1,
           1
          ],
          [
           70,
           1,
           0
          ],
          [
           53,
           0,
           1
          ],
          [
           51,
           1,
           1
          ],
          [
           58,
           1,
           0
          ],
          [
           58,
           1,
           1
          ],
          [
           51,
           1,
           1
          ],
          [
           61,
           0,
           0
          ],
          [
           61,
           1,
           1
          ],
          [
           76,
           1,
           1
          ],
          [
           71,
           1,
           0
          ],
          [
           69,
           0,
           1
          ],
          [
           56,
           1,
           1
          ],
          [
           67,
           0,
           1
          ],
          [
           54,
           1,
           0
          ],
          [
           63,
           0,
           1
          ],
          [
           47,
           1,
           1
          ],
          [
           62,
           1,
           1
          ],
          [
           65,
           1,
           1
          ],
          [
           63,
           1,
           1
          ],
          [
           64,
           0,
           0
          ],
          [
           65,
           1,
           1
          ],
          [
           51,
           0,
           1
          ],
          [
           56,
           0,
           1
          ],
          [
           70,
           1,
           1
          ],
          [
           58,
           1,
           0
          ],
          [
           67,
           1,
           1
          ],
          [
           62,
           0,
           1
          ],
          [
           74,
           0,
           1
          ],
          [
           75,
           1,
           0
          ],
          [
           56,
           0,
           1
          ],
          [
           55,
           0,
           1
          ],
          [
           62,
           1,
           1
          ],
          [
           73,
           1,
           1
          ],
          [
           68,
           1,
           1
          ],
          [
           75,
           0,
           1
          ],
          [
           63,
           0,
           0
          ],
          [
           61,
           0,
           1
          ],
          [
           62,
           0,
           0
          ],
          [
           44,
           0,
           1
          ],
          [
           56,
           1,
           1
          ],
          [
           54,
           0,
           1
          ],
          [
           56,
           0,
           1
          ],
          [
           69,
           0,
           0
          ],
          [
           72,
           0,
           1
          ],
          [
           59,
           1,
           1
          ],
          [
           70,
           0,
           1
          ],
          [
           64,
           1,
           1
          ],
          [
           61,
           1,
           1
          ],
          [
           72,
           1,
           1
          ],
          [
           63,
           1,
           0
          ],
          [
           74,
           1,
           1
          ],
          [
           71,
           0,
           1
          ],
          [
           72,
           1,
           1
          ],
          [
           77,
           1,
           0
          ],
          [
           72,
           0,
           1
          ],
          [
           55,
           1,
           1
          ],
          [
           65,
           1,
           0
          ],
          [
           67,
           1,
           1
          ],
          [
           69,
           0,
           1
          ],
          [
           55,
           1,
           1
          ],
          [
           51,
           1,
           0
          ],
          [
           64,
           0,
           0
          ],
          [
           63,
           0,
           1
          ],
          [
           69,
           0,
           0
          ],
          [
           64,
           0,
           0
          ],
          [
           59,
           0,
           1
          ],
          [
           73,
           1,
           0
          ],
          [
           55,
           1,
           1
          ],
          [
           63,
           0,
           0
          ],
          [
           60,
           0,
           1
          ],
          [
           74,
           1,
           1
          ],
          [
           65,
           0,
           0
          ],
          [
           79,
           1,
           1
          ],
          [
           62,
           0,
           1
          ],
          [
           71,
           1,
           0
          ],
          [
           67,
           0,
           1
          ],
          [
           55,
           1,
           1
          ],
          [
           54,
           1,
           0
          ],
          [
           77,
           0,
           1
          ],
          [
           58,
           1,
           1
          ],
          [
           64,
           1,
           0
          ],
          [
           61,
           1,
           1
          ],
          [
           67,
           1,
           1
          ],
          [
           56,
           1,
           0
          ],
          [
           70,
           0,
           0
          ],
          [
           70,
           0,
           1
          ],
          [
           57,
           0,
           1
          ],
          [
           77,
           0,
           1
          ],
          [
           63,
           1,
           1
          ],
          [
           62,
           1,
           1
          ],
          [
           59,
           1,
           1
          ],
          [
           70,
           0,
           1
          ],
          [
           71,
           0,
           0
          ],
          [
           56,
           0,
           1
          ],
          [
           57,
           0,
           0
          ],
          [
           78,
           0,
           1
          ],
          [
           64,
           1,
           1
          ],
          [
           62,
           0,
           1
          ],
          [
           49,
           0,
           0
          ],
          [
           77,
           0,
           1
          ],
          [
           64,
           0,
           0
          ],
          [
           63,
           0,
           1
          ],
          [
           54,
           1,
           1
          ],
          [
           38,
           0,
           1
          ],
          [
           75,
           0,
           0
          ],
          [
           70,
           1,
           0
          ],
          [
           59,
           1,
           1
          ],
          [
           77,
           1,
           0
          ],
          [
           61,
           0,
           1
          ],
          [
           64,
           1,
           1
          ],
          [
           71,
           1,
           0
          ],
          [
           67,
           0,
           1
          ],
          [
           64,
           1,
           1
          ],
          [
           69,
           1,
           1
          ],
          [
           64,
           1,
           1
          ],
          [
           59,
           0,
           0
          ],
          [
           67,
           1,
           1
          ],
          [
           74,
           0,
           1
          ],
          [
           77,
           0,
           1
          ],
          [
           60,
           1,
           1
          ],
          [
           64,
           1,
           0
          ],
          [
           70,
           1,
           1
          ],
          [
           58,
           0,
           1
          ],
          [
           59,
           0,
           1
          ],
          [
           39,
           1,
           1
          ],
          [
           71,
           0,
           1
          ],
          [
           70,
           1,
           1
          ],
          [
           60,
           1,
           1
          ],
          [
           60,
           1,
           0
          ],
          [
           55,
           1,
           1
          ],
          [
           55,
           0,
           1
          ],
          [
           63,
           1,
           1
          ],
          [
           59,
           0,
           1
          ],
          [
           56,
           1,
           0
          ],
          [
           64,
           1,
           0
          ],
          [
           62,
           1,
           1
          ],
          [
           77,
           1,
           1
          ],
          [
           59,
           0,
           0
          ],
          [
           60,
           0,
           1
          ],
          [
           58,
           1,
           0
          ],
          [
           58,
           1,
           1
          ],
          [
           51,
           1,
           1
          ],
          [
           61,
           0,
           0
          ],
          [
           61,
           1,
           1
          ],
          [
           76,
           1,
           1
          ],
          [
           71,
           1,
           0
          ],
          [
           69,
           0,
           1
          ],
          [
           56,
           1,
           1
          ],
          [
           67,
           0,
           1
          ],
          [
           54,
           1,
           0
          ],
          [
           63,
           0,
           1
          ],
          [
           47,
           1,
           1
          ],
          [
           62,
           1,
           1
          ],
          [
           65,
           1,
           1
          ],
          [
           63,
           1,
           1
          ],
          [
           64,
           0,
           0
          ],
          [
           65,
           1,
           1
          ],
          [
           51,
           0,
           1
          ],
          [
           56,
           0,
           1
          ],
          [
           70,
           1,
           1
          ],
          [
           58,
           1,
           0
          ],
          [
           67,
           1,
           1
          ],
          [
           62,
           0,
           1
          ]
         ],
         "hovertemplate": "Lung Cancer=1<br>Age: %{x}<br>Coughing: %{y}<br>Age: %{customdata[0]}<br>Smoking: %{customdata[1]}<br>Fatigue: %{customdata[2]}<br><extra></extra>",
         "legendgroup": "LC=1",
         "marker": {
          "color": "#EF553B",
          "line": {
           "color": "DarkSlateGrey",
           "width": 0.5
          },
          "opacity": 0.7,
          "size": 8
         },
         "mode": "markers",
         "name": "age vs coughing | LC=1",
         "showlegend": false,
         "type": "scatter",
         "x": {
          "bdata": "RUpLNDM1PUg6MEs5RCxAPEhBPTU+Qzs8ODxEP000Rkg+QEY4PzYxOTQ/SS9FRkZESkc4QkxOREJDPD06TDhDSTY+UTg8Qj4+Nz5HNDswPD07QDg6UUA+SDw9PDE1Oj1EPEhIOTM2OE1AOUJGNTM6OjM9PUxHRThDNj8vPkE/QEEzOEY6Qz5KSzg3PklESz89Piw4NjhFSDtGQD1IP0pHSE1IN0FDRTczQD9FQDtJNz88SkFPPkdDNzZNOkA9QzhGRjlNPz47Rkc4OU5APjFNQD82JktGO009QEdDQEVAO0NKTTxARjo7J0dGPDw3Nz87OEA+TTs8OjozPT1MR0U4QzY/Lz5BP0BBMzhGOkM+",
          "dtype": "i1"
         },
         "xaxis": "x3",
         "y": {
          "bdata": "AQABAQAAAQEBAQEAAQABAQEBAAAAAAABAAEBAAAAAQEBAQAAAAEBAQEBAQABAQEAAQEBAQABAAEBAAEBAQEAAQAAAQEBAQAAAAABAAEBAAEBAQEBAQEAAQAAAAEAAQABAAEBAQABAAEBAAEBAQEAAQABAAEBAQABAAEBAQABAAEBAQEBAQAAAAAAAAEBAQEBAQABAQEAAQEBAQABAAEBAQEAAAAAAAAAAAEBAQAAAAABAAEBAAEBAQEBAQABAAABAQAAAAEBAQEBAQABAQEBAAEBAQEAAQABAAABAQABAAEBAQEBAQAAAAEBAAABAQEBAQABAAEBAAEAAQABAQEAAQABAQEAAQABAQEBAQEA",
          "dtype": "i1"
         },
         "yaxis": "y3"
        },
        {
         "customdata": [
          [
           59,
           0,
           1
          ],
          [
           63,
           1,
           0
          ],
          [
           63,
           0,
           0
          ],
          [
           68,
           1,
           1
          ],
          [
           60,
           1,
           1
          ],
          [
           69,
           1,
           0
          ],
          [
           61,
           0,
           1
          ],
          [
           21,
           1,
           1
          ],
          [
           69,
           0,
           1
          ],
          [
           55,
           0,
           1
          ],
          [
           57,
           1,
           0
          ],
          [
           56,
           1,
           0
          ],
          [
           59,
           0,
           0
          ],
          [
           56,
           0,
           0
          ],
          [
           60,
           0,
           0
          ],
          [
           60,
           0,
           0
          ],
          [
           58,
           0,
           1
          ],
          [
           63,
           0,
           1
          ],
          [
           69,
           1,
           0
          ],
          [
           64,
           1,
           0
          ],
          [
           47,
           1,
           0
          ],
          [
           57,
           1,
           0
          ],
          [
           68,
           0,
           0
          ],
          [
           57,
           0,
           0
          ],
          [
           71,
           1,
           1
          ],
          [
           63,
           1,
           0
          ],
          [
           62,
           0,
           1
          ],
          [
           61,
           0,
           0
          ],
          [
           59,
           0,
           1
          ],
          [
           68,
           1,
           1
          ],
          [
           67,
           0,
           0
          ],
          [
           55,
           1,
           1
          ],
          [
           70,
           1,
           1
          ],
          [
           64,
           1,
           0
          ],
          [
           87,
           0,
           1
          ],
          [
           59,
           1,
           1
          ],
          [
           55,
           1,
           1
          ],
          [
           46,
           0,
           0
          ],
          [
           63,
           0,
           1
          ]
         ],
         "hovertemplate": "Lung Cancer=0<br>Age: %{x}<br>Coughing: %{y}<br>Age: %{customdata[0]}<br>Smoking: %{customdata[1]}<br>Fatigue: %{customdata[2]}<br><extra></extra>",
         "legendgroup": "LC=0",
         "marker": {
          "color": "#636EFA",
          "line": {
           "color": "DarkSlateGrey",
           "width": 0.5
          },
          "opacity": 0.7,
          "size": 8
         },
         "mode": "markers",
         "name": "age vs coughing | LC=0",
         "showlegend": false,
         "type": "scatter",
         "x": {
          "bdata": "Oz8/RDxFPRVFNzk4Ozg8PDo/RUAvOUQ5Rz8+PTtEQzdGQFc7Ny4/",
          "dtype": "i1"
         },
         "xaxis": "x3",
         "y": {
          "bdata": "AQABAAABAAABAQAAAAAAAQAAAAAAAAABAAEAAAAAAQAAAQAAAAAA",
          "dtype": "i1"
         },
         "yaxis": "y3"
        },
        {
         "customdata": [
          [
           69,
           0,
           1
          ],
          [
           74,
           1,
           1
          ],
          [
           75,
           0,
           1
          ],
          [
           52,
           1,
           1
          ],
          [
           51,
           1,
           1
          ],
          [
           53,
           1,
           0
          ],
          [
           61,
           1,
           1
          ],
          [
           72,
           0,
           1
          ],
          [
           58,
           1,
           1
          ],
          [
           48,
           0,
           1
          ],
          [
           75,
           1,
           0
          ],
          [
           57,
           1,
           0
          ],
          [
           68,
           1,
           1
          ],
          [
           44,
           1,
           1
          ],
          [
           64,
           0,
           0
          ],
          [
           60,
           1,
           1
          ],
          [
           72,
           1,
           0
          ],
          [
           65,
           0,
           1
          ],
          [
           61,
           1,
           1
          ],
          [
           53,
           1,
           0
          ],
          [
           62,
           1,
           0
          ],
          [
           67,
           1,
           0
          ],
          [
           59,
           1,
           0
          ],
          [
           60,
           0,
           0
          ],
          [
           56,
           1,
           0
          ],
          [
           60,
           1,
           0
          ],
          [
           68,
           1,
           1
          ],
          [
           63,
           0,
           1
          ],
          [
           77,
           0,
           1
          ],
          [
           52,
           1,
           1
          ],
          [
           70,
           1,
           0
          ],
          [
           72,
           1,
           1
          ],
          [
           62,
           1,
           0
          ],
          [
           64,
           1,
           1
          ],
          [
           70,
           0,
           1
          ],
          [
           56,
           0,
           1
          ],
          [
           63,
           1,
           1
          ],
          [
           54,
           1,
           1
          ],
          [
           49,
           1,
           1
          ],
          [
           57,
           0,
           1
          ],
          [
           52,
           0,
           0
          ],
          [
           63,
           0,
           1
          ],
          [
           73,
           0,
           0
          ],
          [
           47,
           0,
           1
          ],
          [
           69,
           1,
           1
          ],
          [
           70,
           0,
           1
          ],
          [
           70,
           0,
           1
          ],
          [
           68,
           0,
           0
          ],
          [
           74,
           0,
           1
          ],
          [
           71,
           1,
           1
          ],
          [
           56,
           0,
           1
          ],
          [
           66,
           1,
           1
          ],
          [
           76,
           1,
           1
          ],
          [
           78,
           1,
           1
          ],
          [
           68,
           1,
           0
          ],
          [
           66,
           1,
           1
          ],
          [
           67,
           0,
           1
          ],
          [
           60,
           1,
           1
          ],
          [
           61,
           1,
           1
          ],
          [
           58,
           1,
           0
          ],
          [
           76,
           0,
           1
          ],
          [
           56,
           1,
           1
          ],
          [
           67,
           1,
           0
          ],
          [
           73,
           1,
           1
          ],
          [
           54,
           1,
           1
          ],
          [
           62,
           1,
           0
          ],
          [
           81,
           0,
           0
          ],
          [
           56,
           0,
           1
          ],
          [
           60,
           0,
           0
          ],
          [
           66,
           0,
           0
          ],
          [
           62,
           0,
           1
          ],
          [
           62,
           1,
           0
          ],
          [
           55,
           1,
           1
          ],
          [
           62,
           0,
           0
          ],
          [
           71,
           0,
           1
          ],
          [
           52,
           1,
           1
          ],
          [
           59,
           0,
           0
          ],
          [
           48,
           1,
           1
          ],
          [
           60,
           0,
           1
          ],
          [
           61,
           1,
           0
          ],
          [
           59,
           1,
           0
          ],
          [
           64,
           0,
           1
          ],
          [
           56,
           1,
           1
          ],
          [
           58,
           1,
           0
          ],
          [
           81,
           0,
           1
          ],
          [
           64,
           1,
           1
          ],
          [
           62,
           1,
           0
          ],
          [
           72,
           1,
           1
          ],
          [
           60,
           0,
           1
          ],
          [
           61,
           1,
           1
          ],
          [
           60,
           1,
           0
          ],
          [
           49,
           0,
           0
          ],
          [
           53,
           0,
           1
          ],
          [
           58,
           0,
           1
          ],
          [
           61,
           1,
           1
          ],
          [
           68,
           0,
           1
          ],
          [
           60,
           1,
           0
          ],
          [
           72,
           0,
           1
          ],
          [
           72,
           0,
           1
          ],
          [
           57,
           1,
           1
          ],
          [
           51,
           1,
           1
          ],
          [
           54,
           1,
           1
          ],
          [
           56,
           0,
           0
          ],
          [
           77,
           1,
           1
          ],
          [
           64,
           0,
           1
          ],
          [
           57,
           1,
           1
          ],
          [
           66,
           1,
           1
          ],
          [
           70,
           1,
           0
          ],
          [
           53,
           0,
           1
          ],
          [
           51,
           1,
           1
          ],
          [
           58,
           1,
           0
          ],
          [
           58,
           1,
           1
          ],
          [
           51,
           1,
           1
          ],
          [
           61,
           0,
           0
          ],
          [
           61,
           1,
           1
          ],
          [
           76,
           1,
           1
          ],
          [
           71,
           1,
           0
          ],
          [
           69,
           0,
           1
          ],
          [
           56,
           1,
           1
          ],
          [
           67,
           0,
           1
          ],
          [
           54,
           1,
           0
          ],
          [
           63,
           0,
           1
          ],
          [
           47,
           1,
           1
          ],
          [
           62,
           1,
           1
          ],
          [
           65,
           1,
           1
          ],
          [
           63,
           1,
           1
          ],
          [
           64,
           0,
           0
          ],
          [
           65,
           1,
           1
          ],
          [
           51,
           0,
           1
          ],
          [
           56,
           0,
           1
          ],
          [
           70,
           1,
           1
          ],
          [
           58,
           1,
           0
          ],
          [
           67,
           1,
           1
          ],
          [
           62,
           0,
           1
          ],
          [
           74,
           0,
           1
          ],
          [
           75,
           1,
           0
          ],
          [
           56,
           0,
           1
          ],
          [
           55,
           0,
           1
          ],
          [
           62,
           1,
           1
          ],
          [
           73,
           1,
           1
          ],
          [
           68,
           1,
           1
          ],
          [
           75,
           0,
           1
          ],
          [
           63,
           0,
           0
          ],
          [
           61,
           0,
           1
          ],
          [
           62,
           0,
           0
          ],
          [
           44,
           0,
           1
          ],
          [
           56,
           1,
           1
          ],
          [
           54,
           0,
           1
          ],
          [
           56,
           0,
           1
          ],
          [
           69,
           0,
           0
          ],
          [
           72,
           0,
           1
          ],
          [
           59,
           1,
           1
          ],
          [
           70,
           0,
           1
          ],
          [
           64,
           1,
           1
          ],
          [
           61,
           1,
           1
          ],
          [
           72,
           1,
           1
          ],
          [
           63,
           1,
           0
          ],
          [
           74,
           1,
           1
          ],
          [
           71,
           0,
           1
          ],
          [
           72,
           1,
           1
          ],
          [
           77,
           1,
           0
          ],
          [
           72,
           0,
           1
          ],
          [
           55,
           1,
           1
          ],
          [
           65,
           1,
           0
          ],
          [
           67,
           1,
           1
          ],
          [
           69,
           0,
           1
          ],
          [
           55,
           1,
           1
          ],
          [
           51,
           1,
           0
          ],
          [
           64,
           0,
           0
          ],
          [
           63,
           0,
           1
          ],
          [
           69,
           0,
           0
          ],
          [
           64,
           0,
           0
          ],
          [
           59,
           0,
           1
          ],
          [
           73,
           1,
           0
          ],
          [
           55,
           1,
           1
          ],
          [
           63,
           0,
           0
          ],
          [
           60,
           0,
           1
          ],
          [
           74,
           1,
           1
          ],
          [
           65,
           0,
           0
          ],
          [
           79,
           1,
           1
          ],
          [
           62,
           0,
           1
          ],
          [
           71,
           1,
           0
          ],
          [
           67,
           0,
           1
          ],
          [
           55,
           1,
           1
          ],
          [
           54,
           1,
           0
          ],
          [
           77,
           0,
           1
          ],
          [
           58,
           1,
           1
          ],
          [
           64,
           1,
           0
          ],
          [
           61,
           1,
           1
          ],
          [
           67,
           1,
           1
          ],
          [
           56,
           1,
           0
          ],
          [
           70,
           0,
           0
          ],
          [
           70,
           0,
           1
          ],
          [
           57,
           0,
           1
          ],
          [
           77,
           0,
           1
          ],
          [
           63,
           1,
           1
          ],
          [
           62,
           1,
           1
          ],
          [
           59,
           1,
           1
          ],
          [
           70,
           0,
           1
          ],
          [
           71,
           0,
           0
          ],
          [
           56,
           0,
           1
          ],
          [
           57,
           0,
           0
          ],
          [
           78,
           0,
           1
          ],
          [
           64,
           1,
           1
          ],
          [
           62,
           0,
           1
          ],
          [
           49,
           0,
           0
          ],
          [
           77,
           0,
           1
          ],
          [
           64,
           0,
           0
          ],
          [
           63,
           0,
           1
          ],
          [
           54,
           1,
           1
          ],
          [
           38,
           0,
           1
          ],
          [
           75,
           0,
           0
          ],
          [
           70,
           1,
           0
          ],
          [
           59,
           1,
           1
          ],
          [
           77,
           1,
           0
          ],
          [
           61,
           0,
           1
          ],
          [
           64,
           1,
           1
          ],
          [
           71,
           1,
           0
          ],
          [
           67,
           0,
           1
          ],
          [
           64,
           1,
           1
          ],
          [
           69,
           1,
           1
          ],
          [
           64,
           1,
           1
          ],
          [
           59,
           0,
           0
          ],
          [
           67,
           1,
           1
          ],
          [
           74,
           0,
           1
          ],
          [
           77,
           0,
           1
          ],
          [
           60,
           1,
           1
          ],
          [
           64,
           1,
           0
          ],
          [
           70,
           1,
           1
          ],
          [
           58,
           0,
           1
          ],
          [
           59,
           0,
           1
          ],
          [
           39,
           1,
           1
          ],
          [
           71,
           0,
           1
          ],
          [
           70,
           1,
           1
          ],
          [
           60,
           1,
           1
          ],
          [
           60,
           1,
           0
          ],
          [
           55,
           1,
           1
          ],
          [
           55,
           0,
           1
          ],
          [
           63,
           1,
           1
          ],
          [
           59,
           0,
           1
          ],
          [
           56,
           1,
           0
          ],
          [
           64,
           1,
           0
          ],
          [
           62,
           1,
           1
          ],
          [
           77,
           1,
           1
          ],
          [
           59,
           0,
           0
          ],
          [
           60,
           0,
           1
          ],
          [
           58,
           1,
           0
          ],
          [
           58,
           1,
           1
          ],
          [
           51,
           1,
           1
          ],
          [
           61,
           0,
           0
          ],
          [
           61,
           1,
           1
          ],
          [
           76,
           1,
           1
          ],
          [
           71,
           1,
           0
          ],
          [
           69,
           0,
           1
          ],
          [
           56,
           1,
           1
          ],
          [
           67,
           0,
           1
          ],
          [
           54,
           1,
           0
          ],
          [
           63,
           0,
           1
          ],
          [
           47,
           1,
           1
          ],
          [
           62,
           1,
           1
          ],
          [
           65,
           1,
           1
          ],
          [
           63,
           1,
           1
          ],
          [
           64,
           0,
           0
          ],
          [
           65,
           1,
           1
          ],
          [
           51,
           0,
           1
          ],
          [
           56,
           0,
           1
          ],
          [
           70,
           1,
           1
          ],
          [
           58,
           1,
           0
          ],
          [
           67,
           1,
           1
          ],
          [
           62,
           0,
           1
          ]
         ],
         "hovertemplate": "Lung Cancer=1<br>Smoking: %{x}<br>Coughing: %{y}<br>Age: %{customdata[0]}<br>Smoking: %{customdata[1]}<br>Fatigue: %{customdata[2]}<br><extra></extra>",
         "legendgroup": "LC=1",
         "marker": {
          "color": "#EF553B",
          "line": {
           "color": "DarkSlateGrey",
           "width": 0.5
          },
          "opacity": 0.7,
          "size": 8
         },
         "mode": "markers",
         "name": "smoking vs coughing | LC=1",
         "showlegend": false,
         "type": "scatter",
         "x": {
          "bdata": "AAEAAQEBAQABAAEBAQEAAQEAAQEBAQEAAQEBAAABAQEBAQAAAQEBAAAAAAABAAAAAAEAAQEBAQEAAQEBAAEBAQEBAAAAAAABAQAAAQABAAEBAAEBAAEBAQABAQAAAAEAAQAAAQEBAAEAAQEBAAEBAQEAAQEBAAEAAQABAQEBAAEAAAEBAQAAAQAAAQEBAAAAAAABAAAAAAEAAQEBAQEAAQEAAQEBAAEBAAAAAAABAQAAAQABAAEAAQEAAQEBAQEAAAAAAQEBAAAAAAABAAAAAAABAAABAQEAAQEAAQEBAAEAAAEBAQAAAQABAQEBAAEAAQEBAQAAAQEBAAEBAQABAAEAAQEBAQABAAABAQEA",
          "dtype": "i1"
         },
         "xaxis": "x4",
         "y": {
          "bdata": "AQABAQAAAQEBAQEAAQABAQEBAAAAAAABAAEBAAAAAQEBAQAAAAEBAQEBAQABAQEAAQEBAQABAAEBAAEBAQEAAQAAAQEBAQAAAAABAAEBAAEBAQEBAQEAAQAAAAEAAQABAAEBAQABAAEBAAEBAQEAAQABAAEBAQABAAEBAQABAAEBAQEBAQAAAAAAAAEBAQEBAQABAQEAAQEBAQABAAEBAQEAAAAAAAAAAAEBAQAAAAABAAEBAAEBAQEBAQABAAABAQAAAAEBAQEBAQABAQEBAAEBAQEAAQABAAABAQABAAEBAQEBAQAAAAEBAAABAQEBAQABAAEBAAEAAQABAQEAAQABAQEAAQABAQEBAQEA",
          "dtype": "i1"
         },
         "yaxis": "y4"
        },
        {
         "customdata": [
          [
           59,
           0,
           1
          ],
          [
           63,
           1,
           0
          ],
          [
           63,
           0,
           0
          ],
          [
           68,
           1,
           1
          ],
          [
           60,
           1,
           1
          ],
          [
           69,
           1,
           0
          ],
          [
           61,
           0,
           1
          ],
          [
           21,
           1,
           1
          ],
          [
           69,
           0,
           1
          ],
          [
           55,
           0,
           1
          ],
          [
           57,
           1,
           0
          ],
          [
           56,
           1,
           0
          ],
          [
           59,
           0,
           0
          ],
          [
           56,
           0,
           0
          ],
          [
           60,
           0,
           0
          ],
          [
           60,
           0,
           0
          ],
          [
           58,
           0,
           1
          ],
          [
           63,
           0,
           1
          ],
          [
           69,
           1,
           0
          ],
          [
           64,
           1,
           0
          ],
          [
           47,
           1,
           0
          ],
          [
           57,
           1,
           0
          ],
          [
           68,
           0,
           0
          ],
          [
           57,
           0,
           0
          ],
          [
           71,
           1,
           1
          ],
          [
           63,
           1,
           0
          ],
          [
           62,
           0,
           1
          ],
          [
           61,
           0,
           0
          ],
          [
           59,
           0,
           1
          ],
          [
           68,
           1,
           1
          ],
          [
           67,
           0,
           0
          ],
          [
           55,
           1,
           1
          ],
          [
           70,
           1,
           1
          ],
          [
           64,
           1,
           0
          ],
          [
           87,
           0,
           1
          ],
          [
           59,
           1,
           1
          ],
          [
           55,
           1,
           1
          ],
          [
           46,
           0,
           0
          ],
          [
           63,
           0,
           1
          ]
         ],
         "hovertemplate": "Lung Cancer=0<br>Smoking: %{x}<br>Coughing: %{y}<br>Age: %{customdata[0]}<br>Smoking: %{customdata[1]}<br>Fatigue: %{customdata[2]}<br><extra></extra>",
         "legendgroup": "LC=0",
         "marker": {
          "color": "#636EFA",
          "line": {
           "color": "DarkSlateGrey",
           "width": 0.5
          },
          "opacity": 0.7,
          "size": 8
         },
         "mode": "markers",
         "name": "smoking vs coughing | LC=0",
         "showlegend": false,
         "type": "scatter",
         "x": {
          "bdata": "AAEAAQEBAAEAAAEBAAAAAAAAAQEBAQAAAQEAAAABAAEBAQABAQAA",
          "dtype": "i1"
         },
         "xaxis": "x4",
         "y": {
          "bdata": "AQABAAABAAABAQAAAAAAAQAAAAAAAAABAAEAAAAAAQAAAQAAAAAA",
          "dtype": "i1"
         },
         "yaxis": "y4"
        },
        {
         "customdata": [
          [
           69,
           0,
           1
          ],
          [
           74,
           1,
           1
          ],
          [
           75,
           0,
           1
          ],
          [
           52,
           1,
           1
          ],
          [
           51,
           1,
           1
          ],
          [
           53,
           1,
           0
          ],
          [
           61,
           1,
           1
          ],
          [
           72,
           0,
           1
          ],
          [
           58,
           1,
           1
          ],
          [
           48,
           0,
           1
          ],
          [
           75,
           1,
           0
          ],
          [
           57,
           1,
           0
          ],
          [
           68,
           1,
           1
          ],
          [
           44,
           1,
           1
          ],
          [
           64,
           0,
           0
          ],
          [
           60,
           1,
           1
          ],
          [
           72,
           1,
           0
          ],
          [
           65,
           0,
           1
          ],
          [
           61,
           1,
           1
          ],
          [
           53,
           1,
           0
          ],
          [
           62,
           1,
           0
          ],
          [
           67,
           1,
           0
          ],
          [
           59,
           1,
           0
          ],
          [
           60,
           0,
           0
          ],
          [
           56,
           1,
           0
          ],
          [
           60,
           1,
           0
          ],
          [
           68,
           1,
           1
          ],
          [
           63,
           0,
           1
          ],
          [
           77,
           0,
           1
          ],
          [
           52,
           1,
           1
          ],
          [
           70,
           1,
           0
          ],
          [
           72,
           1,
           1
          ],
          [
           62,
           1,
           0
          ],
          [
           64,
           1,
           1
          ],
          [
           70,
           0,
           1
          ],
          [
           56,
           0,
           1
          ],
          [
           63,
           1,
           1
          ],
          [
           54,
           1,
           1
          ],
          [
           49,
           1,
           1
          ],
          [
           57,
           0,
           1
          ],
          [
           52,
           0,
           0
          ],
          [
           63,
           0,
           1
          ],
          [
           73,
           0,
           0
          ],
          [
           47,
           0,
           1
          ],
          [
           69,
           1,
           1
          ],
          [
           70,
           0,
           1
          ],
          [
           70,
           0,
           1
          ],
          [
           68,
           0,
           0
          ],
          [
           74,
           0,
           1
          ],
          [
           71,
           1,
           1
          ],
          [
           56,
           0,
           1
          ],
          [
           66,
           1,
           1
          ],
          [
           76,
           1,
           1
          ],
          [
           78,
           1,
           1
          ],
          [
           68,
           1,
           0
          ],
          [
           66,
           1,
           1
          ],
          [
           67,
           0,
           1
          ],
          [
           60,
           1,
           1
          ],
          [
           61,
           1,
           1
          ],
          [
           58,
           1,
           0
          ],
          [
           76,
           0,
           1
          ],
          [
           56,
           1,
           1
          ],
          [
           67,
           1,
           0
          ],
          [
           73,
           1,
           1
          ],
          [
           54,
           1,
           1
          ],
          [
           62,
           1,
           0
          ],
          [
           81,
           0,
           0
          ],
          [
           56,
           0,
           1
          ],
          [
           60,
           0,
           0
          ],
          [
           66,
           0,
           0
          ],
          [
           62,
           0,
           1
          ],
          [
           62,
           1,
           0
          ],
          [
           55,
           1,
           1
          ],
          [
           62,
           0,
           0
          ],
          [
           71,
           0,
           1
          ],
          [
           52,
           1,
           1
          ],
          [
           59,
           0,
           0
          ],
          [
           48,
           1,
           1
          ],
          [
           60,
           0,
           1
          ],
          [
           61,
           1,
           0
          ],
          [
           59,
           1,
           0
          ],
          [
           64,
           0,
           1
          ],
          [
           56,
           1,
           1
          ],
          [
           58,
           1,
           0
          ],
          [
           81,
           0,
           1
          ],
          [
           64,
           1,
           1
          ],
          [
           62,
           1,
           0
          ],
          [
           72,
           1,
           1
          ],
          [
           60,
           0,
           1
          ],
          [
           61,
           1,
           1
          ],
          [
           60,
           1,
           0
          ],
          [
           49,
           0,
           0
          ],
          [
           53,
           0,
           1
          ],
          [
           58,
           0,
           1
          ],
          [
           61,
           1,
           1
          ],
          [
           68,
           0,
           1
          ],
          [
           60,
           1,
           0
          ],
          [
           72,
           0,
           1
          ],
          [
           72,
           0,
           1
          ],
          [
           57,
           1,
           1
          ],
          [
           51,
           1,
           1
          ],
          [
           54,
           1,
           1
          ],
          [
           56,
           0,
           0
          ],
          [
           77,
           1,
           1
          ],
          [
           64,
           0,
           1
          ],
          [
           57,
           1,
           1
          ],
          [
           66,
           1,
           1
          ],
          [
           70,
           1,
           0
          ],
          [
           53,
           0,
           1
          ],
          [
           51,
           1,
           1
          ],
          [
           58,
           1,
           0
          ],
          [
           58,
           1,
           1
          ],
          [
           51,
           1,
           1
          ],
          [
           61,
           0,
           0
          ],
          [
           61,
           1,
           1
          ],
          [
           76,
           1,
           1
          ],
          [
           71,
           1,
           0
          ],
          [
           69,
           0,
           1
          ],
          [
           56,
           1,
           1
          ],
          [
           67,
           0,
           1
          ],
          [
           54,
           1,
           0
          ],
          [
           63,
           0,
           1
          ],
          [
           47,
           1,
           1
          ],
          [
           62,
           1,
           1
          ],
          [
           65,
           1,
           1
          ],
          [
           63,
           1,
           1
          ],
          [
           64,
           0,
           0
          ],
          [
           65,
           1,
           1
          ],
          [
           51,
           0,
           1
          ],
          [
           56,
           0,
           1
          ],
          [
           70,
           1,
           1
          ],
          [
           58,
           1,
           0
          ],
          [
           67,
           1,
           1
          ],
          [
           62,
           0,
           1
          ],
          [
           74,
           0,
           1
          ],
          [
           75,
           1,
           0
          ],
          [
           56,
           0,
           1
          ],
          [
           55,
           0,
           1
          ],
          [
           62,
           1,
           1
          ],
          [
           73,
           1,
           1
          ],
          [
           68,
           1,
           1
          ],
          [
           75,
           0,
           1
          ],
          [
           63,
           0,
           0
          ],
          [
           61,
           0,
           1
          ],
          [
           62,
           0,
           0
          ],
          [
           44,
           0,
           1
          ],
          [
           56,
           1,
           1
          ],
          [
           54,
           0,
           1
          ],
          [
           56,
           0,
           1
          ],
          [
           69,
           0,
           0
          ],
          [
           72,
           0,
           1
          ],
          [
           59,
           1,
           1
          ],
          [
           70,
           0,
           1
          ],
          [
           64,
           1,
           1
          ],
          [
           61,
           1,
           1
          ],
          [
           72,
           1,
           1
          ],
          [
           63,
           1,
           0
          ],
          [
           74,
           1,
           1
          ],
          [
           71,
           0,
           1
          ],
          [
           72,
           1,
           1
          ],
          [
           77,
           1,
           0
          ],
          [
           72,
           0,
           1
          ],
          [
           55,
           1,
           1
          ],
          [
           65,
           1,
           0
          ],
          [
           67,
           1,
           1
          ],
          [
           69,
           0,
           1
          ],
          [
           55,
           1,
           1
          ],
          [
           51,
           1,
           0
          ],
          [
           64,
           0,
           0
          ],
          [
           63,
           0,
           1
          ],
          [
           69,
           0,
           0
          ],
          [
           64,
           0,
           0
          ],
          [
           59,
           0,
           1
          ],
          [
           73,
           1,
           0
          ],
          [
           55,
           1,
           1
          ],
          [
           63,
           0,
           0
          ],
          [
           60,
           0,
           1
          ],
          [
           74,
           1,
           1
          ],
          [
           65,
           0,
           0
          ],
          [
           79,
           1,
           1
          ],
          [
           62,
           0,
           1
          ],
          [
           71,
           1,
           0
          ],
          [
           67,
           0,
           1
          ],
          [
           55,
           1,
           1
          ],
          [
           54,
           1,
           0
          ],
          [
           77,
           0,
           1
          ],
          [
           58,
           1,
           1
          ],
          [
           64,
           1,
           0
          ],
          [
           61,
           1,
           1
          ],
          [
           67,
           1,
           1
          ],
          [
           56,
           1,
           0
          ],
          [
           70,
           0,
           0
          ],
          [
           70,
           0,
           1
          ],
          [
           57,
           0,
           1
          ],
          [
           77,
           0,
           1
          ],
          [
           63,
           1,
           1
          ],
          [
           62,
           1,
           1
          ],
          [
           59,
           1,
           1
          ],
          [
           70,
           0,
           1
          ],
          [
           71,
           0,
           0
          ],
          [
           56,
           0,
           1
          ],
          [
           57,
           0,
           0
          ],
          [
           78,
           0,
           1
          ],
          [
           64,
           1,
           1
          ],
          [
           62,
           0,
           1
          ],
          [
           49,
           0,
           0
          ],
          [
           77,
           0,
           1
          ],
          [
           64,
           0,
           0
          ],
          [
           63,
           0,
           1
          ],
          [
           54,
           1,
           1
          ],
          [
           38,
           0,
           1
          ],
          [
           75,
           0,
           0
          ],
          [
           70,
           1,
           0
          ],
          [
           59,
           1,
           1
          ],
          [
           77,
           1,
           0
          ],
          [
           61,
           0,
           1
          ],
          [
           64,
           1,
           1
          ],
          [
           71,
           1,
           0
          ],
          [
           67,
           0,
           1
          ],
          [
           64,
           1,
           1
          ],
          [
           69,
           1,
           1
          ],
          [
           64,
           1,
           1
          ],
          [
           59,
           0,
           0
          ],
          [
           67,
           1,
           1
          ],
          [
           74,
           0,
           1
          ],
          [
           77,
           0,
           1
          ],
          [
           60,
           1,
           1
          ],
          [
           64,
           1,
           0
          ],
          [
           70,
           1,
           1
          ],
          [
           58,
           0,
           1
          ],
          [
           59,
           0,
           1
          ],
          [
           39,
           1,
           1
          ],
          [
           71,
           0,
           1
          ],
          [
           70,
           1,
           1
          ],
          [
           60,
           1,
           1
          ],
          [
           60,
           1,
           0
          ],
          [
           55,
           1,
           1
          ],
          [
           55,
           0,
           1
          ],
          [
           63,
           1,
           1
          ],
          [
           59,
           0,
           1
          ],
          [
           56,
           1,
           0
          ],
          [
           64,
           1,
           0
          ],
          [
           62,
           1,
           1
          ],
          [
           77,
           1,
           1
          ],
          [
           59,
           0,
           0
          ],
          [
           60,
           0,
           1
          ],
          [
           58,
           1,
           0
          ],
          [
           58,
           1,
           1
          ],
          [
           51,
           1,
           1
          ],
          [
           61,
           0,
           0
          ],
          [
           61,
           1,
           1
          ],
          [
           76,
           1,
           1
          ],
          [
           71,
           1,
           0
          ],
          [
           69,
           0,
           1
          ],
          [
           56,
           1,
           1
          ],
          [
           67,
           0,
           1
          ],
          [
           54,
           1,
           0
          ],
          [
           63,
           0,
           1
          ],
          [
           47,
           1,
           1
          ],
          [
           62,
           1,
           1
          ],
          [
           65,
           1,
           1
          ],
          [
           63,
           1,
           1
          ],
          [
           64,
           0,
           0
          ],
          [
           65,
           1,
           1
          ],
          [
           51,
           0,
           1
          ],
          [
           56,
           0,
           1
          ],
          [
           70,
           1,
           1
          ],
          [
           58,
           1,
           0
          ],
          [
           67,
           1,
           1
          ],
          [
           62,
           0,
           1
          ]
         ],
         "hovertemplate": "Lung Cancer=1<br>Smoking: %{x}<br>Shortness_of_breath: %{y}<br>Age: %{customdata[0]}<br>Smoking: %{customdata[1]}<br>Fatigue: %{customdata[2]}<br><extra></extra>",
         "legendgroup": "LC=1",
         "marker": {
          "color": "#EF553B",
          "line": {
           "color": "DarkSlateGrey",
           "width": 0.5
          },
          "opacity": 0.7,
          "size": 8
         },
         "mode": "markers",
         "name": "smoking vs shortness_of_breath | LC=1",
         "showlegend": false,
         "type": "scatter",
         "x": {
          "bdata": "AAEAAQEBAQABAAEBAQEAAQEAAQEBAQEAAQEBAAABAQEBAQAAAQEBAAAAAAABAAAAAAEAAQEBAQEAAQEBAAEBAQEBAAAAAAABAQAAAQABAAEBAAEBAAEBAQABAQAAAAEAAQAAAQEBAAEAAQEBAAEBAQEAAQEBAAEAAQABAQEBAAEAAAEBAQAAAQAAAQEBAAAAAAABAAAAAAEAAQEBAQEAAQEAAQEBAAEBAAAAAAABAQAAAQABAAEAAQEAAQEBAQEAAAAAAQEBAAAAAAABAAAAAAABAAABAQEAAQEAAQEBAAEAAAEBAQAAAQABAQEBAAEAAQEBAQAAAQEBAAEBAQABAAEAAQEBAQABAAABAQEA",
          "dtype": "i1"
         },
         "xaxis": "x5",
         "y": {
          "bdata": "AQEBAQEAAQEBAQEAAQEAAQABAQEBAQEBAQABAAABAAEBAAEAAQABAAABAQEBAAAAAQABAQEBAAEBAQEAAQEAAQEAAQEBAQAAAAABAAEBAAEBAAEAAQEAAQEBAAEBAQEBAAEBAQEBAAEBAQEAAQEAAQEAAQEAAQEBAQEBAQEBAAEBAQEAAQAAAAEAAQABAAABAQEBAAAAAQABAQEBAAEBAQAAAAAAAAAAAAEBAQAAAAABAAEBAAEAAQABAQABAQABAQEAAQABAAABAQEBAAAAAAEAAQABAQABAQEBAQEBAAEBAQEAAQAAAQEBAQABAQEBAQABAQABAAEBAAEBAAEBAQEBAQEBAQABAQEBAAEA",
          "dtype": "i1"
         },
         "yaxis": "y5"
        },
        {
         "customdata": [
          [
           59,
           0,
           1
          ],
          [
           63,
           1,
           0
          ],
          [
           63,
           0,
           0
          ],
          [
           68,
           1,
           1
          ],
          [
           60,
           1,
           1
          ],
          [
           69,
           1,
           0
          ],
          [
           61,
           0,
           1
          ],
          [
           21,
           1,
           1
          ],
          [
           69,
           0,
           1
          ],
          [
           55,
           0,
           1
          ],
          [
           57,
           1,
           0
          ],
          [
           56,
           1,
           0
          ],
          [
           59,
           0,
           0
          ],
          [
           56,
           0,
           0
          ],
          [
           60,
           0,
           0
          ],
          [
           60,
           0,
           0
          ],
          [
           58,
           0,
           1
          ],
          [
           63,
           0,
           1
          ],
          [
           69,
           1,
           0
          ],
          [
           64,
           1,
           0
          ],
          [
           47,
           1,
           0
          ],
          [
           57,
           1,
           0
          ],
          [
           68,
           0,
           0
          ],
          [
           57,
           0,
           0
          ],
          [
           71,
           1,
           1
          ],
          [
           63,
           1,
           0
          ],
          [
           62,
           0,
           1
          ],
          [
           61,
           0,
           0
          ],
          [
           59,
           0,
           1
          ],
          [
           68,
           1,
           1
          ],
          [
           67,
           0,
           0
          ],
          [
           55,
           1,
           1
          ],
          [
           70,
           1,
           1
          ],
          [
           64,
           1,
           0
          ],
          [
           87,
           0,
           1
          ],
          [
           59,
           1,
           1
          ],
          [
           55,
           1,
           1
          ],
          [
           46,
           0,
           0
          ],
          [
           63,
           0,
           1
          ]
         ],
         "hovertemplate": "Lung Cancer=0<br>Smoking: %{x}<br>Shortness_of_breath: %{y}<br>Age: %{customdata[0]}<br>Smoking: %{customdata[1]}<br>Fatigue: %{customdata[2]}<br><extra></extra>",
         "legendgroup": "LC=0",
         "marker": {
          "color": "#636EFA",
          "line": {
           "color": "DarkSlateGrey",
           "width": 0.5
          },
          "opacity": 0.7,
          "size": 8
         },
         "mode": "markers",
         "name": "smoking vs shortness_of_breath | LC=0",
         "showlegend": false,
         "type": "scatter",
         "x": {
          "bdata": "AAEAAQEBAAEAAAEBAAAAAAAAAQEBAQAAAQEAAAABAAEBAQABAQAA",
          "dtype": "i1"
         },
         "xaxis": "x5",
         "y": {
          "bdata": "AQABAAEAAQEBAQEBAAEAAAEBAAAAAAAAAQEBAAEAAQABAAEBAQAB",
          "dtype": "i1"
         },
         "yaxis": "y5"
        },
        {
         "customdata": [
          [
           69,
           0,
           1
          ],
          [
           74,
           1,
           1
          ],
          [
           75,
           0,
           1
          ],
          [
           52,
           1,
           1
          ],
          [
           51,
           1,
           1
          ],
          [
           53,
           1,
           0
          ],
          [
           61,
           1,
           1
          ],
          [
           72,
           0,
           1
          ],
          [
           58,
           1,
           1
          ],
          [
           48,
           0,
           1
          ],
          [
           75,
           1,
           0
          ],
          [
           57,
           1,
           0
          ],
          [
           68,
           1,
           1
          ],
          [
           44,
           1,
           1
          ],
          [
           64,
           0,
           0
          ],
          [
           60,
           1,
           1
          ],
          [
           72,
           1,
           0
          ],
          [
           65,
           0,
           1
          ],
          [
           61,
           1,
           1
          ],
          [
           53,
           1,
           0
          ],
          [
           62,
           1,
           0
          ],
          [
           67,
           1,
           0
          ],
          [
           59,
           1,
           0
          ],
          [
           60,
           0,
           0
          ],
          [
           56,
           1,
           0
          ],
          [
           60,
           1,
           0
          ],
          [
           68,
           1,
           1
          ],
          [
           63,
           0,
           1
          ],
          [
           77,
           0,
           1
          ],
          [
           52,
           1,
           1
          ],
          [
           70,
           1,
           0
          ],
          [
           72,
           1,
           1
          ],
          [
           62,
           1,
           0
          ],
          [
           64,
           1,
           1
          ],
          [
           70,
           0,
           1
          ],
          [
           56,
           0,
           1
          ],
          [
           63,
           1,
           1
          ],
          [
           54,
           1,
           1
          ],
          [
           49,
           1,
           1
          ],
          [
           57,
           0,
           1
          ],
          [
           52,
           0,
           0
          ],
          [
           63,
           0,
           1
          ],
          [
           73,
           0,
           0
          ],
          [
           47,
           0,
           1
          ],
          [
           69,
           1,
           1
          ],
          [
           70,
           0,
           1
          ],
          [
           70,
           0,
           1
          ],
          [
           68,
           0,
           0
          ],
          [
           74,
           0,
           1
          ],
          [
           71,
           1,
           1
          ],
          [
           56,
           0,
           1
          ],
          [
           66,
           1,
           1
          ],
          [
           76,
           1,
           1
          ],
          [
           78,
           1,
           1
          ],
          [
           68,
           1,
           0
          ],
          [
           66,
           1,
           1
          ],
          [
           67,
           0,
           1
          ],
          [
           60,
           1,
           1
          ],
          [
           61,
           1,
           1
          ],
          [
           58,
           1,
           0
          ],
          [
           76,
           0,
           1
          ],
          [
           56,
           1,
           1
          ],
          [
           67,
           1,
           0
          ],
          [
           73,
           1,
           1
          ],
          [
           54,
           1,
           1
          ],
          [
           62,
           1,
           0
          ],
          [
           81,
           0,
           0
          ],
          [
           56,
           0,
           1
          ],
          [
           60,
           0,
           0
          ],
          [
           66,
           0,
           0
          ],
          [
           62,
           0,
           1
          ],
          [
           62,
           1,
           0
          ],
          [
           55,
           1,
           1
          ],
          [
           62,
           0,
           0
          ],
          [
           71,
           0,
           1
          ],
          [
           52,
           1,
           1
          ],
          [
           59,
           0,
           0
          ],
          [
           48,
           1,
           1
          ],
          [
           60,
           0,
           1
          ],
          [
           61,
           1,
           0
          ],
          [
           59,
           1,
           0
          ],
          [
           64,
           0,
           1
          ],
          [
           56,
           1,
           1
          ],
          [
           58,
           1,
           0
          ],
          [
           81,
           0,
           1
          ],
          [
           64,
           1,
           1
          ],
          [
           62,
           1,
           0
          ],
          [
           72,
           1,
           1
          ],
          [
           60,
           0,
           1
          ],
          [
           61,
           1,
           1
          ],
          [
           60,
           1,
           0
          ],
          [
           49,
           0,
           0
          ],
          [
           53,
           0,
           1
          ],
          [
           58,
           0,
           1
          ],
          [
           61,
           1,
           1
          ],
          [
           68,
           0,
           1
          ],
          [
           60,
           1,
           0
          ],
          [
           72,
           0,
           1
          ],
          [
           72,
           0,
           1
          ],
          [
           57,
           1,
           1
          ],
          [
           51,
           1,
           1
          ],
          [
           54,
           1,
           1
          ],
          [
           56,
           0,
           0
          ],
          [
           77,
           1,
           1
          ],
          [
           64,
           0,
           1
          ],
          [
           57,
           1,
           1
          ],
          [
           66,
           1,
           1
          ],
          [
           70,
           1,
           0
          ],
          [
           53,
           0,
           1
          ],
          [
           51,
           1,
           1
          ],
          [
           58,
           1,
           0
          ],
          [
           58,
           1,
           1
          ],
          [
           51,
           1,
           1
          ],
          [
           61,
           0,
           0
          ],
          [
           61,
           1,
           1
          ],
          [
           76,
           1,
           1
          ],
          [
           71,
           1,
           0
          ],
          [
           69,
           0,
           1
          ],
          [
           56,
           1,
           1
          ],
          [
           67,
           0,
           1
          ],
          [
           54,
           1,
           0
          ],
          [
           63,
           0,
           1
          ],
          [
           47,
           1,
           1
          ],
          [
           62,
           1,
           1
          ],
          [
           65,
           1,
           1
          ],
          [
           63,
           1,
           1
          ],
          [
           64,
           0,
           0
          ],
          [
           65,
           1,
           1
          ],
          [
           51,
           0,
           1
          ],
          [
           56,
           0,
           1
          ],
          [
           70,
           1,
           1
          ],
          [
           58,
           1,
           0
          ],
          [
           67,
           1,
           1
          ],
          [
           62,
           0,
           1
          ],
          [
           74,
           0,
           1
          ],
          [
           75,
           1,
           0
          ],
          [
           56,
           0,
           1
          ],
          [
           55,
           0,
           1
          ],
          [
           62,
           1,
           1
          ],
          [
           73,
           1,
           1
          ],
          [
           68,
           1,
           1
          ],
          [
           75,
           0,
           1
          ],
          [
           63,
           0,
           0
          ],
          [
           61,
           0,
           1
          ],
          [
           62,
           0,
           0
          ],
          [
           44,
           0,
           1
          ],
          [
           56,
           1,
           1
          ],
          [
           54,
           0,
           1
          ],
          [
           56,
           0,
           1
          ],
          [
           69,
           0,
           0
          ],
          [
           72,
           0,
           1
          ],
          [
           59,
           1,
           1
          ],
          [
           70,
           0,
           1
          ],
          [
           64,
           1,
           1
          ],
          [
           61,
           1,
           1
          ],
          [
           72,
           1,
           1
          ],
          [
           63,
           1,
           0
          ],
          [
           74,
           1,
           1
          ],
          [
           71,
           0,
           1
          ],
          [
           72,
           1,
           1
          ],
          [
           77,
           1,
           0
          ],
          [
           72,
           0,
           1
          ],
          [
           55,
           1,
           1
          ],
          [
           65,
           1,
           0
          ],
          [
           67,
           1,
           1
          ],
          [
           69,
           0,
           1
          ],
          [
           55,
           1,
           1
          ],
          [
           51,
           1,
           0
          ],
          [
           64,
           0,
           0
          ],
          [
           63,
           0,
           1
          ],
          [
           69,
           0,
           0
          ],
          [
           64,
           0,
           0
          ],
          [
           59,
           0,
           1
          ],
          [
           73,
           1,
           0
          ],
          [
           55,
           1,
           1
          ],
          [
           63,
           0,
           0
          ],
          [
           60,
           0,
           1
          ],
          [
           74,
           1,
           1
          ],
          [
           65,
           0,
           0
          ],
          [
           79,
           1,
           1
          ],
          [
           62,
           0,
           1
          ],
          [
           71,
           1,
           0
          ],
          [
           67,
           0,
           1
          ],
          [
           55,
           1,
           1
          ],
          [
           54,
           1,
           0
          ],
          [
           77,
           0,
           1
          ],
          [
           58,
           1,
           1
          ],
          [
           64,
           1,
           0
          ],
          [
           61,
           1,
           1
          ],
          [
           67,
           1,
           1
          ],
          [
           56,
           1,
           0
          ],
          [
           70,
           0,
           0
          ],
          [
           70,
           0,
           1
          ],
          [
           57,
           0,
           1
          ],
          [
           77,
           0,
           1
          ],
          [
           63,
           1,
           1
          ],
          [
           62,
           1,
           1
          ],
          [
           59,
           1,
           1
          ],
          [
           70,
           0,
           1
          ],
          [
           71,
           0,
           0
          ],
          [
           56,
           0,
           1
          ],
          [
           57,
           0,
           0
          ],
          [
           78,
           0,
           1
          ],
          [
           64,
           1,
           1
          ],
          [
           62,
           0,
           1
          ],
          [
           49,
           0,
           0
          ],
          [
           77,
           0,
           1
          ],
          [
           64,
           0,
           0
          ],
          [
           63,
           0,
           1
          ],
          [
           54,
           1,
           1
          ],
          [
           38,
           0,
           1
          ],
          [
           75,
           0,
           0
          ],
          [
           70,
           1,
           0
          ],
          [
           59,
           1,
           1
          ],
          [
           77,
           1,
           0
          ],
          [
           61,
           0,
           1
          ],
          [
           64,
           1,
           1
          ],
          [
           71,
           1,
           0
          ],
          [
           67,
           0,
           1
          ],
          [
           64,
           1,
           1
          ],
          [
           69,
           1,
           1
          ],
          [
           64,
           1,
           1
          ],
          [
           59,
           0,
           0
          ],
          [
           67,
           1,
           1
          ],
          [
           74,
           0,
           1
          ],
          [
           77,
           0,
           1
          ],
          [
           60,
           1,
           1
          ],
          [
           64,
           1,
           0
          ],
          [
           70,
           1,
           1
          ],
          [
           58,
           0,
           1
          ],
          [
           59,
           0,
           1
          ],
          [
           39,
           1,
           1
          ],
          [
           71,
           0,
           1
          ],
          [
           70,
           1,
           1
          ],
          [
           60,
           1,
           1
          ],
          [
           60,
           1,
           0
          ],
          [
           55,
           1,
           1
          ],
          [
           55,
           0,
           1
          ],
          [
           63,
           1,
           1
          ],
          [
           59,
           0,
           1
          ],
          [
           56,
           1,
           0
          ],
          [
           64,
           1,
           0
          ],
          [
           62,
           1,
           1
          ],
          [
           77,
           1,
           1
          ],
          [
           59,
           0,
           0
          ],
          [
           60,
           0,
           1
          ],
          [
           58,
           1,
           0
          ],
          [
           58,
           1,
           1
          ],
          [
           51,
           1,
           1
          ],
          [
           61,
           0,
           0
          ],
          [
           61,
           1,
           1
          ],
          [
           76,
           1,
           1
          ],
          [
           71,
           1,
           0
          ],
          [
           69,
           0,
           1
          ],
          [
           56,
           1,
           1
          ],
          [
           67,
           0,
           1
          ],
          [
           54,
           1,
           0
          ],
          [
           63,
           0,
           1
          ],
          [
           47,
           1,
           1
          ],
          [
           62,
           1,
           1
          ],
          [
           65,
           1,
           1
          ],
          [
           63,
           1,
           1
          ],
          [
           64,
           0,
           0
          ],
          [
           65,
           1,
           1
          ],
          [
           51,
           0,
           1
          ],
          [
           56,
           0,
           1
          ],
          [
           70,
           1,
           1
          ],
          [
           58,
           1,
           0
          ],
          [
           67,
           1,
           1
          ],
          [
           62,
           0,
           1
          ]
         ],
         "hovertemplate": "Lung Cancer=1<br>Alcohol_consuming: %{x}<br>Chest_pain: %{y}<br>Age: %{customdata[0]}<br>Smoking: %{customdata[1]}<br>Fatigue: %{customdata[2]}<br><extra></extra>",
         "legendgroup": "LC=1",
         "marker": {
          "color": "#EF553B",
          "line": {
           "color": "DarkSlateGrey",
           "width": 0.5
          },
          "opacity": 0.7,
          "size": 8
         },
         "mode": "markers",
         "name": "alcohol_consuming vs chest_pain | LC=1",
         "showlegend": false,
         "type": "scatter",
         "x": {
          "bdata": "AQAAAQABAAEBAAEBAAAAAQEBAQEBAAAAAAEBAQEBAQEAAQEBAAEBAQEAAQABAQEBAQAAAQAAAQABAAEBAAEBAAABAQEBAQABAQEAAQEBAAEBAAEBAAEBAAAAAQEBAQEAAQEAAQAAAQABAAEBAAEBAAAAAAEBAQAAAQEAAQAAAQABAQEBAQEBAAEBAAEBAQEAAQABAQEBAQAAAQAAAQABAQEAAAAAAAAAAAEBAQABAQEAAQEBAAEAAQEAAQEAAAEBAQEBAAEBAQEAAQABAQABAQEAAAAAAQABAAEBAAAAAQABAQEBAQEBAQABAAEAAQEAAQEAAAABAQAAAAABAQEAAAEBAAEAAAEAAQEBAQEB",
          "dtype": "i1"
         },
         "xaxis": "x6",
         "y": {
          "bdata": "AQEAAQABAAEBAAEBAAAAAQEBAQEBAQABAQEBAAABAAEBAQEBAAEBAAABAQEBAQAAAQEBAAEAAQABAAEAAQEBAQABAAEAAQEAAQEBAQABAQEAAAEAAQEBAQAAAQABAQEBAQAAAQAAAQABAAABAAEBAAAAAAEBAAEBAQAAAQABAQABAAEBAQAAAQEBAAEBAAABAQEBAQAAAQEBAAEAAQABAQAAAAAAAAAAAAEAAQEAAQEBAQABAQEAAQABAQEBAAEAAQEBAAEBAAABAQEBAQAAAAEBAQAAAQEAAQEAAAABAQABAAEBAQAAAQABAAEAAQEAAQEAAAABAQAAAAABAQABAQEAAAEAAQEAAQABAQEA",
          "dtype": "i1"
         },
         "yaxis": "y6"
        },
        {
         "customdata": [
          [
           59,
           0,
           1
          ],
          [
           63,
           1,
           0
          ],
          [
           63,
           0,
           0
          ],
          [
           68,
           1,
           1
          ],
          [
           60,
           1,
           1
          ],
          [
           69,
           1,
           0
          ],
          [
           61,
           0,
           1
          ],
          [
           21,
           1,
           1
          ],
          [
           69,
           0,
           1
          ],
          [
           55,
           0,
           1
          ],
          [
           57,
           1,
           0
          ],
          [
           56,
           1,
           0
          ],
          [
           59,
           0,
           0
          ],
          [
           56,
           0,
           0
          ],
          [
           60,
           0,
           0
          ],
          [
           60,
           0,
           0
          ],
          [
           58,
           0,
           1
          ],
          [
           63,
           0,
           1
          ],
          [
           69,
           1,
           0
          ],
          [
           64,
           1,
           0
          ],
          [
           47,
           1,
           0
          ],
          [
           57,
           1,
           0
          ],
          [
           68,
           0,
           0
          ],
          [
           57,
           0,
           0
          ],
          [
           71,
           1,
           1
          ],
          [
           63,
           1,
           0
          ],
          [
           62,
           0,
           1
          ],
          [
           61,
           0,
           0
          ],
          [
           59,
           0,
           1
          ],
          [
           68,
           1,
           1
          ],
          [
           67,
           0,
           0
          ],
          [
           55,
           1,
           1
          ],
          [
           70,
           1,
           1
          ],
          [
           64,
           1,
           0
          ],
          [
           87,
           0,
           1
          ],
          [
           59,
           1,
           1
          ],
          [
           55,
           1,
           1
          ],
          [
           46,
           0,
           0
          ],
          [
           63,
           0,
           1
          ]
         ],
         "hovertemplate": "Lung Cancer=0<br>Alcohol_consuming: %{x}<br>Chest_pain: %{y}<br>Age: %{customdata[0]}<br>Smoking: %{customdata[1]}<br>Fatigue: %{customdata[2]}<br><extra></extra>",
         "legendgroup": "LC=0",
         "marker": {
          "color": "#636EFA",
          "line": {
           "color": "DarkSlateGrey",
           "width": 0.5
          },
          "opacity": 0.7,
          "size": 8
         },
         "mode": "markers",
         "name": "alcohol_consuming vs chest_pain | LC=0",
         "showlegend": false,
         "type": "scatter",
         "x": {
          "bdata": "AAEAAAABAAAAAQAAAAABAAAAAAAAAAEAAAAAAQAAAAAAAQAAAAAA",
          "dtype": "i1"
         },
         "xaxis": "x6",
         "y": {
          "bdata": "AQEAAAABAAABAAAAAQAAAAAAAQABAQAAAAAAAAEAAAAAAQAAAQEA",
          "dtype": "i1"
         },
         "yaxis": "y6"
        }
       ],
       "layout": {
        "annotations": [
         {
          "font": {
           "size": 16
          },
          "showarrow": false,
          "text": "Age vs Smoking stratified by Lung Cancer",
          "x": 0.225,
          "xanchor": "center",
          "xref": "paper",
          "y": 1,
          "yanchor": "bottom",
          "yref": "paper"
         },
         {
          "font": {
           "size": 16
          },
          "showarrow": false,
          "text": "Age vs Alcohol_consuming stratified by Lung Cancer",
          "x": 0.775,
          "xanchor": "center",
          "xref": "paper",
          "y": 1,
          "yanchor": "bottom",
          "yref": "paper"
         },
         {
          "font": {
           "size": 16
          },
          "showarrow": false,
          "text": "Age vs Coughing stratified by Lung Cancer",
          "x": 0.225,
          "xanchor": "center",
          "xref": "paper",
          "y": 0.6266666666666667,
          "yanchor": "bottom",
          "yref": "paper"
         },
         {
          "font": {
           "size": 16
          },
          "showarrow": false,
          "text": "Smoking vs Coughing stratified by Lung Cancer",
          "x": 0.775,
          "xanchor": "center",
          "xref": "paper",
          "y": 0.6266666666666667,
          "yanchor": "bottom",
          "yref": "paper"
         },
         {
          "font": {
           "size": 16
          },
          "showarrow": false,
          "text": "Smoking vs Shortness_of_breath stratified by Lung Cancer",
          "x": 0.225,
          "xanchor": "center",
          "xref": "paper",
          "y": 0.25333333333333335,
          "yanchor": "bottom",
          "yref": "paper"
         },
         {
          "font": {
           "size": 16
          },
          "showarrow": false,
          "text": "Alcohol_consuming vs Chest_pain stratified by Lung Cancer",
          "x": 0.775,
          "xanchor": "center",
          "xref": "paper",
          "y": 0.25333333333333335,
          "yanchor": "bottom",
          "yref": "paper"
         }
        ],
        "height": 1600,
        "legend": {
         "bgcolor": "rgba(255,255,255,0.95)",
         "bordercolor": "rgba(0,0,0,0.3)",
         "borderwidth": 1,
         "font": {
          "size": 11
         },
         "itemsizing": "constant",
         "orientation": "v",
         "x": 1.02,
         "xanchor": "left",
         "y": 0.99,
         "yanchor": "top"
        },
        "margin": {
         "b": 60,
         "l": 80,
         "r": 250,
         "t": 100
        },
        "showlegend": true,
        "template": {
         "data": {
          "bar": [
           {
            "error_x": {
             "color": "#2a3f5f"
            },
            "error_y": {
             "color": "#2a3f5f"
            },
            "marker": {
             "line": {
              "color": "#E5ECF6",
              "width": 0.5
             },
             "pattern": {
              "fillmode": "overlay",
              "size": 10,
              "solidity": 0.2
             }
            },
            "type": "bar"
           }
          ],
          "barpolar": [
           {
            "marker": {
             "line": {
              "color": "#E5ECF6",
              "width": 0.5
             },
             "pattern": {
              "fillmode": "overlay",
              "size": 10,
              "solidity": 0.2
             }
            },
            "type": "barpolar"
           }
          ],
          "carpet": [
           {
            "aaxis": {
             "endlinecolor": "#2a3f5f",
             "gridcolor": "white",
             "linecolor": "white",
             "minorgridcolor": "white",
             "startlinecolor": "#2a3f5f"
            },
            "baxis": {
             "endlinecolor": "#2a3f5f",
             "gridcolor": "white",
             "linecolor": "white",
             "minorgridcolor": "white",
             "startlinecolor": "#2a3f5f"
            },
            "type": "carpet"
           }
          ],
          "choropleth": [
           {
            "colorbar": {
             "outlinewidth": 0,
             "ticks": ""
            },
            "type": "choropleth"
           }
          ],
          "contour": [
           {
            "colorbar": {
             "outlinewidth": 0,
             "ticks": ""
            },
            "colorscale": [
             [
              0,
              "#0d0887"
             ],
             [
              0.1111111111111111,
              "#46039f"
             ],
             [
              0.2222222222222222,
              "#7201a8"
             ],
             [
              0.3333333333333333,
              "#9c179e"
             ],
             [
              0.4444444444444444,
              "#bd3786"
             ],
             [
              0.5555555555555556,
              "#d8576b"
             ],
             [
              0.6666666666666666,
              "#ed7953"
             ],
             [
              0.7777777777777778,
              "#fb9f3a"
             ],
             [
              0.8888888888888888,
              "#fdca26"
             ],
             [
              1,
              "#f0f921"
             ]
            ],
            "type": "contour"
           }
          ],
          "contourcarpet": [
           {
            "colorbar": {
             "outlinewidth": 0,
             "ticks": ""
            },
            "type": "contourcarpet"
           }
          ],
          "heatmap": [
           {
            "colorbar": {
             "outlinewidth": 0,
             "ticks": ""
            },
            "colorscale": [
             [
              0,
              "#0d0887"
             ],
             [
              0.1111111111111111,
              "#46039f"
             ],
             [
              0.2222222222222222,
              "#7201a8"
             ],
             [
              0.3333333333333333,
              "#9c179e"
             ],
             [
              0.4444444444444444,
              "#bd3786"
             ],
             [
              0.5555555555555556,
              "#d8576b"
             ],
             [
              0.6666666666666666,
              "#ed7953"
             ],
             [
              0.7777777777777778,
              "#fb9f3a"
             ],
             [
              0.8888888888888888,
              "#fdca26"
             ],
             [
              1,
              "#f0f921"
             ]
            ],
            "type": "heatmap"
           }
          ],
          "histogram": [
           {
            "marker": {
             "pattern": {
              "fillmode": "overlay",
              "size": 10,
              "solidity": 0.2
             }
            },
            "type": "histogram"
           }
          ],
          "histogram2d": [
           {
            "colorbar": {
             "outlinewidth": 0,
             "ticks": ""
            },
            "colorscale": [
             [
              0,
              "#0d0887"
             ],
             [
              0.1111111111111111,
              "#46039f"
             ],
             [
              0.2222222222222222,
              "#7201a8"
             ],
             [
              0.3333333333333333,
              "#9c179e"
             ],
             [
              0.4444444444444444,
              "#bd3786"
             ],
             [
              0.5555555555555556,
              "#d8576b"
             ],
             [
              0.6666666666666666,
              "#ed7953"
             ],
             [
              0.7777777777777778,
              "#fb9f3a"
             ],
             [
              0.8888888888888888,
              "#fdca26"
             ],
             [
              1,
              "#f0f921"
             ]
            ],
            "type": "histogram2d"
           }
          ],
          "histogram2dcontour": [
           {
            "colorbar": {
             "outlinewidth": 0,
             "ticks": ""
            },
            "colorscale": [
             [
              0,
              "#0d0887"
             ],
             [
              0.1111111111111111,
              "#46039f"
             ],
             [
              0.2222222222222222,
              "#7201a8"
             ],
             [
              0.3333333333333333,
              "#9c179e"
             ],
             [
              0.4444444444444444,
              "#bd3786"
             ],
             [
              0.5555555555555556,
              "#d8576b"
             ],
             [
              0.6666666666666666,
              "#ed7953"
             ],
             [
              0.7777777777777778,
              "#fb9f3a"
             ],
             [
              0.8888888888888888,
              "#fdca26"
             ],
             [
              1,
              "#f0f921"
             ]
            ],
            "type": "histogram2dcontour"
           }
          ],
          "mesh3d": [
           {
            "colorbar": {
             "outlinewidth": 0,
             "ticks": ""
            },
            "type": "mesh3d"
           }
          ],
          "parcoords": [
           {
            "line": {
             "colorbar": {
              "outlinewidth": 0,
              "ticks": ""
             }
            },
            "type": "parcoords"
           }
          ],
          "pie": [
           {
            "automargin": true,
            "type": "pie"
           }
          ],
          "scatter": [
           {
            "fillpattern": {
             "fillmode": "overlay",
             "size": 10,
             "solidity": 0.2
            },
            "type": "scatter"
           }
          ],
          "scatter3d": [
           {
            "line": {
             "colorbar": {
              "outlinewidth": 0,
              "ticks": ""
             }
            },
            "marker": {
             "colorbar": {
              "outlinewidth": 0,
              "ticks": ""
             }
            },
            "type": "scatter3d"
           }
          ],
          "scattercarpet": [
           {
            "marker": {
             "colorbar": {
              "outlinewidth": 0,
              "ticks": ""
             }
            },
            "type": "scattercarpet"
           }
          ],
          "scattergeo": [
           {
            "marker": {
             "colorbar": {
              "outlinewidth": 0,
              "ticks": ""
             }
            },
            "type": "scattergeo"
           }
          ],
          "scattergl": [
           {
            "marker": {
             "colorbar": {
              "outlinewidth": 0,
              "ticks": ""
             }
            },
            "type": "scattergl"
           }
          ],
          "scattermap": [
           {
            "marker": {
             "colorbar": {
              "outlinewidth": 0,
              "ticks": ""
             }
            },
            "type": "scattermap"
           }
          ],
          "scattermapbox": [
           {
            "marker": {
             "colorbar": {
              "outlinewidth": 0,
              "ticks": ""
             }
            },
            "type": "scattermapbox"
           }
          ],
          "scatterpolar": [
           {
            "marker": {
             "colorbar": {
              "outlinewidth": 0,
              "ticks": ""
             }
            },
            "type": "scatterpolar"
           }
          ],
          "scatterpolargl": [
           {
            "marker": {
             "colorbar": {
              "outlinewidth": 0,
              "ticks": ""
             }
            },
            "type": "scatterpolargl"
           }
          ],
          "scatterternary": [
           {
            "marker": {
             "colorbar": {
              "outlinewidth": 0,
              "ticks": ""
             }
            },
            "type": "scatterternary"
           }
          ],
          "surface": [
           {
            "colorbar": {
             "outlinewidth": 0,
             "ticks": ""
            },
            "colorscale": [
             [
              0,
              "#0d0887"
             ],
             [
              0.1111111111111111,
              "#46039f"
             ],
             [
              0.2222222222222222,
              "#7201a8"
             ],
             [
              0.3333333333333333,
              "#9c179e"
             ],
             [
              0.4444444444444444,
              "#bd3786"
             ],
             [
              0.5555555555555556,
              "#d8576b"
             ],
             [
              0.6666666666666666,
              "#ed7953"
             ],
             [
              0.7777777777777778,
              "#fb9f3a"
             ],
             [
              0.8888888888888888,
              "#fdca26"
             ],
             [
              1,
              "#f0f921"
             ]
            ],
            "type": "surface"
           }
          ],
          "table": [
           {
            "cells": {
             "fill": {
              "color": "#EBF0F8"
             },
             "line": {
              "color": "white"
             }
            },
            "header": {
             "fill": {
              "color": "#C8D4E3"
             },
             "line": {
              "color": "white"
             }
            },
            "type": "table"
           }
          ]
         },
         "layout": {
          "annotationdefaults": {
           "arrowcolor": "#2a3f5f",
           "arrowhead": 0,
           "arrowwidth": 1
          },
          "autotypenumbers": "strict",
          "coloraxis": {
           "colorbar": {
            "outlinewidth": 0,
            "ticks": ""
           }
          },
          "colorscale": {
           "diverging": [
            [
             0,
             "#8e0152"
            ],
            [
             0.1,
             "#c51b7d"
            ],
            [
             0.2,
             "#de77ae"
            ],
            [
             0.3,
             "#f1b6da"
            ],
            [
             0.4,
             "#fde0ef"
            ],
            [
             0.5,
             "#f7f7f7"
            ],
            [
             0.6,
             "#e6f5d0"
            ],
            [
             0.7,
             "#b8e186"
            ],
            [
             0.8,
             "#7fbc41"
            ],
            [
             0.9,
             "#4d9221"
            ],
            [
             1,
             "#276419"
            ]
           ],
           "sequential": [
            [
             0,
             "#0d0887"
            ],
            [
             0.1111111111111111,
             "#46039f"
            ],
            [
             0.2222222222222222,
             "#7201a8"
            ],
            [
             0.3333333333333333,
             "#9c179e"
            ],
            [
             0.4444444444444444,
             "#bd3786"
            ],
            [
             0.5555555555555556,
             "#d8576b"
            ],
            [
             0.6666666666666666,
             "#ed7953"
            ],
            [
             0.7777777777777778,
             "#fb9f3a"
            ],
            [
             0.8888888888888888,
             "#fdca26"
            ],
            [
             1,
             "#f0f921"
            ]
           ],
           "sequentialminus": [
            [
             0,
             "#0d0887"
            ],
            [
             0.1111111111111111,
             "#46039f"
            ],
            [
             0.2222222222222222,
             "#7201a8"
            ],
            [
             0.3333333333333333,
             "#9c179e"
            ],
            [
             0.4444444444444444,
             "#bd3786"
            ],
            [
             0.5555555555555556,
             "#d8576b"
            ],
            [
             0.6666666666666666,
             "#ed7953"
            ],
            [
             0.7777777777777778,
             "#fb9f3a"
            ],
            [
             0.8888888888888888,
             "#fdca26"
            ],
            [
             1,
             "#f0f921"
            ]
           ]
          },
          "colorway": [
           "#636efa",
           "#EF553B",
           "#00cc96",
           "#ab63fa",
           "#FFA15A",
           "#19d3f3",
           "#FF6692",
           "#B6E880",
           "#FF97FF",
           "#FECB52"
          ],
          "font": {
           "color": "#2a3f5f"
          },
          "geo": {
           "bgcolor": "white",
           "lakecolor": "white",
           "landcolor": "#E5ECF6",
           "showlakes": true,
           "showland": true,
           "subunitcolor": "white"
          },
          "hoverlabel": {
           "align": "left"
          },
          "hovermode": "closest",
          "mapbox": {
           "style": "light"
          },
          "paper_bgcolor": "white",
          "plot_bgcolor": "#E5ECF6",
          "polar": {
           "angularaxis": {
            "gridcolor": "white",
            "linecolor": "white",
            "ticks": ""
           },
           "bgcolor": "#E5ECF6",
           "radialaxis": {
            "gridcolor": "white",
            "linecolor": "white",
            "ticks": ""
           }
          },
          "scene": {
           "xaxis": {
            "backgroundcolor": "#E5ECF6",
            "gridcolor": "white",
            "gridwidth": 2,
            "linecolor": "white",
            "showbackground": true,
            "ticks": "",
            "zerolinecolor": "white"
           },
           "yaxis": {
            "backgroundcolor": "#E5ECF6",
            "gridcolor": "white",
            "gridwidth": 2,
            "linecolor": "white",
            "showbackground": true,
            "ticks": "",
            "zerolinecolor": "white"
           },
           "zaxis": {
            "backgroundcolor": "#E5ECF6",
            "gridcolor": "white",
            "gridwidth": 2,
            "linecolor": "white",
            "showbackground": true,
            "ticks": "",
            "zerolinecolor": "white"
           }
          },
          "shapedefaults": {
           "line": {
            "color": "#2a3f5f"
           }
          },
          "ternary": {
           "aaxis": {
            "gridcolor": "white",
            "linecolor": "white",
            "ticks": ""
           },
           "baxis": {
            "gridcolor": "white",
            "linecolor": "white",
            "ticks": ""
           },
           "bgcolor": "#E5ECF6",
           "caxis": {
            "gridcolor": "white",
            "linecolor": "white",
            "ticks": ""
           }
          },
          "title": {
           "x": 0.05
          },
          "xaxis": {
           "automargin": true,
           "gridcolor": "white",
           "linecolor": "white",
           "ticks": "",
           "title": {
            "standoff": 15
           },
           "zerolinecolor": "white",
           "zerolinewidth": 2
          },
          "yaxis": {
           "automargin": true,
           "gridcolor": "white",
           "linecolor": "white",
           "ticks": "",
           "title": {
            "standoff": 15
           },
           "zerolinecolor": "white",
           "zerolinewidth": 2
          }
         }
        },
        "title": {
         "font": {
          "size": 20
         },
         "text": "📊 Bivariate Risk Factor Analysis Stratified by Lung Cancer",
         "x": 0.5
        },
        "width": 1300,
        "xaxis": {
         "anchor": "y",
         "domain": [
          0,
          0.45
         ],
         "gridcolor": "rgba(128,128,128,0.3)",
         "gridwidth": 0.5,
         "linecolor": "rgba(0,0,0,0.2)",
         "linewidth": 1,
         "mirror": true,
         "showgrid": true,
         "showline": true
        },
        "xaxis2": {
         "anchor": "y2",
         "domain": [
          0.55,
          1
         ],
         "gridcolor": "rgba(128,128,128,0.3)",
         "gridwidth": 0.5,
         "linecolor": "rgba(0,0,0,0.2)",
         "linewidth": 1,
         "mirror": true,
         "showgrid": true,
         "showline": true
        },
        "xaxis3": {
         "anchor": "y3",
         "domain": [
          0,
          0.45
         ],
         "gridcolor": "rgba(128,128,128,0.3)",
         "gridwidth": 0.5,
         "linecolor": "rgba(0,0,0,0.2)",
         "linewidth": 1,
         "mirror": true,
         "showgrid": true,
         "showline": true
        },
        "xaxis4": {
         "anchor": "y4",
         "domain": [
          0.55,
          1
         ],
         "gridcolor": "rgba(128,128,128,0.3)",
         "gridwidth": 0.5,
         "linecolor": "rgba(0,0,0,0.2)",
         "linewidth": 1,
         "mirror": true,
         "showgrid": true,
         "showline": true
        },
        "xaxis5": {
         "anchor": "y5",
         "domain": [
          0,
          0.45
         ],
         "gridcolor": "rgba(128,128,128,0.3)",
         "gridwidth": 0.5,
         "linecolor": "rgba(0,0,0,0.2)",
         "linewidth": 1,
         "mirror": true,
         "showgrid": true,
         "showline": true
        },
        "xaxis6": {
         "anchor": "y6",
         "domain": [
          0.55,
          1
         ],
         "gridcolor": "rgba(128,128,128,0.3)",
         "gridwidth": 0.5,
         "linecolor": "rgba(0,0,0,0.2)",
         "linewidth": 1,
         "mirror": true,
         "showgrid": true,
         "showline": true
        },
        "yaxis": {
         "anchor": "x",
         "domain": [
          0.7466666666666667,
          1
         ],
         "gridcolor": "rgba(128,128,128,0.3)",
         "gridwidth": 0.5,
         "linecolor": "rgba(0,0,0,0.2)",
         "linewidth": 1,
         "mirror": true,
         "showgrid": true,
         "showline": true
        },
        "yaxis2": {
         "anchor": "x2",
         "domain": [
          0.7466666666666667,
          1
         ],
         "gridcolor": "rgba(128,128,128,0.3)",
         "gridwidth": 0.5,
         "linecolor": "rgba(0,0,0,0.2)",
         "linewidth": 1,
         "mirror": true,
         "showgrid": true,
         "showline": true
        },
        "yaxis3": {
         "anchor": "x3",
         "domain": [
          0.37333333333333335,
          0.6266666666666667
         ],
         "gridcolor": "rgba(128,128,128,0.3)",
         "gridwidth": 0.5,
         "linecolor": "rgba(0,0,0,0.2)",
         "linewidth": 1,
         "mirror": true,
         "showgrid": true,
         "showline": true
        },
        "yaxis4": {
         "anchor": "x4",
         "domain": [
          0.37333333333333335,
          0.6266666666666667
         ],
         "gridcolor": "rgba(128,128,128,0.3)",
         "gridwidth": 0.5,
         "linecolor": "rgba(0,0,0,0.2)",
         "linewidth": 1,
         "mirror": true,
         "showgrid": true,
         "showline": true
        },
        "yaxis5": {
         "anchor": "x5",
         "domain": [
          0,
          0.25333333333333335
         ],
         "gridcolor": "rgba(128,128,128,0.3)",
         "gridwidth": 0.5,
         "linecolor": "rgba(0,0,0,0.2)",
         "linewidth": 1,
         "mirror": true,
         "showgrid": true,
         "showline": true
        },
        "yaxis6": {
         "anchor": "x6",
         "domain": [
          0,
          0.25333333333333335
         ],
         "gridcolor": "rgba(128,128,128,0.3)",
         "gridwidth": 0.5,
         "linecolor": "rgba(0,0,0,0.2)",
         "linewidth": 1,
         "mirror": true,
         "showgrid": true,
         "showline": true
        }
       }
      },
      "text/html": [
       "<div>            <script src=\"https://cdnjs.cloudflare.com/ajax/libs/mathjax/2.7.5/MathJax.js?config=TeX-AMS-MML_SVG\"></script><script type=\"text/javascript\">if (window.MathJax && window.MathJax.Hub && window.MathJax.Hub.Config) {window.MathJax.Hub.Config({SVG: {font: \"STIX-Web\"}});}</script>                <script type=\"text/javascript\">window.PlotlyConfig = {MathJaxConfig: 'local'};</script>\n",
       "        <script charset=\"utf-8\" src=\"https://cdn.plot.ly/plotly-3.1.0.min.js\" integrity=\"sha256-Ei4740bWZhaUTQuD6q9yQlgVCMPBz6CZWhevDYPv93A=\" crossorigin=\"anonymous\"></script>                <div id=\"d490d5b4-e681-4d88-8d86-0a698095aae5\" class=\"plotly-graph-div\" style=\"height:1600px; width:1300px;\"></div>            <script type=\"text/javascript\">                window.PLOTLYENV=window.PLOTLYENV || {};                                if (document.getElementById(\"d490d5b4-e681-4d88-8d86-0a698095aae5\")) {                    Plotly.newPlot(                        \"d490d5b4-e681-4d88-8d86-0a698095aae5\",                        [{\"customdata\":[[69,0,1],[74,1,1],[75,0,1],[52,1,1],[51,1,1],[53,1,0],[61,1,1],[72,0,1],[58,1,1],[48,0,1],[75,1,0],[57,1,0],[68,1,1],[44,1,1],[64,0,0],[60,1,1],[72,1,0],[65,0,1],[61,1,1],[53,1,0],[62,1,0],[67,1,0],[59,1,0],[60,0,0],[56,1,0],[60,1,0],[68,1,1],[63,0,1],[77,0,1],[52,1,1],[70,1,0],[72,1,1],[62,1,0],[64,1,1],[70,0,1],[56,0,1],[63,1,1],[54,1,1],[49,1,1],[57,0,1],[52,0,0],[63,0,1],[73,0,0],[47,0,1],[69,1,1],[70,0,1],[70,0,1],[68,0,0],[74,0,1],[71,1,1],[56,0,1],[66,1,1],[76,1,1],[78,1,1],[68,1,0],[66,1,1],[67,0,1],[60,1,1],[61,1,1],[58,1,0],[76,0,1],[56,1,1],[67,1,0],[73,1,1],[54,1,1],[62,1,0],[81,0,0],[56,0,1],[60,0,0],[66,0,0],[62,0,1],[62,1,0],[55,1,1],[62,0,0],[71,0,1],[52,1,1],[59,0,0],[48,1,1],[60,0,1],[61,1,0],[59,1,0],[64,0,1],[56,1,1],[58,1,0],[81,0,1],[64,1,1],[62,1,0],[72,1,1],[60,0,1],[61,1,1],[60,1,0],[49,0,0],[53,0,1],[58,0,1],[61,1,1],[68,0,1],[60,1,0],[72,0,1],[72,0,1],[57,1,1],[51,1,1],[54,1,1],[56,0,0],[77,1,1],[64,0,1],[57,1,1],[66,1,1],[70,1,0],[53,0,1],[51,1,1],[58,1,0],[58,1,1],[51,1,1],[61,0,0],[61,1,1],[76,1,1],[71,1,0],[69,0,1],[56,1,1],[67,0,1],[54,1,0],[63,0,1],[47,1,1],[62,1,1],[65,1,1],[63,1,1],[64,0,0],[65,1,1],[51,0,1],[56,0,1],[70,1,1],[58,1,0],[67,1,1],[62,0,1],[74,0,1],[75,1,0],[56,0,1],[55,0,1],[62,1,1],[73,1,1],[68,1,1],[75,0,1],[63,0,0],[61,0,1],[62,0,0],[44,0,1],[56,1,1],[54,0,1],[56,0,1],[69,0,0],[72,0,1],[59,1,1],[70,0,1],[64,1,1],[61,1,1],[72,1,1],[63,1,0],[74,1,1],[71,0,1],[72,1,1],[77,1,0],[72,0,1],[55,1,1],[65,1,0],[67,1,1],[69,0,1],[55,1,1],[51,1,0],[64,0,0],[63,0,1],[69,0,0],[64,0,0],[59,0,1],[73,1,0],[55,1,1],[63,0,0],[60,0,1],[74,1,1],[65,0,0],[79,1,1],[62,0,1],[71,1,0],[67,0,1],[55,1,1],[54,1,0],[77,0,1],[58,1,1],[64,1,0],[61,1,1],[67,1,1],[56,1,0],[70,0,0],[70,0,1],[57,0,1],[77,0,1],[63,1,1],[62,1,1],[59,1,1],[70,0,1],[71,0,0],[56,0,1],[57,0,0],[78,0,1],[64,1,1],[62,0,1],[49,0,0],[77,0,1],[64,0,0],[63,0,1],[54,1,1],[38,0,1],[75,0,0],[70,1,0],[59,1,1],[77,1,0],[61,0,1],[64,1,1],[71,1,0],[67,0,1],[64,1,1],[69,1,1],[64,1,1],[59,0,0],[67,1,1],[74,0,1],[77,0,1],[60,1,1],[64,1,0],[70,1,1],[58,0,1],[59,0,1],[39,1,1],[71,0,1],[70,1,1],[60,1,1],[60,1,0],[55,1,1],[55,0,1],[63,1,1],[59,0,1],[56,1,0],[64,1,0],[62,1,1],[77,1,1],[59,0,0],[60,0,1],[58,1,0],[58,1,1],[51,1,1],[61,0,0],[61,1,1],[76,1,1],[71,1,0],[69,0,1],[56,1,1],[67,0,1],[54,1,0],[63,0,1],[47,1,1],[62,1,1],[65,1,1],[63,1,1],[64,0,0],[65,1,1],[51,0,1],[56,0,1],[70,1,1],[58,1,0],[67,1,1],[62,0,1]],\"hovertemplate\":\"Lung Cancer=1\\u003cbr\\u003eAge: %{x}\\u003cbr\\u003eSmoking: %{y}\\u003cbr\\u003eAge: %{customdata[0]}\\u003cbr\\u003eSmoking: %{customdata[1]}\\u003cbr\\u003eFatigue: %{customdata[2]}\\u003cbr\\u003e\\u003cextra\\u003e\\u003c\\u002fextra\\u003e\",\"legendgroup\":\"LC=1\",\"marker\":{\"color\":\"#EF553B\",\"line\":{\"color\":\"DarkSlateGrey\",\"width\":0.5},\"opacity\":0.7,\"size\":8},\"mode\":\"markers\",\"name\":\"age vs smoking | LC=1\",\"showlegend\":true,\"x\":{\"dtype\":\"i1\",\"bdata\":\"RUpLNDM1PUg6MEs5RCxAPEhBPTU+Qzs8ODxEP000Rkg+QEY4PzYxOTQ\\u002fSS9FRkZESkc4QkxOREJDPD06TDhDSTY+UTg8Qj4+Nz5HNDswPD07QDg6UUA+SDw9PDE1Oj1EPEhIOTM2OE1AOUJGNTM6OjM9PUxHRThDNj8vPkE\\u002fQEEzOEY6Qz5KSzg3PklESz89Piw4NjhFSDtGQD1IP0pHSE1IN0FDRTczQD9FQDtJNz88SkFPPkdDNzZNOkA9QzhGRjlNPz47Rkc4OU5APjFNQD82JktGO009QEdDQEVAO0NKTTxARjo7J0dGPDw3Nz87OEA+TTs8OjozPT1MR0U4QzY\\u002fLz5BP0BBMzhGOkM+\"},\"y\":{\"dtype\":\"i1\",\"bdata\":\"AAEAAQEBAQABAAEBAQEAAQEAAQEBAQEAAQEBAAABAQEBAQAAAQEBAAAAAAABAAAAAAEAAQEBAQEAAQEBAAEBAQEBAAAAAAABAQAAAQABAAEBAAEBAAEBAQABAQAAAAEAAQAAAQEBAAEAAQEBAAEBAQEAAQEBAAEAAQABAQEBAAEAAAEBAQAAAQAAAQEBAAAAAAABAAAAAAEAAQEBAQEAAQEAAQEBAAEBAAAAAAABAQAAAQABAAEAAQEAAQEBAQEAAAAAAQEBAAAAAAABAAAAAAABAAABAQEAAQEAAQEBAAEAAAEBAQAAAQABAQEBAAEAAQEBAQAAAQEBAAEBAQABAAEAAQEBAQABAAABAQEA\"},\"type\":\"scatter\",\"xaxis\":\"x\",\"yaxis\":\"y\"},{\"customdata\":[[59,0,1],[63,1,0],[63,0,0],[68,1,1],[60,1,1],[69,1,0],[61,0,1],[21,1,1],[69,0,1],[55,0,1],[57,1,0],[56,1,0],[59,0,0],[56,0,0],[60,0,0],[60,0,0],[58,0,1],[63,0,1],[69,1,0],[64,1,0],[47,1,0],[57,1,0],[68,0,0],[57,0,0],[71,1,1],[63,1,0],[62,0,1],[61,0,0],[59,0,1],[68,1,1],[67,0,0],[55,1,1],[70,1,1],[64,1,0],[87,0,1],[59,1,1],[55,1,1],[46,0,0],[63,0,1]],\"hovertemplate\":\"Lung Cancer=0\\u003cbr\\u003eAge: %{x}\\u003cbr\\u003eSmoking: %{y}\\u003cbr\\u003eAge: %{customdata[0]}\\u003cbr\\u003eSmoking: %{customdata[1]}\\u003cbr\\u003eFatigue: %{customdata[2]}\\u003cbr\\u003e\\u003cextra\\u003e\\u003c\\u002fextra\\u003e\",\"legendgroup\":\"LC=0\",\"marker\":{\"color\":\"#636EFA\",\"line\":{\"color\":\"DarkSlateGrey\",\"width\":0.5},\"opacity\":0.7,\"size\":8},\"mode\":\"markers\",\"name\":\"age vs smoking | LC=0\",\"showlegend\":true,\"x\":{\"dtype\":\"i1\",\"bdata\":\"Oz8\\u002fRDxFPRVFNzk4Ozg8PDo\\u002fRUAvOUQ5Rz8+PTtEQzdGQFc7Ny4\\u002f\"},\"y\":{\"dtype\":\"i1\",\"bdata\":\"AAEAAQEBAAEAAAEBAAAAAAAAAQEBAQAAAQEAAAABAAEBAQABAQAA\"},\"type\":\"scatter\",\"xaxis\":\"x\",\"yaxis\":\"y\"},{\"customdata\":[[69,0,1],[74,1,1],[75,0,1],[52,1,1],[51,1,1],[53,1,0],[61,1,1],[72,0,1],[58,1,1],[48,0,1],[75,1,0],[57,1,0],[68,1,1],[44,1,1],[64,0,0],[60,1,1],[72,1,0],[65,0,1],[61,1,1],[53,1,0],[62,1,0],[67,1,0],[59,1,0],[60,0,0],[56,1,0],[60,1,0],[68,1,1],[63,0,1],[77,0,1],[52,1,1],[70,1,0],[72,1,1],[62,1,0],[64,1,1],[70,0,1],[56,0,1],[63,1,1],[54,1,1],[49,1,1],[57,0,1],[52,0,0],[63,0,1],[73,0,0],[47,0,1],[69,1,1],[70,0,1],[70,0,1],[68,0,0],[74,0,1],[71,1,1],[56,0,1],[66,1,1],[76,1,1],[78,1,1],[68,1,0],[66,1,1],[67,0,1],[60,1,1],[61,1,1],[58,1,0],[76,0,1],[56,1,1],[67,1,0],[73,1,1],[54,1,1],[62,1,0],[81,0,0],[56,0,1],[60,0,0],[66,0,0],[62,0,1],[62,1,0],[55,1,1],[62,0,0],[71,0,1],[52,1,1],[59,0,0],[48,1,1],[60,0,1],[61,1,0],[59,1,0],[64,0,1],[56,1,1],[58,1,0],[81,0,1],[64,1,1],[62,1,0],[72,1,1],[60,0,1],[61,1,1],[60,1,0],[49,0,0],[53,0,1],[58,0,1],[61,1,1],[68,0,1],[60,1,0],[72,0,1],[72,0,1],[57,1,1],[51,1,1],[54,1,1],[56,0,0],[77,1,1],[64,0,1],[57,1,1],[66,1,1],[70,1,0],[53,0,1],[51,1,1],[58,1,0],[58,1,1],[51,1,1],[61,0,0],[61,1,1],[76,1,1],[71,1,0],[69,0,1],[56,1,1],[67,0,1],[54,1,0],[63,0,1],[47,1,1],[62,1,1],[65,1,1],[63,1,1],[64,0,0],[65,1,1],[51,0,1],[56,0,1],[70,1,1],[58,1,0],[67,1,1],[62,0,1],[74,0,1],[75,1,0],[56,0,1],[55,0,1],[62,1,1],[73,1,1],[68,1,1],[75,0,1],[63,0,0],[61,0,1],[62,0,0],[44,0,1],[56,1,1],[54,0,1],[56,0,1],[69,0,0],[72,0,1],[59,1,1],[70,0,1],[64,1,1],[61,1,1],[72,1,1],[63,1,0],[74,1,1],[71,0,1],[72,1,1],[77,1,0],[72,0,1],[55,1,1],[65,1,0],[67,1,1],[69,0,1],[55,1,1],[51,1,0],[64,0,0],[63,0,1],[69,0,0],[64,0,0],[59,0,1],[73,1,0],[55,1,1],[63,0,0],[60,0,1],[74,1,1],[65,0,0],[79,1,1],[62,0,1],[71,1,0],[67,0,1],[55,1,1],[54,1,0],[77,0,1],[58,1,1],[64,1,0],[61,1,1],[67,1,1],[56,1,0],[70,0,0],[70,0,1],[57,0,1],[77,0,1],[63,1,1],[62,1,1],[59,1,1],[70,0,1],[71,0,0],[56,0,1],[57,0,0],[78,0,1],[64,1,1],[62,0,1],[49,0,0],[77,0,1],[64,0,0],[63,0,1],[54,1,1],[38,0,1],[75,0,0],[70,1,0],[59,1,1],[77,1,0],[61,0,1],[64,1,1],[71,1,0],[67,0,1],[64,1,1],[69,1,1],[64,1,1],[59,0,0],[67,1,1],[74,0,1],[77,0,1],[60,1,1],[64,1,0],[70,1,1],[58,0,1],[59,0,1],[39,1,1],[71,0,1],[70,1,1],[60,1,1],[60,1,0],[55,1,1],[55,0,1],[63,1,1],[59,0,1],[56,1,0],[64,1,0],[62,1,1],[77,1,1],[59,0,0],[60,0,1],[58,1,0],[58,1,1],[51,1,1],[61,0,0],[61,1,1],[76,1,1],[71,1,0],[69,0,1],[56,1,1],[67,0,1],[54,1,0],[63,0,1],[47,1,1],[62,1,1],[65,1,1],[63,1,1],[64,0,0],[65,1,1],[51,0,1],[56,0,1],[70,1,1],[58,1,0],[67,1,1],[62,0,1]],\"hovertemplate\":\"Lung Cancer=1\\u003cbr\\u003eAge: %{x}\\u003cbr\\u003eAlcohol_consuming: %{y}\\u003cbr\\u003eAge: %{customdata[0]}\\u003cbr\\u003eSmoking: %{customdata[1]}\\u003cbr\\u003eFatigue: %{customdata[2]}\\u003cbr\\u003e\\u003cextra\\u003e\\u003c\\u002fextra\\u003e\",\"legendgroup\":\"LC=1\",\"marker\":{\"color\":\"#EF553B\",\"line\":{\"color\":\"DarkSlateGrey\",\"width\":0.5},\"opacity\":0.7,\"size\":8},\"mode\":\"markers\",\"name\":\"age vs alcohol_consuming | LC=1\",\"showlegend\":false,\"x\":{\"dtype\":\"i1\",\"bdata\":\"RUpLNDM1PUg6MEs5RCxAPEhBPTU+Qzs8ODxEP000Rkg+QEY4PzYxOTQ\\u002fSS9FRkZESkc4QkxOREJDPD06TDhDSTY+UTg8Qj4+Nz5HNDswPD07QDg6UUA+SDw9PDE1Oj1EPEhIOTM2OE1AOUJGNTM6OjM9PUxHRThDNj8vPkE\\u002fQEEzOEY6Qz5KSzg3PklESz89Piw4NjhFSDtGQD1IP0pHSE1IN0FDRTczQD9FQDtJNz88SkFPPkdDNzZNOkA9QzhGRjlNPz47Rkc4OU5APjFNQD82JktGO009QEdDQEVAO0NKTTxARjo7J0dGPDw3Nz87OEA+TTs8OjozPT1MR0U4QzY\\u002fLz5BP0BBMzhGOkM+\"},\"y\":{\"dtype\":\"i1\",\"bdata\":\"AQAAAQABAAEBAAEBAAAAAQEBAQEBAAAAAAEBAQEBAQEAAQEBAAEBAQEAAQABAQEBAQAAAQAAAQABAAEBAAEBAAABAQEBAQABAQEAAQEBAAEBAAEBAAEBAAAAAQEBAQEAAQEAAQAAAQABAAEBAAEBAAAAAAEBAQAAAQEAAQAAAQABAQEBAQEBAAEBAAEBAQEAAQABAQEBAQAAAQAAAQABAQEAAAAAAAAAAAEBAQABAQEAAQEBAAEAAQEAAQEAAAEBAQEBAAEBAQEAAQABAQABAQEAAAAAAQABAAEBAAAAAQABAQEBAQEBAQABAAEAAQEAAQEAAAABAQAAAAABAQEAAAEBAAEAAAEAAQEBAQEB\"},\"type\":\"scatter\",\"xaxis\":\"x2\",\"yaxis\":\"y2\"},{\"customdata\":[[59,0,1],[63,1,0],[63,0,0],[68,1,1],[60,1,1],[69,1,0],[61,0,1],[21,1,1],[69,0,1],[55,0,1],[57,1,0],[56,1,0],[59,0,0],[56,0,0],[60,0,0],[60,0,0],[58,0,1],[63,0,1],[69,1,0],[64,1,0],[47,1,0],[57,1,0],[68,0,0],[57,0,0],[71,1,1],[63,1,0],[62,0,1],[61,0,0],[59,0,1],[68,1,1],[67,0,0],[55,1,1],[70,1,1],[64,1,0],[87,0,1],[59,1,1],[55,1,1],[46,0,0],[63,0,1]],\"hovertemplate\":\"Lung Cancer=0\\u003cbr\\u003eAge: %{x}\\u003cbr\\u003eAlcohol_consuming: %{y}\\u003cbr\\u003eAge: %{customdata[0]}\\u003cbr\\u003eSmoking: %{customdata[1]}\\u003cbr\\u003eFatigue: %{customdata[2]}\\u003cbr\\u003e\\u003cextra\\u003e\\u003c\\u002fextra\\u003e\",\"legendgroup\":\"LC=0\",\"marker\":{\"color\":\"#636EFA\",\"line\":{\"color\":\"DarkSlateGrey\",\"width\":0.5},\"opacity\":0.7,\"size\":8},\"mode\":\"markers\",\"name\":\"age vs alcohol_consuming | LC=0\",\"showlegend\":false,\"x\":{\"dtype\":\"i1\",\"bdata\":\"Oz8\\u002fRDxFPRVFNzk4Ozg8PDo\\u002fRUAvOUQ5Rz8+PTtEQzdGQFc7Ny4\\u002f\"},\"y\":{\"dtype\":\"i1\",\"bdata\":\"AAEAAAABAAAAAQAAAAABAAAAAAAAAAEAAAAAAQAAAAAAAQAAAAAA\"},\"type\":\"scatter\",\"xaxis\":\"x2\",\"yaxis\":\"y2\"},{\"customdata\":[[69,0,1],[74,1,1],[75,0,1],[52,1,1],[51,1,1],[53,1,0],[61,1,1],[72,0,1],[58,1,1],[48,0,1],[75,1,0],[57,1,0],[68,1,1],[44,1,1],[64,0,0],[60,1,1],[72,1,0],[65,0,1],[61,1,1],[53,1,0],[62,1,0],[67,1,0],[59,1,0],[60,0,0],[56,1,0],[60,1,0],[68,1,1],[63,0,1],[77,0,1],[52,1,1],[70,1,0],[72,1,1],[62,1,0],[64,1,1],[70,0,1],[56,0,1],[63,1,1],[54,1,1],[49,1,1],[57,0,1],[52,0,0],[63,0,1],[73,0,0],[47,0,1],[69,1,1],[70,0,1],[70,0,1],[68,0,0],[74,0,1],[71,1,1],[56,0,1],[66,1,1],[76,1,1],[78,1,1],[68,1,0],[66,1,1],[67,0,1],[60,1,1],[61,1,1],[58,1,0],[76,0,1],[56,1,1],[67,1,0],[73,1,1],[54,1,1],[62,1,0],[81,0,0],[56,0,1],[60,0,0],[66,0,0],[62,0,1],[62,1,0],[55,1,1],[62,0,0],[71,0,1],[52,1,1],[59,0,0],[48,1,1],[60,0,1],[61,1,0],[59,1,0],[64,0,1],[56,1,1],[58,1,0],[81,0,1],[64,1,1],[62,1,0],[72,1,1],[60,0,1],[61,1,1],[60,1,0],[49,0,0],[53,0,1],[58,0,1],[61,1,1],[68,0,1],[60,1,0],[72,0,1],[72,0,1],[57,1,1],[51,1,1],[54,1,1],[56,0,0],[77,1,1],[64,0,1],[57,1,1],[66,1,1],[70,1,0],[53,0,1],[51,1,1],[58,1,0],[58,1,1],[51,1,1],[61,0,0],[61,1,1],[76,1,1],[71,1,0],[69,0,1],[56,1,1],[67,0,1],[54,1,0],[63,0,1],[47,1,1],[62,1,1],[65,1,1],[63,1,1],[64,0,0],[65,1,1],[51,0,1],[56,0,1],[70,1,1],[58,1,0],[67,1,1],[62,0,1],[74,0,1],[75,1,0],[56,0,1],[55,0,1],[62,1,1],[73,1,1],[68,1,1],[75,0,1],[63,0,0],[61,0,1],[62,0,0],[44,0,1],[56,1,1],[54,0,1],[56,0,1],[69,0,0],[72,0,1],[59,1,1],[70,0,1],[64,1,1],[61,1,1],[72,1,1],[63,1,0],[74,1,1],[71,0,1],[72,1,1],[77,1,0],[72,0,1],[55,1,1],[65,1,0],[67,1,1],[69,0,1],[55,1,1],[51,1,0],[64,0,0],[63,0,1],[69,0,0],[64,0,0],[59,0,1],[73,1,0],[55,1,1],[63,0,0],[60,0,1],[74,1,1],[65,0,0],[79,1,1],[62,0,1],[71,1,0],[67,0,1],[55,1,1],[54,1,0],[77,0,1],[58,1,1],[64,1,0],[61,1,1],[67,1,1],[56,1,0],[70,0,0],[70,0,1],[57,0,1],[77,0,1],[63,1,1],[62,1,1],[59,1,1],[70,0,1],[71,0,0],[56,0,1],[57,0,0],[78,0,1],[64,1,1],[62,0,1],[49,0,0],[77,0,1],[64,0,0],[63,0,1],[54,1,1],[38,0,1],[75,0,0],[70,1,0],[59,1,1],[77,1,0],[61,0,1],[64,1,1],[71,1,0],[67,0,1],[64,1,1],[69,1,1],[64,1,1],[59,0,0],[67,1,1],[74,0,1],[77,0,1],[60,1,1],[64,1,0],[70,1,1],[58,0,1],[59,0,1],[39,1,1],[71,0,1],[70,1,1],[60,1,1],[60,1,0],[55,1,1],[55,0,1],[63,1,1],[59,0,1],[56,1,0],[64,1,0],[62,1,1],[77,1,1],[59,0,0],[60,0,1],[58,1,0],[58,1,1],[51,1,1],[61,0,0],[61,1,1],[76,1,1],[71,1,0],[69,0,1],[56,1,1],[67,0,1],[54,1,0],[63,0,1],[47,1,1],[62,1,1],[65,1,1],[63,1,1],[64,0,0],[65,1,1],[51,0,1],[56,0,1],[70,1,1],[58,1,0],[67,1,1],[62,0,1]],\"hovertemplate\":\"Lung Cancer=1\\u003cbr\\u003eAge: %{x}\\u003cbr\\u003eCoughing: %{y}\\u003cbr\\u003eAge: %{customdata[0]}\\u003cbr\\u003eSmoking: %{customdata[1]}\\u003cbr\\u003eFatigue: %{customdata[2]}\\u003cbr\\u003e\\u003cextra\\u003e\\u003c\\u002fextra\\u003e\",\"legendgroup\":\"LC=1\",\"marker\":{\"color\":\"#EF553B\",\"line\":{\"color\":\"DarkSlateGrey\",\"width\":0.5},\"opacity\":0.7,\"size\":8},\"mode\":\"markers\",\"name\":\"age vs coughing | LC=1\",\"showlegend\":false,\"x\":{\"dtype\":\"i1\",\"bdata\":\"RUpLNDM1PUg6MEs5RCxAPEhBPTU+Qzs8ODxEP000Rkg+QEY4PzYxOTQ\\u002fSS9FRkZESkc4QkxOREJDPD06TDhDSTY+UTg8Qj4+Nz5HNDswPD07QDg6UUA+SDw9PDE1Oj1EPEhIOTM2OE1AOUJGNTM6OjM9PUxHRThDNj8vPkE\\u002fQEEzOEY6Qz5KSzg3PklESz89Piw4NjhFSDtGQD1IP0pHSE1IN0FDRTczQD9FQDtJNz88SkFPPkdDNzZNOkA9QzhGRjlNPz47Rkc4OU5APjFNQD82JktGO009QEdDQEVAO0NKTTxARjo7J0dGPDw3Nz87OEA+TTs8OjozPT1MR0U4QzY\\u002fLz5BP0BBMzhGOkM+\"},\"y\":{\"dtype\":\"i1\",\"bdata\":\"AQABAQAAAQEBAQEAAQABAQEBAAAAAAABAAEBAAAAAQEBAQAAAAEBAQEBAQABAQEAAQEBAQABAAEBAAEBAQEAAQAAAQEBAQAAAAABAAEBAAEBAQEBAQEAAQAAAAEAAQABAAEBAQABAAEBAAEBAQEAAQABAAEBAQABAAEBAQABAAEBAQEBAQAAAAAAAAEBAQEBAQABAQEAAQEBAQABAAEBAQEAAAAAAAAAAAEBAQAAAAABAAEBAAEBAQEBAQABAAABAQAAAAEBAQEBAQABAQEBAAEBAQEAAQABAAABAQABAAEBAQEBAQAAAAEBAAABAQEBAQABAAEBAAEAAQABAQEAAQABAQEAAQABAQEBAQEA\"},\"type\":\"scatter\",\"xaxis\":\"x3\",\"yaxis\":\"y3\"},{\"customdata\":[[59,0,1],[63,1,0],[63,0,0],[68,1,1],[60,1,1],[69,1,0],[61,0,1],[21,1,1],[69,0,1],[55,0,1],[57,1,0],[56,1,0],[59,0,0],[56,0,0],[60,0,0],[60,0,0],[58,0,1],[63,0,1],[69,1,0],[64,1,0],[47,1,0],[57,1,0],[68,0,0],[57,0,0],[71,1,1],[63,1,0],[62,0,1],[61,0,0],[59,0,1],[68,1,1],[67,0,0],[55,1,1],[70,1,1],[64,1,0],[87,0,1],[59,1,1],[55,1,1],[46,0,0],[63,0,1]],\"hovertemplate\":\"Lung Cancer=0\\u003cbr\\u003eAge: %{x}\\u003cbr\\u003eCoughing: %{y}\\u003cbr\\u003eAge: %{customdata[0]}\\u003cbr\\u003eSmoking: %{customdata[1]}\\u003cbr\\u003eFatigue: %{customdata[2]}\\u003cbr\\u003e\\u003cextra\\u003e\\u003c\\u002fextra\\u003e\",\"legendgroup\":\"LC=0\",\"marker\":{\"color\":\"#636EFA\",\"line\":{\"color\":\"DarkSlateGrey\",\"width\":0.5},\"opacity\":0.7,\"size\":8},\"mode\":\"markers\",\"name\":\"age vs coughing | LC=0\",\"showlegend\":false,\"x\":{\"dtype\":\"i1\",\"bdata\":\"Oz8\\u002fRDxFPRVFNzk4Ozg8PDo\\u002fRUAvOUQ5Rz8+PTtEQzdGQFc7Ny4\\u002f\"},\"y\":{\"dtype\":\"i1\",\"bdata\":\"AQABAAABAAABAQAAAAAAAQAAAAAAAAABAAEAAAAAAQAAAQAAAAAA\"},\"type\":\"scatter\",\"xaxis\":\"x3\",\"yaxis\":\"y3\"},{\"customdata\":[[69,0,1],[74,1,1],[75,0,1],[52,1,1],[51,1,1],[53,1,0],[61,1,1],[72,0,1],[58,1,1],[48,0,1],[75,1,0],[57,1,0],[68,1,1],[44,1,1],[64,0,0],[60,1,1],[72,1,0],[65,0,1],[61,1,1],[53,1,0],[62,1,0],[67,1,0],[59,1,0],[60,0,0],[56,1,0],[60,1,0],[68,1,1],[63,0,1],[77,0,1],[52,1,1],[70,1,0],[72,1,1],[62,1,0],[64,1,1],[70,0,1],[56,0,1],[63,1,1],[54,1,1],[49,1,1],[57,0,1],[52,0,0],[63,0,1],[73,0,0],[47,0,1],[69,1,1],[70,0,1],[70,0,1],[68,0,0],[74,0,1],[71,1,1],[56,0,1],[66,1,1],[76,1,1],[78,1,1],[68,1,0],[66,1,1],[67,0,1],[60,1,1],[61,1,1],[58,1,0],[76,0,1],[56,1,1],[67,1,0],[73,1,1],[54,1,1],[62,1,0],[81,0,0],[56,0,1],[60,0,0],[66,0,0],[62,0,1],[62,1,0],[55,1,1],[62,0,0],[71,0,1],[52,1,1],[59,0,0],[48,1,1],[60,0,1],[61,1,0],[59,1,0],[64,0,1],[56,1,1],[58,1,0],[81,0,1],[64,1,1],[62,1,0],[72,1,1],[60,0,1],[61,1,1],[60,1,0],[49,0,0],[53,0,1],[58,0,1],[61,1,1],[68,0,1],[60,1,0],[72,0,1],[72,0,1],[57,1,1],[51,1,1],[54,1,1],[56,0,0],[77,1,1],[64,0,1],[57,1,1],[66,1,1],[70,1,0],[53,0,1],[51,1,1],[58,1,0],[58,1,1],[51,1,1],[61,0,0],[61,1,1],[76,1,1],[71,1,0],[69,0,1],[56,1,1],[67,0,1],[54,1,0],[63,0,1],[47,1,1],[62,1,1],[65,1,1],[63,1,1],[64,0,0],[65,1,1],[51,0,1],[56,0,1],[70,1,1],[58,1,0],[67,1,1],[62,0,1],[74,0,1],[75,1,0],[56,0,1],[55,0,1],[62,1,1],[73,1,1],[68,1,1],[75,0,1],[63,0,0],[61,0,1],[62,0,0],[44,0,1],[56,1,1],[54,0,1],[56,0,1],[69,0,0],[72,0,1],[59,1,1],[70,0,1],[64,1,1],[61,1,1],[72,1,1],[63,1,0],[74,1,1],[71,0,1],[72,1,1],[77,1,0],[72,0,1],[55,1,1],[65,1,0],[67,1,1],[69,0,1],[55,1,1],[51,1,0],[64,0,0],[63,0,1],[69,0,0],[64,0,0],[59,0,1],[73,1,0],[55,1,1],[63,0,0],[60,0,1],[74,1,1],[65,0,0],[79,1,1],[62,0,1],[71,1,0],[67,0,1],[55,1,1],[54,1,0],[77,0,1],[58,1,1],[64,1,0],[61,1,1],[67,1,1],[56,1,0],[70,0,0],[70,0,1],[57,0,1],[77,0,1],[63,1,1],[62,1,1],[59,1,1],[70,0,1],[71,0,0],[56,0,1],[57,0,0],[78,0,1],[64,1,1],[62,0,1],[49,0,0],[77,0,1],[64,0,0],[63,0,1],[54,1,1],[38,0,1],[75,0,0],[70,1,0],[59,1,1],[77,1,0],[61,0,1],[64,1,1],[71,1,0],[67,0,1],[64,1,1],[69,1,1],[64,1,1],[59,0,0],[67,1,1],[74,0,1],[77,0,1],[60,1,1],[64,1,0],[70,1,1],[58,0,1],[59,0,1],[39,1,1],[71,0,1],[70,1,1],[60,1,1],[60,1,0],[55,1,1],[55,0,1],[63,1,1],[59,0,1],[56,1,0],[64,1,0],[62,1,1],[77,1,1],[59,0,0],[60,0,1],[58,1,0],[58,1,1],[51,1,1],[61,0,0],[61,1,1],[76,1,1],[71,1,0],[69,0,1],[56,1,1],[67,0,1],[54,1,0],[63,0,1],[47,1,1],[62,1,1],[65,1,1],[63,1,1],[64,0,0],[65,1,1],[51,0,1],[56,0,1],[70,1,1],[58,1,0],[67,1,1],[62,0,1]],\"hovertemplate\":\"Lung Cancer=1\\u003cbr\\u003eSmoking: %{x}\\u003cbr\\u003eCoughing: %{y}\\u003cbr\\u003eAge: %{customdata[0]}\\u003cbr\\u003eSmoking: %{customdata[1]}\\u003cbr\\u003eFatigue: %{customdata[2]}\\u003cbr\\u003e\\u003cextra\\u003e\\u003c\\u002fextra\\u003e\",\"legendgroup\":\"LC=1\",\"marker\":{\"color\":\"#EF553B\",\"line\":{\"color\":\"DarkSlateGrey\",\"width\":0.5},\"opacity\":0.7,\"size\":8},\"mode\":\"markers\",\"name\":\"smoking vs coughing | LC=1\",\"showlegend\":false,\"x\":{\"dtype\":\"i1\",\"bdata\":\"AAEAAQEBAQABAAEBAQEAAQEAAQEBAQEAAQEBAAABAQEBAQAAAQEBAAAAAAABAAAAAAEAAQEBAQEAAQEBAAEBAQEBAAAAAAABAQAAAQABAAEBAAEBAAEBAQABAQAAAAEAAQAAAQEBAAEAAQEBAAEBAQEAAQEBAAEAAQABAQEBAAEAAAEBAQAAAQAAAQEBAAAAAAABAAAAAAEAAQEBAQEAAQEAAQEBAAEBAAAAAAABAQAAAQABAAEAAQEAAQEBAQEAAAAAAQEBAAAAAAABAAAAAAABAAABAQEAAQEAAQEBAAEAAAEBAQAAAQABAQEBAAEAAQEBAQAAAQEBAAEBAQABAAEAAQEBAQABAAABAQEA\"},\"y\":{\"dtype\":\"i1\",\"bdata\":\"AQABAQAAAQEBAQEAAQABAQEBAAAAAAABAAEBAAAAAQEBAQAAAAEBAQEBAQABAQEAAQEBAQABAAEBAAEBAQEAAQAAAQEBAQAAAAABAAEBAAEBAQEBAQEAAQAAAAEAAQABAAEBAQABAAEBAAEBAQEAAQABAAEBAQABAAEBAQABAAEBAQEBAQAAAAAAAAEBAQEBAQABAQEAAQEBAQABAAEBAQEAAAAAAAAAAAEBAQAAAAABAAEBAAEBAQEBAQABAAABAQAAAAEBAQEBAQABAQEBAAEBAQEAAQABAAABAQABAAEBAQEBAQAAAAEBAAABAQEBAQABAAEBAAEAAQABAQEAAQABAQEAAQABAQEBAQEA\"},\"type\":\"scatter\",\"xaxis\":\"x4\",\"yaxis\":\"y4\"},{\"customdata\":[[59,0,1],[63,1,0],[63,0,0],[68,1,1],[60,1,1],[69,1,0],[61,0,1],[21,1,1],[69,0,1],[55,0,1],[57,1,0],[56,1,0],[59,0,0],[56,0,0],[60,0,0],[60,0,0],[58,0,1],[63,0,1],[69,1,0],[64,1,0],[47,1,0],[57,1,0],[68,0,0],[57,0,0],[71,1,1],[63,1,0],[62,0,1],[61,0,0],[59,0,1],[68,1,1],[67,0,0],[55,1,1],[70,1,1],[64,1,0],[87,0,1],[59,1,1],[55,1,1],[46,0,0],[63,0,1]],\"hovertemplate\":\"Lung Cancer=0\\u003cbr\\u003eSmoking: %{x}\\u003cbr\\u003eCoughing: %{y}\\u003cbr\\u003eAge: %{customdata[0]}\\u003cbr\\u003eSmoking: %{customdata[1]}\\u003cbr\\u003eFatigue: %{customdata[2]}\\u003cbr\\u003e\\u003cextra\\u003e\\u003c\\u002fextra\\u003e\",\"legendgroup\":\"LC=0\",\"marker\":{\"color\":\"#636EFA\",\"line\":{\"color\":\"DarkSlateGrey\",\"width\":0.5},\"opacity\":0.7,\"size\":8},\"mode\":\"markers\",\"name\":\"smoking vs coughing | LC=0\",\"showlegend\":false,\"x\":{\"dtype\":\"i1\",\"bdata\":\"AAEAAQEBAAEAAAEBAAAAAAAAAQEBAQAAAQEAAAABAAEBAQABAQAA\"},\"y\":{\"dtype\":\"i1\",\"bdata\":\"AQABAAABAAABAQAAAAAAAQAAAAAAAAABAAEAAAAAAQAAAQAAAAAA\"},\"type\":\"scatter\",\"xaxis\":\"x4\",\"yaxis\":\"y4\"},{\"customdata\":[[69,0,1],[74,1,1],[75,0,1],[52,1,1],[51,1,1],[53,1,0],[61,1,1],[72,0,1],[58,1,1],[48,0,1],[75,1,0],[57,1,0],[68,1,1],[44,1,1],[64,0,0],[60,1,1],[72,1,0],[65,0,1],[61,1,1],[53,1,0],[62,1,0],[67,1,0],[59,1,0],[60,0,0],[56,1,0],[60,1,0],[68,1,1],[63,0,1],[77,0,1],[52,1,1],[70,1,0],[72,1,1],[62,1,0],[64,1,1],[70,0,1],[56,0,1],[63,1,1],[54,1,1],[49,1,1],[57,0,1],[52,0,0],[63,0,1],[73,0,0],[47,0,1],[69,1,1],[70,0,1],[70,0,1],[68,0,0],[74,0,1],[71,1,1],[56,0,1],[66,1,1],[76,1,1],[78,1,1],[68,1,0],[66,1,1],[67,0,1],[60,1,1],[61,1,1],[58,1,0],[76,0,1],[56,1,1],[67,1,0],[73,1,1],[54,1,1],[62,1,0],[81,0,0],[56,0,1],[60,0,0],[66,0,0],[62,0,1],[62,1,0],[55,1,1],[62,0,0],[71,0,1],[52,1,1],[59,0,0],[48,1,1],[60,0,1],[61,1,0],[59,1,0],[64,0,1],[56,1,1],[58,1,0],[81,0,1],[64,1,1],[62,1,0],[72,1,1],[60,0,1],[61,1,1],[60,1,0],[49,0,0],[53,0,1],[58,0,1],[61,1,1],[68,0,1],[60,1,0],[72,0,1],[72,0,1],[57,1,1],[51,1,1],[54,1,1],[56,0,0],[77,1,1],[64,0,1],[57,1,1],[66,1,1],[70,1,0],[53,0,1],[51,1,1],[58,1,0],[58,1,1],[51,1,1],[61,0,0],[61,1,1],[76,1,1],[71,1,0],[69,0,1],[56,1,1],[67,0,1],[54,1,0],[63,0,1],[47,1,1],[62,1,1],[65,1,1],[63,1,1],[64,0,0],[65,1,1],[51,0,1],[56,0,1],[70,1,1],[58,1,0],[67,1,1],[62,0,1],[74,0,1],[75,1,0],[56,0,1],[55,0,1],[62,1,1],[73,1,1],[68,1,1],[75,0,1],[63,0,0],[61,0,1],[62,0,0],[44,0,1],[56,1,1],[54,0,1],[56,0,1],[69,0,0],[72,0,1],[59,1,1],[70,0,1],[64,1,1],[61,1,1],[72,1,1],[63,1,0],[74,1,1],[71,0,1],[72,1,1],[77,1,0],[72,0,1],[55,1,1],[65,1,0],[67,1,1],[69,0,1],[55,1,1],[51,1,0],[64,0,0],[63,0,1],[69,0,0],[64,0,0],[59,0,1],[73,1,0],[55,1,1],[63,0,0],[60,0,1],[74,1,1],[65,0,0],[79,1,1],[62,0,1],[71,1,0],[67,0,1],[55,1,1],[54,1,0],[77,0,1],[58,1,1],[64,1,0],[61,1,1],[67,1,1],[56,1,0],[70,0,0],[70,0,1],[57,0,1],[77,0,1],[63,1,1],[62,1,1],[59,1,1],[70,0,1],[71,0,0],[56,0,1],[57,0,0],[78,0,1],[64,1,1],[62,0,1],[49,0,0],[77,0,1],[64,0,0],[63,0,1],[54,1,1],[38,0,1],[75,0,0],[70,1,0],[59,1,1],[77,1,0],[61,0,1],[64,1,1],[71,1,0],[67,0,1],[64,1,1],[69,1,1],[64,1,1],[59,0,0],[67,1,1],[74,0,1],[77,0,1],[60,1,1],[64,1,0],[70,1,1],[58,0,1],[59,0,1],[39,1,1],[71,0,1],[70,1,1],[60,1,1],[60,1,0],[55,1,1],[55,0,1],[63,1,1],[59,0,1],[56,1,0],[64,1,0],[62,1,1],[77,1,1],[59,0,0],[60,0,1],[58,1,0],[58,1,1],[51,1,1],[61,0,0],[61,1,1],[76,1,1],[71,1,0],[69,0,1],[56,1,1],[67,0,1],[54,1,0],[63,0,1],[47,1,1],[62,1,1],[65,1,1],[63,1,1],[64,0,0],[65,1,1],[51,0,1],[56,0,1],[70,1,1],[58,1,0],[67,1,1],[62,0,1]],\"hovertemplate\":\"Lung Cancer=1\\u003cbr\\u003eSmoking: %{x}\\u003cbr\\u003eShortness_of_breath: %{y}\\u003cbr\\u003eAge: %{customdata[0]}\\u003cbr\\u003eSmoking: %{customdata[1]}\\u003cbr\\u003eFatigue: %{customdata[2]}\\u003cbr\\u003e\\u003cextra\\u003e\\u003c\\u002fextra\\u003e\",\"legendgroup\":\"LC=1\",\"marker\":{\"color\":\"#EF553B\",\"line\":{\"color\":\"DarkSlateGrey\",\"width\":0.5},\"opacity\":0.7,\"size\":8},\"mode\":\"markers\",\"name\":\"smoking vs shortness_of_breath | LC=1\",\"showlegend\":false,\"x\":{\"dtype\":\"i1\",\"bdata\":\"AAEAAQEBAQABAAEBAQEAAQEAAQEBAQEAAQEBAAABAQEBAQAAAQEBAAAAAAABAAAAAAEAAQEBAQEAAQEBAAEBAQEBAAAAAAABAQAAAQABAAEBAAEBAAEBAQABAQAAAAEAAQAAAQEBAAEAAQEBAAEBAQEAAQEBAAEAAQABAQEBAAEAAAEBAQAAAQAAAQEBAAAAAAABAAAAAAEAAQEBAQEAAQEAAQEBAAEBAAAAAAABAQAAAQABAAEAAQEAAQEBAQEAAAAAAQEBAAAAAAABAAAAAAABAAABAQEAAQEAAQEBAAEAAAEBAQAAAQABAQEBAAEAAQEBAQAAAQEBAAEBAQABAAEAAQEBAQABAAABAQEA\"},\"y\":{\"dtype\":\"i1\",\"bdata\":\"AQEBAQEAAQEBAQEAAQEAAQABAQEBAQEBAQABAAABAAEBAAEAAQABAAABAQEBAAAAAQABAQEBAAEBAQEAAQEAAQEAAQEBAQAAAAABAAEBAAEBAAEAAQEAAQEBAAEBAQEBAAEBAQEBAAEBAQEAAQEAAQEAAQEAAQEBAQEBAQEBAAEBAQEAAQAAAAEAAQABAAABAQEBAAAAAQABAQEBAAEBAQAAAAAAAAAAAAEBAQAAAAABAAEBAAEAAQABAQABAQABAQEAAQABAAABAQEBAAAAAAEAAQABAQABAQEBAQEBAAEBAQEAAQAAAQEBAQABAQEBAQABAQABAAEBAAEBAAEBAQEBAQEBAQABAQEBAAEA\"},\"type\":\"scatter\",\"xaxis\":\"x5\",\"yaxis\":\"y5\"},{\"customdata\":[[59,0,1],[63,1,0],[63,0,0],[68,1,1],[60,1,1],[69,1,0],[61,0,1],[21,1,1],[69,0,1],[55,0,1],[57,1,0],[56,1,0],[59,0,0],[56,0,0],[60,0,0],[60,0,0],[58,0,1],[63,0,1],[69,1,0],[64,1,0],[47,1,0],[57,1,0],[68,0,0],[57,0,0],[71,1,1],[63,1,0],[62,0,1],[61,0,0],[59,0,1],[68,1,1],[67,0,0],[55,1,1],[70,1,1],[64,1,0],[87,0,1],[59,1,1],[55,1,1],[46,0,0],[63,0,1]],\"hovertemplate\":\"Lung Cancer=0\\u003cbr\\u003eSmoking: %{x}\\u003cbr\\u003eShortness_of_breath: %{y}\\u003cbr\\u003eAge: %{customdata[0]}\\u003cbr\\u003eSmoking: %{customdata[1]}\\u003cbr\\u003eFatigue: %{customdata[2]}\\u003cbr\\u003e\\u003cextra\\u003e\\u003c\\u002fextra\\u003e\",\"legendgroup\":\"LC=0\",\"marker\":{\"color\":\"#636EFA\",\"line\":{\"color\":\"DarkSlateGrey\",\"width\":0.5},\"opacity\":0.7,\"size\":8},\"mode\":\"markers\",\"name\":\"smoking vs shortness_of_breath | LC=0\",\"showlegend\":false,\"x\":{\"dtype\":\"i1\",\"bdata\":\"AAEAAQEBAAEAAAEBAAAAAAAAAQEBAQAAAQEAAAABAAEBAQABAQAA\"},\"y\":{\"dtype\":\"i1\",\"bdata\":\"AQABAAEAAQEBAQEBAAEAAAEBAAAAAAAAAQEBAAEAAQABAAEBAQAB\"},\"type\":\"scatter\",\"xaxis\":\"x5\",\"yaxis\":\"y5\"},{\"customdata\":[[69,0,1],[74,1,1],[75,0,1],[52,1,1],[51,1,1],[53,1,0],[61,1,1],[72,0,1],[58,1,1],[48,0,1],[75,1,0],[57,1,0],[68,1,1],[44,1,1],[64,0,0],[60,1,1],[72,1,0],[65,0,1],[61,1,1],[53,1,0],[62,1,0],[67,1,0],[59,1,0],[60,0,0],[56,1,0],[60,1,0],[68,1,1],[63,0,1],[77,0,1],[52,1,1],[70,1,0],[72,1,1],[62,1,0],[64,1,1],[70,0,1],[56,0,1],[63,1,1],[54,1,1],[49,1,1],[57,0,1],[52,0,0],[63,0,1],[73,0,0],[47,0,1],[69,1,1],[70,0,1],[70,0,1],[68,0,0],[74,0,1],[71,1,1],[56,0,1],[66,1,1],[76,1,1],[78,1,1],[68,1,0],[66,1,1],[67,0,1],[60,1,1],[61,1,1],[58,1,0],[76,0,1],[56,1,1],[67,1,0],[73,1,1],[54,1,1],[62,1,0],[81,0,0],[56,0,1],[60,0,0],[66,0,0],[62,0,1],[62,1,0],[55,1,1],[62,0,0],[71,0,1],[52,1,1],[59,0,0],[48,1,1],[60,0,1],[61,1,0],[59,1,0],[64,0,1],[56,1,1],[58,1,0],[81,0,1],[64,1,1],[62,1,0],[72,1,1],[60,0,1],[61,1,1],[60,1,0],[49,0,0],[53,0,1],[58,0,1],[61,1,1],[68,0,1],[60,1,0],[72,0,1],[72,0,1],[57,1,1],[51,1,1],[54,1,1],[56,0,0],[77,1,1],[64,0,1],[57,1,1],[66,1,1],[70,1,0],[53,0,1],[51,1,1],[58,1,0],[58,1,1],[51,1,1],[61,0,0],[61,1,1],[76,1,1],[71,1,0],[69,0,1],[56,1,1],[67,0,1],[54,1,0],[63,0,1],[47,1,1],[62,1,1],[65,1,1],[63,1,1],[64,0,0],[65,1,1],[51,0,1],[56,0,1],[70,1,1],[58,1,0],[67,1,1],[62,0,1],[74,0,1],[75,1,0],[56,0,1],[55,0,1],[62,1,1],[73,1,1],[68,1,1],[75,0,1],[63,0,0],[61,0,1],[62,0,0],[44,0,1],[56,1,1],[54,0,1],[56,0,1],[69,0,0],[72,0,1],[59,1,1],[70,0,1],[64,1,1],[61,1,1],[72,1,1],[63,1,0],[74,1,1],[71,0,1],[72,1,1],[77,1,0],[72,0,1],[55,1,1],[65,1,0],[67,1,1],[69,0,1],[55,1,1],[51,1,0],[64,0,0],[63,0,1],[69,0,0],[64,0,0],[59,0,1],[73,1,0],[55,1,1],[63,0,0],[60,0,1],[74,1,1],[65,0,0],[79,1,1],[62,0,1],[71,1,0],[67,0,1],[55,1,1],[54,1,0],[77,0,1],[58,1,1],[64,1,0],[61,1,1],[67,1,1],[56,1,0],[70,0,0],[70,0,1],[57,0,1],[77,0,1],[63,1,1],[62,1,1],[59,1,1],[70,0,1],[71,0,0],[56,0,1],[57,0,0],[78,0,1],[64,1,1],[62,0,1],[49,0,0],[77,0,1],[64,0,0],[63,0,1],[54,1,1],[38,0,1],[75,0,0],[70,1,0],[59,1,1],[77,1,0],[61,0,1],[64,1,1],[71,1,0],[67,0,1],[64,1,1],[69,1,1],[64,1,1],[59,0,0],[67,1,1],[74,0,1],[77,0,1],[60,1,1],[64,1,0],[70,1,1],[58,0,1],[59,0,1],[39,1,1],[71,0,1],[70,1,1],[60,1,1],[60,1,0],[55,1,1],[55,0,1],[63,1,1],[59,0,1],[56,1,0],[64,1,0],[62,1,1],[77,1,1],[59,0,0],[60,0,1],[58,1,0],[58,1,1],[51,1,1],[61,0,0],[61,1,1],[76,1,1],[71,1,0],[69,0,1],[56,1,1],[67,0,1],[54,1,0],[63,0,1],[47,1,1],[62,1,1],[65,1,1],[63,1,1],[64,0,0],[65,1,1],[51,0,1],[56,0,1],[70,1,1],[58,1,0],[67,1,1],[62,0,1]],\"hovertemplate\":\"Lung Cancer=1\\u003cbr\\u003eAlcohol_consuming: %{x}\\u003cbr\\u003eChest_pain: %{y}\\u003cbr\\u003eAge: %{customdata[0]}\\u003cbr\\u003eSmoking: %{customdata[1]}\\u003cbr\\u003eFatigue: %{customdata[2]}\\u003cbr\\u003e\\u003cextra\\u003e\\u003c\\u002fextra\\u003e\",\"legendgroup\":\"LC=1\",\"marker\":{\"color\":\"#EF553B\",\"line\":{\"color\":\"DarkSlateGrey\",\"width\":0.5},\"opacity\":0.7,\"size\":8},\"mode\":\"markers\",\"name\":\"alcohol_consuming vs chest_pain | LC=1\",\"showlegend\":false,\"x\":{\"dtype\":\"i1\",\"bdata\":\"AQAAAQABAAEBAAEBAAAAAQEBAQEBAAAAAAEBAQEBAQEAAQEBAAEBAQEAAQABAQEBAQAAAQAAAQABAAEBAAEBAAABAQEBAQABAQEAAQEBAAEBAAEBAAEBAAAAAQEBAQEAAQEAAQAAAQABAAEBAAEBAAAAAAEBAQAAAQEAAQAAAQABAQEBAQEBAAEBAAEBAQEAAQABAQEBAQAAAQAAAQABAQEAAAAAAAAAAAEBAQABAQEAAQEBAAEAAQEAAQEAAAEBAQEBAAEBAQEAAQABAQABAQEAAAAAAQABAAEBAAAAAQABAQEBAQEBAQABAAEAAQEAAQEAAAABAQAAAAABAQEAAAEBAAEAAAEAAQEBAQEB\"},\"y\":{\"dtype\":\"i1\",\"bdata\":\"AQEAAQABAAEBAAEBAAAAAQEBAQEBAQABAQEBAAABAAEBAQEBAAEBAAABAQEBAQAAAQEBAAEAAQABAAEAAQEBAQABAAEAAQEAAQEBAQABAQEAAAEAAQEBAQAAAQABAQEBAQAAAQAAAQABAAABAAEBAAAAAAEBAAEBAQAAAQABAQABAAEBAQAAAQEBAAEBAAABAQEBAQAAAQEBAAEAAQABAQAAAAAAAAAAAAEAAQEAAQEBAQABAQEAAQABAQEBAAEAAQEBAAEBAAABAQEBAQAAAAEBAQAAAQEAAQEAAAABAQABAAEBAQAAAQABAAEAAQEAAQEAAAABAQAAAAABAQABAQEAAAEAAQEAAQABAQEA\"},\"type\":\"scatter\",\"xaxis\":\"x6\",\"yaxis\":\"y6\"},{\"customdata\":[[59,0,1],[63,1,0],[63,0,0],[68,1,1],[60,1,1],[69,1,0],[61,0,1],[21,1,1],[69,0,1],[55,0,1],[57,1,0],[56,1,0],[59,0,0],[56,0,0],[60,0,0],[60,0,0],[58,0,1],[63,0,1],[69,1,0],[64,1,0],[47,1,0],[57,1,0],[68,0,0],[57,0,0],[71,1,1],[63,1,0],[62,0,1],[61,0,0],[59,0,1],[68,1,1],[67,0,0],[55,1,1],[70,1,1],[64,1,0],[87,0,1],[59,1,1],[55,1,1],[46,0,0],[63,0,1]],\"hovertemplate\":\"Lung Cancer=0\\u003cbr\\u003eAlcohol_consuming: %{x}\\u003cbr\\u003eChest_pain: %{y}\\u003cbr\\u003eAge: %{customdata[0]}\\u003cbr\\u003eSmoking: %{customdata[1]}\\u003cbr\\u003eFatigue: %{customdata[2]}\\u003cbr\\u003e\\u003cextra\\u003e\\u003c\\u002fextra\\u003e\",\"legendgroup\":\"LC=0\",\"marker\":{\"color\":\"#636EFA\",\"line\":{\"color\":\"DarkSlateGrey\",\"width\":0.5},\"opacity\":0.7,\"size\":8},\"mode\":\"markers\",\"name\":\"alcohol_consuming vs chest_pain | LC=0\",\"showlegend\":false,\"x\":{\"dtype\":\"i1\",\"bdata\":\"AAEAAAABAAAAAQAAAAABAAAAAAAAAAEAAAAAAQAAAAAAAQAAAAAA\"},\"y\":{\"dtype\":\"i1\",\"bdata\":\"AQEAAAABAAABAAAAAQAAAAAAAQABAQAAAAAAAAEAAAAAAQAAAQEA\"},\"type\":\"scatter\",\"xaxis\":\"x6\",\"yaxis\":\"y6\"}],                        {\"template\":{\"data\":{\"histogram2dcontour\":[{\"type\":\"histogram2dcontour\",\"colorbar\":{\"outlinewidth\":0,\"ticks\":\"\"},\"colorscale\":[[0.0,\"#0d0887\"],[0.1111111111111111,\"#46039f\"],[0.2222222222222222,\"#7201a8\"],[0.3333333333333333,\"#9c179e\"],[0.4444444444444444,\"#bd3786\"],[0.5555555555555556,\"#d8576b\"],[0.6666666666666666,\"#ed7953\"],[0.7777777777777778,\"#fb9f3a\"],[0.8888888888888888,\"#fdca26\"],[1.0,\"#f0f921\"]]}],\"choropleth\":[{\"type\":\"choropleth\",\"colorbar\":{\"outlinewidth\":0,\"ticks\":\"\"}}],\"histogram2d\":[{\"type\":\"histogram2d\",\"colorbar\":{\"outlinewidth\":0,\"ticks\":\"\"},\"colorscale\":[[0.0,\"#0d0887\"],[0.1111111111111111,\"#46039f\"],[0.2222222222222222,\"#7201a8\"],[0.3333333333333333,\"#9c179e\"],[0.4444444444444444,\"#bd3786\"],[0.5555555555555556,\"#d8576b\"],[0.6666666666666666,\"#ed7953\"],[0.7777777777777778,\"#fb9f3a\"],[0.8888888888888888,\"#fdca26\"],[1.0,\"#f0f921\"]]}],\"heatmap\":[{\"type\":\"heatmap\",\"colorbar\":{\"outlinewidth\":0,\"ticks\":\"\"},\"colorscale\":[[0.0,\"#0d0887\"],[0.1111111111111111,\"#46039f\"],[0.2222222222222222,\"#7201a8\"],[0.3333333333333333,\"#9c179e\"],[0.4444444444444444,\"#bd3786\"],[0.5555555555555556,\"#d8576b\"],[0.6666666666666666,\"#ed7953\"],[0.7777777777777778,\"#fb9f3a\"],[0.8888888888888888,\"#fdca26\"],[1.0,\"#f0f921\"]]}],\"contourcarpet\":[{\"type\":\"contourcarpet\",\"colorbar\":{\"outlinewidth\":0,\"ticks\":\"\"}}],\"contour\":[{\"type\":\"contour\",\"colorbar\":{\"outlinewidth\":0,\"ticks\":\"\"},\"colorscale\":[[0.0,\"#0d0887\"],[0.1111111111111111,\"#46039f\"],[0.2222222222222222,\"#7201a8\"],[0.3333333333333333,\"#9c179e\"],[0.4444444444444444,\"#bd3786\"],[0.5555555555555556,\"#d8576b\"],[0.6666666666666666,\"#ed7953\"],[0.7777777777777778,\"#fb9f3a\"],[0.8888888888888888,\"#fdca26\"],[1.0,\"#f0f921\"]]}],\"surface\":[{\"type\":\"surface\",\"colorbar\":{\"outlinewidth\":0,\"ticks\":\"\"},\"colorscale\":[[0.0,\"#0d0887\"],[0.1111111111111111,\"#46039f\"],[0.2222222222222222,\"#7201a8\"],[0.3333333333333333,\"#9c179e\"],[0.4444444444444444,\"#bd3786\"],[0.5555555555555556,\"#d8576b\"],[0.6666666666666666,\"#ed7953\"],[0.7777777777777778,\"#fb9f3a\"],[0.8888888888888888,\"#fdca26\"],[1.0,\"#f0f921\"]]}],\"mesh3d\":[{\"type\":\"mesh3d\",\"colorbar\":{\"outlinewidth\":0,\"ticks\":\"\"}}],\"scatter\":[{\"fillpattern\":{\"fillmode\":\"overlay\",\"size\":10,\"solidity\":0.2},\"type\":\"scatter\"}],\"parcoords\":[{\"type\":\"parcoords\",\"line\":{\"colorbar\":{\"outlinewidth\":0,\"ticks\":\"\"}}}],\"scatterpolargl\":[{\"type\":\"scatterpolargl\",\"marker\":{\"colorbar\":{\"outlinewidth\":0,\"ticks\":\"\"}}}],\"bar\":[{\"error_x\":{\"color\":\"#2a3f5f\"},\"error_y\":{\"color\":\"#2a3f5f\"},\"marker\":{\"line\":{\"color\":\"#E5ECF6\",\"width\":0.5},\"pattern\":{\"fillmode\":\"overlay\",\"size\":10,\"solidity\":0.2}},\"type\":\"bar\"}],\"scattergeo\":[{\"type\":\"scattergeo\",\"marker\":{\"colorbar\":{\"outlinewidth\":0,\"ticks\":\"\"}}}],\"scatterpolar\":[{\"type\":\"scatterpolar\",\"marker\":{\"colorbar\":{\"outlinewidth\":0,\"ticks\":\"\"}}}],\"histogram\":[{\"marker\":{\"pattern\":{\"fillmode\":\"overlay\",\"size\":10,\"solidity\":0.2}},\"type\":\"histogram\"}],\"scattergl\":[{\"type\":\"scattergl\",\"marker\":{\"colorbar\":{\"outlinewidth\":0,\"ticks\":\"\"}}}],\"scatter3d\":[{\"type\":\"scatter3d\",\"line\":{\"colorbar\":{\"outlinewidth\":0,\"ticks\":\"\"}},\"marker\":{\"colorbar\":{\"outlinewidth\":0,\"ticks\":\"\"}}}],\"scattermap\":[{\"type\":\"scattermap\",\"marker\":{\"colorbar\":{\"outlinewidth\":0,\"ticks\":\"\"}}}],\"scattermapbox\":[{\"type\":\"scattermapbox\",\"marker\":{\"colorbar\":{\"outlinewidth\":0,\"ticks\":\"\"}}}],\"scatterternary\":[{\"type\":\"scatterternary\",\"marker\":{\"colorbar\":{\"outlinewidth\":0,\"ticks\":\"\"}}}],\"scattercarpet\":[{\"type\":\"scattercarpet\",\"marker\":{\"colorbar\":{\"outlinewidth\":0,\"ticks\":\"\"}}}],\"carpet\":[{\"aaxis\":{\"endlinecolor\":\"#2a3f5f\",\"gridcolor\":\"white\",\"linecolor\":\"white\",\"minorgridcolor\":\"white\",\"startlinecolor\":\"#2a3f5f\"},\"baxis\":{\"endlinecolor\":\"#2a3f5f\",\"gridcolor\":\"white\",\"linecolor\":\"white\",\"minorgridcolor\":\"white\",\"startlinecolor\":\"#2a3f5f\"},\"type\":\"carpet\"}],\"table\":[{\"cells\":{\"fill\":{\"color\":\"#EBF0F8\"},\"line\":{\"color\":\"white\"}},\"header\":{\"fill\":{\"color\":\"#C8D4E3\"},\"line\":{\"color\":\"white\"}},\"type\":\"table\"}],\"barpolar\":[{\"marker\":{\"line\":{\"color\":\"#E5ECF6\",\"width\":0.5},\"pattern\":{\"fillmode\":\"overlay\",\"size\":10,\"solidity\":0.2}},\"type\":\"barpolar\"}],\"pie\":[{\"automargin\":true,\"type\":\"pie\"}]},\"layout\":{\"autotypenumbers\":\"strict\",\"colorway\":[\"#636efa\",\"#EF553B\",\"#00cc96\",\"#ab63fa\",\"#FFA15A\",\"#19d3f3\",\"#FF6692\",\"#B6E880\",\"#FF97FF\",\"#FECB52\"],\"font\":{\"color\":\"#2a3f5f\"},\"hovermode\":\"closest\",\"hoverlabel\":{\"align\":\"left\"},\"paper_bgcolor\":\"white\",\"plot_bgcolor\":\"#E5ECF6\",\"polar\":{\"bgcolor\":\"#E5ECF6\",\"angularaxis\":{\"gridcolor\":\"white\",\"linecolor\":\"white\",\"ticks\":\"\"},\"radialaxis\":{\"gridcolor\":\"white\",\"linecolor\":\"white\",\"ticks\":\"\"}},\"ternary\":{\"bgcolor\":\"#E5ECF6\",\"aaxis\":{\"gridcolor\":\"white\",\"linecolor\":\"white\",\"ticks\":\"\"},\"baxis\":{\"gridcolor\":\"white\",\"linecolor\":\"white\",\"ticks\":\"\"},\"caxis\":{\"gridcolor\":\"white\",\"linecolor\":\"white\",\"ticks\":\"\"}},\"coloraxis\":{\"colorbar\":{\"outlinewidth\":0,\"ticks\":\"\"}},\"colorscale\":{\"sequential\":[[0.0,\"#0d0887\"],[0.1111111111111111,\"#46039f\"],[0.2222222222222222,\"#7201a8\"],[0.3333333333333333,\"#9c179e\"],[0.4444444444444444,\"#bd3786\"],[0.5555555555555556,\"#d8576b\"],[0.6666666666666666,\"#ed7953\"],[0.7777777777777778,\"#fb9f3a\"],[0.8888888888888888,\"#fdca26\"],[1.0,\"#f0f921\"]],\"sequentialminus\":[[0.0,\"#0d0887\"],[0.1111111111111111,\"#46039f\"],[0.2222222222222222,\"#7201a8\"],[0.3333333333333333,\"#9c179e\"],[0.4444444444444444,\"#bd3786\"],[0.5555555555555556,\"#d8576b\"],[0.6666666666666666,\"#ed7953\"],[0.7777777777777778,\"#fb9f3a\"],[0.8888888888888888,\"#fdca26\"],[1.0,\"#f0f921\"]],\"diverging\":[[0,\"#8e0152\"],[0.1,\"#c51b7d\"],[0.2,\"#de77ae\"],[0.3,\"#f1b6da\"],[0.4,\"#fde0ef\"],[0.5,\"#f7f7f7\"],[0.6,\"#e6f5d0\"],[0.7,\"#b8e186\"],[0.8,\"#7fbc41\"],[0.9,\"#4d9221\"],[1,\"#276419\"]]},\"xaxis\":{\"gridcolor\":\"white\",\"linecolor\":\"white\",\"ticks\":\"\",\"title\":{\"standoff\":15},\"zerolinecolor\":\"white\",\"automargin\":true,\"zerolinewidth\":2},\"yaxis\":{\"gridcolor\":\"white\",\"linecolor\":\"white\",\"ticks\":\"\",\"title\":{\"standoff\":15},\"zerolinecolor\":\"white\",\"automargin\":true,\"zerolinewidth\":2},\"scene\":{\"xaxis\":{\"backgroundcolor\":\"#E5ECF6\",\"gridcolor\":\"white\",\"linecolor\":\"white\",\"showbackground\":true,\"ticks\":\"\",\"zerolinecolor\":\"white\",\"gridwidth\":2},\"yaxis\":{\"backgroundcolor\":\"#E5ECF6\",\"gridcolor\":\"white\",\"linecolor\":\"white\",\"showbackground\":true,\"ticks\":\"\",\"zerolinecolor\":\"white\",\"gridwidth\":2},\"zaxis\":{\"backgroundcolor\":\"#E5ECF6\",\"gridcolor\":\"white\",\"linecolor\":\"white\",\"showbackground\":true,\"ticks\":\"\",\"zerolinecolor\":\"white\",\"gridwidth\":2}},\"shapedefaults\":{\"line\":{\"color\":\"#2a3f5f\"}},\"annotationdefaults\":{\"arrowcolor\":\"#2a3f5f\",\"arrowhead\":0,\"arrowwidth\":1},\"geo\":{\"bgcolor\":\"white\",\"landcolor\":\"#E5ECF6\",\"subunitcolor\":\"white\",\"showland\":true,\"showlakes\":true,\"lakecolor\":\"white\"},\"title\":{\"x\":0.05},\"mapbox\":{\"style\":\"light\"}}},\"xaxis\":{\"anchor\":\"y\",\"domain\":[0.0,0.45],\"showgrid\":true,\"gridwidth\":0.5,\"gridcolor\":\"rgba(128,128,128,0.3)\",\"showline\":true,\"linewidth\":1,\"linecolor\":\"rgba(0,0,0,0.2)\",\"mirror\":true},\"yaxis\":{\"anchor\":\"x\",\"domain\":[0.7466666666666667,1.0],\"showgrid\":true,\"gridwidth\":0.5,\"gridcolor\":\"rgba(128,128,128,0.3)\",\"showline\":true,\"linewidth\":1,\"linecolor\":\"rgba(0,0,0,0.2)\",\"mirror\":true},\"xaxis2\":{\"anchor\":\"y2\",\"domain\":[0.55,1.0],\"showgrid\":true,\"gridwidth\":0.5,\"gridcolor\":\"rgba(128,128,128,0.3)\",\"showline\":true,\"linewidth\":1,\"linecolor\":\"rgba(0,0,0,0.2)\",\"mirror\":true},\"yaxis2\":{\"anchor\":\"x2\",\"domain\":[0.7466666666666667,1.0],\"showgrid\":true,\"gridwidth\":0.5,\"gridcolor\":\"rgba(128,128,128,0.3)\",\"showline\":true,\"linewidth\":1,\"linecolor\":\"rgba(0,0,0,0.2)\",\"mirror\":true},\"xaxis3\":{\"anchor\":\"y3\",\"domain\":[0.0,0.45],\"showgrid\":true,\"gridwidth\":0.5,\"gridcolor\":\"rgba(128,128,128,0.3)\",\"showline\":true,\"linewidth\":1,\"linecolor\":\"rgba(0,0,0,0.2)\",\"mirror\":true},\"yaxis3\":{\"anchor\":\"x3\",\"domain\":[0.37333333333333335,0.6266666666666667],\"showgrid\":true,\"gridwidth\":0.5,\"gridcolor\":\"rgba(128,128,128,0.3)\",\"showline\":true,\"linewidth\":1,\"linecolor\":\"rgba(0,0,0,0.2)\",\"mirror\":true},\"xaxis4\":{\"anchor\":\"y4\",\"domain\":[0.55,1.0],\"showgrid\":true,\"gridwidth\":0.5,\"gridcolor\":\"rgba(128,128,128,0.3)\",\"showline\":true,\"linewidth\":1,\"linecolor\":\"rgba(0,0,0,0.2)\",\"mirror\":true},\"yaxis4\":{\"anchor\":\"x4\",\"domain\":[0.37333333333333335,0.6266666666666667],\"showgrid\":true,\"gridwidth\":0.5,\"gridcolor\":\"rgba(128,128,128,0.3)\",\"showline\":true,\"linewidth\":1,\"linecolor\":\"rgba(0,0,0,0.2)\",\"mirror\":true},\"xaxis5\":{\"anchor\":\"y5\",\"domain\":[0.0,0.45],\"showgrid\":true,\"gridwidth\":0.5,\"gridcolor\":\"rgba(128,128,128,0.3)\",\"showline\":true,\"linewidth\":1,\"linecolor\":\"rgba(0,0,0,0.2)\",\"mirror\":true},\"yaxis5\":{\"anchor\":\"x5\",\"domain\":[0.0,0.25333333333333335],\"showgrid\":true,\"gridwidth\":0.5,\"gridcolor\":\"rgba(128,128,128,0.3)\",\"showline\":true,\"linewidth\":1,\"linecolor\":\"rgba(0,0,0,0.2)\",\"mirror\":true},\"xaxis6\":{\"anchor\":\"y6\",\"domain\":[0.55,1.0],\"showgrid\":true,\"gridwidth\":0.5,\"gridcolor\":\"rgba(128,128,128,0.3)\",\"showline\":true,\"linewidth\":1,\"linecolor\":\"rgba(0,0,0,0.2)\",\"mirror\":true},\"yaxis6\":{\"anchor\":\"x6\",\"domain\":[0.0,0.25333333333333335],\"showgrid\":true,\"gridwidth\":0.5,\"gridcolor\":\"rgba(128,128,128,0.3)\",\"showline\":true,\"linewidth\":1,\"linecolor\":\"rgba(0,0,0,0.2)\",\"mirror\":true},\"annotations\":[{\"font\":{\"size\":16},\"showarrow\":false,\"text\":\"Age vs Smoking stratified by Lung Cancer\",\"x\":0.225,\"xanchor\":\"center\",\"xref\":\"paper\",\"y\":1.0,\"yanchor\":\"bottom\",\"yref\":\"paper\"},{\"font\":{\"size\":16},\"showarrow\":false,\"text\":\"Age vs Alcohol_consuming stratified by Lung Cancer\",\"x\":0.775,\"xanchor\":\"center\",\"xref\":\"paper\",\"y\":1.0,\"yanchor\":\"bottom\",\"yref\":\"paper\"},{\"font\":{\"size\":16},\"showarrow\":false,\"text\":\"Age vs Coughing stratified by Lung Cancer\",\"x\":0.225,\"xanchor\":\"center\",\"xref\":\"paper\",\"y\":0.6266666666666667,\"yanchor\":\"bottom\",\"yref\":\"paper\"},{\"font\":{\"size\":16},\"showarrow\":false,\"text\":\"Smoking vs Coughing stratified by Lung Cancer\",\"x\":0.775,\"xanchor\":\"center\",\"xref\":\"paper\",\"y\":0.6266666666666667,\"yanchor\":\"bottom\",\"yref\":\"paper\"},{\"font\":{\"size\":16},\"showarrow\":false,\"text\":\"Smoking vs Shortness_of_breath stratified by Lung Cancer\",\"x\":0.225,\"xanchor\":\"center\",\"xref\":\"paper\",\"y\":0.25333333333333335,\"yanchor\":\"bottom\",\"yref\":\"paper\"},{\"font\":{\"size\":16},\"showarrow\":false,\"text\":\"Alcohol_consuming vs Chest_pain stratified by Lung Cancer\",\"x\":0.775,\"xanchor\":\"center\",\"xref\":\"paper\",\"y\":0.25333333333333335,\"yanchor\":\"bottom\",\"yref\":\"paper\"}],\"title\":{\"font\":{\"size\":20},\"text\":\"\\ud83d\\udcca Bivariate Risk Factor Analysis Stratified by Lung Cancer\",\"x\":0.5},\"legend\":{\"font\":{\"size\":11},\"orientation\":\"v\",\"yanchor\":\"top\",\"y\":0.99,\"xanchor\":\"left\",\"x\":1.02,\"bgcolor\":\"rgba(255,255,255,0.95)\",\"bordercolor\":\"rgba(0,0,0,0.3)\",\"borderwidth\":1,\"itemsizing\":\"constant\"},\"margin\":{\"r\":250,\"t\":100,\"b\":60,\"l\":80},\"height\":1600,\"width\":1300,\"showlegend\":true},                        {\"responsive\": true}                    ).then(function(){\n",
       "                            \n",
       "var gd = document.getElementById('d490d5b4-e681-4d88-8d86-0a698095aae5');\n",
       "var x = new MutationObserver(function (mutations, observer) {{\n",
       "        var display = window.getComputedStyle(gd).display;\n",
       "        if (!display || display === 'none') {{\n",
       "            console.log([gd, 'removed!']);\n",
       "            Plotly.purge(gd);\n",
       "            observer.disconnect();\n",
       "        }}\n",
       "}});\n",
       "\n",
       "// Listen for the removal of the full notebook cells\n",
       "var notebookContainer = gd.closest('#notebook-container');\n",
       "if (notebookContainer) {{\n",
       "    x.observe(notebookContainer, {childList: true});\n",
       "}}\n",
       "\n",
       "// Listen for the clearing of the current output cell\n",
       "var outputEl = gd.closest('.output');\n",
       "if (outputEl) {{\n",
       "    x.observe(outputEl, {childList: true});\n",
       "}}\n",
       "\n",
       "                        })                };            </script>        </div>"
      ]
     },
     "metadata": {},
     "output_type": "display_data"
    },
    {
     "name": "stdout",
     "output_type": "stream",
     "text": [
      "\n",
      "======================================================================\n",
      "🔍 COMPREHENSIVE BIVARIATE RISK FACTOR ANALYSIS SUMMARY\n",
      "======================================================================\n",
      "\n",
      "📊 Age vs Smoking:\n",
      "   • Lung Cancer=1: N=270 | Corr=-0.09\n",
      "   • Lung Cancer=0: N=39 | Corr=-0.10\n",
      "\n",
      "📊 Age vs Alcohol_consuming:\n",
      "   • Lung Cancer=1: N=270 | Corr=0.03\n",
      "   • Lung Cancer=0: N=39 | Corr=0.10\n",
      "\n",
      "📊 Age vs Coughing:\n",
      "   • Lung Cancer=1: N=270 | Corr=0.16\n",
      "   • Lung Cancer=0: N=39 | Corr=0.11\n",
      "\n",
      "📊 Smoking vs Coughing:\n",
      "   • Lung Cancer=1: N=270 | Corr=-0.14\n",
      "   • Lung Cancer=0: N=39 | Corr=-0.22\n",
      "\n",
      "📊 Smoking vs Shortness_of_breath:\n",
      "   • Lung Cancer=1: N=270 | Corr=0.09\n",
      "   • Lung Cancer=0: N=39 | Corr=-0.18\n",
      "\n",
      "📊 Alcohol_consuming vs Chest_pain:\n",
      "   • Lung Cancer=1: N=270 | Corr=0.31\n",
      "   • Lung Cancer=0: N=39 | Corr=0.12\n"
     ]
    }
   ],
   "source": [
    "from plotly.subplots import make_subplots\n",
    "import plotly.graph_objects as go\n",
    "import numpy as np\n",
    "\n",
    "# Variables a analizar en combinaciones\n",
    "comparisons = [\n",
    "    (\"age\", \"smoking\"),\n",
    "    (\"age\", \"alcohol_consuming\"),\n",
    "    (\"age\", \"coughing\"),\n",
    "    (\"smoking\", \"coughing\"),\n",
    "    (\"smoking\", \"shortness_of_breath\"),\n",
    "    (\"alcohol_consuming\", \"chest_pain\")\n",
    "]\n",
    "\n",
    "target = \"lung_cancer\"\n",
    "\n",
    "# Crear subplots dinámicos\n",
    "rows = (len(comparisons) + 1) // 2\n",
    "fig = make_subplots(\n",
    "    rows=rows, cols=2,\n",
    "    subplot_titles=[f\"{x.capitalize()} vs {y.capitalize()} stratified by Lung Cancer\" for x, y in comparisons],\n",
    "    vertical_spacing=0.12,\n",
    "    horizontal_spacing=0.1\n",
    ")\n",
    "\n",
    "# Paleta de colores\n",
    "lc_colors = {0: \"#636EFA\", 1: \"#EF553B\"}\n",
    "\n",
    "# Añadir trazas\n",
    "for i, (x_var, y_var) in enumerate(comparisons):\n",
    "    row = i // 2 + 1\n",
    "    col = i % 2 + 1\n",
    "    \n",
    "    for lc_val in df[target].unique():\n",
    "        subset = df[df[target] == lc_val]\n",
    "        \n",
    "        # Scatter plot\n",
    "        fig.add_trace(\n",
    "            go.Scatter(\n",
    "                x=subset[x_var],\n",
    "                y=subset[y_var],\n",
    "                mode=\"markers\",\n",
    "                marker=dict(\n",
    "                    size=8,\n",
    "                    color=lc_colors[lc_val],\n",
    "                    opacity=0.7,\n",
    "                    line=dict(width=0.5, color=\"DarkSlateGrey\")\n",
    "                ),\n",
    "                name=f\"{x_var} vs {y_var} | LC={lc_val}\",\n",
    "                legendgroup=f\"LC={lc_val}\",\n",
    "                hovertemplate=(\n",
    "                    f\"Lung Cancer={lc_val}<br>\"\n",
    "                    f\"{x_var.capitalize()}: %{{x}}<br>\"\n",
    "                    f\"{y_var.capitalize()}: %{{y}}<br>\"\n",
    "                    f\"Age: %{{customdata[0]}}<br>\"\n",
    "                    f\"Smoking: %{{customdata[1]}}<br>\"\n",
    "                    f\"Fatigue: %{{customdata[2]}}<br>\"\n",
    "                    \"<extra></extra>\"\n",
    "                ),\n",
    "                customdata=list(zip(subset[\"age\"], subset[\"smoking\"], subset[\"fatigue\"])),\n",
    "                showlegend=(i == 0)  # Leyenda solo una vez\n",
    "            ),\n",
    "            row=row, col=col\n",
    "        )\n",
    "\n",
    "# Layout\n",
    "fig.update_layout(\n",
    "    title_text=\"📊 Bivariate Risk Factor Analysis Stratified by Lung Cancer\",\n",
    "    title_font_size=20,\n",
    "    title_x=0.5,\n",
    "    height=1600,\n",
    "    width=1300,\n",
    "    showlegend=True,\n",
    "    legend=dict(\n",
    "        orientation=\"v\",\n",
    "        yanchor=\"top\",\n",
    "        y=0.99,\n",
    "        xanchor=\"left\",\n",
    "        x=1.02,\n",
    "        bgcolor=\"rgba(255,255,255,0.95)\",\n",
    "        bordercolor=\"rgba(0,0,0,0.3)\",\n",
    "        borderwidth=1,\n",
    "        font=dict(size=11),\n",
    "        itemsizing=\"constant\"\n",
    "    ),\n",
    "    margin=dict(r=250, t=100, b=60, l=80)\n",
    ")\n",
    "\n",
    "# Estética de ejes y grid\n",
    "fig.update_xaxes(showgrid=True, gridwidth=0.5, gridcolor=\"rgba(128,128,128,0.3)\")\n",
    "fig.update_yaxes(showgrid=True, gridwidth=0.5, gridcolor=\"rgba(128,128,128,0.3)\")\n",
    "fig.update_xaxes(showline=True, linewidth=1, linecolor=\"rgba(0,0,0,0.2)\", mirror=True)\n",
    "fig.update_yaxes(showline=True, linewidth=1, linecolor=\"rgba(0,0,0,0.2)\", mirror=True)\n",
    "\n",
    "fig.show()\n",
    "\n",
    "# ======================\n",
    "# 📑 Resumen Estadístico\n",
    "# ======================\n",
    "print(\"\\n\" + \"=\"*70)\n",
    "print(\"🔍 COMPREHENSIVE BIVARIATE RISK FACTOR ANALYSIS SUMMARY\")\n",
    "print(\"=\"*70)\n",
    "\n",
    "for x_var, y_var in comparisons:\n",
    "    print(f\"\\n📊 {x_var.capitalize()} vs {y_var.capitalize()}:\")\n",
    "    for lc_val in df[target].unique():\n",
    "        subset = df[df[target] == lc_val]\n",
    "        corr = np.corrcoef(subset[x_var], subset[y_var])[0, 1] if len(subset) > 1 else np.nan\n",
    "        print(f\"   • Lung Cancer={lc_val}: N={len(subset)} | Corr={corr:.2f}\")\n"
   ]
  }
 ],
 "metadata": {
  "kernelspec": {
   "display_name": "lungcancer (3.12.9)",
   "language": "python",
   "name": "python3"
  },
  "language_info": {
   "codemirror_mode": {
    "name": "ipython",
    "version": 3
   },
   "file_extension": ".py",
   "mimetype": "text/x-python",
   "name": "python",
   "nbconvert_exporter": "python",
   "pygments_lexer": "ipython3",
   "version": "3.12.9"
  }
 },
 "nbformat": 4,
 "nbformat_minor": 5
}
