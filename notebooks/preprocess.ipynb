{
 "cells": [
  {
   "cell_type": "markdown",
   "id": "8d0a410d",
   "metadata": {},
   "source": [
    "# Introduction and dataset description\n",
    "\n",
    "This notebook performs preprocessing for a lung cancer prediction dataset. The goal is to prepare the data for exploratory analysis and modeling (cleaning, transformation and encoding).\n",
    "\n",
    "- Source: file `survey lung cancer.csv` (loaded into `df`)\n",
    "- Shape: 309 rows × 16 columns\n",
    "- Missing values: none (all columns have 309 non-null values)\n",
    "- Main dtypes: 14 integer columns (binary/ordinal), 2 object columns (`GENDER`, `LUNG_CANCER`)\n",
    "\n",
    "Columns and meaning\n",
    "- `GENDER`: Patient sex. Values: `'M'` = male, `'F'` = female.\n",
    "- `AGE`: Patient age (integer).\n",
    "- `SMOKING`: Smoking. Encoded as 1 = NO, 2 = YES.\n",
    "- `YELLOW_FINGERS`: Yellow fingers. Encoded as 1 = NO, 2 = YES.\n",
    "- `ANXIETY`: Anxiety. Encoded as 1 = NO, 2 = YES.\n",
    "- `PEER_PRESSURE`: Peer pressure. Encoded as 1 = NO, 2 = YES.\n",
    "- `CHRONIC DISEASE`: Chronic disease. Encoded as 1 = NO, 2 = YES.\n",
    "- `FATIGUE`: Fatigue. Encoded as 1 = NO, 2 = YES.\n",
    "- `ALLERGY`: Allergy. Encoded as 1 = NO, 2 = YES.\n",
    "- `WHEEZING`: Wheezing. Encoded as 1 = NO, 2 = YES.\n",
    "- `ALCOHOL CONSUMING`: Alcohol consumption. Encoded as 1 = NO, 2 = YES.\n",
    "- `COUGHING`: Coughing. Encoded as 1 = NO, 2 = YES.\n",
    "- `SHORTNESS OF BREATH`: Shortness of breath. Encoded as 1 = NO, 2 = YES.\n",
    "- `SWALLOWING DIFFICULTY`: Difficulty swallowing. Encoded as 1 = NO, 2 = YES.\n",
    "- `CHEST PAIN`: Chest pain. Encoded as 1 = NO, 2 = YES.\n",
    "- `LUNG_CANCER`: Target label. Values: `'YES'`, `'NO'`.\n",
    "\n",
    "Note: Many features use 1/2 encoding (1 → NO, 2 → YES). Keep a mapping record for interpretation.\n",
    "- Scale/standardize `AGE` depending on model choice (e.g., StandardScaler or MinMaxScaler).\n",
    "- Save and document all mapping dictionaries and preprocessing steps for reproducibility and interpretability.\n",
    "\n",
    "This cell documents the essential dataset information before applying transformations."
   ]
  },
  {
   "cell_type": "code",
   "execution_count": 17,
   "id": "571390ae",
   "metadata": {},
   "outputs": [],
   "source": [
    "import pandas as pd\n",
    "import numpy as np\n",
    "import matplotlib.pyplot as plt\n",
    "import seaborn as sns\n",
    "import warnings\n",
    "warnings.filterwarnings(\"ignore\")"
   ]
  },
  {
   "cell_type": "code",
   "execution_count": 18,
   "id": "89e33db2",
   "metadata": {},
   "outputs": [],
   "source": [
    "df = pd.read_csv('C:/Users/a_esp/Documents/GitHub/lung_cancer/data/survey lung cancer.csv')"
   ]
  },
  {
   "cell_type": "code",
   "execution_count": 19,
   "id": "0829722a",
   "metadata": {},
   "outputs": [
    {
     "data": {
      "text/html": [
       "<div>\n",
       "<style scoped>\n",
       "    .dataframe tbody tr th:only-of-type {\n",
       "        vertical-align: middle;\n",
       "    }\n",
       "\n",
       "    .dataframe tbody tr th {\n",
       "        vertical-align: top;\n",
       "    }\n",
       "\n",
       "    .dataframe thead th {\n",
       "        text-align: right;\n",
       "    }\n",
       "</style>\n",
       "<table border=\"1\" class=\"dataframe\">\n",
       "  <thead>\n",
       "    <tr style=\"text-align: right;\">\n",
       "      <th></th>\n",
       "      <th>GENDER</th>\n",
       "      <th>AGE</th>\n",
       "      <th>SMOKING</th>\n",
       "      <th>YELLOW_FINGERS</th>\n",
       "      <th>ANXIETY</th>\n",
       "      <th>PEER_PRESSURE</th>\n",
       "      <th>CHRONIC DISEASE</th>\n",
       "      <th>FATIGUE</th>\n",
       "      <th>ALLERGY</th>\n",
       "      <th>WHEEZING</th>\n",
       "      <th>ALCOHOL CONSUMING</th>\n",
       "      <th>COUGHING</th>\n",
       "      <th>SHORTNESS OF BREATH</th>\n",
       "      <th>SWALLOWING DIFFICULTY</th>\n",
       "      <th>CHEST PAIN</th>\n",
       "      <th>LUNG_CANCER</th>\n",
       "    </tr>\n",
       "  </thead>\n",
       "  <tbody>\n",
       "    <tr>\n",
       "      <th>0</th>\n",
       "      <td>M</td>\n",
       "      <td>69</td>\n",
       "      <td>1</td>\n",
       "      <td>2</td>\n",
       "      <td>2</td>\n",
       "      <td>1</td>\n",
       "      <td>1</td>\n",
       "      <td>2</td>\n",
       "      <td>1</td>\n",
       "      <td>2</td>\n",
       "      <td>2</td>\n",
       "      <td>2</td>\n",
       "      <td>2</td>\n",
       "      <td>2</td>\n",
       "      <td>2</td>\n",
       "      <td>YES</td>\n",
       "    </tr>\n",
       "    <tr>\n",
       "      <th>1</th>\n",
       "      <td>M</td>\n",
       "      <td>74</td>\n",
       "      <td>2</td>\n",
       "      <td>1</td>\n",
       "      <td>1</td>\n",
       "      <td>1</td>\n",
       "      <td>2</td>\n",
       "      <td>2</td>\n",
       "      <td>2</td>\n",
       "      <td>1</td>\n",
       "      <td>1</td>\n",
       "      <td>1</td>\n",
       "      <td>2</td>\n",
       "      <td>2</td>\n",
       "      <td>2</td>\n",
       "      <td>YES</td>\n",
       "    </tr>\n",
       "    <tr>\n",
       "      <th>2</th>\n",
       "      <td>F</td>\n",
       "      <td>59</td>\n",
       "      <td>1</td>\n",
       "      <td>1</td>\n",
       "      <td>1</td>\n",
       "      <td>2</td>\n",
       "      <td>1</td>\n",
       "      <td>2</td>\n",
       "      <td>1</td>\n",
       "      <td>2</td>\n",
       "      <td>1</td>\n",
       "      <td>2</td>\n",
       "      <td>2</td>\n",
       "      <td>1</td>\n",
       "      <td>2</td>\n",
       "      <td>NO</td>\n",
       "    </tr>\n",
       "    <tr>\n",
       "      <th>3</th>\n",
       "      <td>M</td>\n",
       "      <td>63</td>\n",
       "      <td>2</td>\n",
       "      <td>2</td>\n",
       "      <td>2</td>\n",
       "      <td>1</td>\n",
       "      <td>1</td>\n",
       "      <td>1</td>\n",
       "      <td>1</td>\n",
       "      <td>1</td>\n",
       "      <td>2</td>\n",
       "      <td>1</td>\n",
       "      <td>1</td>\n",
       "      <td>2</td>\n",
       "      <td>2</td>\n",
       "      <td>NO</td>\n",
       "    </tr>\n",
       "    <tr>\n",
       "      <th>4</th>\n",
       "      <td>F</td>\n",
       "      <td>63</td>\n",
       "      <td>1</td>\n",
       "      <td>2</td>\n",
       "      <td>1</td>\n",
       "      <td>1</td>\n",
       "      <td>1</td>\n",
       "      <td>1</td>\n",
       "      <td>1</td>\n",
       "      <td>2</td>\n",
       "      <td>1</td>\n",
       "      <td>2</td>\n",
       "      <td>2</td>\n",
       "      <td>1</td>\n",
       "      <td>1</td>\n",
       "      <td>NO</td>\n",
       "    </tr>\n",
       "  </tbody>\n",
       "</table>\n",
       "</div>"
      ],
      "text/plain": [
       "  GENDER  AGE  SMOKING  YELLOW_FINGERS  ANXIETY  PEER_PRESSURE  \\\n",
       "0      M   69        1               2        2              1   \n",
       "1      M   74        2               1        1              1   \n",
       "2      F   59        1               1        1              2   \n",
       "3      M   63        2               2        2              1   \n",
       "4      F   63        1               2        1              1   \n",
       "\n",
       "   CHRONIC DISEASE  FATIGUE   ALLERGY   WHEEZING  ALCOHOL CONSUMING  COUGHING  \\\n",
       "0                1         2         1         2                  2         2   \n",
       "1                2         2         2         1                  1         1   \n",
       "2                1         2         1         2                  1         2   \n",
       "3                1         1         1         1                  2         1   \n",
       "4                1         1         1         2                  1         2   \n",
       "\n",
       "   SHORTNESS OF BREATH  SWALLOWING DIFFICULTY  CHEST PAIN LUNG_CANCER  \n",
       "0                    2                      2           2         YES  \n",
       "1                    2                      2           2         YES  \n",
       "2                    2                      1           2          NO  \n",
       "3                    1                      2           2          NO  \n",
       "4                    2                      1           1          NO  "
      ]
     },
     "execution_count": 19,
     "metadata": {},
     "output_type": "execute_result"
    }
   ],
   "source": [
    "df.head()"
   ]
  },
  {
   "cell_type": "code",
   "execution_count": 20,
   "id": "03589b83",
   "metadata": {},
   "outputs": [
    {
     "name": "stdout",
     "output_type": "stream",
     "text": [
      "<class 'pandas.core.frame.DataFrame'>\n",
      "RangeIndex: 309 entries, 0 to 308\n",
      "Data columns (total 16 columns):\n",
      " #   Column                 Non-Null Count  Dtype \n",
      "---  ------                 --------------  ----- \n",
      " 0   GENDER                 309 non-null    object\n",
      " 1   AGE                    309 non-null    int64 \n",
      " 2   SMOKING                309 non-null    int64 \n",
      " 3   YELLOW_FINGERS         309 non-null    int64 \n",
      " 4   ANXIETY                309 non-null    int64 \n",
      " 5   PEER_PRESSURE          309 non-null    int64 \n",
      " 6   CHRONIC DISEASE        309 non-null    int64 \n",
      " 7   FATIGUE                309 non-null    int64 \n",
      " 8   ALLERGY                309 non-null    int64 \n",
      " 9   WHEEZING               309 non-null    int64 \n",
      " 10  ALCOHOL CONSUMING      309 non-null    int64 \n",
      " 11  COUGHING               309 non-null    int64 \n",
      " 12  SHORTNESS OF BREATH    309 non-null    int64 \n",
      " 13  SWALLOWING DIFFICULTY  309 non-null    int64 \n",
      " 14  CHEST PAIN             309 non-null    int64 \n",
      " 15  LUNG_CANCER            309 non-null    object\n",
      "dtypes: int64(14), object(2)\n",
      "memory usage: 38.8+ KB\n"
     ]
    }
   ],
   "source": [
    "df.info()"
   ]
  },
  {
   "cell_type": "code",
   "execution_count": 21,
   "id": "67102ed6",
   "metadata": {},
   "outputs": [],
   "source": [
    "# Normalize column names to snake_case (e.g., `chronic_disease`, `alcohol_consuming`) to avoid spaces and uppercase.\n",
    "df.columns = df.columns.str.strip().str.lower().str.replace(' ', '_')"
   ]
  },
  {
   "cell_type": "code",
   "execution_count": 22,
   "id": "7283c0dd",
   "metadata": {},
   "outputs": [
    {
     "data": {
      "text/plain": [
       "gender                   0\n",
       "age                      0\n",
       "smoking                  0\n",
       "yellow_fingers           0\n",
       "anxiety                  0\n",
       "peer_pressure            0\n",
       "chronic_disease          0\n",
       "fatigue                  0\n",
       "allergy                  0\n",
       "wheezing                 0\n",
       "alcohol_consuming        0\n",
       "coughing                 0\n",
       "shortness_of_breath      0\n",
       "swallowing_difficulty    0\n",
       "chest_pain               0\n",
       "lung_cancer              0\n",
       "dtype: int64"
      ]
     },
     "execution_count": 22,
     "metadata": {},
     "output_type": "execute_result"
    }
   ],
   "source": [
    "# Check for missing values\n",
    "df.isnull().sum()"
   ]
  },
  {
   "cell_type": "code",
   "execution_count": 23,
   "id": "e3041f8a",
   "metadata": {},
   "outputs": [
    {
     "data": {
      "text/plain": [
       "np.int64(33)"
      ]
     },
     "execution_count": 23,
     "metadata": {},
     "output_type": "execute_result"
    }
   ],
   "source": [
    "# Check and remove duplicates\n",
    "df.duplicated().sum()"
   ]
  },
  {
   "cell_type": "code",
   "execution_count": null,
   "id": "a311449b",
   "metadata": {},
   "outputs": [
    {
     "name": "stdout",
     "output_type": "stream",
     "text": [
      "Valores originales en chronic_disease: [np.int64(1), np.int64(2)]\n",
      "Valores transformados en chronic_disease: [np.uint8(0), np.uint8(1)]\n",
      "\n",
      "Valores originales en smoking: [np.int64(1), np.int64(2)]\n",
      "Valores transformados en smoking: [np.uint8(0), np.uint8(1)]\n",
      "\n",
      "Valores originales en yellow_fingers: [np.int64(1), np.int64(2)]\n",
      "Valores transformados en yellow_fingers: [np.uint8(0), np.uint8(1)]\n",
      "\n",
      "Valores originales en anxiety: [np.int64(1), np.int64(2)]\n",
      "Valores transformados en anxiety: [np.uint8(0), np.uint8(1)]\n",
      "\n",
      "Valores originales en peer_pressure: [np.int64(1), np.int64(2)]\n",
      "Valores transformados en peer_pressure: [np.uint8(0), np.uint8(1)]\n",
      "\n",
      "Valores originales en fatigue: [np.int64(1), np.int64(2)]\n",
      "Valores transformados en fatigue: [np.uint8(0), np.uint8(1)]\n",
      "\n",
      "Valores originales en allergy: [np.int64(1), np.int64(2)]\n",
      "Valores transformados en allergy: [np.uint8(0), np.uint8(1)]\n",
      "\n",
      "Valores originales en wheezing: [np.int64(1), np.int64(2)]\n",
      "Valores transformados en wheezing: [np.uint8(0), np.uint8(1)]\n",
      "\n",
      "Valores originales en alcohol_consuming: [np.int64(1), np.int64(2)]\n",
      "Valores transformados en alcohol_consuming: [np.uint8(0), np.uint8(1)]\n",
      "\n",
      "Valores originales en coughing: [np.int64(1), np.int64(2)]\n",
      "Valores transformados en coughing: [np.uint8(0), np.uint8(1)]\n",
      "\n",
      "Valores originales en shortness_of_breath: [np.int64(1), np.int64(2)]\n",
      "Valores transformados en shortness_of_breath: [np.uint8(0), np.uint8(1)]\n",
      "\n",
      "Valores originales en swallowing_difficulty: [np.int64(1), np.int64(2)]\n",
      "Valores transformados en swallowing_difficulty: [np.uint8(0), np.uint8(1)]\n",
      "\n",
      "Valores originales en chest_pain: [np.int64(1), np.int64(2)]\n",
      "Valores transformados en chest_pain: [np.uint8(0), np.uint8(1)]\n",
      "\n"
     ]
    }
   ],
   "source": [
    "# Map binary columns 1→0 (NO) y 2→1 (YES)\n",
    "binary_cols = [\n",
    "    'chronic_disease', 'smoking', 'yellow_fingers', 'anxiety', 'peer_pressure',\n",
    "    'fatigue', 'allergy', 'wheezing', 'alcohol_consuming',\n",
    "    'coughing', 'shortness_of_breath', 'swallowing_difficulty', 'chest_pain'\n",
    "]\n",
    "\n",
    "for col in binary_cols:\n",
    "    # Show original values before transformation\n",
    "    print(f\"Valores originales en {col}: {sorted(df[col].unique())}\")\n",
    "    \n",
    "    # Map 1→0 y 2→1\n",
    "    df[col] = df[col].replace({1: 0, 2: 1}).astype('uint8')\n",
    "    \n",
    "    # Show transformed values after mapping\n",
    "    print(f\"Valores transformados en {col}: {sorted(df[col].unique())}\\n\")"
   ]
  },
  {
   "cell_type": "code",
   "execution_count": 8,
   "id": "bee488dd",
   "metadata": {},
   "outputs": [],
   "source": [
    "df.to_csv('C:/Users/a_esp/Documents/GitHub/lung_cancer/data/survey lung cancer_clean.csv', index=False)"
   ]
  }
 ],
 "metadata": {
  "kernelspec": {
   "display_name": "lungcancer (3.12.9)",
   "language": "python",
   "name": "python3"
  },
  "language_info": {
   "codemirror_mode": {
    "name": "ipython",
    "version": 3
   },
   "file_extension": ".py",
   "mimetype": "text/x-python",
   "name": "python",
   "nbconvert_exporter": "python",
   "pygments_lexer": "ipython3",
   "version": "3.12.9"
  }
 },
 "nbformat": 4,
 "nbformat_minor": 5
}
